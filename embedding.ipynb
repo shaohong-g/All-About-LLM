{
 "cells": [
  {
   "cell_type": "markdown",
   "metadata": {},
   "source": [
    "# Embedding Tutorial\n",
    "- [Introduction to Text Embeddings (Outdated codes due to openai version)](https://www.datacamp.com/tutorial/introduction-to-text-embeddings-with-the-open-ai-api)\n",
    "\n",
    "## Embedding Models\n",
    "- [tiktoken - Byte pair encoding](https://github.com/openai/tiktoken/tree/main?tab=readme-ov-file)\n",
    "- [Sentence Transformer](https://www.sbert.net/examples/applications/computing-embeddings/README.html)\n",
    "- [Openai Embedding Model](https://platform.openai.com/docs/guides/embeddings)"
   ]
  },
  {
   "cell_type": "code",
   "execution_count": 48,
   "metadata": {},
   "outputs": [],
   "source": [
    "import os\n",
    "import pandas as pd\n",
    "from openai import OpenAI\n",
    "from scipy.spatial import distance\n",
    "import plotly.express as px\n",
    "from sklearn.cluster import KMeans\n",
    "from umap import UMAP\n",
    "from sklearn.manifold import TSNE\n",
    "import matplotlib.pyplot as plt\n",
    "import matplotlib\n",
    "from dotenv import load_dotenv\n",
    "import tiktoken\n",
    "from sentence_transformers import SentenceTransformer\n",
    "from google import genai\n",
    "from google.genai import types\n",
    "\n",
    "\n",
    "load_dotenv(\".env\")\n",
    "# Display all rows\n",
    "pd.set_option('display.max_rows', None)\n",
    "# Display all columns\n",
    "pd.set_option('display.max_columns', None)\n",
    "# Set display option to show full content in each column\n",
    "# pd.set_option('display.max_colwidth', None)"
   ]
  },
  {
   "cell_type": "code",
   "execution_count": 18,
   "metadata": {},
   "outputs": [
    {
     "data": {
      "text/html": [
       "<div>\n",
       "<style scoped>\n",
       "    .dataframe tbody tr th:only-of-type {\n",
       "        vertical-align: middle;\n",
       "    }\n",
       "\n",
       "    .dataframe tbody tr th {\n",
       "        vertical-align: top;\n",
       "    }\n",
       "\n",
       "    .dataframe thead th {\n",
       "        text-align: right;\n",
       "    }\n",
       "</style>\n",
       "<table border=\"1\" class=\"dataframe\">\n",
       "  <thead>\n",
       "    <tr style=\"text-align: right;\">\n",
       "      <th></th>\n",
       "      <th>Unnamed: 0.1</th>\n",
       "      <th>Unnamed: 0</th>\n",
       "      <th>Text</th>\n",
       "      <th>Sentiment</th>\n",
       "      <th>Timestamp</th>\n",
       "      <th>User</th>\n",
       "      <th>Platform</th>\n",
       "      <th>Hashtags</th>\n",
       "      <th>Retweets</th>\n",
       "      <th>Likes</th>\n",
       "      <th>Country</th>\n",
       "      <th>Year</th>\n",
       "      <th>Month</th>\n",
       "      <th>Day</th>\n",
       "      <th>Hour</th>\n",
       "    </tr>\n",
       "  </thead>\n",
       "  <tbody>\n",
       "    <tr>\n",
       "      <th>0</th>\n",
       "      <td>0</td>\n",
       "      <td>0</td>\n",
       "      <td>Enjoying a beautiful day at the park!        ...</td>\n",
       "      <td>Positive</td>\n",
       "      <td>2023-01-15 12:30:00</td>\n",
       "      <td>User123</td>\n",
       "      <td>Twitter</td>\n",
       "      <td>#Nature #Park</td>\n",
       "      <td>15.0</td>\n",
       "      <td>30.0</td>\n",
       "      <td>USA</td>\n",
       "      <td>2023</td>\n",
       "      <td>1</td>\n",
       "      <td>15</td>\n",
       "      <td>12</td>\n",
       "    </tr>\n",
       "    <tr>\n",
       "      <th>1</th>\n",
       "      <td>1</td>\n",
       "      <td>1</td>\n",
       "      <td>Traffic was terrible this morning.           ...</td>\n",
       "      <td>Negative</td>\n",
       "      <td>2023-01-15 08:45:00</td>\n",
       "      <td>CommuterX</td>\n",
       "      <td>Twitter</td>\n",
       "      <td>#Traffic #Morning</td>\n",
       "      <td>5.0</td>\n",
       "      <td>10.0</td>\n",
       "      <td>Canada</td>\n",
       "      <td>2023</td>\n",
       "      <td>1</td>\n",
       "      <td>15</td>\n",
       "      <td>8</td>\n",
       "    </tr>\n",
       "    <tr>\n",
       "      <th>2</th>\n",
       "      <td>2</td>\n",
       "      <td>2</td>\n",
       "      <td>Just finished an amazing workout! 💪          ...</td>\n",
       "      <td>Positive</td>\n",
       "      <td>2023-01-15 15:45:00</td>\n",
       "      <td>FitnessFan</td>\n",
       "      <td>Instagram</td>\n",
       "      <td>#Fitness #Workout</td>\n",
       "      <td>20.0</td>\n",
       "      <td>40.0</td>\n",
       "      <td>USA</td>\n",
       "      <td>2023</td>\n",
       "      <td>1</td>\n",
       "      <td>15</td>\n",
       "      <td>15</td>\n",
       "    </tr>\n",
       "    <tr>\n",
       "      <th>3</th>\n",
       "      <td>3</td>\n",
       "      <td>3</td>\n",
       "      <td>Excited about the upcoming weekend getaway!  ...</td>\n",
       "      <td>Positive</td>\n",
       "      <td>2023-01-15 18:20:00</td>\n",
       "      <td>AdventureX</td>\n",
       "      <td>Facebook</td>\n",
       "      <td>#Travel #Adventure</td>\n",
       "      <td>8.0</td>\n",
       "      <td>15.0</td>\n",
       "      <td>UK</td>\n",
       "      <td>2023</td>\n",
       "      <td>1</td>\n",
       "      <td>15</td>\n",
       "      <td>18</td>\n",
       "    </tr>\n",
       "    <tr>\n",
       "      <th>4</th>\n",
       "      <td>4</td>\n",
       "      <td>4</td>\n",
       "      <td>Trying out a new recipe for dinner tonight.  ...</td>\n",
       "      <td>Neutral</td>\n",
       "      <td>2023-01-15 19:55:00</td>\n",
       "      <td>ChefCook</td>\n",
       "      <td>Instagram</td>\n",
       "      <td>#Cooking #Food</td>\n",
       "      <td>12.0</td>\n",
       "      <td>25.0</td>\n",
       "      <td>Australia</td>\n",
       "      <td>2023</td>\n",
       "      <td>1</td>\n",
       "      <td>15</td>\n",
       "      <td>19</td>\n",
       "    </tr>\n",
       "  </tbody>\n",
       "</table>\n",
       "</div>"
      ],
      "text/plain": [
       "   Unnamed: 0.1  Unnamed: 0  \\\n",
       "0             0           0   \n",
       "1             1           1   \n",
       "2             2           2   \n",
       "3             3           3   \n",
       "4             4           4   \n",
       "\n",
       "                                                Text    Sentiment  \\\n",
       "0   Enjoying a beautiful day at the park!        ...   Positive     \n",
       "1   Traffic was terrible this morning.           ...   Negative     \n",
       "2   Just finished an amazing workout! 💪          ...   Positive     \n",
       "3   Excited about the upcoming weekend getaway!  ...   Positive     \n",
       "4   Trying out a new recipe for dinner tonight.  ...   Neutral      \n",
       "\n",
       "             Timestamp            User     Platform  \\\n",
       "0  2023-01-15 12:30:00   User123          Twitter     \n",
       "1  2023-01-15 08:45:00   CommuterX        Twitter     \n",
       "2  2023-01-15 15:45:00   FitnessFan      Instagram    \n",
       "3  2023-01-15 18:20:00   AdventureX       Facebook    \n",
       "4  2023-01-15 19:55:00   ChefCook        Instagram    \n",
       "\n",
       "                                     Hashtags  Retweets  Likes       Country  \\\n",
       "0   #Nature #Park                                  15.0   30.0     USA         \n",
       "1   #Traffic #Morning                               5.0   10.0     Canada      \n",
       "2   #Fitness #Workout                              20.0   40.0   USA           \n",
       "3   #Travel #Adventure                              8.0   15.0     UK          \n",
       "4   #Cooking #Food                                 12.0   25.0    Australia    \n",
       "\n",
       "   Year  Month  Day  Hour  \n",
       "0  2023      1   15    12  \n",
       "1  2023      1   15     8  \n",
       "2  2023      1   15    15  \n",
       "3  2023      1   15    18  \n",
       "4  2023      1   15    19  "
      ]
     },
     "metadata": {},
     "output_type": "display_data"
    },
    {
     "name": "stdout",
     "output_type": "stream",
     "text": [
      "[' Positive  ', ' Negative  ', ' Neutral   ', ' Anger        ', ' Fear         ', ' Sadness      ', ' Disgust      ', ' Happiness    ', ' Joy          ', ' Love         ', ' Amusement    ', ' Enjoyment    ', ' Admiration   ', ' Affection    ', ' Awe          ', ' Disappointed ', ' Surprise     ', ' Acceptance   ', ' Adoration    ', ' Anticipation ', ' Bitter       ', ' Calmness     ', ' Confusion    ', ' Excitement   ', ' Kind         ', ' Pride        ', ' Shame        ', ' Confusion ', ' Excitement ', ' Shame ', ' Elation       ', ' Euphoria      ', ' Contentment   ', ' Serenity      ', ' Gratitude     ', ' Hope          ', ' Empowerment   ', ' Compassion    ', ' Tenderness    ', ' Arousal       ', ' Enthusiasm    ', ' Fulfillment  ', ' Reverence     ', ' Compassion', ' Fulfillment   ', ' Reverence ', ' Elation   ', ' Despair         ', ' Grief           ', ' Loneliness      ', ' Jealousy        ', ' Resentment      ', ' Frustration     ', ' Boredom         ', ' Anxiety         ', ' Intimidation    ', ' Helplessness    ', ' Envy            ', ' Regret         ', ' Disgust         ', ' Despair      ', ' Loneliness ', ' Frustration ', ' Anxiety   ', ' Intimidation ', ' Helplessness ', ' Jealousy    ', ' Curiosity       ', ' Indifference    ', ' Confusion       ', ' Numbness        ', ' Melancholy      ', ' Nostalgia       ', ' Ambivalence     ', ' Acceptance      ', ' Determination   ', ' Serenity        ', ' Numbness ', ' Zest ', ' Contentment ', ' Hopeful ', ' Proud ', ' Grateful ', ' Empathetic ', ' Compassionate ', ' Playful ', ' Free-spirited ', ' Inspired ', ' Confident ', ' Serenity ', ' Curiosity ', ' Ambivalence ', ' Despair ', ' Bitterness ', ' Yearning ', ' Fearful ', ' Apprehensive ', ' Overwhelmed ', ' Jealous ', ' Devastated ', ' Frustrated ', ' Envious ', ' Dismissive ', ' Awe           ', ' Determination ', ' Nostalgia      ', ' Thrill        ', ' Calmness      ', ' Overwhelmed   ', ' Gratitude   ', ' Bittersweet ', ' Curiosity     ', ' Admiration    ', ' Overjoyed     ', ' Inspiration   ', ' Motivation    ', ' Amusement     ', ' Contemplation ', ' JoyfulReunion ', ' Excitement    ', ' Satisfaction  ', ' Blessed       ', ' Anticipation  ', ' Reflection    ', ' Nostalgia     ', ' Appreciation  ', ' Confidence    ', ' Surprise      ', ' Accomplishment ', ' Wonderment    ', ' Optimism      ', ' Pride         ', ' Happiness     ', ' Curiosity   ', ' Enchantment   ', ' Intrigue      ', ' PlayfulJoy    ', ' Mindfulness   ', ' DreamChaser   ', ' Elegance ', ' Whimsy        ', ' Pensive ', ' Thrill      ', ' Harmony    ', ' Creativity   ', ' Radiance    ', ' Wonder     ', ' Rejuvenation ', ' Inspiration ', ' Coziness     ', ' Gratitude  ', ' Adventure ', ' Euphoria   ', ' Awe    ', ' Melodic       ', ' FestiveJoy    ', ' InnerJourney  ', ' Freedom       ', ' Dazzle        ', ' Adrenaline     ', ' Harmony       ', ' ArtisticBurst ', ' Radiance      ', ' Wonder       ', ' Inspiration  ', ' CulinaryOdyssey ', ' Euphoria     ', ' Curiosity  ', ' Resilience   ', ' Immersion ', ' Nostalgia ', ' Spark        ', ' Gratitude    ', ' Marvel       ', ' Serenity   ', ' Heartbreak    ', ' Loneliness    ', ' Grief      ', ' Despair   ', ' Betrayal      ', ' Suffering ', ' EmotionalStorm ', ' Regret        ', ' Isolation ', ' Disappointment ', ' LostLove ', ' Melancholy ', ' Exhaustion ', ' Sorrow      ', ' Darkness     ', ' Desperation ', ' Ruins      ', ' Desolation ', ' Regret ', ' Grief ', ' Heartbreak ', ' Betrayal ', ' Resilience ', ' Sorrow ', ' Loss ', ' Heartache ', ' Solitude ', ' Joy ', ' Happiness ', ' Enthusiasm ', ' Gratitude ', ' Positivity ', ' Kindness ', ' Friendship ', ' Love ', ' Surprise ', ' Success ', ' Thrill ', ' Reflection ', ' Enchantment ', ' Exploration ', ' Awe ', ' Amazement ', ' Romance ', ' Captivation ', ' Wonder ', ' Tranquility ', ' Grandeur ', ' Emotion ', ' Energy ', ' Celebration ', ' Charm ', ' Ecstasy ', ' Hope ', ' Creativity ', ' Colorful ', ' Pride ', ' Hypnotic ', ' Connection ', ' Iconic ', ' Euphoria ', ' Journey ', ' Engagement ', ' Touched ', ' Suspense ', ' Satisfaction ', ' Admiration ', ' Triumph ', ' Heartwarming ', ' Obstacle ', ' Sympathy ', ' Pressure ', ' Renewed Effort ', ' Miscalculation ', ' Challenge ', ' Solace ', ' Breakthrough ', ' Harmony ', ' Joy in Baking ', ' Envisioning History ', ' Imagination ', ' Vibrancy ', ' Mesmerizing ', ' Culinary Adventure ', ' Winter Magic ', ' Thrilling Journey ', \" Nature's Beauty \", ' Celestial Wonder ', ' Creative Inspiration ', ' Runway Creativity ', \" Ocean's Freedom \", ' Whispers of the Past ', ' Boredom ', ' Indifference ', ' Disgust ', ' Relief ', ' Positive ', ' Embarrassed ', ' Mischievous ', ' Sad ', ' Hate ', ' Bad ', ' Neutral ', ' Happy ']\n",
      "Data shape: (732, 2)\n"
     ]
    },
    {
     "data": {
      "text/html": [
       "<div>\n",
       "<style scoped>\n",
       "    .dataframe tbody tr th:only-of-type {\n",
       "        vertical-align: middle;\n",
       "    }\n",
       "\n",
       "    .dataframe tbody tr th {\n",
       "        vertical-align: top;\n",
       "    }\n",
       "\n",
       "    .dataframe thead th {\n",
       "        text-align: right;\n",
       "    }\n",
       "</style>\n",
       "<table border=\"1\" class=\"dataframe\">\n",
       "  <thead>\n",
       "    <tr style=\"text-align: right;\">\n",
       "      <th></th>\n",
       "      <th>Text</th>\n",
       "      <th>Sentiment</th>\n",
       "    </tr>\n",
       "  </thead>\n",
       "  <tbody>\n",
       "    <tr>\n",
       "      <th>0</th>\n",
       "      <td>Enjoying a beautiful day at the park!        ...</td>\n",
       "      <td>Positive</td>\n",
       "    </tr>\n",
       "    <tr>\n",
       "      <th>1</th>\n",
       "      <td>Traffic was terrible this morning.           ...</td>\n",
       "      <td>Negative</td>\n",
       "    </tr>\n",
       "    <tr>\n",
       "      <th>2</th>\n",
       "      <td>Just finished an amazing workout! 💪          ...</td>\n",
       "      <td>Positive</td>\n",
       "    </tr>\n",
       "    <tr>\n",
       "      <th>3</th>\n",
       "      <td>Excited about the upcoming weekend getaway!  ...</td>\n",
       "      <td>Positive</td>\n",
       "    </tr>\n",
       "    <tr>\n",
       "      <th>4</th>\n",
       "      <td>Trying out a new recipe for dinner tonight.  ...</td>\n",
       "      <td>Neutral</td>\n",
       "    </tr>\n",
       "  </tbody>\n",
       "</table>\n",
       "</div>"
      ],
      "text/plain": [
       "                                                Text    Sentiment\n",
       "0   Enjoying a beautiful day at the park!        ...   Positive  \n",
       "1   Traffic was terrible this morning.           ...   Negative  \n",
       "2   Just finished an amazing workout! 💪          ...   Positive  \n",
       "3   Excited about the upcoming weekend getaway!  ...   Positive  \n",
       "4   Trying out a new recipe for dinner tonight.  ...   Neutral   "
      ]
     },
     "metadata": {},
     "output_type": "display_data"
    }
   ],
   "source": [
    "# data_URL =  \"https://raw.githubusercontent.com/keitazoumana/Experimentation-Data/main/Musical_instruments_reviews.csv\"\n",
    "data_file_path = \"data/sentimentdataset.csv\"\n",
    "\n",
    "\n",
    "df = pd.read_csv(data_file_path)\n",
    "display(df.head())\n",
    "print(df[\"Sentiment\"].unique().tolist())\n",
    "df = df[['Text', 'Sentiment']]\n",
    "print(\"Data shape: {}\".format(df.shape))\n",
    "# df = df.sample(100)\n",
    "df.reset_index(drop=True, inplace=True)\n",
    "df.to_pickle('data/sentiment_raw.pkl')\n",
    "display(df.head())"
   ]
  },
  {
   "cell_type": "code",
   "execution_count": 114,
   "metadata": {},
   "outputs": [
    {
     "name": "stdout",
     "output_type": "stream",
     "text": [
      "256\n"
     ]
    }
   ],
   "source": [
    "# Openai\n",
    "client = OpenAI(\n",
    "  api_key=os.environ['OPENAI_API_KEY'],  # this is also the default, it can be omitted\n",
    ")\n",
    "# Tiktoken\n",
    "enc = tiktoken.get_encoding(\"o200k_base\")\n",
    "\n",
    "# Gemini\n",
    "client = genai.Client(api_key=os.environ['GEMINI_API_KEY']) # 3072 dimension for gemini-embedding-exp-03-07 embedding model\n",
    "\n",
    "# Sentence Transformer\n",
    "model = SentenceTransformer(\"all-MiniLM-L6-v2\") # 256 input seq length -> 384-dimensional dense output\n",
    "print(model.max_seq_length) # By default, the provided methods use a limit of 256 word pieces, longer inputs will be truncated. "
   ]
  },
  {
   "cell_type": "code",
   "execution_count": 19,
   "metadata": {},
   "outputs": [],
   "source": [
    "# Check rate limits\n",
    "def get_embedding_openai(text_to_embed):\n",
    "    # Embed a line of text\n",
    "    response = client.embeddings.create(\n",
    "        model= \"text-embedding-ada-002\",\n",
    "        input=[text_to_embed]\n",
    "    )\n",
    "    embedding = response[\"data\"][0][\"embedding\"]\n",
    "    return embedding\n",
    "def get_embedding_gemini(text_to_embed):\n",
    "    # Embed a line of text\n",
    "    result = client.models.embed_content(\n",
    "        model=\"gemini-embedding-exp-03-07\",\n",
    "        contents=text_to_embed,\n",
    "        config=types.EmbedContentConfig(task_type=\"SEMANTIC_SIMILARITY\") # config=types.EmbedContentConfig(output_dimensionality=10),\n",
    "    )\n",
    "    return result.embeddings[0].values"
   ]
  },
  {
   "cell_type": "code",
   "execution_count": 20,
   "metadata": {},
   "outputs": [
    {
     "name": "stdout",
     "output_type": "stream",
     "text": [
      "Number of records 100\n"
     ]
    },
    {
     "data": {
      "text/html": [
       "<div>\n",
       "<style scoped>\n",
       "    .dataframe tbody tr th:only-of-type {\n",
       "        vertical-align: middle;\n",
       "    }\n",
       "\n",
       "    .dataframe tbody tr th {\n",
       "        vertical-align: top;\n",
       "    }\n",
       "\n",
       "    .dataframe thead th {\n",
       "        text-align: right;\n",
       "    }\n",
       "</style>\n",
       "<table border=\"1\" class=\"dataframe\">\n",
       "  <thead>\n",
       "    <tr style=\"text-align: right;\">\n",
       "      <th></th>\n",
       "      <th>Text</th>\n",
       "      <th>Sentiment</th>\n",
       "      <th>tiktoken_embedding</th>\n",
       "      <th>st_embedding</th>\n",
       "      <th>tiktoken_count</th>\n",
       "      <th>st_count</th>\n",
       "      <th>word_count</th>\n",
       "    </tr>\n",
       "  </thead>\n",
       "  <tbody>\n",
       "    <tr>\n",
       "      <th>0</th>\n",
       "      <td>Trying out a new dessert recipe.             ...</td>\n",
       "      <td>Positive</td>\n",
       "      <td>[88976, 842, 261, 620, 47296, 14420, 13, 699]</td>\n",
       "      <td>[-0.014330666, -0.049130578, 0.0030075375, 0.0...</td>\n",
       "      <td>8</td>\n",
       "      <td>384</td>\n",
       "      <td>6</td>\n",
       "    </tr>\n",
       "    <tr>\n",
       "      <th>1</th>\n",
       "      <td>Playfully dancing in the rain of laughter, a ...</td>\n",
       "      <td>Playful</td>\n",
       "      <td>[9103, 5203, 38157, 306, 290, 13873, 328, 6734...</td>\n",
       "      <td>[0.015664198, -0.0048338617, 0.05227115, 0.013...</td>\n",
       "      <td>26</td>\n",
       "      <td>384</td>\n",
       "      <td>18</td>\n",
       "    </tr>\n",
       "    <tr>\n",
       "      <th>2</th>\n",
       "      <td>Exploring the ancient ruins of Angkor Wat, eac...</td>\n",
       "      <td>Exploration</td>\n",
       "      <td>[24704, 7443, 290, 21574, 76738, 328, 5775, 23...</td>\n",
       "      <td>[0.018491017, 0.054280628, 0.06413508, 0.05055...</td>\n",
       "      <td>20</td>\n",
       "      <td>384</td>\n",
       "      <td>14</td>\n",
       "    </tr>\n",
       "    <tr>\n",
       "      <th>3</th>\n",
       "      <td>Overwhelmed by the cacophony of expectations,...</td>\n",
       "      <td>Overwhelmed</td>\n",
       "      <td>[7931, 163185, 3217, 656, 290, 80188, 6502, 44...</td>\n",
       "      <td>[0.0034730374, 0.038468692, 0.030071173, 0.033...</td>\n",
       "      <td>26</td>\n",
       "      <td>384</td>\n",
       "      <td>18</td>\n",
       "    </tr>\n",
       "    <tr>\n",
       "      <th>4</th>\n",
       "      <td>Surrounded by the vibrant colors of a flower g...</td>\n",
       "      <td>Nature's Beauty</td>\n",
       "      <td>[14477, 62633, 656, 290, 35180, 10803, 328, 26...</td>\n",
       "      <td>[0.017445965, 0.07143598, 0.0415588, 0.0294761...</td>\n",
       "      <td>30</td>\n",
       "      <td>384</td>\n",
       "      <td>22</td>\n",
       "    </tr>\n",
       "  </tbody>\n",
       "</table>\n",
       "</div>"
      ],
      "text/plain": [
       "                                                Text          Sentiment  \\\n",
       "0   Trying out a new dessert recipe.             ...         Positive     \n",
       "1   Playfully dancing in the rain of laughter, a ...           Playful    \n",
       "2  Exploring the ancient ruins of Angkor Wat, eac...       Exploration    \n",
       "3   Overwhelmed by the cacophony of expectations,...       Overwhelmed    \n",
       "4  Surrounded by the vibrant colors of a flower g...   Nature's Beauty    \n",
       "\n",
       "                                  tiktoken_embedding  \\\n",
       "0      [88976, 842, 261, 620, 47296, 14420, 13, 699]   \n",
       "1  [9103, 5203, 38157, 306, 290, 13873, 328, 6734...   \n",
       "2  [24704, 7443, 290, 21574, 76738, 328, 5775, 23...   \n",
       "3  [7931, 163185, 3217, 656, 290, 80188, 6502, 44...   \n",
       "4  [14477, 62633, 656, 290, 35180, 10803, 328, 26...   \n",
       "\n",
       "                                        st_embedding  tiktoken_count  \\\n",
       "0  [-0.014330666, -0.049130578, 0.0030075375, 0.0...               8   \n",
       "1  [0.015664198, -0.0048338617, 0.05227115, 0.013...              26   \n",
       "2  [0.018491017, 0.054280628, 0.06413508, 0.05055...              20   \n",
       "3  [0.0034730374, 0.038468692, 0.030071173, 0.033...              26   \n",
       "4  [0.017445965, 0.07143598, 0.0415588, 0.0294761...              30   \n",
       "\n",
       "   st_count  word_count  \n",
       "0       384           6  \n",
       "1       384          18  \n",
       "2       384          14  \n",
       "3       384          18  \n",
       "4       384          22  "
      ]
     },
     "execution_count": 20,
     "metadata": {},
     "output_type": "execute_result"
    }
   ],
   "source": [
    "df = pd.read_pickle('data/sentiment_raw.pkl')\n",
    "df = df.sample(100)\n",
    "df.reset_index(drop=True, inplace=True)\n",
    "df[\"tiktoken_embedding\"] = df[\"Text\"].astype(str).apply(lambda x: enc.encode(x))\n",
    "# df[\"ada_embedding\"] = df[\"Text\"].astype(str).apply(get_embedding_openai)\n",
    "# df[\"gemini_embedding\"] = df[\"Text\"].astype(str).apply(get_embedding_gemini)\n",
    "df[\"st_embedding\"] = df[\"Text\"].astype(str).apply(lambda x: model.encode(x))\n",
    "\n",
    "# Get token counts\n",
    "df[\"tiktoken_count\"] = df[\"tiktoken_embedding\"].apply(lambda x: len(x))\n",
    "# df[\"ada_count\"] = df[\"ada_embedding\"].apply(lambda x: len(x))\n",
    "# df[\"gemini_count\"] = df[\"gemini_embedding\"].apply(lambda x: len(x))\n",
    "df[\"st_count\"] = df[\"st_embedding\"].apply(lambda x: len(x))\n",
    "df[\"word_count\"] = df[\"Text\"].apply(lambda x: len(x.split()))\n",
    "\n",
    "embedding_file_name = 'data/sentiment_embeddings.pkl'\n",
    "df.to_pickle(embedding_file_name)\n",
    "df = pd.read_pickle(embedding_file_name)\n",
    "print(\"Number of records\", len(df))\n",
    "df.head()"
   ]
  },
  {
   "cell_type": "markdown",
   "metadata": {},
   "source": [
    "# Analysis"
   ]
  },
  {
   "cell_type": "code",
   "execution_count": 130,
   "metadata": {},
   "outputs": [
    {
     "name": "stdout",
     "output_type": "stream",
     "text": [
      "Number of records 100\n"
     ]
    },
    {
     "data": {
      "text/html": [
       "<div>\n",
       "<style scoped>\n",
       "    .dataframe tbody tr th:only-of-type {\n",
       "        vertical-align: middle;\n",
       "    }\n",
       "\n",
       "    .dataframe tbody tr th {\n",
       "        vertical-align: top;\n",
       "    }\n",
       "\n",
       "    .dataframe thead th {\n",
       "        text-align: right;\n",
       "    }\n",
       "</style>\n",
       "<table border=\"1\" class=\"dataframe\">\n",
       "  <thead>\n",
       "    <tr style=\"text-align: right;\">\n",
       "      <th></th>\n",
       "      <th>Text</th>\n",
       "      <th>Sentiment</th>\n",
       "      <th>tiktoken_embedding</th>\n",
       "      <th>st_embedding</th>\n",
       "      <th>tiktoken_count</th>\n",
       "      <th>st_count</th>\n",
       "      <th>word_count</th>\n",
       "      <th>kmeans</th>\n",
       "    </tr>\n",
       "  </thead>\n",
       "  <tbody>\n",
       "    <tr>\n",
       "      <th>0</th>\n",
       "      <td>Trying out a new dessert recipe.             ...</td>\n",
       "      <td>Positive</td>\n",
       "      <td>[88976, 842, 261, 620, 47296, 14420, 13, 699]</td>\n",
       "      <td>[-0.014330666, -0.049130578, 0.0030075375, 0.0...</td>\n",
       "      <td>8</td>\n",
       "      <td>384</td>\n",
       "      <td>6</td>\n",
       "      <td>0</td>\n",
       "    </tr>\n",
       "    <tr>\n",
       "      <th>1</th>\n",
       "      <td>Playfully dancing in the rain of laughter, a ...</td>\n",
       "      <td>Playful</td>\n",
       "      <td>[9103, 5203, 38157, 306, 290, 13873, 328, 6734...</td>\n",
       "      <td>[0.015664198, -0.0048338617, 0.05227115, 0.013...</td>\n",
       "      <td>26</td>\n",
       "      <td>384</td>\n",
       "      <td>18</td>\n",
       "      <td>1</td>\n",
       "    </tr>\n",
       "    <tr>\n",
       "      <th>2</th>\n",
       "      <td>Exploring the ancient ruins of Angkor Wat, eac...</td>\n",
       "      <td>Exploration</td>\n",
       "      <td>[24704, 7443, 290, 21574, 76738, 328, 5775, 23...</td>\n",
       "      <td>[0.018491017, 0.054280628, 0.06413508, 0.05055...</td>\n",
       "      <td>20</td>\n",
       "      <td>384</td>\n",
       "      <td>14</td>\n",
       "      <td>1</td>\n",
       "    </tr>\n",
       "    <tr>\n",
       "      <th>3</th>\n",
       "      <td>Overwhelmed by the cacophony of expectations,...</td>\n",
       "      <td>Overwhelmed</td>\n",
       "      <td>[7931, 163185, 3217, 656, 290, 80188, 6502, 44...</td>\n",
       "      <td>[0.0034730374, 0.038468692, 0.030071173, 0.033...</td>\n",
       "      <td>26</td>\n",
       "      <td>384</td>\n",
       "      <td>18</td>\n",
       "      <td>2</td>\n",
       "    </tr>\n",
       "    <tr>\n",
       "      <th>4</th>\n",
       "      <td>Surrounded by the vibrant colors of a flower g...</td>\n",
       "      <td>Nature's Beauty</td>\n",
       "      <td>[14477, 62633, 656, 290, 35180, 10803, 328, 26...</td>\n",
       "      <td>[0.017445965, 0.07143598, 0.0415588, 0.0294761...</td>\n",
       "      <td>30</td>\n",
       "      <td>384</td>\n",
       "      <td>22</td>\n",
       "      <td>1</td>\n",
       "    </tr>\n",
       "  </tbody>\n",
       "</table>\n",
       "</div>"
      ],
      "text/plain": [
       "                                                Text          Sentiment  \\\n",
       "0   Trying out a new dessert recipe.             ...         Positive     \n",
       "1   Playfully dancing in the rain of laughter, a ...           Playful    \n",
       "2  Exploring the ancient ruins of Angkor Wat, eac...       Exploration    \n",
       "3   Overwhelmed by the cacophony of expectations,...       Overwhelmed    \n",
       "4  Surrounded by the vibrant colors of a flower g...   Nature's Beauty    \n",
       "\n",
       "                                  tiktoken_embedding  \\\n",
       "0      [88976, 842, 261, 620, 47296, 14420, 13, 699]   \n",
       "1  [9103, 5203, 38157, 306, 290, 13873, 328, 6734...   \n",
       "2  [24704, 7443, 290, 21574, 76738, 328, 5775, 23...   \n",
       "3  [7931, 163185, 3217, 656, 290, 80188, 6502, 44...   \n",
       "4  [14477, 62633, 656, 290, 35180, 10803, 328, 26...   \n",
       "\n",
       "                                        st_embedding  tiktoken_count  \\\n",
       "0  [-0.014330666, -0.049130578, 0.0030075375, 0.0...               8   \n",
       "1  [0.015664198, -0.0048338617, 0.05227115, 0.013...              26   \n",
       "2  [0.018491017, 0.054280628, 0.06413508, 0.05055...              20   \n",
       "3  [0.0034730374, 0.038468692, 0.030071173, 0.033...              26   \n",
       "4  [0.017445965, 0.07143598, 0.0415588, 0.0294761...              30   \n",
       "\n",
       "   st_count  word_count  kmeans  \n",
       "0       384           6       0  \n",
       "1       384          18       1  \n",
       "2       384          14       1  \n",
       "3       384          18       2  \n",
       "4       384          22       1  "
      ]
     },
     "metadata": {},
     "output_type": "display_data"
    }
   ],
   "source": [
    "embedding_file_name = 'data/sentiment_embeddings.pkl'\n",
    "df = pd.read_pickle(embedding_file_name)\n",
    "print(\"Number of records\", len(df))\n",
    "display(df.head())\n",
    "\n",
    "embedding_file_name = 'data/sentiment_embeddings.pkl'"
   ]
  },
  {
   "cell_type": "markdown",
   "metadata": {},
   "source": [
    "## Kmeans"
   ]
  },
  {
   "cell_type": "code",
   "execution_count": 41,
   "metadata": {},
   "outputs": [
    {
     "name": "stderr",
     "output_type": "stream",
     "text": [
      "c:\\Users\\gansh\\Downloads\\2 - Projects\\All-About-LLM\\.venv\\lib\\site-packages\\sklearn\\utils\\deprecation.py:151: FutureWarning:\n",
      "\n",
      "'force_all_finite' was renamed to 'ensure_all_finite' in 1.6 and will be removed in 1.8.\n",
      "\n"
     ]
    },
    {
     "name": "stdout",
     "output_type": "stream",
     "text": [
      "embeddings_2d shape: (100, 2)\n"
     ]
    },
    {
     "data": {
      "application/vnd.plotly.v1+json": {
       "config": {
        "plotlyServerURL": "https://plot.ly"
       },
       "data": [
        {
         "hovertemplate": "x=%{x}<br>y=%{y}<br>color=%{marker.color}<extra></extra>",
         "legendgroup": "",
         "marker": {
          "color": {
           "bdata": "AAAAAAEAAAABAAAAAgAAAAEAAAABAAAAAQAAAAIAAAACAAAAAQAAAAEAAAACAAAAAQAAAAEAAAACAAAAAgAAAAEAAAABAAAAAgAAAAIAAAABAAAAAgAAAAIAAAAAAAAAAQAAAAAAAAABAAAAAQAAAAIAAAACAAAAAQAAAAIAAAAAAAAAAQAAAAIAAAACAAAAAQAAAAEAAAACAAAAAQAAAAEAAAACAAAAAQAAAAEAAAACAAAAAgAAAAIAAAACAAAAAQAAAAEAAAACAAAAAQAAAAIAAAABAAAAAQAAAAAAAAAAAAAAAgAAAAEAAAABAAAAAgAAAAIAAAACAAAAAQAAAAIAAAACAAAAAQAAAAEAAAABAAAAAgAAAAEAAAACAAAAAQAAAAAAAAACAAAAAQAAAAEAAAABAAAAAQAAAAIAAAABAAAAAQAAAAEAAAACAAAAAQAAAAIAAAAAAAAAAQAAAAIAAAABAAAAAQAAAAEAAAABAAAAAQAAAAEAAAABAAAAAQAAAAEAAAACAAAAAgAAAA==",
           "dtype": "i4"
          },
          "coloraxis": "coloraxis",
          "symbol": "circle"
         },
         "mode": "markers",
         "name": "",
         "orientation": "v",
         "showlegend": false,
         "type": "scatter",
         "x": {
          "bdata": "4i7+QPUrEkHsgRpB/IY4QQGOCUESgR5BFI0HQXOMKUGGSiFBIankQPDI/EBfxBtBxG4UQT5cGkGykShBWCAgQVvFBEH6UPJAY6oyQcWVOEEklfxAUk4qQcQyJkE2TABBXC7zQF5N8EAcJAFBuR4NQaP+O0ErvjRBTZ3oQHqHJ0FEYwFBW5LgQNAzP0GcdytBv18WQcQcIEEOkiFBwoL9QOSj/UBlshBB98sEQV65EUH8AChBusM+QS+cNkElAxhBz77iQEGdCkHNshRB65jmQLKHPEGLdwxBeyYRQbzc/0AV0/FA9/M2QeVqDUE4ciRB1vsYQdI/PUHs3DZBWSUXQRRRI0FD2StBy9EXQfw4C0HbdQtBMAgdQeshE0ECxz1BjicNQYCJAEH6wTBBHtgQQaOH90CEThlBgKkQQVdgI0FOXBhBCj3iQGG6BEGDgy9BPfkOQaTDNkHJSulAsj3gQKuHK0Fr3A9BuHo1QScuJUGqQBRBMqDiQGS8CUEkX/ZADzsMQQwUNkEgFg1Bgw0zQQ==",
          "dtype": "f4"
         },
         "xaxis": "x",
         "y": {
          "bdata": "Wp9fQaW7Y0E+rHhBdgBdQfIqbEGqsnNB/+F6QWczRkHhJlBB3+lLQSVxR0GcMFJBz4N6QVCcYkFH+VFBi5dZQVALW0HjFXdBq6xBQUprQkFKYURBqYlxQftvTEGUK1BB7XVjQXMUXEGHG2hBRgpPQdtlRkHhEFBB3WBGQS3BYUEJJVhBK1BcQd/2WEGp41RB16RsQRjed0Fqx0ZBSIB+QdfnfEHm+D5BfLtKQatjUUGSMElBqCtTQTKIY0Ew/k5BEKxTQQUaQkENqUlBukpkQeYtXUGuO3JBHzJaQQYkVEGt6XBBPZZKQbw6TUEYomlBq7NEQT+gTEHmlUVB17ZzQdNbV0GZmVZBKcp/QRuFQUGIanZB8FtYQbFPXUERnVRBGqlmQcXEaEHKllZBWvtrQekFdkGy135BgMh2QROFeUFPPWtBesViQTVyfkFpcUFBd5F+QaG5TUHO4UxBICBfQZ25YUEZsHxBk5ZjQYiIakHUFWFBOTtOQZ47X0FUzkVByKhyQZamWkHGgT5BFHZFQQ==",
          "dtype": "f4"
         },
         "yaxis": "y"
        }
       ],
       "layout": {
        "coloraxis": {
         "colorbar": {
          "title": {
           "text": "color"
          }
         },
         "colorscale": [
          [
           0,
           "#0d0887"
          ],
          [
           0.1111111111111111,
           "#46039f"
          ],
          [
           0.2222222222222222,
           "#7201a8"
          ],
          [
           0.3333333333333333,
           "#9c179e"
          ],
          [
           0.4444444444444444,
           "#bd3786"
          ],
          [
           0.5555555555555556,
           "#d8576b"
          ],
          [
           0.6666666666666666,
           "#ed7953"
          ],
          [
           0.7777777777777778,
           "#fb9f3a"
          ],
          [
           0.8888888888888888,
           "#fdca26"
          ],
          [
           1,
           "#f0f921"
          ]
         ]
        },
        "legend": {
         "tracegroupgap": 0
        },
        "margin": {
         "t": 60
        },
        "template": {
         "data": {
          "bar": [
           {
            "error_x": {
             "color": "#2a3f5f"
            },
            "error_y": {
             "color": "#2a3f5f"
            },
            "marker": {
             "line": {
              "color": "#E5ECF6",
              "width": 0.5
             },
             "pattern": {
              "fillmode": "overlay",
              "size": 10,
              "solidity": 0.2
             }
            },
            "type": "bar"
           }
          ],
          "barpolar": [
           {
            "marker": {
             "line": {
              "color": "#E5ECF6",
              "width": 0.5
             },
             "pattern": {
              "fillmode": "overlay",
              "size": 10,
              "solidity": 0.2
             }
            },
            "type": "barpolar"
           }
          ],
          "carpet": [
           {
            "aaxis": {
             "endlinecolor": "#2a3f5f",
             "gridcolor": "white",
             "linecolor": "white",
             "minorgridcolor": "white",
             "startlinecolor": "#2a3f5f"
            },
            "baxis": {
             "endlinecolor": "#2a3f5f",
             "gridcolor": "white",
             "linecolor": "white",
             "minorgridcolor": "white",
             "startlinecolor": "#2a3f5f"
            },
            "type": "carpet"
           }
          ],
          "choropleth": [
           {
            "colorbar": {
             "outlinewidth": 0,
             "ticks": ""
            },
            "type": "choropleth"
           }
          ],
          "contour": [
           {
            "colorbar": {
             "outlinewidth": 0,
             "ticks": ""
            },
            "colorscale": [
             [
              0,
              "#0d0887"
             ],
             [
              0.1111111111111111,
              "#46039f"
             ],
             [
              0.2222222222222222,
              "#7201a8"
             ],
             [
              0.3333333333333333,
              "#9c179e"
             ],
             [
              0.4444444444444444,
              "#bd3786"
             ],
             [
              0.5555555555555556,
              "#d8576b"
             ],
             [
              0.6666666666666666,
              "#ed7953"
             ],
             [
              0.7777777777777778,
              "#fb9f3a"
             ],
             [
              0.8888888888888888,
              "#fdca26"
             ],
             [
              1,
              "#f0f921"
             ]
            ],
            "type": "contour"
           }
          ],
          "contourcarpet": [
           {
            "colorbar": {
             "outlinewidth": 0,
             "ticks": ""
            },
            "type": "contourcarpet"
           }
          ],
          "heatmap": [
           {
            "colorbar": {
             "outlinewidth": 0,
             "ticks": ""
            },
            "colorscale": [
             [
              0,
              "#0d0887"
             ],
             [
              0.1111111111111111,
              "#46039f"
             ],
             [
              0.2222222222222222,
              "#7201a8"
             ],
             [
              0.3333333333333333,
              "#9c179e"
             ],
             [
              0.4444444444444444,
              "#bd3786"
             ],
             [
              0.5555555555555556,
              "#d8576b"
             ],
             [
              0.6666666666666666,
              "#ed7953"
             ],
             [
              0.7777777777777778,
              "#fb9f3a"
             ],
             [
              0.8888888888888888,
              "#fdca26"
             ],
             [
              1,
              "#f0f921"
             ]
            ],
            "type": "heatmap"
           }
          ],
          "histogram": [
           {
            "marker": {
             "pattern": {
              "fillmode": "overlay",
              "size": 10,
              "solidity": 0.2
             }
            },
            "type": "histogram"
           }
          ],
          "histogram2d": [
           {
            "colorbar": {
             "outlinewidth": 0,
             "ticks": ""
            },
            "colorscale": [
             [
              0,
              "#0d0887"
             ],
             [
              0.1111111111111111,
              "#46039f"
             ],
             [
              0.2222222222222222,
              "#7201a8"
             ],
             [
              0.3333333333333333,
              "#9c179e"
             ],
             [
              0.4444444444444444,
              "#bd3786"
             ],
             [
              0.5555555555555556,
              "#d8576b"
             ],
             [
              0.6666666666666666,
              "#ed7953"
             ],
             [
              0.7777777777777778,
              "#fb9f3a"
             ],
             [
              0.8888888888888888,
              "#fdca26"
             ],
             [
              1,
              "#f0f921"
             ]
            ],
            "type": "histogram2d"
           }
          ],
          "histogram2dcontour": [
           {
            "colorbar": {
             "outlinewidth": 0,
             "ticks": ""
            },
            "colorscale": [
             [
              0,
              "#0d0887"
             ],
             [
              0.1111111111111111,
              "#46039f"
             ],
             [
              0.2222222222222222,
              "#7201a8"
             ],
             [
              0.3333333333333333,
              "#9c179e"
             ],
             [
              0.4444444444444444,
              "#bd3786"
             ],
             [
              0.5555555555555556,
              "#d8576b"
             ],
             [
              0.6666666666666666,
              "#ed7953"
             ],
             [
              0.7777777777777778,
              "#fb9f3a"
             ],
             [
              0.8888888888888888,
              "#fdca26"
             ],
             [
              1,
              "#f0f921"
             ]
            ],
            "type": "histogram2dcontour"
           }
          ],
          "mesh3d": [
           {
            "colorbar": {
             "outlinewidth": 0,
             "ticks": ""
            },
            "type": "mesh3d"
           }
          ],
          "parcoords": [
           {
            "line": {
             "colorbar": {
              "outlinewidth": 0,
              "ticks": ""
             }
            },
            "type": "parcoords"
           }
          ],
          "pie": [
           {
            "automargin": true,
            "type": "pie"
           }
          ],
          "scatter": [
           {
            "fillpattern": {
             "fillmode": "overlay",
             "size": 10,
             "solidity": 0.2
            },
            "type": "scatter"
           }
          ],
          "scatter3d": [
           {
            "line": {
             "colorbar": {
              "outlinewidth": 0,
              "ticks": ""
             }
            },
            "marker": {
             "colorbar": {
              "outlinewidth": 0,
              "ticks": ""
             }
            },
            "type": "scatter3d"
           }
          ],
          "scattercarpet": [
           {
            "marker": {
             "colorbar": {
              "outlinewidth": 0,
              "ticks": ""
             }
            },
            "type": "scattercarpet"
           }
          ],
          "scattergeo": [
           {
            "marker": {
             "colorbar": {
              "outlinewidth": 0,
              "ticks": ""
             }
            },
            "type": "scattergeo"
           }
          ],
          "scattergl": [
           {
            "marker": {
             "colorbar": {
              "outlinewidth": 0,
              "ticks": ""
             }
            },
            "type": "scattergl"
           }
          ],
          "scattermap": [
           {
            "marker": {
             "colorbar": {
              "outlinewidth": 0,
              "ticks": ""
             }
            },
            "type": "scattermap"
           }
          ],
          "scattermapbox": [
           {
            "marker": {
             "colorbar": {
              "outlinewidth": 0,
              "ticks": ""
             }
            },
            "type": "scattermapbox"
           }
          ],
          "scatterpolar": [
           {
            "marker": {
             "colorbar": {
              "outlinewidth": 0,
              "ticks": ""
             }
            },
            "type": "scatterpolar"
           }
          ],
          "scatterpolargl": [
           {
            "marker": {
             "colorbar": {
              "outlinewidth": 0,
              "ticks": ""
             }
            },
            "type": "scatterpolargl"
           }
          ],
          "scatterternary": [
           {
            "marker": {
             "colorbar": {
              "outlinewidth": 0,
              "ticks": ""
             }
            },
            "type": "scatterternary"
           }
          ],
          "surface": [
           {
            "colorbar": {
             "outlinewidth": 0,
             "ticks": ""
            },
            "colorscale": [
             [
              0,
              "#0d0887"
             ],
             [
              0.1111111111111111,
              "#46039f"
             ],
             [
              0.2222222222222222,
              "#7201a8"
             ],
             [
              0.3333333333333333,
              "#9c179e"
             ],
             [
              0.4444444444444444,
              "#bd3786"
             ],
             [
              0.5555555555555556,
              "#d8576b"
             ],
             [
              0.6666666666666666,
              "#ed7953"
             ],
             [
              0.7777777777777778,
              "#fb9f3a"
             ],
             [
              0.8888888888888888,
              "#fdca26"
             ],
             [
              1,
              "#f0f921"
             ]
            ],
            "type": "surface"
           }
          ],
          "table": [
           {
            "cells": {
             "fill": {
              "color": "#EBF0F8"
             },
             "line": {
              "color": "white"
             }
            },
            "header": {
             "fill": {
              "color": "#C8D4E3"
             },
             "line": {
              "color": "white"
             }
            },
            "type": "table"
           }
          ]
         },
         "layout": {
          "annotationdefaults": {
           "arrowcolor": "#2a3f5f",
           "arrowhead": 0,
           "arrowwidth": 1
          },
          "autotypenumbers": "strict",
          "coloraxis": {
           "colorbar": {
            "outlinewidth": 0,
            "ticks": ""
           }
          },
          "colorscale": {
           "diverging": [
            [
             0,
             "#8e0152"
            ],
            [
             0.1,
             "#c51b7d"
            ],
            [
             0.2,
             "#de77ae"
            ],
            [
             0.3,
             "#f1b6da"
            ],
            [
             0.4,
             "#fde0ef"
            ],
            [
             0.5,
             "#f7f7f7"
            ],
            [
             0.6,
             "#e6f5d0"
            ],
            [
             0.7,
             "#b8e186"
            ],
            [
             0.8,
             "#7fbc41"
            ],
            [
             0.9,
             "#4d9221"
            ],
            [
             1,
             "#276419"
            ]
           ],
           "sequential": [
            [
             0,
             "#0d0887"
            ],
            [
             0.1111111111111111,
             "#46039f"
            ],
            [
             0.2222222222222222,
             "#7201a8"
            ],
            [
             0.3333333333333333,
             "#9c179e"
            ],
            [
             0.4444444444444444,
             "#bd3786"
            ],
            [
             0.5555555555555556,
             "#d8576b"
            ],
            [
             0.6666666666666666,
             "#ed7953"
            ],
            [
             0.7777777777777778,
             "#fb9f3a"
            ],
            [
             0.8888888888888888,
             "#fdca26"
            ],
            [
             1,
             "#f0f921"
            ]
           ],
           "sequentialminus": [
            [
             0,
             "#0d0887"
            ],
            [
             0.1111111111111111,
             "#46039f"
            ],
            [
             0.2222222222222222,
             "#7201a8"
            ],
            [
             0.3333333333333333,
             "#9c179e"
            ],
            [
             0.4444444444444444,
             "#bd3786"
            ],
            [
             0.5555555555555556,
             "#d8576b"
            ],
            [
             0.6666666666666666,
             "#ed7953"
            ],
            [
             0.7777777777777778,
             "#fb9f3a"
            ],
            [
             0.8888888888888888,
             "#fdca26"
            ],
            [
             1,
             "#f0f921"
            ]
           ]
          },
          "colorway": [
           "#636efa",
           "#EF553B",
           "#00cc96",
           "#ab63fa",
           "#FFA15A",
           "#19d3f3",
           "#FF6692",
           "#B6E880",
           "#FF97FF",
           "#FECB52"
          ],
          "font": {
           "color": "#2a3f5f"
          },
          "geo": {
           "bgcolor": "white",
           "lakecolor": "white",
           "landcolor": "#E5ECF6",
           "showlakes": true,
           "showland": true,
           "subunitcolor": "white"
          },
          "hoverlabel": {
           "align": "left"
          },
          "hovermode": "closest",
          "mapbox": {
           "style": "light"
          },
          "paper_bgcolor": "white",
          "plot_bgcolor": "#E5ECF6",
          "polar": {
           "angularaxis": {
            "gridcolor": "white",
            "linecolor": "white",
            "ticks": ""
           },
           "bgcolor": "#E5ECF6",
           "radialaxis": {
            "gridcolor": "white",
            "linecolor": "white",
            "ticks": ""
           }
          },
          "scene": {
           "xaxis": {
            "backgroundcolor": "#E5ECF6",
            "gridcolor": "white",
            "gridwidth": 2,
            "linecolor": "white",
            "showbackground": true,
            "ticks": "",
            "zerolinecolor": "white"
           },
           "yaxis": {
            "backgroundcolor": "#E5ECF6",
            "gridcolor": "white",
            "gridwidth": 2,
            "linecolor": "white",
            "showbackground": true,
            "ticks": "",
            "zerolinecolor": "white"
           },
           "zaxis": {
            "backgroundcolor": "#E5ECF6",
            "gridcolor": "white",
            "gridwidth": 2,
            "linecolor": "white",
            "showbackground": true,
            "ticks": "",
            "zerolinecolor": "white"
           }
          },
          "shapedefaults": {
           "line": {
            "color": "#2a3f5f"
           }
          },
          "ternary": {
           "aaxis": {
            "gridcolor": "white",
            "linecolor": "white",
            "ticks": ""
           },
           "baxis": {
            "gridcolor": "white",
            "linecolor": "white",
            "ticks": ""
           },
           "bgcolor": "#E5ECF6",
           "caxis": {
            "gridcolor": "white",
            "linecolor": "white",
            "ticks": ""
           }
          },
          "title": {
           "x": 0.05
          },
          "xaxis": {
           "automargin": true,
           "gridcolor": "white",
           "linecolor": "white",
           "ticks": "",
           "title": {
            "standoff": 15
           },
           "zerolinecolor": "white",
           "zerolinewidth": 2
          },
          "yaxis": {
           "automargin": true,
           "gridcolor": "white",
           "linecolor": "white",
           "ticks": "",
           "title": {
            "standoff": 15
           },
           "zerolinecolor": "white",
           "zerolinewidth": 2
          }
         }
        },
        "xaxis": {
         "anchor": "y",
         "domain": [
          0,
          1
         ],
         "title": {
          "text": "x"
         }
        },
        "yaxis": {
         "anchor": "x",
         "domain": [
          0,
          1
         ],
         "title": {
          "text": "y"
         }
        }
       }
      }
     },
     "metadata": {},
     "output_type": "display_data"
    }
   ],
   "source": [
    "kmeans = KMeans(n_clusters=3)\n",
    "kmeans.fit(df[\"st_embedding\"].tolist())\n",
    "\n",
    "reducer = UMAP()\n",
    "embeddings_2d = reducer.fit_transform(df[\"st_embedding\"].tolist())\n",
    "print(\"embeddings_2d shape:\", embeddings_2d.shape)\n",
    "\n",
    "fig = px.scatter(x=embeddings_2d[:, 0], y=embeddings_2d[:, 1], color=kmeans.labels_)\n",
    "fig.show()"
   ]
  },
  {
   "cell_type": "code",
   "execution_count": 46,
   "metadata": {},
   "outputs": [
    {
     "data": {
      "text/html": [
       "<div>\n",
       "<style scoped>\n",
       "    .dataframe tbody tr th:only-of-type {\n",
       "        vertical-align: middle;\n",
       "    }\n",
       "\n",
       "    .dataframe tbody tr th {\n",
       "        vertical-align: top;\n",
       "    }\n",
       "\n",
       "    .dataframe thead th {\n",
       "        text-align: right;\n",
       "    }\n",
       "</style>\n",
       "<table border=\"1\" class=\"dataframe\">\n",
       "  <thead>\n",
       "    <tr style=\"text-align: right;\">\n",
       "      <th></th>\n",
       "      <th>Text</th>\n",
       "      <th>Sentiment</th>\n",
       "      <th>kmeans</th>\n",
       "    </tr>\n",
       "  </thead>\n",
       "  <tbody>\n",
       "    <tr>\n",
       "      <th>86</th>\n",
       "      <td>Successfully cooked a gourmet meal for the family. Chef skills unlocked! #ChefMode #TeenChef</td>\n",
       "      <td>Pride</td>\n",
       "      <td>0</td>\n",
       "    </tr>\n",
       "    <tr>\n",
       "      <th>73</th>\n",
       "      <td>Planning a garden makeover for spring.</td>\n",
       "      <td>Positive</td>\n",
       "      <td>0</td>\n",
       "    </tr>\n",
       "    <tr>\n",
       "      <th>55</th>\n",
       "      <td>Just finished an amazing workout! 💪</td>\n",
       "      <td>Positive</td>\n",
       "      <td>0</td>\n",
       "    </tr>\n",
       "  </tbody>\n",
       "</table>\n",
       "</div>"
      ],
      "text/plain": [
       "                                                                                             Text  \\\n",
       "86  Successfully cooked a gourmet meal for the family. Chef skills unlocked! #ChefMode #TeenChef    \n",
       "73                                            Planning a garden makeover for spring.                \n",
       "55                                             Just finished an amazing workout! 💪                  \n",
       "\n",
       "      Sentiment  kmeans  \n",
       "86       Pride        0  \n",
       "73   Positive         0  \n",
       "55   Positive         0  "
      ]
     },
     "metadata": {},
     "output_type": "display_data"
    },
    {
     "data": {
      "text/html": [
       "<div>\n",
       "<style scoped>\n",
       "    .dataframe tbody tr th:only-of-type {\n",
       "        vertical-align: middle;\n",
       "    }\n",
       "\n",
       "    .dataframe tbody tr th {\n",
       "        vertical-align: top;\n",
       "    }\n",
       "\n",
       "    .dataframe thead th {\n",
       "        text-align: right;\n",
       "    }\n",
       "</style>\n",
       "<table border=\"1\" class=\"dataframe\">\n",
       "  <thead>\n",
       "    <tr style=\"text-align: right;\">\n",
       "      <th></th>\n",
       "      <th>Text</th>\n",
       "      <th>Sentiment</th>\n",
       "      <th>kmeans</th>\n",
       "    </tr>\n",
       "  </thead>\n",
       "  <tbody>\n",
       "    <tr>\n",
       "      <th>6</th>\n",
       "      <td>Amidst the bustling city, a quiet café becomes a sanctuary for reflection, where a cup of coffee brings solace to the wandering mind.</td>\n",
       "      <td>Solace</td>\n",
       "      <td>1</td>\n",
       "    </tr>\n",
       "    <tr>\n",
       "      <th>66</th>\n",
       "      <td>At the astronomy observatory, the stargazer marvels at the vastness of the cosmos, contemplating the mysteries hidden within the celestial expanse.</td>\n",
       "      <td>Celestial Wonder</td>\n",
       "      <td>1</td>\n",
       "    </tr>\n",
       "    <tr>\n",
       "      <th>94</th>\n",
       "      <td>Overflowing with adoration for my adorable pet! 🐾</td>\n",
       "      <td>Adoration</td>\n",
       "      <td>1</td>\n",
       "    </tr>\n",
       "  </tbody>\n",
       "</table>\n",
       "</div>"
      ],
      "text/plain": [
       "                                                                                                                                                    Text  \\\n",
       "6                 Amidst the bustling city, a quiet café becomes a sanctuary for reflection, where a cup of coffee brings solace to the wandering mind.    \n",
       "66  At the astronomy observatory, the stargazer marvels at the vastness of the cosmos, contemplating the mysteries hidden within the celestial expanse.    \n",
       "94                                                                                               Overflowing with adoration for my adorable pet! 🐾         \n",
       "\n",
       "             Sentiment  kmeans  \n",
       "6              Solace        1  \n",
       "66   Celestial Wonder        1  \n",
       "94       Adoration           1  "
      ]
     },
     "metadata": {},
     "output_type": "display_data"
    },
    {
     "data": {
      "text/html": [
       "<div>\n",
       "<style scoped>\n",
       "    .dataframe tbody tr th:only-of-type {\n",
       "        vertical-align: middle;\n",
       "    }\n",
       "\n",
       "    .dataframe tbody tr th {\n",
       "        vertical-align: top;\n",
       "    }\n",
       "\n",
       "    .dataframe thead th {\n",
       "        text-align: right;\n",
       "    }\n",
       "</style>\n",
       "<table border=\"1\" class=\"dataframe\">\n",
       "  <thead>\n",
       "    <tr style=\"text-align: right;\">\n",
       "      <th></th>\n",
       "      <th>Text</th>\n",
       "      <th>Sentiment</th>\n",
       "      <th>kmeans</th>\n",
       "    </tr>\n",
       "  </thead>\n",
       "  <tbody>\n",
       "    <tr>\n",
       "      <th>98</th>\n",
       "      <td>Lost my headphones again. How do they vanish into thin air? #HeadphoneMystery #TeenLife</td>\n",
       "      <td>Frustration</td>\n",
       "      <td>2</td>\n",
       "    </tr>\n",
       "    <tr>\n",
       "      <th>69</th>\n",
       "      <td>A compassionate rain, tears of empathy falling gently, nurturing the seeds of kindness in the garden of human connections.</td>\n",
       "      <td>Compassionate</td>\n",
       "      <td>2</td>\n",
       "    </tr>\n",
       "    <tr>\n",
       "      <th>29</th>\n",
       "      <td>Avoiding the shards of shattered dreams, walking the tightrope of resilience.</td>\n",
       "      <td>Resilience</td>\n",
       "      <td>2</td>\n",
       "    </tr>\n",
       "  </tbody>\n",
       "</table>\n",
       "</div>"
      ],
      "text/plain": [
       "                                                                                                                            Text  \\\n",
       "98                                      Lost my headphones again. How do they vanish into thin air? #HeadphoneMystery #TeenLife    \n",
       "69   A compassionate rain, tears of empathy falling gently, nurturing the seeds of kindness in the garden of human connections.    \n",
       "29                                                Avoiding the shards of shattered dreams, walking the tightrope of resilience.    \n",
       "\n",
       "          Sentiment  kmeans  \n",
       "98     Frustration        2  \n",
       "69   Compassionate        2  \n",
       "29      Resilience        2  "
      ]
     },
     "metadata": {},
     "output_type": "display_data"
    }
   ],
   "source": [
    "df[\"kmeans\"] = kmeans.labels_\n",
    "df.to_pickle(embedding_file_name)\n",
    "\n",
    "with pd.option_context('display.max_colwidth', None):\n",
    "    display(df.loc[df[\"kmeans\"] == 0, [\"Text\", \"Sentiment\", \"kmeans\"]].sample(3))\n",
    "    display(df.loc[df[\"kmeans\"] == 1, [\"Text\", \"Sentiment\", \"kmeans\"]].sample(3))\n",
    "    display(df.loc[df[\"kmeans\"] == 2, [\"Text\", \"Sentiment\", \"kmeans\"]].sample(3))\n"
   ]
  },
  {
   "cell_type": "markdown",
   "metadata": {},
   "source": [
    "## T-SNE"
   ]
  },
  {
   "cell_type": "code",
   "execution_count": 91,
   "metadata": {},
   "outputs": [
    {
     "data": {
      "text/plain": [
       "(100, 384)"
      ]
     },
     "execution_count": 91,
     "metadata": {},
     "output_type": "execute_result"
    }
   ],
   "source": [
    "X_train = np.array(df[\"st_embedding\"].to_list())\n",
    "X_train.shape\n"
   ]
  },
  {
   "cell_type": "code",
   "execution_count": null,
   "metadata": {},
   "outputs": [
    {
     "data": {
      "application/vnd.plotly.v1+json": {
       "config": {
        "plotlyServerURL": "https://plot.ly"
       },
       "data": [
        {
         "hovertemplate": "x=%{x}<br>y=%{y}<extra></extra>",
         "legendgroup": "",
         "line": {
          "color": "red",
          "dash": "solid",
          "width": 1
         },
         "marker": {
          "symbol": "circle"
         },
         "mode": "lines+markers",
         "name": "",
         "orientation": "v",
         "showlegend": false,
         "type": "scatter",
         "x": {
          "bdata": "BQoPFBkeIygtMg==",
          "dtype": "i1"
         },
         "xaxis": "x",
         "y": {
          "bdata": "AAAAIGB06j8AAACgUr3mPwAAAICC6+U/AAAAAIzZ4j8AAACAqZHjPwAAAADBlt8/AAAA4Ao23T8AAAAA08TaPwAAAABgadg/AAAAYPYt1T8=",
          "dtype": "f8"
         },
         "yaxis": "y"
        }
       ],
       "layout": {
        "legend": {
         "tracegroupgap": 0
        },
        "margin": {
         "t": 60
        },
        "template": {
         "data": {
          "bar": [
           {
            "error_x": {
             "color": "#2a3f5f"
            },
            "error_y": {
             "color": "#2a3f5f"
            },
            "marker": {
             "line": {
              "color": "#E5ECF6",
              "width": 0.5
             },
             "pattern": {
              "fillmode": "overlay",
              "size": 10,
              "solidity": 0.2
             }
            },
            "type": "bar"
           }
          ],
          "barpolar": [
           {
            "marker": {
             "line": {
              "color": "#E5ECF6",
              "width": 0.5
             },
             "pattern": {
              "fillmode": "overlay",
              "size": 10,
              "solidity": 0.2
             }
            },
            "type": "barpolar"
           }
          ],
          "carpet": [
           {
            "aaxis": {
             "endlinecolor": "#2a3f5f",
             "gridcolor": "white",
             "linecolor": "white",
             "minorgridcolor": "white",
             "startlinecolor": "#2a3f5f"
            },
            "baxis": {
             "endlinecolor": "#2a3f5f",
             "gridcolor": "white",
             "linecolor": "white",
             "minorgridcolor": "white",
             "startlinecolor": "#2a3f5f"
            },
            "type": "carpet"
           }
          ],
          "choropleth": [
           {
            "colorbar": {
             "outlinewidth": 0,
             "ticks": ""
            },
            "type": "choropleth"
           }
          ],
          "contour": [
           {
            "colorbar": {
             "outlinewidth": 0,
             "ticks": ""
            },
            "colorscale": [
             [
              0,
              "#0d0887"
             ],
             [
              0.1111111111111111,
              "#46039f"
             ],
             [
              0.2222222222222222,
              "#7201a8"
             ],
             [
              0.3333333333333333,
              "#9c179e"
             ],
             [
              0.4444444444444444,
              "#bd3786"
             ],
             [
              0.5555555555555556,
              "#d8576b"
             ],
             [
              0.6666666666666666,
              "#ed7953"
             ],
             [
              0.7777777777777778,
              "#fb9f3a"
             ],
             [
              0.8888888888888888,
              "#fdca26"
             ],
             [
              1,
              "#f0f921"
             ]
            ],
            "type": "contour"
           }
          ],
          "contourcarpet": [
           {
            "colorbar": {
             "outlinewidth": 0,
             "ticks": ""
            },
            "type": "contourcarpet"
           }
          ],
          "heatmap": [
           {
            "colorbar": {
             "outlinewidth": 0,
             "ticks": ""
            },
            "colorscale": [
             [
              0,
              "#0d0887"
             ],
             [
              0.1111111111111111,
              "#46039f"
             ],
             [
              0.2222222222222222,
              "#7201a8"
             ],
             [
              0.3333333333333333,
              "#9c179e"
             ],
             [
              0.4444444444444444,
              "#bd3786"
             ],
             [
              0.5555555555555556,
              "#d8576b"
             ],
             [
              0.6666666666666666,
              "#ed7953"
             ],
             [
              0.7777777777777778,
              "#fb9f3a"
             ],
             [
              0.8888888888888888,
              "#fdca26"
             ],
             [
              1,
              "#f0f921"
             ]
            ],
            "type": "heatmap"
           }
          ],
          "histogram": [
           {
            "marker": {
             "pattern": {
              "fillmode": "overlay",
              "size": 10,
              "solidity": 0.2
             }
            },
            "type": "histogram"
           }
          ],
          "histogram2d": [
           {
            "colorbar": {
             "outlinewidth": 0,
             "ticks": ""
            },
            "colorscale": [
             [
              0,
              "#0d0887"
             ],
             [
              0.1111111111111111,
              "#46039f"
             ],
             [
              0.2222222222222222,
              "#7201a8"
             ],
             [
              0.3333333333333333,
              "#9c179e"
             ],
             [
              0.4444444444444444,
              "#bd3786"
             ],
             [
              0.5555555555555556,
              "#d8576b"
             ],
             [
              0.6666666666666666,
              "#ed7953"
             ],
             [
              0.7777777777777778,
              "#fb9f3a"
             ],
             [
              0.8888888888888888,
              "#fdca26"
             ],
             [
              1,
              "#f0f921"
             ]
            ],
            "type": "histogram2d"
           }
          ],
          "histogram2dcontour": [
           {
            "colorbar": {
             "outlinewidth": 0,
             "ticks": ""
            },
            "colorscale": [
             [
              0,
              "#0d0887"
             ],
             [
              0.1111111111111111,
              "#46039f"
             ],
             [
              0.2222222222222222,
              "#7201a8"
             ],
             [
              0.3333333333333333,
              "#9c179e"
             ],
             [
              0.4444444444444444,
              "#bd3786"
             ],
             [
              0.5555555555555556,
              "#d8576b"
             ],
             [
              0.6666666666666666,
              "#ed7953"
             ],
             [
              0.7777777777777778,
              "#fb9f3a"
             ],
             [
              0.8888888888888888,
              "#fdca26"
             ],
             [
              1,
              "#f0f921"
             ]
            ],
            "type": "histogram2dcontour"
           }
          ],
          "mesh3d": [
           {
            "colorbar": {
             "outlinewidth": 0,
             "ticks": ""
            },
            "type": "mesh3d"
           }
          ],
          "parcoords": [
           {
            "line": {
             "colorbar": {
              "outlinewidth": 0,
              "ticks": ""
             }
            },
            "type": "parcoords"
           }
          ],
          "pie": [
           {
            "automargin": true,
            "type": "pie"
           }
          ],
          "scatter": [
           {
            "fillpattern": {
             "fillmode": "overlay",
             "size": 10,
             "solidity": 0.2
            },
            "type": "scatter"
           }
          ],
          "scatter3d": [
           {
            "line": {
             "colorbar": {
              "outlinewidth": 0,
              "ticks": ""
             }
            },
            "marker": {
             "colorbar": {
              "outlinewidth": 0,
              "ticks": ""
             }
            },
            "type": "scatter3d"
           }
          ],
          "scattercarpet": [
           {
            "marker": {
             "colorbar": {
              "outlinewidth": 0,
              "ticks": ""
             }
            },
            "type": "scattercarpet"
           }
          ],
          "scattergeo": [
           {
            "marker": {
             "colorbar": {
              "outlinewidth": 0,
              "ticks": ""
             }
            },
            "type": "scattergeo"
           }
          ],
          "scattergl": [
           {
            "marker": {
             "colorbar": {
              "outlinewidth": 0,
              "ticks": ""
             }
            },
            "type": "scattergl"
           }
          ],
          "scattermap": [
           {
            "marker": {
             "colorbar": {
              "outlinewidth": 0,
              "ticks": ""
             }
            },
            "type": "scattermap"
           }
          ],
          "scattermapbox": [
           {
            "marker": {
             "colorbar": {
              "outlinewidth": 0,
              "ticks": ""
             }
            },
            "type": "scattermapbox"
           }
          ],
          "scatterpolar": [
           {
            "marker": {
             "colorbar": {
              "outlinewidth": 0,
              "ticks": ""
             }
            },
            "type": "scatterpolar"
           }
          ],
          "scatterpolargl": [
           {
            "marker": {
             "colorbar": {
              "outlinewidth": 0,
              "ticks": ""
             }
            },
            "type": "scatterpolargl"
           }
          ],
          "scatterternary": [
           {
            "marker": {
             "colorbar": {
              "outlinewidth": 0,
              "ticks": ""
             }
            },
            "type": "scatterternary"
           }
          ],
          "surface": [
           {
            "colorbar": {
             "outlinewidth": 0,
             "ticks": ""
            },
            "colorscale": [
             [
              0,
              "#0d0887"
             ],
             [
              0.1111111111111111,
              "#46039f"
             ],
             [
              0.2222222222222222,
              "#7201a8"
             ],
             [
              0.3333333333333333,
              "#9c179e"
             ],
             [
              0.4444444444444444,
              "#bd3786"
             ],
             [
              0.5555555555555556,
              "#d8576b"
             ],
             [
              0.6666666666666666,
              "#ed7953"
             ],
             [
              0.7777777777777778,
              "#fb9f3a"
             ],
             [
              0.8888888888888888,
              "#fdca26"
             ],
             [
              1,
              "#f0f921"
             ]
            ],
            "type": "surface"
           }
          ],
          "table": [
           {
            "cells": {
             "fill": {
              "color": "#EBF0F8"
             },
             "line": {
              "color": "white"
             }
            },
            "header": {
             "fill": {
              "color": "#C8D4E3"
             },
             "line": {
              "color": "white"
             }
            },
            "type": "table"
           }
          ]
         },
         "layout": {
          "annotationdefaults": {
           "arrowcolor": "#2a3f5f",
           "arrowhead": 0,
           "arrowwidth": 1
          },
          "autotypenumbers": "strict",
          "coloraxis": {
           "colorbar": {
            "outlinewidth": 0,
            "ticks": ""
           }
          },
          "colorscale": {
           "diverging": [
            [
             0,
             "#8e0152"
            ],
            [
             0.1,
             "#c51b7d"
            ],
            [
             0.2,
             "#de77ae"
            ],
            [
             0.3,
             "#f1b6da"
            ],
            [
             0.4,
             "#fde0ef"
            ],
            [
             0.5,
             "#f7f7f7"
            ],
            [
             0.6,
             "#e6f5d0"
            ],
            [
             0.7,
             "#b8e186"
            ],
            [
             0.8,
             "#7fbc41"
            ],
            [
             0.9,
             "#4d9221"
            ],
            [
             1,
             "#276419"
            ]
           ],
           "sequential": [
            [
             0,
             "#0d0887"
            ],
            [
             0.1111111111111111,
             "#46039f"
            ],
            [
             0.2222222222222222,
             "#7201a8"
            ],
            [
             0.3333333333333333,
             "#9c179e"
            ],
            [
             0.4444444444444444,
             "#bd3786"
            ],
            [
             0.5555555555555556,
             "#d8576b"
            ],
            [
             0.6666666666666666,
             "#ed7953"
            ],
            [
             0.7777777777777778,
             "#fb9f3a"
            ],
            [
             0.8888888888888888,
             "#fdca26"
            ],
            [
             1,
             "#f0f921"
            ]
           ],
           "sequentialminus": [
            [
             0,
             "#0d0887"
            ],
            [
             0.1111111111111111,
             "#46039f"
            ],
            [
             0.2222222222222222,
             "#7201a8"
            ],
            [
             0.3333333333333333,
             "#9c179e"
            ],
            [
             0.4444444444444444,
             "#bd3786"
            ],
            [
             0.5555555555555556,
             "#d8576b"
            ],
            [
             0.6666666666666666,
             "#ed7953"
            ],
            [
             0.7777777777777778,
             "#fb9f3a"
            ],
            [
             0.8888888888888888,
             "#fdca26"
            ],
            [
             1,
             "#f0f921"
            ]
           ]
          },
          "colorway": [
           "#636efa",
           "#EF553B",
           "#00cc96",
           "#ab63fa",
           "#FFA15A",
           "#19d3f3",
           "#FF6692",
           "#B6E880",
           "#FF97FF",
           "#FECB52"
          ],
          "font": {
           "color": "#2a3f5f"
          },
          "geo": {
           "bgcolor": "white",
           "lakecolor": "white",
           "landcolor": "#E5ECF6",
           "showlakes": true,
           "showland": true,
           "subunitcolor": "white"
          },
          "hoverlabel": {
           "align": "left"
          },
          "hovermode": "closest",
          "mapbox": {
           "style": "light"
          },
          "paper_bgcolor": "white",
          "plot_bgcolor": "#E5ECF6",
          "polar": {
           "angularaxis": {
            "gridcolor": "white",
            "linecolor": "white",
            "ticks": ""
           },
           "bgcolor": "#E5ECF6",
           "radialaxis": {
            "gridcolor": "white",
            "linecolor": "white",
            "ticks": ""
           }
          },
          "scene": {
           "xaxis": {
            "backgroundcolor": "#E5ECF6",
            "gridcolor": "white",
            "gridwidth": 2,
            "linecolor": "white",
            "showbackground": true,
            "ticks": "",
            "zerolinecolor": "white"
           },
           "yaxis": {
            "backgroundcolor": "#E5ECF6",
            "gridcolor": "white",
            "gridwidth": 2,
            "linecolor": "white",
            "showbackground": true,
            "ticks": "",
            "zerolinecolor": "white"
           },
           "zaxis": {
            "backgroundcolor": "#E5ECF6",
            "gridcolor": "white",
            "gridwidth": 2,
            "linecolor": "white",
            "showbackground": true,
            "ticks": "",
            "zerolinecolor": "white"
           }
          },
          "shapedefaults": {
           "line": {
            "color": "#2a3f5f"
           }
          },
          "ternary": {
           "aaxis": {
            "gridcolor": "white",
            "linecolor": "white",
            "ticks": ""
           },
           "baxis": {
            "gridcolor": "white",
            "linecolor": "white",
            "ticks": ""
           },
           "bgcolor": "#E5ECF6",
           "caxis": {
            "gridcolor": "white",
            "linecolor": "white",
            "ticks": ""
           }
          },
          "title": {
           "x": 0.05
          },
          "xaxis": {
           "automargin": true,
           "gridcolor": "white",
           "linecolor": "white",
           "ticks": "",
           "title": {
            "standoff": 15
           },
           "zerolinecolor": "white",
           "zerolinewidth": 2
          },
          "yaxis": {
           "automargin": true,
           "gridcolor": "white",
           "linecolor": "white",
           "ticks": "",
           "title": {
            "standoff": 15
           },
           "zerolinecolor": "white",
           "zerolinewidth": 2
          }
         }
        },
        "xaxis": {
         "anchor": "y",
         "domain": [
          0,
          1
         ],
         "title": {
          "text": "Perplexity Values"
         }
        },
        "yaxis": {
         "anchor": "x",
         "domain": [
          0,
          1
         ],
         "title": {
          "text": "Divergence"
         }
        }
       }
      }
     },
     "metadata": {},
     "output_type": "display_data"
    }
   ],
   "source": [
    "import numpy as np\n",
    "\n",
    "perplexity = np.arange(5, 55, 5)\n",
    "divergence = []\n",
    "\n",
    "for i in perplexity:\n",
    "    tsne = TSNE(n_components=2, init=\"pca\", perplexity=i)\n",
    "    reduced = tsne.fit_transform(X_train)\n",
    "    divergence.append(tsne.kl_divergence_)\n",
    "fig = px.line(x=perplexity, y=divergence, markers=True)\n",
    "fig.update_layout(xaxis_title=\"Perplexity Values\", yaxis_title=\"Divergence\")\n",
    "fig.update_traces(line_color=\"red\", line_width=1)\n",
    "fig.show()"
   ]
  },
  {
   "cell_type": "code",
   "execution_count": 111,
   "metadata": {},
   "outputs": [
    {
     "name": "stdout",
     "output_type": "stream",
     "text": [
      "vis_dims (100, 2)\n"
     ]
    },
    {
     "data": {
      "text/plain": [
       "Text(0.5, 1.0, 'Sentiment visualized (kmeans) using t-SNE')"
      ]
     },
     "execution_count": 111,
     "metadata": {},
     "output_type": "execute_result"
    },
    {
     "data": {
      "image/png": "[encoded data removed]",
      "text/plain": [
       "<Figure size 640x480 with 1 Axes>"
      ]
     },
     "metadata": {},
     "output_type": "display_data"
    }
   ],
   "source": [
    "# Create a t-SNE model and transform the data\n",
    "tsne = TSNE(n_components=2, perplexity=20, random_state=42, init='random', learning_rate=200)\n",
    "vis_dims = tsne.fit_transform(X_train)\n",
    "print(\"vis_dims\", vis_dims.shape)\n",
    "\n",
    "colors = [\"red\",  \"gold\", \"darkgreen\"]\n",
    "x = [x for x,y in vis_dims]\n",
    "y = [y for x,y in vis_dims]\n",
    "color_indices = df[\"kmeans\"].values - 1\n",
    "\n",
    "colormap = matplotlib.colors.ListedColormap(colors)\n",
    "plt.scatter(x, y, c=color_indices, cmap=colormap, alpha=0.3)\n",
    "plt.title(\"Sentiment visualized (kmeans) using t-SNE\")"
   ]
  },
  {
   "cell_type": "markdown",
   "metadata": {},
   "source": [
    "## Cosine Similarity"
   ]
  },
  {
   "cell_type": "code",
   "execution_count": 131,
   "metadata": {},
   "outputs": [],
   "source": [
    "def cosine_similarity(a, b):\n",
    "    return np.dot(a, b) / (np.linalg.norm(a) * np.linalg.norm(b))"
   ]
  },
  {
   "cell_type": "code",
   "execution_count": 132,
   "metadata": {},
   "outputs": [
    {
     "data": {
      "text/html": [
       "<div>\n",
       "<style scoped>\n",
       "    .dataframe tbody tr th:only-of-type {\n",
       "        vertical-align: middle;\n",
       "    }\n",
       "\n",
       "    .dataframe tbody tr th {\n",
       "        vertical-align: top;\n",
       "    }\n",
       "\n",
       "    .dataframe thead th {\n",
       "        text-align: right;\n",
       "    }\n",
       "</style>\n",
       "<table border=\"1\" class=\"dataframe\">\n",
       "  <thead>\n",
       "    <tr style=\"text-align: right;\">\n",
       "      <th></th>\n",
       "      <th>Text</th>\n",
       "      <th>Sentiment</th>\n",
       "      <th>tiktoken_embedding</th>\n",
       "      <th>st_embedding</th>\n",
       "      <th>tiktoken_count</th>\n",
       "      <th>st_count</th>\n",
       "      <th>word_count</th>\n",
       "      <th>kmeans</th>\n",
       "    </tr>\n",
       "  </thead>\n",
       "  <tbody>\n",
       "    <tr>\n",
       "      <th>0</th>\n",
       "      <td>Trying out a new dessert recipe.             ...</td>\n",
       "      <td>Positive</td>\n",
       "      <td>[88976, 842, 261, 620, 47296, 14420, 13, 699]</td>\n",
       "      <td>[-0.014330666, -0.049130578, 0.0030075375, 0.0...</td>\n",
       "      <td>8</td>\n",
       "      <td>384</td>\n",
       "      <td>6</td>\n",
       "      <td>0</td>\n",
       "    </tr>\n",
       "    <tr>\n",
       "      <th>1</th>\n",
       "      <td>Playfully dancing in the rain of laughter, a ...</td>\n",
       "      <td>Playful</td>\n",
       "      <td>[9103, 5203, 38157, 306, 290, 13873, 328, 6734...</td>\n",
       "      <td>[0.015664198, -0.0048338617, 0.05227115, 0.013...</td>\n",
       "      <td>26</td>\n",
       "      <td>384</td>\n",
       "      <td>18</td>\n",
       "      <td>1</td>\n",
       "    </tr>\n",
       "    <tr>\n",
       "      <th>2</th>\n",
       "      <td>Exploring the ancient ruins of Angkor Wat, eac...</td>\n",
       "      <td>Exploration</td>\n",
       "      <td>[24704, 7443, 290, 21574, 76738, 328, 5775, 23...</td>\n",
       "      <td>[0.018491017, 0.054280628, 0.06413508, 0.05055...</td>\n",
       "      <td>20</td>\n",
       "      <td>384</td>\n",
       "      <td>14</td>\n",
       "      <td>1</td>\n",
       "    </tr>\n",
       "    <tr>\n",
       "      <th>3</th>\n",
       "      <td>Overwhelmed by the cacophony of expectations,...</td>\n",
       "      <td>Overwhelmed</td>\n",
       "      <td>[7931, 163185, 3217, 656, 290, 80188, 6502, 44...</td>\n",
       "      <td>[0.0034730374, 0.038468692, 0.030071173, 0.033...</td>\n",
       "      <td>26</td>\n",
       "      <td>384</td>\n",
       "      <td>18</td>\n",
       "      <td>2</td>\n",
       "    </tr>\n",
       "    <tr>\n",
       "      <th>4</th>\n",
       "      <td>Surrounded by the vibrant colors of a flower g...</td>\n",
       "      <td>Nature's Beauty</td>\n",
       "      <td>[14477, 62633, 656, 290, 35180, 10803, 328, 26...</td>\n",
       "      <td>[0.017445965, 0.07143598, 0.0415588, 0.0294761...</td>\n",
       "      <td>30</td>\n",
       "      <td>384</td>\n",
       "      <td>22</td>\n",
       "      <td>1</td>\n",
       "    </tr>\n",
       "  </tbody>\n",
       "</table>\n",
       "</div>"
      ],
      "text/plain": [
       "                                                Text          Sentiment  \\\n",
       "0   Trying out a new dessert recipe.             ...         Positive     \n",
       "1   Playfully dancing in the rain of laughter, a ...           Playful    \n",
       "2  Exploring the ancient ruins of Angkor Wat, eac...       Exploration    \n",
       "3   Overwhelmed by the cacophony of expectations,...       Overwhelmed    \n",
       "4  Surrounded by the vibrant colors of a flower g...   Nature's Beauty    \n",
       "\n",
       "                                  tiktoken_embedding  \\\n",
       "0      [88976, 842, 261, 620, 47296, 14420, 13, 699]   \n",
       "1  [9103, 5203, 38157, 306, 290, 13873, 328, 6734...   \n",
       "2  [24704, 7443, 290, 21574, 76738, 328, 5775, 23...   \n",
       "3  [7931, 163185, 3217, 656, 290, 80188, 6502, 44...   \n",
       "4  [14477, 62633, 656, 290, 35180, 10803, 328, 26...   \n",
       "\n",
       "                                        st_embedding  tiktoken_count  \\\n",
       "0  [-0.014330666, -0.049130578, 0.0030075375, 0.0...               8   \n",
       "1  [0.015664198, -0.0048338617, 0.05227115, 0.013...              26   \n",
       "2  [0.018491017, 0.054280628, 0.06413508, 0.05055...              20   \n",
       "3  [0.0034730374, 0.038468692, 0.030071173, 0.033...              26   \n",
       "4  [0.017445965, 0.07143598, 0.0415588, 0.0294761...              30   \n",
       "\n",
       "   st_count  word_count  kmeans  \n",
       "0       384           6       0  \n",
       "1       384          18       1  \n",
       "2       384          14       1  \n",
       "3       384          18       2  \n",
       "4       384          22       1  "
      ]
     },
     "execution_count": 132,
     "metadata": {},
     "output_type": "execute_result"
    }
   ],
   "source": [
    "df.head()"
   ]
  },
  {
   "cell_type": "code",
   "execution_count": 135,
   "metadata": {},
   "outputs": [
    {
     "name": "stdout",
     "output_type": "stream",
     "text": [
      "(384,)\n"
     ]
    }
   ],
   "source": [
    "# Get embeddings for labels\n",
    "pos_encode = model.encode(\"Positive\")\n",
    "neutral_encode = model.encode(\"Neutral\")\n",
    "neg_encode = model.encode(\"Negative\")\n",
    "\n",
    "label_embeddings = [neg_encode, neutral_encode, pos_encode]\n",
    "print(pos_encode.shape)"
   ]
  },
  {
   "cell_type": "code",
   "execution_count": 136,
   "metadata": {},
   "outputs": [],
   "source": [
    "def label_score(review_embedding, label_embeddings):\n",
    "    result = -1\n",
    "    highest = -np.inf\n",
    "    for idx, each_label_encode in enumerate(label_embeddings):\n",
    "        cs = cosine_similarity(review_embedding, each_label_encode)\n",
    "        if cs > highest:\n",
    "            highest = cs\n",
    "            result = idx\n",
    "    return result\n",
    "df[\"cs_label\"] = df[\"st_embedding\"].apply(lambda x: label_score(x, label_embeddings))\n",
    "df.to_pickle(embedding_file_name)"
   ]
  },
  {
   "cell_type": "code",
   "execution_count": 137,
   "metadata": {},
   "outputs": [
    {
     "data": {
      "text/html": [
       "<div>\n",
       "<style scoped>\n",
       "    .dataframe tbody tr th:only-of-type {\n",
       "        vertical-align: middle;\n",
       "    }\n",
       "\n",
       "    .dataframe tbody tr th {\n",
       "        vertical-align: top;\n",
       "    }\n",
       "\n",
       "    .dataframe thead th {\n",
       "        text-align: right;\n",
       "    }\n",
       "</style>\n",
       "<table border=\"1\" class=\"dataframe\">\n",
       "  <thead>\n",
       "    <tr style=\"text-align: right;\">\n",
       "      <th></th>\n",
       "      <th>Text</th>\n",
       "      <th>Sentiment</th>\n",
       "      <th>cs_label</th>\n",
       "    </tr>\n",
       "  </thead>\n",
       "  <tbody>\n",
       "    <tr>\n",
       "      <th>62</th>\n",
       "      <td>Regret over missed opportunities haunts my thoughts.</td>\n",
       "      <td>Regret</td>\n",
       "      <td>0</td>\n",
       "    </tr>\n",
       "    <tr>\n",
       "      <th>28</th>\n",
       "      <td>Haunted by regrets, the ghost of the past lingers relentlessly.</td>\n",
       "      <td>Regret</td>\n",
       "      <td>0</td>\n",
       "    </tr>\n",
       "    <tr>\n",
       "      <th>35</th>\n",
       "      <td>Experiencing cyberbullying. Hateful messages online are disheartening.</td>\n",
       "      <td>Hate</td>\n",
       "      <td>0</td>\n",
       "    </tr>\n",
       "  </tbody>\n",
       "</table>\n",
       "</div>"
      ],
      "text/plain": [
       "                                                                       Text  \\\n",
       "62                     Regret over missed opportunities haunts my thoughts.   \n",
       "28       Haunted by regrets, the ghost of the past lingers relentlessly.      \n",
       "35  Experiencing cyberbullying. Hateful messages online are disheartening.    \n",
       "\n",
       "           Sentiment  cs_label  \n",
       "62   Regret                  0  \n",
       "28    Regret                 0  \n",
       "35             Hate          0  "
      ]
     },
     "metadata": {},
     "output_type": "display_data"
    },
    {
     "data": {
      "text/html": [
       "<div>\n",
       "<style scoped>\n",
       "    .dataframe tbody tr th:only-of-type {\n",
       "        vertical-align: middle;\n",
       "    }\n",
       "\n",
       "    .dataframe tbody tr th {\n",
       "        vertical-align: top;\n",
       "    }\n",
       "\n",
       "    .dataframe thead th {\n",
       "        text-align: right;\n",
       "    }\n",
       "</style>\n",
       "<table border=\"1\" class=\"dataframe\">\n",
       "  <thead>\n",
       "    <tr style=\"text-align: right;\">\n",
       "      <th></th>\n",
       "      <th>Text</th>\n",
       "      <th>Sentiment</th>\n",
       "      <th>cs_label</th>\n",
       "    </tr>\n",
       "  </thead>\n",
       "  <tbody>\n",
       "    <tr>\n",
       "      <th>98</th>\n",
       "      <td>Lost my headphones again. How do they vanish into thin air? #HeadphoneMystery #TeenLife</td>\n",
       "      <td>Frustration</td>\n",
       "      <td>1</td>\n",
       "    </tr>\n",
       "    <tr>\n",
       "      <th>26</th>\n",
       "      <td>Contentment envelops as the aroma of freshly baked bread fills the air.</td>\n",
       "      <td>Contentment</td>\n",
       "      <td>1</td>\n",
       "    </tr>\n",
       "    <tr>\n",
       "      <th>95</th>\n",
       "      <td>Staring at the clock in class, waiting for the bell to ring like it's the most exciting event of the day. #ClassCountdown #TeenLife</td>\n",
       "      <td>Surprise</td>\n",
       "      <td>1</td>\n",
       "    </tr>\n",
       "  </tbody>\n",
       "</table>\n",
       "</div>"
      ],
      "text/plain": [
       "                                                                                                                                    Text  \\\n",
       "98                                              Lost my headphones again. How do they vanish into thin air? #HeadphoneMystery #TeenLife    \n",
       "26                                                              Contentment envelops as the aroma of freshly baked bread fills the air.    \n",
       "95  Staring at the clock in class, waiting for the bell to ring like it's the most exciting event of the day. #ClassCountdown #TeenLife    \n",
       "\n",
       "        Sentiment  cs_label  \n",
       "98   Frustration          1  \n",
       "26   Contentment          1  \n",
       "95      Surprise          1  "
      ]
     },
     "metadata": {},
     "output_type": "display_data"
    },
    {
     "data": {
      "text/html": [
       "<div>\n",
       "<style scoped>\n",
       "    .dataframe tbody tr th:only-of-type {\n",
       "        vertical-align: middle;\n",
       "    }\n",
       "\n",
       "    .dataframe tbody tr th {\n",
       "        vertical-align: top;\n",
       "    }\n",
       "\n",
       "    .dataframe thead th {\n",
       "        text-align: right;\n",
       "    }\n",
       "</style>\n",
       "<table border=\"1\" class=\"dataframe\">\n",
       "  <thead>\n",
       "    <tr style=\"text-align: right;\">\n",
       "      <th></th>\n",
       "      <th>Text</th>\n",
       "      <th>Sentiment</th>\n",
       "      <th>cs_label</th>\n",
       "    </tr>\n",
       "  </thead>\n",
       "  <tbody>\n",
       "    <tr>\n",
       "      <th>90</th>\n",
       "      <td>Cheering for the underdog in the basketball finals, the crowd erupts in applause as the team defies odds to claim the championship title.</td>\n",
       "      <td>Triumph</td>\n",
       "      <td>2</td>\n",
       "    </tr>\n",
       "    <tr>\n",
       "      <th>89</th>\n",
       "      <td>Bathed in the glow of inspiration, a creative phoenix rising from the ashes of ordinary thoughts to explore new realms.</td>\n",
       "      <td>Inspired</td>\n",
       "      <td>2</td>\n",
       "    </tr>\n",
       "    <tr>\n",
       "      <th>60</th>\n",
       "      <td>Reconnecting with old friends over a cup of tea. Friendship, the true essence of companionship. #OldFriends #Companionship</td>\n",
       "      <td>Contentment</td>\n",
       "      <td>2</td>\n",
       "    </tr>\n",
       "  </tbody>\n",
       "</table>\n",
       "</div>"
      ],
      "text/plain": [
       "                                                                                                                                          Text  \\\n",
       "90  Cheering for the underdog in the basketball finals, the crowd erupts in applause as the team defies odds to claim the championship title.    \n",
       "89                    Bathed in the glow of inspiration, a creative phoenix rising from the ashes of ordinary thoughts to explore new realms.    \n",
       "60                 Reconnecting with old friends over a cup of tea. Friendship, the true essence of companionship. #OldFriends #Companionship    \n",
       "\n",
       "        Sentiment  cs_label  \n",
       "90       Triumph          2  \n",
       "89      Inspired          2  \n",
       "60   Contentment          2  "
      ]
     },
     "metadata": {},
     "output_type": "display_data"
    }
   ],
   "source": [
    "\n",
    "with pd.option_context('display.max_colwidth', None):\n",
    "    display(df.loc[df[\"cs_label\"] == 0, [\"Text\", \"Sentiment\", \"cs_label\"]].sample(3))\n",
    "    display(df.loc[df[\"cs_label\"] == 1, [\"Text\", \"Sentiment\", \"cs_label\"]].sample(3))\n",
    "    display(df.loc[df[\"cs_label\"] == 2, [\"Text\", \"Sentiment\", \"cs_label\"]].sample(3))"
   ]
  },
  {
   "cell_type": "code",
   "execution_count": null,
   "metadata": {},
   "outputs": [],
   "source": []
  },
  {
   "cell_type": "markdown",
   "metadata": {},
   "source": [
    "# Test"
   ]
  },
  {
   "cell_type": "code",
   "execution_count": 8,
   "metadata": {},
   "outputs": [
    {
     "name": "stdout",
     "output_type": "stream",
     "text": [
      "[ContentEmbedding(values=[-0.017238064, -0.0014344413, 0.0037933104, -0.06576155, -0.0025636086, 0.0058854055, -0.014690596, 0.007513689, 0.00933989, 0.0077803596, 0.021390285, -0.005264437, -0.021999894, 0.038152054, 0.12186416, -0.011710201, 0.0027378926, -0.009539084, 0.03546982, -0.016194234, -0.0051113074, 0.0031743597, -0.00054970535, -0.015809478, 0.00363587, -0.00062827585, 0.038027026, 0.005293967, 0.02749136, 0.006787016, -0.006366862, 0.022761336, 0.025653888, 0.0039313985, 0.017237084, 0.0002500477, 0.033836663, 0.030902233, 0.0037691516, 0.02828022, 0.0024121965, 0.0064366874, 0.013874366, -0.00014998807, -0.0006619651, 0.0019364081, 0.0047829114, -0.008891752, 0.0061919647, 0.032951612, -0.002562836, -0.015665058, 0.004700806, -0.15108715, -0.005898811, -0.008448396, -0.029177595, 0.008863029, 0.011009324, 0.011559, -0.00943173, 0.04199942, -0.01716688, -0.022339348, -0.0092252325, -0.025849525, 0.029452464, -0.02212326, -0.016344344, -0.0052618994, -0.00049180526, -0.0008549354, 0.004865256, 0.022594268, 0.026131947, -0.026707627, 0.01954365, 0.019013088, 0.012696364, 0.00805131, 0.030479264, -0.009920178, -0.007326403, 0.010728538, 0.003705997, -0.00879794, -0.023851061, 0.027946444, -0.010217168, 0.016096914, 0.024667637, -0.009361079, -0.017389957, 0.016900014, -0.016907584, -0.0005309991, -0.0059405873, -0.02213567, -0.013588877, -0.009627669, -0.015636358, -0.02404091, -0.0097374115, -0.016570162, 0.004874414, -0.006889465, 0.0057162205, -0.031699155, -0.008934099, 0.036612898, -0.019392278, 0.017811311, -0.005344634, 0.012797337, 0.017211534, -0.16169398, 0.00823482, 0.013801282, -0.015836203, 0.0033505606, 0.014188695, -0.0038341973, 0.011634927, 0.034730364, 0.022802271, 0.010317703, 0.019836362, 0.0040064533, 0.0024848115, 0.017721428, 0.015432312, -0.0036896477, 0.013282344, -0.0021720151, -0.006394947, 0.02341732, -0.00044298434, -0.0044294135, -0.0027446332, -0.0038864182, 0.01652975, 0.009032561, -0.0090071885, 0.0042149825, 0.0057443557, 0.0045875483, -0.0077186134, 0.021695554, 0.007078009, -0.004461255, -0.017188955, -0.004168098, -0.019835765, -2.3563063e-05, 0.017469786, -0.058129895, -0.007267609, 0.021591173, 0.015068043, 0.0017375203, 0.0036548355, 0.016085394, -0.00084220583, 0.00042956907, 0.03817464, -0.012974551, 0.012179766, -0.004590931, 0.016858175, -0.00030240582, -0.015291463, 0.017603796, 0.013607133, 0.012742642, -0.0050988765, -0.018075725, 0.027592381, -0.009754833, 0.009337313, 0.010734817, 0.012729323, -0.017020175, -0.017780766, -0.008619488, -0.0045770146, -0.021620935, -0.013023471, -0.026449902, 0.009543332, -0.017686546, 0.0012089352, 0.024818005, -0.004199067, -0.0008492944, 0.019056138, 0.033912696, 0.03187877, -0.0073805233, 0.030855756, -0.010358498, 0.005018237, 0.016947674, 0.013190248, 0.0023223185, 0.017787453, -0.0065092985, -0.0071869926, -0.015589251, 0.009483507, 0.01984307, 0.023226311, 0.011613205, -0.0022433042, -0.0011922086, 0.0074114515, -0.0060062525, -0.003168831, -0.011040927, -0.014686601, -0.015208104, 0.01285384, 0.0008632245, 0.0100482665, 0.012673753, 0.0027427021, -0.003749652, 0.0021782315, 0.002220631, -0.011736109, 0.008161213, -0.022768222, -0.0012068719, 0.0022103656, -0.006439992, 0.0086960895, -0.0061003244, 0.017101223, 0.022170829, 0.003918057, -0.0008444029, -0.01189078, -0.01883014, 0.0052444935, -0.0038468295, -0.0017827867, -0.0020183104, -0.011139997, 0.014810636, -0.0111348545, -0.015371324, 0.008227432, -0.005402316, 0.027819557, -0.02988095, -0.0126108695, -0.005832145, -0.003833547, -0.015223211, 0.048855387, -0.0056215716, -0.011727244, -0.001997928, 0.002861097, -0.03526203, -0.028095357, -0.017909015, 0.030486627, -0.009234589, -0.017794859, 0.024363773, 0.007645289, 0.017634483, -0.005583384, -0.028134132, 0.0020341417, -0.0052495413, -0.091150165, 0.023439724, -0.006188334, 0.013865645, 0.011356142, -0.014199608, 0.0011303963, 0.0047491733, -0.0032134685, 0.029066, -0.005093404, -0.025997274, -0.004448048, -0.009448413, 0.0026657183, 0.036509734, -0.024414143, -0.0021944456, 0.014489747, -0.035343647, 0.0020388598, -0.0071244077, -0.0029336002, 0.020390706, 0.00024726609, -0.01638417, -0.0052042585, 0.04028697, 0.0243471, -0.011538462, -0.013046354, -0.0057344106, -0.000414689, -0.006818675, 0.01648377, 0.014542252, 0.008800688, 0.02171747, 0.021832075, -0.0017442679, 0.010315973, 0.015899608, -0.0120581295, 0.028952427, 0.00043706578, 0.0038812663, 0.0028520767, 0.005117849, -0.0071339277, 0.013423038, -0.008747112, -0.00042181645, 0.029657431, -0.0076434454, -0.0048042038, -0.0014118777, 0.009009186, -0.00025932683, -0.007036289, 0.0026120034, -0.0042540836, 0.015127328, 0.016988216, 0.013454282, 0.0055479864, 0.022332044, -0.013994901, -0.011872779, -0.005017747, 0.011503746, -0.017644882, -0.011264105, 0.023634639, -0.031085607, -0.0012578376, 0.029845236, 0.0033269424, 0.018651983, -0.01909406, 0.008711908, 0.014428189, 0.012874903, 0.0032592092, 0.0081733605, 0.0058647683, 0.016422048, -0.0029229585, -0.021614822, 0.011916714, -0.013806588, 0.015654912, 0.0134427035, 0.022147918, -0.0009763663, -0.0079935705, 0.021561585, 0.0028827195, -0.00656364, -0.00331203, -0.017331423, -0.028986566, 0.011987146, 0.0042593367, 0.005196455, -0.0040339823, 0.025994444, -0.017563919, -0.020606836, -0.007534504, 0.018905565, 0.007742414, -0.00017835048, -0.01362103, 0.0063450667, -0.0007756386, 0.034269046, -0.015457102, 0.00085769006, -0.023681236, -0.005430549, -0.019386299, -0.011416775, -0.005267514, 0.0009891746, -0.0007466076, -0.005064929, -0.0058068493, 0.0039179814, 0.012457872, -0.011338735, 0.0025719837, 0.014826373, -0.005202501, 0.009303018, 0.00092529814, 0.0017136042, -0.005652267, -0.01977405, 0.013551592, -0.0020016301, 0.002519155, -0.010036178, 0.034081627, 0.009015194, 0.0036155684, 0.011073537, 0.010028685, 0.030958135, -0.0075453944, -0.03921549, -0.034949146, -0.020309694, -0.0019242186, -0.010929595, 0.04038986, -0.03535108, -0.03648354, -0.02019138, -0.002845911, -0.0028784124, 0.0030935497, 0.015268167, 0.01416809, -0.020262733, 0.0072018076, -0.0059072566, 0.011103404, 0.017033387, -0.009378073, 0.008245524, -0.020550061, 0.014718199, -0.016327063, 0.0007153248, -0.004369728, 0.01085827, -0.00041315157, 0.010031705, 0.026308894, 0.0032497665, -0.024501279, -0.000869072, 0.012477557, -0.014851095, -0.02497972, -0.012736728, -0.012247783, -0.021437658, -0.008609708, 0.0016517495, 0.010910485, -0.010895418, -0.0070311865, 0.009182816, 0.010207712, 0.0033982033, 0.008152814, 0.012512816, 0.000714187, 0.010144008, -0.010247559, -0.0206172, 0.010402601, 0.015528001, 0.0055770567, -0.018673241, 0.02044315, 0.011773111, 0.019057723, -0.0036365762, -0.0066642496, 0.001958944, -0.01706461, -0.0013349237, 0.03370088, 0.019420084, -0.04275877, 0.033061992, -0.011604178, -0.017340994, -0.010745689, -0.0022133475, 0.007699909, 0.0069353613, 0.022998989, 0.00906702, 0.011077516, -0.004146636, -0.016120955, 0.018285904, 0.0079907905, -0.017851744, 0.0037328533, 0.010939733, -0.009626174, -0.015225108, 0.046022125, 0.023285829, -0.018481495, 0.015863983, -0.028534405, 0.0095821265, 0.0122553995, 0.014401584, 0.0011917368, 0.0063053025, -0.013789197, -0.0057171257, -0.013491372, 0.026033506, 0.015246942, 0.0041679563, 0.00034196873, -0.012934733, -0.003979312, 0.031080334, -0.009689147, -0.017144233, 0.0060922755, 0.022278149, 0.0028876096, 0.008325293, 0.030833257, 0.015855232, -0.009437219, 0.004831064, 0.0033914454, -0.018006893, -0.0029018875, -0.15227534, 0.041615963, -0.01153297, 0.004536945, 0.019779036, -0.02327948, -0.0028109197, -0.019238956, -0.016296564, -0.005655351, 0.014842984, 0.0029419966, -0.003053641, -0.005110175, -0.009133305, -0.007061087, 0.006993564, 0.021505574, 0.009335314, -0.017328838, -0.003855081, 0.020700283, 0.029538507, 0.010257072, 0.004270112, -0.015619346, 0.025463086, 0.020186184, -0.004689796, 0.0043952907, -0.009777528, -0.0017765377, 0.01150398, 0.011318085, -0.014569574, 0.0048806784, -0.0027451394, 0.0052065267, -0.03102997, 0.0118402345, -0.024266995, 0.009504247, 0.016478905, -0.023734493, -0.01816321, 0.017975258, 0.019836556, -0.01594397, 0.004142633, -0.013647544, -0.024402045, 0.006992941, 0.013199867, -0.0032927222, -0.024807379, -0.0011765434, -0.031361155, 0.02734433, -0.025751213, 0.012815831, 0.0051866635, -0.0047419276, 0.0056276936, 0.03277042, -0.021617873, 0.0056740297, -0.00046534042, 0.0068367315, 0.0063239583, -0.0094067175, 0.012419287, -0.002663809, -0.010934541, 0.010638441, 0.009318363, 0.005783894, -0.010713216, 0.012759333, -0.014793687, 0.0022630647, -0.00877231, 0.0030511117, -0.08242563, -0.0044048713, -0.0070994864, 0.010894331, 0.006918454, 0.010885747, -0.013508694, -0.00043794778, -0.0016956895, -0.0040590796, 0.025297513, 0.0067743557, 0.019770902, -0.010140024, -0.010929441, -0.003296551, -0.005933074, -0.0074214847, 0.0012305207, -0.004207169, -0.006635361, -0.003132228, -0.015953075, -0.012032744, 0.003014533, 0.033805653, -0.017861387, 0.019047566, -0.02031583, 0.002003222, 0.0091612125, -0.1474427, -0.027898265, -0.00939253, 0.019494673, 0.022120874, -0.009446157, -0.006761222, 0.021994164, 0.0043934514, -0.009163752, 0.016365934, -0.030743198, -0.033608776, -0.003680171, 0.027204083, 0.13090748, -0.01583394, 0.007578859, -0.020095192, 0.00481186, 0.0013315355, 0.0031450633, -0.013947613, -0.019337043, 0.012224636, 0.0064841034, 0.012789417, -0.026390588, -0.008575051, 0.007117514, 0.010690475, 0.028886622, -0.0057790433, 0.0143261785, 0.007891446, 0.0064653754, -0.014653408, 0.0009835206, 0.012946262, -0.0010093029, 0.014675492, -0.005614792, 0.0001460145, -0.013413098, -0.0009077341, -0.006193352, -0.0004240783, -0.014976999, 0.0029664058, -0.018966664, -0.007441324, -0.069871575, 0.019920161, 0.04951055, 0.02457315, 0.015025352, 0.0076875635, 0.01690898, 0.00035763605, 0.0070972634, -0.005054053, 0.0024454645, -0.018485054, 0.0060003437, -0.020803306, 0.004369556, -0.005002615, -0.011321757, -0.0034721976, 0.008887289, 0.02249109, 0.0022576612, 0.013299452, 0.023022838, -0.0054425946, -0.0036113807, 0.012887641, 0.02045003, -0.0024397762, 0.029556382, -0.0031314066, -0.014297373, -0.012851297, 0.012447757, 0.026330084, -0.014591947, -0.009826189, 0.0368902, -0.00957882, -0.0050620018, 0.003768771, 0.00174003, 0.007327891, -0.024070023, -0.022492036, 0.01284587, 0.008682102, 0.0051028584, 0.031055458, 0.0051657655, 0.0060724774, -0.025902081, 0.00026597065, -0.04106716, -0.02901195, -0.025359334, -0.009069401, 0.032931365, 0.008979235, 0.005728241, 0.0020036495, 0.0026278284, 0.008855088, 0.014901765, 0.011697375, 0.0036997967, 0.008009291, -0.005713636, 0.0051648384, -0.009471905, 0.001148806, 0.002225019, -0.010107029, 0.006789991, -0.0020114083, -0.0048030326, 0.004087224, -0.01099421, -0.0071033402, -0.019808745, 0.013487235, 0.006021266, -0.0029329413, -0.009181919, -0.021405876, 0.0024635834, 0.0012133784, -0.008885099, -0.006236111, -0.0017866825, 0.014683112, 0.0058179423, 0.008261667, 0.008155474, 0.009771006, 0.0039956626, -0.003608481, -0.005235527, -0.00995339, -0.006867239, 0.0021797486, -0.0015417165, 0.009032113, 0.0048680706, 0.0030889658, -0.0032015536, -0.009191096, -0.0050018863, -0.00017568527, -0.010813892, 0.0134579055, 0.0074942415, -0.005433625, 0.01016793, 0.011542197, 0.005671499, 0.002762567, -0.02536381, 0.0014141424, 0.022027206, 0.018474538, 0.008137642, -0.015267139, -0.02225886, -0.004053296, -0.000122069796, -0.012640376, 0.009547586, -0.0011522614, 0.002418301, 0.016820397, -0.006781671, -0.0006642399, 0.027411457, 0.008676925, 0.032018956, -0.008157808, -0.003907321, 0.004573015, 0.0021419236, 0.006360115, -0.020778058, 0.0154465465, -0.01015977, 0.016218914, 0.0016348117, -0.00010773215, -0.0034604885, -0.0063065435, 0.004292341, 0.0043770727, 0.010345386, 0.0035679704, 0.005357581, -0.010821465, 0.016588053, 0.017185532, -0.006634385, -0.0027711533, -0.0010854794, 0.0005182023, -0.0034465285, -0.007931213, -0.010184488, 0.0030899923, 0.009869669, -0.0034121817, 0.0023379903, 0.0013338435, 0.001852573, -0.009531329, -0.02012201, 0.009785358, 0.00041362393, -0.011482445, 0.022470208, 0.0021274588, 0.01597871, 0.008725073, -0.0020773292, 0.00524221, 0.0057285163, -0.0021247065, 0.0030001577, 0.010381231, 0.0027064274, 0.007261389, -0.015912183, -0.003186848, 8.078093e-05, 0.009593222, -0.0178927, -0.009998111, -0.005513069, 0.019031962, -0.009001351, -0.008020892, -0.014328284, 0.0012823396, 0.009376132, 0.015403432, 0.008522572, 0.015908577, 0.016044874, -0.020942558, -0.0052698413, -0.0003270185, 0.020679245, 0.011382674, -0.03509568, 0.0037792511, -0.0044004894, -0.005552238, 0.0010239244, 0.0073231244, -0.0103283655, 0.010910142, 8.538005e-05, -0.00727926, 0.008378849, -0.010173734, 0.0008173988, -0.0022751552, -0.0064496538, 0.0026777652, -0.011470307, -0.011078564, 0.0015110008, -0.003225963, -0.010508236, -0.0008321917, -0.0055743777, -0.014273376, -0.0029125835, -0.0014355048, 0.0020986125, 0.01775311, -7.499801e-05, 0.009798315, -0.025351927, 0.020785384, -0.00040922817, -0.017712347, 0.014179685, -0.0013946269, 0.008837137, -0.011716056, -0.0036236513, -0.019689562, 0.0072152317, -0.008857449, 0.004731346, -0.009814728, -0.01947734, 0.006595204, -0.018389141, 0.007663004, -0.015727017, 0.013359996, 0.0033104436, 0.090674296, 0.018141989, -0.005687504, 0.0040213466, -0.0067045763, 0.009145674, 0.007844678, -0.007100393, 0.020055095, 0.018331524, -0.02050773, -0.014794841, -0.006613487, -0.0033450907, -0.017318321, 0.0133847175, -0.012846476, 0.00031108092, -2.8739663e-05, -0.015644537, -0.0073856716, -0.006218427, -0.01737813, -0.01164518, -0.010552086, -0.0010885717, -0.0052218474, 0.003747103, -0.0035584106, -0.010053863, 0.000569921, 0.008163505, 0.0032385085, 0.00050145015, 0.008482254, -0.0020560275, -0.008575218, 0.003921571, 0.0067894855, 0.0028032693, 0.008350032, -0.0018723247, 0.003686095, -0.0016413155, 0.010896205, 0.015663305, 0.0048438134, 0.0012103815, -0.015516072, -0.011444549, 0.013351997, 0.0073725935, -0.0075339437, 0.0074899076, -0.015430977, 0.0068472615, 0.0028391117, 0.017988607, 0.012807747, -0.015635658, -0.0068277195, -0.00031968436, -0.007583093, 0.013785533, -0.0037541594, -0.008678025, 0.015742568, -0.0048832693, 0.0065938383, -0.0032222467, -0.0034401116, 0.0061485795, -0.006589924, 0.0035971522, 0.04146856, 0.0006854619, -0.018610924, 0.0010483825, -0.012866687, -0.009564385, -0.004682226, 0.0067991936, -0.016926628, 0.0003611816, 0.0075647924, 0.003382956, -0.019584969, -0.0040989756, 0.013954988, 0.0020712372, 0.006720091, 0.0022835264, 0.011399777, 0.011548834, 0.000949344, 0.0076076384, 0.10184798, 0.0046012215, -0.0065986183, 0.018231254, 0.002301909, -0.0057793637, -0.00061550946, -0.0061858967, 0.015919378, 0.0040714825, 0.0059064776, 0.001158471, 0.0017177368, -0.0038434763, -0.011549715, -0.0019358034, 0.0083199935, 0.0032915154, 0.018661268, -0.008729889, 0.0062457896, -0.0015014984, 0.0043975916, -0.011012115, 0.0033106343, 0.0034226244, -0.005989108, 0.0008906729, 0.004611147, -0.0021471211, -1.5868596e-05, 0.0028196343, 0.008348503, 0.009185446, 0.0066870283, 0.0018097716, -0.005288901, -0.0018128109, 0.001599379, 0.004924704, -0.0010037344, -0.003523973, 0.0017214854, 0.0003655255, -0.009783228, -0.011373353, -0.015913378, -0.003169096, -0.01704066, 0.014847639, -0.012150748, -0.008892726, 0.012412269, -0.0011148067, -0.009560852, -0.012337449, -0.0020337035, 0.010229433, 0.022797937, 0.0060765115, 8.153188e-05, 0.010175759, 0.009675618, 0.012323955, 0.011773605, 0.00291199, -0.007528192, 0.0039979736, -0.0024311873, -0.004966904, -0.0012736825, -0.0022624738, -0.011343374, 0.0020096374, -0.008247048, 0.01103311, -0.003786464, 0.0043178117, -0.001670261, 0.0017052845, 0.00030215053, -0.02311109, -0.00079307973, 0.01920531, -0.007627022, 0.012320779, 0.0010708185, -0.024015194, -0.017597152, -0.009128706, 0.01239478, -0.015704444, 0.0076141628, -0.014794549, -0.0023271043, 0.0125528285, 0.0017665271, -0.002756351, 0.010919348, 0.0050961156, 0.0004486383, -0.0041875774, 0.02387804, -0.0007499926, -0.00279793, 0.0039157006, -0.011613202, -0.01377507, -0.0012860467, -0.0039495095, 0.011586491, -0.0029614964, -0.0021670084, -0.0029828285, -0.013871489, -0.021844942, 0.009227751, -0.01950528, 0.007944157, -0.016786505, -0.015506561, -0.005179942, -0.005599571, -0.0010446855, -0.011051687, -0.005899097, -0.0023572282, -0.017118247, 0.0035566553, 0.010264807, -0.012124711, -0.0042033643, -0.01411737, -0.0036052964, 0.0021777544, 0.0023745883, -0.0037879173, -0.0054965545, -0.012885606, -0.0049929135, -0.006326171, 0.01871813, -0.0037663653, 0.0021739143, -0.005131922, -0.0103200395, 0.0019218624, -0.012113398, 0.004554196, -0.004694644, -0.02397713, 0.0087899845, -0.005257846, -0.014120178, 0.009107025, 0.0011203899, 0.00868049, 0.01862426, 0.0038035442, -0.0060939826, 0.0114573045, -0.058725733, -9.128942e-05, 0.0066759293, 0.0047044666, 0.005109222, 0.006289908, -0.0010893882, 0.008731876, -0.015010968, -0.0047549293, 0.0006489916, -0.0053120675, 0.0123268375, 0.0064441203, -0.008553553, -0.0020683054, -0.010371758, 0.00817677, -0.0028652335, 0.008528315, -0.01120652, 0.0033314151, 0.0053588934, 0.01546084, 0.016454834, 0.0020367063, -0.010315382, 0.01543372, 0.00031186995, 0.0093748635, 7.230343e-05, -0.0011400937, 0.0021132485, -0.0020668204, -0.0086683165, 0.003868933, 0.001518462, -0.011001002, -0.01667295, -0.011734441, 0.0049042446, -0.014163119, 0.006701573, -0.0054087793, 0.00095703447, -0.0066557606, 0.0034988204, -0.005013204, 0.0053978823, -0.00081432913, -0.005053285, 0.014471648, -0.02391681, 0.009222652, 0.0001365713, -0.0031401818, 0.024465146, 0.0037300594, -0.0083577605, 0.00841977, 0.022791395, 0.015015105, -0.0062841023, -0.0071053775, -0.0016302029, 0.0061073857, 0.00598125, -0.0037696746, -0.008110999, 0.00913728, 0.0021587897, 0.010283745, -0.0006989736, 0.0052668075, -0.00037389089, 0.008983768, 0.022131834, 0.020080615, 0.0029543433, 0.0051265573, -0.0031842368, -0.001603066, 0.014478079, -0.019768668, -0.0015417454, -0.0074279997, 0.0012416295, 0.01193692, 0.0021292558, 0.003224349, -0.015450673, 0.0019614769, 0.010872267, 0.0077233245, -0.0076851742, -0.0006526454, -0.0045209974, 0.002284029, 0.015105018, 0.008489045, 0.00026082454, -0.011778098, -0.004664593, 0.015145171, -0.015512336, 0.005656475, -0.0051595583, 0.0021191724, -0.0088936025, 0.010423742, -0.015395628, 0.011201108, -0.0073312703, -0.00817143, 0.011052774, -0.0017313802, 0.003463334, -0.00084553566, -0.0013843384, -0.007106375, -0.006303813, 0.009692714, 0.0005187724, -0.015008104, 0.017138824, 3.261302e-05, -0.000976696, -0.005600746, -0.0034441554, -0.01295485, 0.001666159, 0.0060521853, 0.021207009, 0.005730568, -0.00036466317, 0.0056768074, 0.013563605, 0.020878425, 0.013371976, 0.0066808467, 0.0002994528, -0.013334938, 0.009839509, -0.016772315, 0.0016443662, -0.0036671886, 0.007949657, -0.0042581116, 0.001069206, 0.007756225, 0.0035240115, 0.008954616, 0.009721103, 0.01367461, 0.010764536, -0.0028158596, -0.00123225, -0.023728216, -0.009937518, -0.02722459, 0.0031594941, -0.008487468, 0.0041021234, -0.0066945357, 0.007055172, -0.006729192, -0.02438053, -0.0020382346, -0.0136654815, -0.007658673, 0.00030740956, -0.000116980555, -0.013625373, 0.01852022, -0.0033800502, -0.008629793, 0.020776711, 0.0104835, -0.0071625477, -0.009852116, -0.014966688, 0.014389186, 0.0013237639, 0.005869019, 0.005736942, 0.008457228, 0.010247064, 0.010824947, 0.0043196008, 0.009618496, 0.0030248913, -0.014222622, 0.004797343, -0.019439982, 0.0056935567, 0.003698544, 0.031221453, 0.009511561, 0.011636049, -0.0018310845, -0.010010196, 0.00108777, 0.006030079, 0.0030898552, 0.0011282682, -0.10215508, -0.0010555947, 0.0017581674, 0.014858566, -0.0031121152, 0.0038390872, 0.0049578156, -0.0064573186, -0.00095979666, -0.010594536, 0.0008011421, -0.0053908327, -0.011292837, -0.028136544, -0.0085922675, -0.014138591, -0.0021781747, -0.00733433, -0.011947328, 0.0074618724, 0.008741997, 0.009503309, -0.010110776, -0.009614661, -0.012824415, 0.005922162, -0.019547483, -0.0022301713, -0.0005170667, 0.0027432113, -0.012911487, 0.012582964, 0.019617975, 0.003130561, 0.009005366, -0.0043784087, 0.016575271, -0.0006777443, -0.13955481, 0.00805768, 0.013704471, -0.02890117, 0.009076348, 7.57453e-05, 0.006015885, 0.003697913, 0.0046695946, 0.00032148554, -0.012709649, -0.0055174744, -0.020582141, -0.004668421, 0.0020430626, 0.013270438, -0.010880984, 0.0021064843, 0.0060396492, 0.03448225, -0.0010165867, -0.0018243517, 0.019674903, 0.020639725, -0.0014297721, 0.012775237, -0.0034174088, -0.009617596, 0.0054603964, -0.011134573, 0.014998833, -0.014382439, -0.01287368, 0.0026003881, -0.022136526, 0.015294135, 0.0098893065, 0.00040971558, 0.0031975482, -0.009257855, 0.027662393, 0.025652882, 0.00019959225, -0.011038667, -0.0006041023, -0.012230828, 0.015163492, 0.01442201, -0.004147493, -0.032828994, -0.00767747, 0.004129337, -0.0057132416, -0.00057532726, -0.0019105898, -0.0009002371, 0.0032285238, 0.017881392, 0.008733443, 0.011580328, -0.0029487729, -0.010525521, 0.0040096575, -0.00048417726, -0.0006539814, 0.007773301, -0.010567499, 0.0047881096, -0.00073225825, 0.0004121743, -0.017623754, 0.0014393934, 0.012402401, -0.01629518, -0.0013240734, -0.030025655, -0.0036612863, -0.016490255, -0.0045648846, 0.000782157, 0.028590936, 0.014964292, -0.008119993, 0.005359771, 0.023654731, -0.02241724, -0.0056974976, -0.006635268, -0.009525529, -0.03454313, 0.0019514126, -0.0039570383, -0.02497773, 0.0010832029, -0.009184358, -0.0035469942, 0.0050421036, 0.0074585946, 0.011888624, -0.004521524, 0.0151379835, 0.022666588, -0.009877642, 0.008172169, -0.018837301, 0.0073434445, 0.010319669, -0.0012777452, -0.004076476, -0.013649005, -0.0047893487, -0.020535782, 0.0055525545, 0.013735588, -0.038556572, -0.013915886, -0.020213297, 0.0008399135, -0.020456223, -0.01600986, 0.0025367357, 0.0062981714, -0.0047080894, -0.00073395536, -0.018649163, 0.018142315, 0.0074594934, -0.005707865, -0.014115556, -0.014225187, -0.0012388374, -0.003052154, 0.0023052464, -0.02590685, 0.0016472768, -0.012899499, -0.023813123, -0.005953701, 0.009877735, -0.012281214, 0.0035917435, -0.014757651, 0.009252496, -0.0033562228, -0.0111754835, 0.0025119188, -0.00018187889, 0.002687652, -0.0022785799, 0.0019298602, -0.032333955, 0.0060143573, -0.0031716109, -0.003856836, -0.011054897, -0.024969842, -0.00540297, 0.0024363343, -0.012375017, -0.015315871, -0.032225218, 0.006521265, -0.0074456255, 0.0074135335, -0.029047223, -0.01515719, -0.0019367187, 0.0057343487, 0.014372006, -0.011673356, 0.00036471625, -0.0062338226, -0.007946771, 0.008600164, -0.00081206165, -0.0021237263, 0.005503748, -0.013870546, -0.0060474193, -0.005703946, -0.006379689, -0.0072056307, -0.0020832804, 0.016506873, 0.00434157, -0.013270672, -0.018634425, 0.010547938, 0.004520034, 0.0026187417, -0.0013986712, -0.0021620994, -0.005576953, 0.021521993, -0.022084191, -0.005741529, -0.023569424, 0.006378679, -0.011470461, 0.007538941, -0.010013603, 0.019325372, 0.002762163, -0.14636774, 0.01995392, -0.0004542931, 0.0074838796, -0.0031152263, -0.014207274, 0.01569686, 0.0018346584, 0.011398453, 0.0055184998, -0.0021668542, 0.016026683, -0.014515815, -0.009914568, 0.0007169379, 0.002472695, -0.007633185, 0.020828674, -0.019246321, -0.00677759, -0.021056902, 0.022069389, -0.018857326, -0.0076385317, -0.0069339788, 0.0032215, 0.012331238, -0.013338185, 0.0028877244, -0.0046556606, -0.02583844, 0.01084665, -0.01202209, 0.00910345, -0.011474611, -0.018353337, -0.0044271187, 0.0080767, -0.013559607, 0.025504865, 0.005019182, -0.015904797, 0.005257198, -0.0048786392, 0.0027961282, 0.0050662598, -0.01974711, 0.00077888777, -0.014628304, -0.010399931, 0.01915261, -0.015065292, 0.014772209, -0.00908311, 0.0019184409, -0.0139402775, 0.011959053, -0.012166661, -0.024991652, 0.0066513442, -0.0057084914, -0.019750444, 0.0031338348, -0.01319104, 0.009063423, -0.004823732, -0.015205825, 0.16067839, -0.004600251, 0.0046649976, 0.011621512, 0.008208738, 0.017638415, 0.017864455, -0.008417064, 0.012327995, 0.0019741524, -0.002917024, 0.0047297473, -0.0035642146, 0.0057299635, -0.018953739, 0.0019450019, -0.008848511, 0.0043939822, 0.0037140755, 0.017297236, -0.01344103, 0.008403221, 0.009090402, -0.002651099, 0.013636139, -0.001504618, 0.011155979, 0.01773955, 0.012246181, 0.0114285, 0.01409439, -0.012598694, -0.018375514, -4.9425166e-06, -0.014725875, -0.011108401, -0.0068924814, -0.016750062, -0.020593908, 0.014558631, 0.013428906, 0.017376289, -0.005782302, -0.019819275, 0.005652786, 0.0021406114, 0.012411563, 0.00046989, -0.0017673364, 0.001180814, -0.040189732, -0.007418904, -0.01250035, 0.002850746, 0.005906002, 0.0012805565, 0.018021828, 0.011834957, 0.00083167705, 0.011105054, 0.015536754, -0.0012232553, -0.010777827, 0.00024211644, 0.005549486, -0.008603219, -0.0023597444, -0.003052134, 0.0009166521, -0.13797651, 0.0062231864, -0.009553022, -0.02002161, 0.004212715, 0.008760282, 0.02393094, 0.011199731, 0.010463761, -0.007832214, -0.00029189023, -0.01812241, -0.03705085, 0.014064187, 0.0031459855, 0.0023458581, -0.015899504, 0.0065518096, 0.014514905, 0.015416938, -0.008634916, 0.0049075857, 0.009766177, 0.03770755, 0.021832895, 0.008501105, -0.0009779679, -0.022387603, -0.0132711725, -0.0012876434, -0.027442856, 0.01795472, 0.005574071, 0.010875631, -0.011905021, 0.004143227, -0.008895728, 0.0027725608, -0.004656125, -0.01400037, 0.01879734, -0.017652763, 0.022165464, 0.002884866, 0.002600119, 0.0038417617, 0.012635865, -0.013637586, 0.0031638881, -0.010084977, 0.008775754, 0.0034104285, 0.0030976331, 0.007532902, -0.006394008, 0.010834207, 0.009993686, -0.022621658, 0.034952577, -0.0017526342, 0.013981997, 0.0063849646, -0.0042602345, 0.0025343117, 0.0043381695, -0.002201824, 0.016560098, -0.008522564, 0.018530823, 0.0014942023, -0.0121025685, 0.013871421, -0.0029088564, -0.0021601983, 0.0017360046, -0.005914414, 0.0051508066, -0.006775806, 0.002985469, -0.02213611, 0.0035846345, -0.0077883503, 0.0133225, -0.0023802896, 0.029147696, -0.017573033, -0.008101863, 0.01312446, 0.0069342717, -0.021265317, -0.008046554, 0.00326114, -0.023986515, 0.006458588, 0.006263567, -0.0077870395, 0.0027732372, 0.005795889, 0.009961932, 0.0055292454, -0.0077852914, 0.02698001, 0.020385671, -0.018378269, -0.009053495, 0.0008551549, -0.016817987, 0.004365341, 0.0076810364, 0.005930902, -0.024071505, 0.009620271, -0.0173436, -0.009985272, -0.0016562834, 0.0014485192, -0.003163757, -0.01922486, -0.012435424, -0.014973058, 0.024777373, 0.006216462, 0.0076648802, 0.007832481, 0.0019276005, 0.01198987, 0.006430276, -0.0038490416, 0.01150121, 0.0096220635, -0.006121141, 0.02435284, -0.0051694526, 0.0040549682, 0.008020641, 0.01022503, 0.00800033, 0.0031722065, 0.019557618, -0.0072148126, -0.033820547, 0.000279401, 0.0043708114, 0.023091886, -0.004502733, -0.007462854, -0.001121287, 0.0072834804, 0.0029248241, -0.0129722785, 0.019952713, -0.010513796, -0.01084945, 0.016375216, 0.012346911, -0.028436987, 0.012702698, 0.010805534, -0.0056814724, -0.011468869, -0.011163794, 0.010901376, 0.0027149275, 0.006913226, -0.009589214, 0.00515616, -0.01091258, 0.008424912, -0.014472464, -0.01306288, 0.008063577, -0.02524668, 0.015241783, 0.0043888735, -0.014057367, 0.0025313243, -0.02190504, 0.024461633, -0.002898401, -0.071805686, 0.014973755, 0.019467227, -0.013922006, -0.019029085, 0.025645602, -0.007520716, -0.008171264, -0.020435935, -0.019934075, 3.3641216e-05, -0.006994529, -0.014068387, -0.0112277195, -0.0011964923, 0.014110186, -0.0051366407, -0.00505672, -0.01586912, -0.0051180962, -0.018330496, -0.017640328, -0.0027626182, -0.016303476, 0.005348853, -0.016043324, -0.0106577445, 0.02183289, 0.007639406, -0.014304606, 0.0076289885, 0.0047225277, -0.011806328, -0.028199514, -0.003310595, -0.0070727495, -0.0026777063, -0.008963728, -0.0009123282, -0.07994974, 0.02309476, -0.006732255, -0.11207845, 0.005732968, -0.008986643, -0.015203336, 0.010620753, 0.0064032776, -0.0011501951, -0.017358292, -0.004520452, 0.00548743, -0.018409733, 0.0029793258, 0.008960547, -0.010037656, -0.0009588428, -0.000983612, -0.017228743, -0.01880025, -0.008386675, -0.021760132, -0.00047537865, -0.00067064964, 0.0011619282, 0.042688213, 0.015356242, 0.005109444, -0.008932943, 0.010381858, 0.003736043, 0.0022928491, -0.0155137675, 0.011527545, -0.021567494, 0.008756255, 0.01337322, -0.0074156425, -0.009498655, 0.026037049, 0.011875421, 0.018581266, 0.022467464, 0.037178654, 0.011866805, -0.019979713, 0.005206003, -0.121718146, -0.009257693, 0.003571076, -0.000427001, -0.0060778516, 0.011568593, 0.008958508, 0.10775495, -0.010875939, -0.00872186, -0.01146816, -0.006039112, -0.0022373265, -0.010776689, -0.015961237, -0.0050794063, 0.020970747, -0.0078848535, 0.019790865, 0.007964954, -0.010155937, -0.0021333059, 0.006945781, 0.006711877, 0.027597759, -0.076224335, -0.00877901, 0.0021381953, 0.0050389715, -0.0042565353, -0.0069616614, 0.0025829498, -0.00051593705, 0.0011880299, -0.014777468, 0.018870773, -0.013286742, -0.017918495, -0.0061124386, -0.019048221, -0.0015844691, -0.007338313, -0.024384236, -0.007105657, -0.009583209, -0.0064167706, -0.0026114658, 0.009261498, -0.020068394, -0.0058910954, 0.01537343, 0.021095637, 0.010775559, 0.00777725, 0.007962662, 0.0032955955, -0.0053634704, -0.0072138687, -0.021902526, -0.007564931, -0.0034933602, -0.008463646, -0.010513012, -0.0151013015, -0.009648427, -0.004447121, -0.025334992, -0.006225778, -0.016027147, -0.0069052256, 0.0014586184, 0.011881893, 0.008236174, -0.02283344, 0.0061204247, 0.012056703, 0.00472168, 0.0062252795, -0.02585925, -0.0116912555, 0.0034473967, 0.018111793, -0.01540702, -0.006121567, 0.008157117, -0.019918883, -0.0057066157, 0.03926012, 0.019637115, -0.014995263, 0.00018022337, -0.008605483, -0.0038162582, 0.026411915, -0.01677656, 0.016837709, -0.0059808074, -0.006578531, -0.009991915, -0.0032692992, 0.00673124, -0.0049609714, -0.0034604133, -0.0035661939, 0.024167312, -0.0026954473, -0.0012196588, -0.00835561, -0.011502501, 0.0029312272, 0.014449197, -0.017746393, -0.01001305, -0.02483518, 0.004753794, -0.016131576, 0.0026319006, -0.007812099, -0.027564907, -0.014169343, -0.010014052, -0.012336807, 0.013843336, -0.0039865435, -0.020437412, -0.012035655, -0.007981473, 0.010099478, 0.00046792347, 0.012980859, 0.006498285, 0.019596048, 0.006102913, -0.012247069, 0.00030607195, -0.02869552, -0.0227088, 0.010994727, -0.00014385852, -0.012854821, -0.005657879, -0.009074833, 0.00584302, -0.014272071, -0.002079208, -0.019260567, 0.003967684, 0.018253518, -0.014541142, -0.025249, 0.008453855, 0.012878073, 0.0020894317, -0.012666169, 0.017782455, -0.0037409079, 0.0026484563, -0.004002512, 0.011376499, -0.008790092, -0.00060619274, -0.0023214065, 0.007092019, 0.00037202114, 0.018981148, 0.0057057803, 0.0009317804, 0.002082646, 0.005241619, -0.010556149, -0.009161478, -0.01577298, 0.00012526754, 0.013706658, 0.044455335, -0.0048953793, 0.0013315463, 0.00935318, 0.012812893, -0.020392207, 0.0048584067, -0.0071271635, -0.0050059375, 0.017795332, -0.0005794158, 0.015800124, -0.00797203, 0.00030284494, -0.011478623, -0.0102245165, 0.011743609, 0.0007368534, 0.017235927, -0.0054051643, -0.0062144925, -0.00011364789, -0.002819981, 0.015669774, 0.0063294475, 0.0015570794, 0.0039144326, 0.007901586, -0.017886829, -0.026030134, -0.032539602, 0.014683454, -0.019781493, 0.012130818, 0.0063884724, -0.004227094, -0.0001743441, -0.010233624, 0.0035193816, 0.023608563, -0.009979192, 0.012511055, 0.010792769, -0.01846459, -0.02217554, 0.013720385, 0.003155565, 0.004422647, 0.02071264, 0.020819308, 0.01685722, -0.008719928, 0.014139461, -0.0051986272, 0.010201348, 0.00611615, -0.017751312, -0.018590484, -0.005187514, 0.0034786134, 0.012489972, -0.015690884, 0.008101477, -0.0132262595, 0.014902965, -0.00484738, 0.0028738857, 0.010707725, -0.005473097, -0.014417067, -0.024002459, -0.0048611593, -0.010029724, 0.00038033698, -0.016234586, 0.017711807, 0.0065148557, 0.027195277, 0.017549401, -0.015814269, -0.0061718985, -0.010631183, -0.02052478, -0.0021660896, -0.0067719542, 0.013419842, 0.004564785, -0.0042770365, -0.0079432335, 0.006036321, -0.003899729, 0.012007349, 0.012170077, -0.00015508317, 0.010083457, 0.017280925, 0.002411498, -0.009341631, -0.009099802, -0.018810786, -0.011525221, -0.012778549, -0.012906043, 0.036305577, 0.024527865, 0.03685823, -0.0031583083, 0.0029102673, 0.0044803186, 0.0058487603, 0.015462767, -0.01892119, 0.0028658712, 0.005637604, -0.011398429, -0.006789285, 0.01714034, 0.01869177, -0.00919025, -0.0008490754, -0.010952963, -0.0009030334, -0.00078252295, 0.019972192, 0.0017970033, -0.0055126157, 0.011415987, -0.010109759, 0.011662942, 0.017744975, 0.02461247, -0.0013682323, 0.008520299, -0.016613007, 0.011242657, 0.00798182, 0.0038807944, -0.00042181916, 0.01020425, -0.0360163, -0.022080354, 0.008942156, 0.0038820936, 0.000852851, -0.0054803113, -0.0021616698, 0.0029596197, 0.027073452, 0.00874614, -0.02305252, 0.017439604, 0.018181358, 0.006982944, -0.016153108, 0.006727908, 0.018979827, 0.019419836, 0.012329833, 0.0032041017, 0.0057440554, 0.0066815335, 0.004692199, -0.0028184117, 0.019594576, -0.01564019, 0.0018702451, -0.016092317, -0.013740946, 0.0035629563, -0.012381147, 0.01308481, -0.004026228, -0.013668183, -0.010297272, 0.024243431, -0.006752999, -0.0024550671, -0.0085619185, 0.0045068213, -0.012166876, -6.9971684e-05, -0.00024115585, 0.0001325484, -0.011163037, 0.0038826896, 0.0010707013, 0.0036299783, 0.0075461497, -0.006522627, -0.020871982, 0.009540778, -0.015487317, -0.006148258, -0.00461198, 0.00025488238, 0.008087125, 0.00039850295, -0.0062934984, -0.007911636, 0.0090977615, -0.00644257, -0.013504174, -0.0062537147, -0.007596616, 0.013962236, -0.017183578, -0.018786177, 0.026418721, 0.00786637, -0.0015573277, 0.0018254427, -0.013192692, -0.01819151, 0.010832144, -0.0057646795, 0.0005693096, 0.0048665395, 0.010084109, 0.005861135, -0.016799983, -0.0091810245, 0.006666459, -0.016114062, 0.0072410232, -0.005853908, 0.0032117204, 0.006214909, -0.018261315, -0.012734013, -0.0021194564, 0.0030185608, 0.0037832502, 0.02059456, -0.017547742, -0.022059163, -0.0035090214, -0.0061635138, 0.011461997, -0.01878296, 0.0015751786, -0.034540135, 0.005313793, -0.017423803, 0.019210797, -0.005935481, -0.009555889, 0.0183745, -0.0060646404, 0.0060510915, 0.002519298, -0.0047364235, -0.023339694, -0.0064801443, -0.0032896758, -0.013598052, -0.00308245, 0.024257513, -0.00620628, -0.0053971093, -0.010622523, -0.014921493, -0.0029046186, 1.3308512e-05, 0.012441825, 0.015031413, 0.016293112, 0.009860715, -0.013003132, -0.021128716, 0.00990305, -0.00081183616, -0.012039656, -0.01799467, 0.015289015, 0.013651335, 0.008375886, -0.021811843, -0.017437771, -0.0118827475, -0.024833456, -0.0001307957, -0.004003968, -0.0065862946, 0.0023024487, 0.01200061, -0.007679072, -0.0066822567, 0.0062811705, 0.010920106, -0.0037457012, -0.010230603, 0.011182294, -0.025310617, 0.0007749882, -0.009348098, -0.0048285387, -0.038675915, -0.0040206737, -0.04779894, -0.017668663, -0.0016265846, -0.0039289515, 0.0031361561, 0.0018973626, 0.028225103, -0.032430258, 0.008232673, 0.010257048, -0.011160155, 0.0061625284, 0.009003631, -0.012833723, -0.0068681533, -0.007041636, -0.022350699, -0.018347427, 0.016558385, 0.0058210506, 0.021144157, -0.021681862, 0.0017112503, -0.010236865, 0.0024243286, 0.012308405, 0.007133969, 0.007474091, 0.019788168, 0.007044836, 0.011182888, -0.0150498515, -0.0042158198, -0.015044808, 0.020493634, -0.011705543, -0.011754524, -0.0053735557, -0.012481497, -0.01186984, 0.01665922, -0.009171948, 0.00031938715, -0.010293319, 0.011394482, -0.005787125, 0.022121146, 0.00947812, -0.010756095, 0.007903759, -0.007054125, 0.016884716, -0.004281669, 0.013274928, 0.018604178, 0.016783368, -0.004293167, 0.0114435125, -0.013037953, 0.008151106, -0.008126688, 0.020918436, -0.00781283, -0.011295798, 0.005126408, -0.012799416, 0.007842558, -0.0113547025, -0.014778784, 0.0106119495, 0.0011134242, -0.0036900016, 0.03119332, -0.008462637, -0.012007852, -0.014551428, -0.012266305, 0.0070457114, -0.0017565542, 0.0074238405, 0.0023376523, -0.019464687, 0.0014965283, 0.0016814965, 0.0072808187, -0.008802207, 0.022931365, -0.014721096, -0.015062653, -0.012693125, -0.001242143, -0.0019460219, -0.0079212235, -0.0028902516, 0.012462874, -0.006902009, -0.012343083, -0.0024847658, -0.008160064, -0.0018333676, 0.011232465, -0.007683464, 0.004923151, 0.004550991, 0.006055867, -0.013878598, 0.021642769, 0.008144514, -0.012039837, -0.02968091, -0.00366514, -0.008934726, 0.0033928521, -0.010354754, -0.0014467459, 0.009642605, 0.007999351, -0.011470805, 0.0017468754, -0.012419379, -0.0007294359, 0.006178275, -0.004516464, -0.014258, -0.012659753, -0.0006986304, -0.0152064245, -0.014317424, -1.7631543e-05, -0.01411055, 0.0033473829, -0.014501303, 0.007236432, -0.005793872, 0.0056935633, 0.009706245, -0.00093042455, -0.030566629, 0.0033063625, 0.038687788, 0.0075032976, 0.0105026495, 0.010227705, -0.0022050613, -0.0065155625, 0.010444546, 0.023898784, -0.007648824, -0.013244026, 0.012129966, -0.0020984458, -0.0076055196, -0.0076488387, -0.029530821, 0.035323627, 0.0015404477, 0.007583193, -0.009825705, 0.0071118083, -0.0063147848, 0.009548709, 0.014887007, -0.019815095, -0.0077412194, 0.020360865, -0.0031376872, -0.0024231034, 0.005718791, -0.002717539, -0.00085499266, 0.0040819487, 0.012741934, 0.0009045407, 0.006527456, 0.015024468, -0.003486523, 0.005596214, 0.0032131968, -0.012163266, 0.015043618, -0.028023971, -0.014932797, 0.0073766424, 0.011073048, 0.0062034973, 0.012284642, -0.0034138167, -0.015968489, -0.013931683, 0.0016157291, -0.00091582193, 0.008712272, 0.0065103993, 0.02050806, 0.014002964, 0.0072757206, -0.0074096634, -0.013693436, 0.009701765, -0.011009242, -0.01109227, 0.008343608, -0.0047777435, 0.004157549, -0.00055784895, 0.023061363, 0.006374508, -0.016993467, -0.02152479, -0.020177953, 0.010683547, 0.012430571, 0.012976106, -0.0051901625, 0.17658716, 0.10874995, -0.004262459, -0.006542796, 0.024871161, 0.015704172, -0.028178094, -0.0062907934, 0.004264374, 0.016916852, 0.012341332, -0.01605144, -0.016101034, -0.017076558, 0.0025318044, -0.0010577688, 0.012375, -0.008076872, -0.02325361, 0.01107283, 0.011005383, 0.013810524, -0.00066209823, -0.0035473173, -0.016947066, 0.020035889, 0.002747, -0.005743108, 0.0050067673, -0.00768018, 0.0006935771, 0.002196816, -0.0043567303, -0.014942313, 0.008804352, -0.012435258, 0.001123559, -0.011884893, 0.005548893, -0.026837423, -0.014330155, -0.012432961, 0.0054746117, -0.028347423, 0.009802649, -0.0031858769, -0.010190334, -0.01309671, -0.004140201, 0.012239619, -0.022368109, 0.0022465917, 0.0064966856, 0.028837845, -0.0027317395, 0.0055570174, -0.014976664, 0.012110589, -0.01075871, 0.018662764, 0.02924592, 0.00028423357, -0.0072013955, 0.0060056653, -0.022992745, 0.0022328445, -0.01191203, 0.011599971, 0.009991831, -0.014921272, -0.015146784, 0.013157179, 0.017201597, -0.0005805051, 0.024401676, 0.015089109, -0.012777415, -0.0026737903, 0.013228868, -0.011877838, -0.017197652, -0.020250915, 0.02331957, -0.0021734375, -0.028785337, -0.00476554, 0.01951882, 0.025395108, 0.12958933, 0.0025804725, -0.0058707125, -0.013962251, -0.011085723, 0.0091428775, 0.0045185224, 0.042576507, -0.015181594, 0.00071749405, -0.006934815, 0.015487973, 0.008016955, -0.00022687088, 0.007976124, 0.00933981, 0.034930162, 0.058017027, 0.013152759, -0.012309142, 0.0015146675, 0.012321969, 0.006132726, 0.0075267623, 0.018202826, -0.010876311, 0.023359321, -0.009551348, -0.033245463, 0.013949553, -0.08055806, 0.00669009, 0.0054160915, 0.011968731, -0.011240892, -0.007374927, -0.006847441, -0.006361109, 0.003948065, 0.016442077, 0.018874498, -0.004313025, 0.0053430935, 0.007339445, -0.028722309, 0.01831939, 0.01204525, -0.010332784, 0.008719184, 0.005905675, 0.0042681433, -0.008778344, -0.016448949, 0.018813226, -0.0053338283, 0.005422913, -0.011316274, -0.003701971, 0.0068171867, 0.0077507105, 0.0027589258, 0.00036883887, 0.006083182, 0.0035383203, -0.0037080462, 0.029298918, 0.003600207, -0.0013981558, 0.014153635, -0.015126256, -0.0074144774, -0.00858023, 0.0042294934, -0.0081335185, -0.0033367316, 0.00039513755, 0.0055894745, -0.01445554, -0.015903901, -0.035695698, 0.06337272, 0.00074923015, -0.005439263, -0.0015223338, -0.033291265, -0.008868453, 0.0018465099, 0.006801508, -0.0224496, -0.013771346, -0.00247832, 0.03412975, 0.008806434, -0.008569195, -0.01464462, -0.0015326841, -0.01994165, -0.0021353825, -0.035803743, -0.0077949204, -0.0036515323, 0.02661511, 0.012437636, -0.014955437, -0.0004562314, 0.0016581556, -0.012250765, 0.041132346, 0.003296169, 0.006362867, 0.0021685322, -0.025253298, 0.001460462, 0.13785258, 0.017180685, -0.016784733, 0.014406647, 0.012428447, -0.02815917, 0.010364144, -0.027614018, 0.009801539, 0.012179164, -0.006427559, 0.012325295, -0.0077682147, 0.0036980282, 0.010619266, 0.0067771273, 0.00081445934, -0.027937787, 0.014157194, -0.023023598, -0.012448356, 0.014782089, 0.0094228005, -0.0012599254, -0.007541094, -0.0129923085, -0.017040674, 0.0020424477, -0.00995197, -0.004064043, -9.3899034e-05, -0.008317686, 0.008114051, -0.013750925, -0.005852398, -0.0047708247, -0.010678755, -0.022356668, 0.014209655, -0.01596047, 0.0044596684, 0.012859635, 0.028296774, -0.005210429, -0.03367898, 0.20231287, 0.0012517987, -0.00043965282, -0.0026313078, 0.0050461455, 0.027628005, -0.012243359, 0.0054733125, 0.021162912, 0.009029022, 0.02328115, 0.0073026177, 0.0025486788, -0.002218568, 0.008748108, -0.013032984, -0.006997798, 0.007860191, 0.0055026677, 0.0015272661, 0.002087422, -0.0033493505, -0.008700854, -0.005979402, 0.021717813, -0.010339912, 0.013738372, 0.02536867, -0.004723635, 0.0018331106, -0.010895882, -0.0078101964, -0.0020997724, -0.0010759163, 0.003856693, 0.021367751, 0.0039417674, 0.004572364, 0.007963048, 0.00027764787, 0.0033761542, 0.0014786932, -0.004596712, 0.0011040957, -0.020318607, -0.0034276536, -0.016140101, 0.0062677525, -0.0063073384, 0.02880685, -0.0016888971, 0.019172417, -0.017357107, 0.0073724515, 0.00035366332, 0.01754298, 0.022646137, -0.00036444687, 0.016027072, -0.0042388905, 0.0006509826, 0.0133061595, -0.0051207826, -0.020997493, 0.0006182134, -0.01608949, -0.0049332655], statistics=None), ContentEmbedding(values=[-0.009515369, -0.0016970151, -0.0076080747, -0.058108293, 0.0045071715, 0.0050580218, 0.012450459, 0.016512984, 0.01112558, -0.0030264305, -0.004296858, -0.007336284, 0.0015538163, 0.020572394, 0.10916534, -0.0086029675, 0.0022588908, 0.010479011, -0.0025021676, -0.0013345738, 0.01877229, -0.007859302, 0.0064428886, 0.006044203, 0.011049122, -0.011751593, 0.0040229093, 0.021585135, 0.028451758, -0.01769431, 0.017166175, 0.008555069, -0.002034087, -0.0059574503, 0.0045050625, 0.016472194, 0.027468484, 0.020604467, 0.027354997, 0.043479323, -0.002013852, 0.013581935, 0.004126305, -0.0024601878, 0.00096793566, 0.006818858, 0.022040518, 0.0008750853, 0.004747208, 0.015010537, -0.0022401963, 0.01082113, -0.010720442, -0.16505532, -0.0052069747, 0.010038312, 0.016546281, 0.00066560635, -0.001990394, -0.0063929716, -0.024032408, 0.024498072, -0.0038618983, -0.029428698, -0.005248215, -0.024045898, 0.004576534, -0.011959772, -0.021329181, 0.0076438077, -0.006576284, -0.020287385, 0.0041786903, 0.0034818195, 0.0030230344, -0.01511923, 0.027382322, 0.026611203, 0.009115143, 0.011154339, -0.0037996764, -0.01306343, -0.008385538, -0.008215865, -0.010925348, -0.012704945, -0.04166861, -0.0106286835, -0.017054759, 0.0022886468, -0.0064801634, 0.0079068085, 0.0032054514, 0.001261805, -0.009523053, 0.0048124166, -0.010826818, 0.004662524, -0.016623877, -0.007256628, -0.021981794, -0.016179472, -0.015985044, -0.00960903, 0.0067054993, -0.022325791, -0.013699122, -0.024505662, -0.021041617, 0.023145959, -0.018334094, 0.013573514, -0.0111331735, 0.004125536, -0.0003795965, -0.16990015, 0.02210122, 0.00025139743, 0.00024407938, -0.0041484837, -0.0061567463, 0.015882663, 0.017976394, 0.02844171, 0.015083833, 0.020714534, 0.0076933843, -0.024731368, 0.010643296, 0.013895217, 0.008080685, -0.024144804, 0.024499368, 0.017414996, -0.01918115, 0.020744089, 0.012026296, 0.010767086, 0.00545899, 0.00030278557, 0.03619813, 0.016040737, 0.001926961, -0.020040391, 0.0016671331, -0.013074052, -0.015968408, 0.030278435, 0.017814294, -0.011647224, -0.03309108, 0.010363521, -0.0064967815, 0.00849343, 0.015489765, -0.07866159, -0.011440644, 0.017783716, 0.037507456, -0.001332316, 0.0053960793, -0.010406182, -0.00071457383, 0.011100531, 0.008159515, -0.008300271, -0.0039026889, -0.008337354, 0.012274466, 0.008326968, 0.0061944234, -0.021598784, 0.009744204, 0.011430884, 0.00623282, -0.010904851, -0.009967713, -0.012067419, -0.0056051277, 0.012848141, 0.0138596725, -0.0168856, -0.00095787266, -0.00083197653, -0.03447752, -0.005885851, -0.012246333, -0.03222788, 0.023218624, -0.015993891, 0.0036758492, 0.021176368, 0.0089633465, -0.016362058, 0.01066422, -0.00078766985, 0.0073138545, 0.026170982, 0.008672198, 0.004380676, -0.013211328, 0.021201294, 0.012631444, 0.005123912, 0.00587644, -0.006409876, -0.0044748373, -0.012441053, 0.01190118, 0.02347789, 0.025564631, -0.010125828, 0.016282741, 0.02193769, 0.022243721, -0.015928037, -0.022786664, 0.022501739, -0.0058017387, -0.004086622, 0.030298144, 0.00014701026, 0.0030562375, 0.018425267, 0.00068885426, 0.0013869182, 0.001417222, 0.0023205525, -0.002509205, 0.011207209, -0.014215537, 0.013200132, 0.0044726394, -0.010275719, 0.0035037398, -0.002010257, -0.008012158, 0.01616825, 0.017958201, 0.0109037105, 0.0030757345, -0.023881843, 0.02373396, 0.004887561, 0.0041820807, 0.016812565, -0.00834002, 0.0071870456, -0.026701264, -0.034054767, 0.007688904, 0.015027376, -0.006917727, -0.027108753, 0.03113205, -0.0025889874, -0.02611047, 0.00032990516, 0.0024677003, 0.0014290749, -0.0033375917, -0.020136673, 0.0046658325, -0.038163535, 0.007702091, -0.019962344, 0.015791254, 0.0064743194, 0.0040257196, 0.021930235, -0.0039757616, -0.015273447, 0.0032826108, -0.021555722, 0.015044093, 0.046796832, -0.085762724, 0.0049637537, -0.0068962458, 0.010967384, 0.024419412, 0.0006096027, -0.015427057, -0.016147979, -0.002910701, 0.007579729, -0.0031536096, -0.0037395223, 0.010600612, -0.0070716967, 0.00507878, 0.02008162, -0.0019000393, -0.004582868, -0.005939336, -0.022990752, -0.0066367085, 0.011204941, -0.004141616, -0.007956164, -0.031705055, 0.0056434134, -0.015951715, 0.03710823, -0.0044397484, 0.027835395, 0.012973765, 0.009540452, -0.015920408, -0.0011316369, 0.029481418, 0.025178865, -0.020808877, 0.020750824, 0.00699284, 0.0016742892, 0.00035870742, 0.021055348, -0.0024812124, 0.0118346615, -0.006882368, -0.0059817466, -0.014840413, 0.0012109292, -0.022034692, 0.020483, 0.0032810033, -0.03761606, -0.0032500573, 0.011908113, -0.0059857536, 0.04263341, 0.0118215475, -0.007251816, -0.03108467, 0.0012165545, 0.007981981, -0.011442371, -0.025900869, 0.0061086724, -0.01077861, 0.014724974, -0.0031430302, -0.0014607141, -0.01136533, 0.004606872, 0.005597182, 0.008460007, 0.029614367, -0.008642699, -0.0009584506, 0.009326518, -0.015244823, -0.006575809, -0.01314035, 0.030334612, 0.0067038145, -0.006228192, 0.020914184, 0.020452267, -0.0010115892, 0.019459948, 0.01976458, 0.0033376785, -0.005478479, 0.007405079, 0.0042116567, 0.0007759002, 0.007957821, -0.0008003338, -0.014335594, 0.016744142, 0.005360219, 0.006156766, -0.0035273388, 0.0116778, -0.018391524, -0.005487041, -0.006709616, -0.0003599717, 0.01004398, 0.013955141, -0.007742708, -0.0040312884, -0.0018138062, 0.00425756, 0.012916554, -0.0008700566, -0.00037267437, -0.019558944, -0.03360667, 0.029438796, -0.014960496, 0.016378399, -0.021196065, 0.012042924, -0.0048258496, -0.0042556766, -0.0028677562, 0.009435226, -0.005266347, -0.017154144, -0.025882432, 0.009007721, -0.019120758, 0.004974944, 0.0022809284, 0.014493863, 0.019639501, 0.012574549, 0.008238419, -0.018378332, -0.008141321, -0.006744627, 0.031460438, 0.0023388483, -0.009092223, -0.016937407, 0.01784539, -0.002900097, 0.0020644253, 0.02328314, 0.02779324, 0.015117803, 0.014837125, -0.036490943, -0.017672623, -0.017116245, 0.001135928, -0.016972564, -0.009896977, -0.021544926, 0.0041707465, 0.00028567936, -0.0010442006, -0.009922705, -0.021415846, 0.01857486, 0.0067581492, -0.0046284623, 0.037183817, 0.017016625, 0.013282886, 0.026314251, 0.017344147, 0.037897415, -0.008549167, -0.02033122, -0.042696927, 0.008639358, 0.0102269435, 0.0063330554, 0.017163245, -0.0035298562, 0.027428817, -0.024133176, -0.024007373, 0.012710722, 0.025015086, -0.0063063106, -0.0037936107, -0.015308129, 0.013655409, 0.015797319, -0.023443313, 0.016288158, -0.0050502475, -0.006134168, 0.005819929, 0.018379882, 0.034074984, 0.028581839, -0.0004602824, 0.022566054, -0.0056118616, -0.0039588558, -0.010574415, 0.01302419, 0.0011986948, -0.0054186587, -0.010638981, -0.022175, 0.004174919, 0.0011817854, 0.015886238, 0.0041510877, -0.0004918197, 0.003232001, -0.019830562, -0.016343853, 0.018319422, 0.014601872, -0.00977562, 0.011453846, -0.014698938, -0.03910176, -0.005981176, -0.032218885, 0.0013610384, -0.006631358, 0.025130408, 0.01638577, -0.0053122942, -0.027917402, -0.015207673, 0.0010200999, -0.002743579, -0.004080953, -0.00023771565, -0.018836625, -0.011403381, -0.01701594, -0.007655229, 0.029145414, -0.017616622, 0.022691986, -0.013980938, 0.024985198, -0.010223173, 0.016434604, 0.005948024, 0.002704646, -0.0069576595, -0.023958083, 0.010961565, -0.0032384507, 0.012342068, 0.009198693, 0.01455405, -0.0094511835, -0.030752972, -0.0024990235, -0.02133702, -0.0002524701, 0.0050900914, 0.012918497, -0.0036858686, 0.0023084625, 0.023643196, 0.012311579, -0.009877161, -0.01175184, 0.008982233, -0.037936218, 0.012405042, -0.14295012, 0.007420036, 0.0055260593, -0.022214623, 0.00079389126, 0.0077215745, -0.0005609153, -0.016840896, 0.010222994, 0.014909447, 0.028350145, -0.019296523, -0.019238573, 0.0093046, 0.008865032, -0.007077594, -0.004992821, 0.004214232, 0.009636591, 0.008673075, -0.006663, 0.0047308654, 0.019418068, -0.0039266683, 0.029785847, 0.0019659312, 0.0310251, 0.029853418, -0.010724283, 0.009901885, 0.008619777, -0.011708535, 0.010154635, -0.0051045795, -0.010523122, -0.023568494, 0.012423116, -0.012314282, 0.00019975295, 0.028333127, -0.0023509616, -0.0037711128, -0.00593554, -0.010803769, -0.02973485, 0.016499491, 0.024345946, -0.023904517, -0.013207169, -0.055022072, -0.015177877, -0.015005089, 0.014170391, 6.3025494e-05, -0.018700177, -0.028768659, -0.012576023, 0.014246016, -0.030288061, 0.012807437, 0.016765965, 0.00043148577, 0.020733371, 0.03627165, -0.01022593, -0.013762209, -0.012018842, 0.0024472063, 0.0017825039, -0.011707147, -0.014449498, 0.014838099, -0.019047486, 0.015417104, 0.012549483, 0.007274106, -0.007899399, -0.0072078286, -0.008954904, 0.0038426844, 0.0031042865, -0.0048066853, -0.076807, -0.0025882495, -0.013956234, 0.014052075, -0.0129492935, 0.0072639016, -0.01484651, 0.0045527164, -0.011129469, -0.010965586, 0.0037547303, -0.0025316596, 0.015519628, -0.0073715486, -0.0026594202, 0.013527669, -0.0037574014, -0.024200581, 0.0058511626, 0.019135734, 0.0066007636, 0.017821044, -0.010810212, -0.015582798, -0.008663809, 0.011849068, -0.013718804, 0.012198018, 0.016992055, 0.0011675026, 0.014647452, -0.10954343, 0.010654108, -0.018258372, 0.0066530732, 0.009522947, -0.009611094, -0.0070114476, 0.0213231, -0.023219159, -0.021350414, -0.019711053, -0.020179885, -0.00813272, 0.013229296, 0.0169148, 0.14372647, -0.027781527, 0.0050644646, -0.03852918, 0.005195145, 0.012006191, -0.013636136, 0.0021493703, -0.011589359, 0.012943381, 0.0013905218, 0.014988687, -0.04219389, -0.012603781, -0.0029954058, -0.010728357, 0.0067243506, -0.019411474, -0.010695199, 0.001971237, -0.010273826, -0.0021771807, -0.014311293, 0.008467809, -0.004146001, -0.00545604, 0.010170964, 0.00038536047, 0.0004937203, 0.004899166, -0.018519554, 0.013997521, 0.003942476, -0.0017009398, -0.005459001, -0.024791535, -0.06458433, 0.011857899, 0.024880338, 0.010631674, 0.026829917, 0.016356735, 0.028105607, 0.00860338, 0.023702148, -0.009575982, -0.012107762, -0.021845246, 0.036508944, -0.0046100155, -0.0074297986, 0.0061620427, -0.017069228, 0.004209519, -0.002394856, 0.024101598, 0.0030913039, 0.010721474, -0.009747918, -0.020374771, -0.017264035, -0.005904566, -0.0053204773, 0.012646422, 0.027387036, 0.013384515, -0.022178402, 0.0014081505, -0.008565404, 0.019727387, -0.026272474, 0.011302181, -0.0015869929, -0.00598735, -0.027915211, -0.0060242903, 0.006559398, 0.038526222, -0.015554924, -0.0025971183, 0.0064556287, -0.0018865303, -0.007640575, -0.015587081, -0.004430651, -0.009384298, -0.012442151, 0.021277236, -0.048429538, -0.0082191685, -0.011954469, 0.003172542, 0.018295882, 0.03429161, 0.032119125, -0.0035790766, -0.010702228, -0.0039823395, -9.83274e-05, 0.00043287166, 0.01274428, -0.017027574, -0.0100486055, -0.0018798263, 0.0027000948, -0.003401806, -0.007127004, -0.009475957, 0.006842918, 0.011035822, -0.019005256, -0.0014997928, 0.0005930858, 0.0053886655, -0.03677659, 0.008059783, 0.009604822, 0.0015885711, -0.0038568482, -0.0055756937, 0.0054038954, -0.001975178, 0.0038540987, -0.0013570437, -0.002162583, 0.0038403405, 0.0072222035, 0.0014933476, -0.0014312114, -0.0066049704, -0.004014205, -0.008971866, 8.736209e-05, -0.010950964, 0.0019861883, 0.013358694, 0.0018132533, 0.012102465, -0.00394054, -0.009160446, -0.001386264, 0.008749355, 0.007110663, -0.007999061, 0.010204663, -0.0064906967, -0.00026867853, -0.0009223301, -0.0029084731, 0.017850917, -0.006372589, -0.005106337, -0.012227905, -0.0053783986, -0.004651153, 0.004103499, 0.00058089104, -0.013141199, -0.022613673, 0.017221404, -0.011116321, 0.0011599538, -0.004188921, -0.0105819125, 0.016095802, 0.030314844, -0.0074087586, -0.005246132, 0.02141566, 0.0061693937, 0.023334721, -0.004502938, -0.005748314, 7.996707e-07, -2.408022e-05, 0.0034115345, -0.025429327, 0.0070373993, -0.015054235, 0.0017506891, -0.007440608, -0.0035827812, 0.02219257, -0.0027031577, 0.020803832, -0.0050980407, -0.017813131, 0.0016062601, 0.003858751, -0.0061098617, 0.01078597, 0.004400453, -0.0032091667, 0.0013153779, -0.0001942297, 0.022387166, 0.0010547811, 0.0017212548, 0.0029809147, 0.0056966534, 0.009504727, 0.0027742567, 0.003445447, 0.0013658107, -0.0057068965, -0.017609622, -0.008177779, -0.0030461198, -0.005267252, -0.0088767, 0.017934408, 0.013512075, -0.0004775256, 0.0015223742, 0.00243146, 0.01117561, -0.008054513, -6.9516056e-05, 0.004046338, 0.010835252, 0.0076905536, 0.013253851, -0.00010629249, 0.006549676, 0.001656338, 0.017140742, 0.0042175245, 0.0049844356, 0.0044940356, -0.00526195, 0.013563837, -0.012802843, 0.0023787024, -0.0056379065, -0.0060425946, -0.009176256, 0.0020205334, 0.01242546, -0.0019366294, -0.008785233, 0.00075004203, 0.01316671, 0.020798022, 0.0075860475, -0.022224007, -0.006050465, -0.0018774667, 0.008550171, 0.0016481344, 0.0033262342, 0.0017591799, 0.0021895254, -0.0007410051, -0.019322189, 0.023409564, -0.014090512, -0.012180763, 0.009350023, 0.014630393, 0.0014540731, -0.0008191304, 0.016917905, -0.009435617, -0.00018716935, 0.0014929348, 0.012195582, -0.020537123, -0.03530763, -0.013682579, -0.008337305, 0.013008567, 0.023649136, 0.0014014378, 0.007865341, -0.011234163, 0.025431367, 0.0073068477, -0.005839711, 0.0002586904, 0.0029176713, 0.016593656, -0.0011059113, 0.0057533677, -0.018693585, -0.005970026, 0.004828119, 0.013212513, 0.0036830753, -0.0020111382, 0.0061233635, -0.011693222, -0.0069492343, 0.0044272807, 0.01137509, 0.0010873459, 0.09148887, 0.009390794, 0.0031007044, 0.0074793496, 0.0058804033, 0.0126121165, 0.0057792636, -0.013802789, 0.0025060505, 0.018723443, -0.012632079, -0.013473026, -0.00051154447, -0.013343652, -0.0015449375, 0.005369174, -0.008429694, 0.01547988, 0.017950634, -0.008688378, -0.00212909, 0.015696557, 0.0067007565, -0.0064716106, -0.0004579679, -0.013540908, -7.094332e-05, 0.0070649963, -0.0009189104, -0.0023688048, 0.004088123, 0.0037507147, -0.002340831, 0.022327486, -0.0136728715, -0.014188189, -0.0020189465, 0.00023688292, -0.006860319, 0.0038228512, 0.009273704, 0.013331, -0.0071703703, -0.002366097, 0.0051056757, 0.0162491, -0.006806121, 0.011925404, -0.019413682, -0.026710771, 0.020825084, -0.0043427115, -0.0066650733, -0.019037588, -0.014706372, -0.00048016824, 0.0077454187, -0.004484906, -0.0043090386, -0.02236474, -0.01399996, -0.0066052172, 0.008853873, -0.006115712, -0.017637305, -0.004861894, -0.0060053356, 0.008209543, -0.017221201, -0.015759807, -0.0043554977, -0.005254394, -0.0009695427, -0.012093154, 0.028485378, -0.0024587596, -0.013596996, 0.010184357, 0.010863962, 0.0013779824, 0.0053737625, 0.0018416931, -0.010880095, -0.0043736794, 0.0072287847, 0.008168923, -0.0082726, 0.009387127, 0.026798056, -0.0006960275, 0.020202737, -0.017521907, -0.011617679, 0.0036872476, -0.013858195, -0.004217095, 0.10777698, -0.0021208737, 0.0062810043, 0.0010911525, -0.0048969206, -0.0011056915, 0.017363517, 0.00013420102, 0.015480867, 0.00074665074, 0.0044509093, -0.004831625, 0.008994235, -0.0096059, -0.004296711, 0.0049826824, 0.0060643237, -0.00446661, -0.0017568843, 0.0026668163, 0.017100291, 0.014641699, -0.010237637, 0.015445482, 0.014234666, -0.0018078157, -0.018664202, -0.01249047, -0.008613461, 0.0007740673, -0.007911772, 0.000630567, -2.694055e-06, 0.019052133, -0.0072194077, 0.008121632, 0.0036328344, 0.0053038783, 0.02206441, 0.003262535, 3.7936312e-05, 0.0014246246, -0.0039620204, -0.0034260924, -0.011664139, -0.0102472585, -0.004969262, -0.0009909288, -0.0024006125, 0.015891569, -0.009224485, -0.0005607891, 0.021428622, 0.009111459, -0.011840798, -0.016950766, -0.0039996444, 0.010914505, 0.019135661, -0.010567276, 0.0034133217, 0.018360354, -0.004202602, 0.014301911, -0.012085651, 0.008998295, -0.0064390493, 0.0037972503, -0.00059311127, -0.003878616, 0.011611443, 0.011772898, -0.0043320064, 0.02617512, -0.010948097, 0.009949414, 0.0038208966, 0.008116445, 0.00308499, -0.015554396, 0.0075462023, -0.022523174, 0.009492396, 0.006473311, 0.0032405201, 0.009493696, -0.004409719, -0.01308444, -0.011468267, -0.015980087, 0.0029693756, 0.01155358, 0.009562741, -0.01772765, -0.0079363035, -0.0022457896, 0.011046094, -0.013861509, -0.008704519, 0.0033695989, 0.0009846344, 0.004050714, 0.033483893, 0.01278224, -0.004718909, -0.0018173271, -0.0017646331, -0.0077665597, 0.005766661, -0.0078069004, 0.024220135, -0.002474672, 0.0026054431, 0.00830352, -0.01632888, -0.017982598, 0.0038446896, -0.015690653, 0.0107147815, -0.0026956887, 0.008555253, -0.0026875846, -0.0033213233, -0.0022636922, -0.01323638, 0.008376773, -0.00017787404, -0.006107401, 0.008953852, -0.008615186, -0.0010044456, 0.009782603, -0.005235662, -0.00010197947, 0.029319946, 0.003196505, -0.0009453314, -0.0055513, -0.017617188, -0.009512853, 0.0033019905, 0.006489603, -0.014607719, 0.0023636175, 0.00010811409, -0.020662349, -0.005291384, 0.0005397963, 0.019148495, -0.010876334, -0.0034391864, 0.006880257, 0.0105482135, -0.008295874, -0.026389513, 0.01199401, 0.006591681, 0.016086088, -0.0015499319, -0.017442608, 0.009418394, -0.04898884, 0.0027026704, 0.0016169222, -0.009533515, 0.003760535, 0.007486773, -0.008008671, -0.0054881833, 0.00051704247, -0.004580653, 0.00611175, -0.0012050361, 0.02069469, -0.0002849287, -0.002037042, 0.020679742, -0.0010774692, 0.0065482124, -0.009569326, 8.5441025e-05, -0.0057185083, 0.006179751, -0.003990563, 0.005642589, -0.0029325201, -0.005742521, -0.012527622, 0.0032016532, 0.0053134644, 0.0013315534, 0.019410921, 0.0044183824, 0.0035849416, 0.002304703, -0.0062072487, 0.009320926, -0.012532802, -0.0033800162, 0.002164597, -0.018316967, 0.0052431263, -0.008968711, -0.00014077066, 0.0050484766, -0.0043872823, -0.008090516, 0.0033278114, -0.014828516, -0.007567495, -0.0057042036, 0.003936849, 0.017326577, 0.0016007505, 0.0031683517, 0.009348915, -0.00793615, 0.014387491, 0.004927207, -0.011525683, 0.0071356953, 0.010675577, 0.011883925, 0.007323538, 0.002582469, 0.0074380143, 0.0016027249, 0.00021045686, 0.008502279, 0.0007263643, -0.00040280048, 0.017818714, -7.8757126e-05, 0.019257855, -0.015311003, 0.0044400063, 0.016760312, 0.0128425015, 0.014203108, 0.005733861, -0.006817276, 0.0047435886, 0.004365273, 0.011417923, -0.014384369, 0.0031696437, -0.01014261, 0.00775111, -0.015985204, 0.008565929, 0.0032875328, 0.024145665, 0.010715937, 0.020409944, 0.011358168, 0.00037273936, 0.0017263893, -0.010236819, -0.0015318464, 0.015281995, 0.0080600055, -0.015631715, -0.018056784, -0.0025510255, 0.014373306, -0.015848767, 0.0060119736, -0.0023496163, 0.0015190549, 0.016930774, 0.0067777475, -0.016934127, -0.010962994, 0.0028856194, 0.003289272, -0.011189424, -0.0018745047, 0.0071849655, 0.0034875306, 0.00039459765, -0.014117203, -0.0012350217, 0.01468867, -0.0040798187, -0.008418353, -0.0062216576, 0.012608892, -0.008921963, 0.011108896, 0.007492597, -0.018100202, -0.0022537017, -0.012785227, 0.040000826, 0.021398587, -0.0012148417, 0.009192566, 0.011720612, 0.007604423, 0.008175895, 0.016594829, 0.01046347, -0.020519039, -0.0028114321, -0.016438909, -0.004570767, -0.008699077, 0.009590107, 0.008915058, 0.0011208695, 0.0035703727, -0.011934633, 0.008463199, 0.01909285, 0.0073339036, 0.00516872, -0.009635668, -0.0043153754, 0.007983909, -0.009494525, -0.02268198, 0.010712969, -0.011556038, -0.0057549304, 0.000771903, -0.00067676505, -0.009463088, 0.010155527, -0.00843265, -0.021530395, 0.00552439, -0.007961909, -0.0015761156, -0.0035407199, 0.0006487638, 0.01810842, 0.014485706, 0.01875144, -0.0042054015, -0.02462492, -0.0017053012, 0.010602339, 0.007931667, 0.005474906, 0.002821662, 0.0022203128, 0.0060770167, 0.0066866693, 0.00779834, 0.013002771, 0.008156058, -0.0068716677, 0.002721954, -0.00044066543, -0.01592858, 0.003755701, 0.008910574, -0.0010940632, 0.0059866575, 0.011497597, -0.000982907, -0.014038067, 0.0027375098, -0.01424658, 0.027196258, -0.015113974, -0.09984357, -0.005991767, 0.012094751, 0.0035510825, -0.0035229875, 0.012564032, 0.002761865, -0.0015158947, -0.004192709, 0.0045331265, 0.011569595, 0.0042783613, -0.0014554915, -0.04325909, -0.010206836, -0.0026561827, 0.02355225, -0.021367501, -0.001427358, -0.0025315308, 0.0017712424, 0.031126799, 0.0025174806, 0.009980265, -0.008168202, 0.0039552916, -0.005817144, 0.0015286247, -0.0053182216, -0.0011957599, -0.0058523314, 0.008360176, 0.0026188975, 0.0029445444, 0.014329999, -0.016157154, 0.0049992776, -0.004533374, -0.13925102, 0.0027225234, 0.015640989, -0.0076332884, -0.011520213, 0.012652839, -0.010858356, 0.008858056, -0.0013667606, 0.0096178735, -0.0066039986, -0.000532513, -0.005351449, 0.009581626, -0.004197514, 0.022894649, -0.002043362, 0.0145382825, -0.008149597, 0.008831228, -0.004028181, -0.015277304, 0.033070866, 0.026589505, -0.0035134198, 0.008920579, 0.007827726, -0.018502252, 0.0076433267, -0.00024855914, 0.0063948026, -0.004684014, -0.011440884, -0.0043351757, -0.023132524, -0.0023112406, 0.013520907, -0.00556989, 0.009802619, -0.013584964, -0.001316488, 0.008744617, -0.007664741, -0.0029075786, 0.0005434547, -0.0065193875, 0.004293613, 0.0073059695, -0.01266577, -0.010549367, -0.022119971, 0.009165399, -0.00022535594, 0.0130758425, -0.0040245885, -0.018385902, 0.004990757, 0.013520102, -0.005723942, -0.0028471618, -0.010711483, 0.008554094, 0.007396425, -0.016651, -0.0018095017, 0.006905606, -0.007813824, 0.0210856, -0.016501518, 0.021086978, -0.009529493, -0.00419966, 0.0026299406, 0.000521209, 0.018996142, -0.015289607, 0.0022895955, 0.019379443, 0.0128579, -0.004131993, 0.0045027994, 0.023540713, -0.007383176, 0.020498734, 0.007787557, -0.035994276, -0.0077930167, -0.012329499, -0.0004240538, -0.05815609, -0.004441341, -0.013252854, -0.012822627, -0.0048642405, -0.0070476984, -0.0040322356, 0.025125572, 0.014585548, -0.00074833864, 0.0090102395, 0.014304058, 0.027835568, 0.0011873246, 0.0004164528, -0.0059827156, 0.009520495, -0.0061119287, -0.00664703, 0.013214451, -0.00672008, -0.015611498, 0.004469058, 0.024480572, 0.013736774, -0.028514052, 0.0036072403, -0.0061264294, 0.0067085675, -0.024316192, -0.038177267, -0.004390107, 0.021275079, -0.013128054, 0.011984333, -0.0015590686, -0.010658572, 0.023551809, 0.01660777, 0.0027048911, -0.018714137, 7.208598e-05, -0.0022818672, -0.007990818, 0.014180336, -0.026828572, -0.015439696, -0.002119801, -0.0061263177, 0.00073503196, 0.004417845, 0.00477512, -0.0027705221, 0.010032584, -0.008654587, -0.012575185, -0.017239742, -0.005962333, -0.008989094, 0.019833183, 0.020421168, -0.007953623, 0.011559345, -0.0074643893, 0.015004675, -0.011866741, -0.0038584038, 0.0069839675, 0.0014890627, -0.006953723, -0.008987858, -0.017157536, -0.0033390513, -0.012121977, -0.002490369, -0.014846265, 0.0055290423, 0.0073129274, -0.0116415415, -0.02118156, -0.0017906139, -0.016757531, -0.008486685, 0.0065221675, 0.009731819, -0.007891644, -0.0039282716, 0.018410733, -0.027158529, -0.007853292, 0.02270034, -0.012419716, 0.01336526, 0.016832925, 0.009037583, 0.008177209, -0.0041755876, 0.0050907615, -0.005747377, 0.03566076, -0.00073300936, 0.007834087, -0.013412388, -0.012566285, 0.003967217, -0.005502629, 0.008475921, 0.005985796, 0.0009622382, -0.008937206, -0.010501814, -0.02535871, -0.00043515026, 0.0014286187, -0.14488606, -0.0032329464, -0.008790956, 0.003649084, 0.0022729891, -0.02451968, 0.0008533434, 0.0035506254, -0.0033312303, -0.011962901, 0.005488846, 0.012372565, -0.0103998305, -0.017114565, 0.0087542115, -0.007787975, 0.010655185, 0.009080606, -0.0013306927, -0.005236347, -0.036194444, 0.021594826, -0.022513969, 0.0005417289, -0.006746873, -0.0047888556, 0.012966329, 0.0076198736, -0.007397613, 0.0032963215, -0.016553085, 0.018519307, -0.0047315415, -0.013780084, -0.014445334, -0.020629406, -0.022469286, -0.0025924225, -0.01168513, -0.0073893084, -0.009654397, -0.011027162, 0.019292494, -0.0059909783, -0.00050284265, -0.011561, -0.01792071, -0.0029044705, -0.0036133325, -0.03281342, 0.009808534, -0.012432705, -0.00614943, 0.0048248256, 0.0036435004, 0.016872967, -0.008542674, -0.0012856732, -0.019238465, 0.0057555865, 0.008184505, -0.015537532, 0.003594868, 0.0064768377, -0.0035160442, -0.013955092, -0.0057027275, 0.16129509, -0.005946546, 0.020613618, 0.0052278745, 0.0011915917, 0.034251373, 0.004980781, -0.0071806414, -0.005487079, 0.0048349476, -0.0083532585, -0.0018123868, -0.0051707034, -0.0085588815, -0.00607391, 0.027066855, -0.007687585, 0.0036416226, 0.0029240055, 0.0023573425, 0.009268766, -0.019482203, 0.009390299, 0.0017603292, 0.005392883, 0.0029056587, 0.01592247, 0.026572702, 0.021395432, 0.013401912, 0.00074818125, -0.014092064, -0.0034932385, 0.006178013, 0.016700609, 0.0006046769, 0.008581143, -0.0055672806, 0.01990431, 0.004268448, 0.025029525, 0.0019563036, -0.008019958, -0.0069741136, 0.00063811766, -0.013593993, 0.0012883535, 0.01785945, 0.015148071, 0.009734107, -0.033673316, -0.0026386082, -0.0018390808, 0.0009546591, 0.010425071, -0.017824758, -0.018814549, -0.0022351975, -0.018795827, -0.00020753997, 0.019112844, -0.007772923, -0.00012597704, -0.012683522, -0.0029331152, 0.0010866821, -0.0012708643, -0.0037195883, 0.0017214168, -0.117205046, -0.0038326778, -0.005812601, -0.022097895, 0.017023753, -0.009041295, 0.0041709323, 0.016496671, -0.00581036, -0.009430387, -0.013167003, -0.027521664, -0.021522978, 0.023966463, -0.004459785, -0.0035211411, -0.007734104, -0.011371989, 0.013672159, 0.012346867, -0.020055175, 0.008972314, 0.0068715145, 0.014979824, 0.0045882887, 0.012017332, -0.022414077, -0.015289922, 0.0074919546, 0.012289925, -0.012765266, -0.002852339, 0.0008969359, 0.01848881, -0.0053264196, 0.00807776, 0.00095745875, -0.012602094, -0.016151534, -0.012176715, -0.0052456562, -0.0075233243, 0.0033190015, 0.011244168, -0.0066809463, 0.01648132, -0.004485888, -0.01671107, 0.026704695, 0.003120497, 0.011037117, 0.0004570555, -0.005948837, -0.030503552, -0.025030902, 0.024588604, 0.017686794, -0.01923029, 0.039811816, 0.014052205, -0.0024455192, 0.00023815183, -0.014031551, 0.013300698, -0.020306645, -0.023251833, -0.0057482524, 0.006090201, -0.005806221, 0.008349281, -0.014459483, -0.007598329, 0.015592759, -0.018095532, -0.0076174242, -0.014975567, 0.016979797, -0.0018954384, -0.00072717055, -0.028914604, 0.0033073649, -0.028819053, -0.005440943, 0.0026756653, 0.021472545, -0.016685572, 0.0011142371, 0.0006218658, -0.0051750513, -0.008679319, -0.0022977786, -0.009466933, -0.011852468, 0.008179274, -0.012751406, -0.013125617, -0.013664965, 0.005856496, 0.013702968, -0.01626681, -0.0042406903, 0.025683435, 0.016312473, -0.0072438084, -0.0044850986, -0.028075015, -0.021017307, -0.01742037, -0.0068276385, -0.017008798, -0.0036836327, 0.028230805, -0.023533573, -0.00918638, -0.000543681, -0.025883915, 0.0045125466, -0.0056939316, -0.0031600257, 0.016573332, 0.024019605, 0.007192765, 0.00807577, -0.00514611, -0.01682191, 0.012436087, 0.0028458238, -0.0032045213, 0.016261216, -0.008024252, -0.0125012705, 0.008260291, -0.015788509, 0.020423887, -0.00505698, 0.02729538, 0.012123599, 0.011740689, 0.006526576, 0.029762099, -0.0012784043, 0.0026954538, 0.00568779, 0.013877068, -0.011325162, -0.0013413973, 0.0069802566, -0.006795704, 0.012818304, -0.010044217, 0.012290457, -0.010387677, 0.012394416, 0.010794663, 0.014119855, -0.0043061045, 0.0005143739, 0.009935053, -0.008094838, -0.01286645, -0.004263865, 0.02063645, 0.013524105, -0.0042928965, -0.0015468091, 0.015540415, -0.008995124, -0.006661161, -0.033240635, -0.021728259, 0.0054872236, -0.02003521, 0.0027553262, -0.003672299, -0.005290028, 0.013666524, 0.002664824, 0.026582744, -0.007684076, -0.08050186, 0.024631074, 0.007912218, -0.03379136, -0.0068492005, 0.0010994414, 0.003878302, 0.007497929, -0.015415065, -0.008760447, 0.00013788675, -0.008004939, 0.0011833471, -0.007132752, -0.0010519614, -0.018062238, -0.020677257, 0.0015543455, 0.002912084, 0.0012945307, -0.009839768, -0.00010470969, -0.01679667, 0.0061873957, -0.007230849, -0.008273574, -0.009210322, 0.00018004849, 0.022576949, -0.010759324, 0.00014732358, 0.016375868, 0.016646517, -0.012009875, -0.013123803, -0.000116502895, -0.018132696, 0.02754928, 0.0051689777, -0.079199575, 0.022890033, -0.0011226201, -0.11276035, -0.0040472755, -0.009482211, -0.0032543805, 0.016257904, -0.00599882, 0.0076053045, -0.017100088, 0.0037236894, 0.01588355, -0.011196458, 0.009751619, 0.006985274, 0.00482566, -0.008090874, -0.008315268, -0.015844848, -0.025196506, -0.0011756157, -0.0024766922, -0.02098274, 0.007934043, 0.025518252, 0.012320095, -0.0027993915, 0.011130086, 0.018086847, 0.0127524845, 0.022502096, -0.004117915, -0.0038569958, -0.01717163, -0.013421524, 0.012801705, 0.0065599554, -0.0030930599, -0.0077838423, 0.022020146, 0.018092357, 0.0003189412, 0.013694532, 0.045713287, 0.01618031, -0.024601743, 0.010269379, -0.12724005, -0.010029402, 0.00097745, -0.0057315123, -0.0034637013, 0.0014049169, -0.005442043, 0.10196964, 0.007945884, -0.00024975828, 0.003847435, 0.02383188, 0.004440379, 0.0066019297, -0.003988387, -0.021182915, 0.004542039, -0.025410919, 0.00089799694, 0.026527593, -0.017100405, -0.010353008, -0.0043576607, 0.009560813, 0.014102054, -0.07497159, 0.013505665, -0.003319597, 0.017972143, -0.0055060056, -0.000427511, 0.008145931, 0.0001460157, 0.00023278693, -0.00527157, 0.012056644, -0.0030111375, -0.012133958, 0.0034541483, -0.0035514822, 0.004360256, 0.0055928, -0.02074828, 0.011945384, 0.005661801, 0.023033287, 0.0026769359, 0.0039994107, 0.0005832105, -0.0075906166, 0.012228188, 0.006519992, 0.01837006, 0.0133905, 0.028115878, 0.02535839, 0.007612518, -0.0067107747, 0.0006645646, -0.00016235559, -0.006300719, -0.02096233, 0.010540939, 0.013062353, -0.0024921638, 0.0030119733, -0.027006553, 0.01690667, -0.04689522, -0.008343267, 0.0024351326, 0.0023291106, 0.019939736, -0.0018529058, 0.019655287, -0.020180283, -0.012150524, 0.004802184, 0.0022637895, 0.010815148, 0.0040469845, 0.011243769, -0.010774093, -0.0047089322, 0.0013633628, -0.0041370825, 0.014118949, 0.02035678, 0.03446582, 0.00465844, -0.01067525, 0.0039829323, 0.0014295896, -0.01103936, -0.01285301, -0.004362544, 0.0005262877, 0.011279752, 0.0016010767, -0.0013799114, -0.008729266, -0.009724958, 0.011460161, -0.00033965742, 0.026071338, -0.00872249, -0.010028525, -0.01583062, -0.0032932018, 0.014491497, 0.012777798, 0.0026227625, -0.0051447847, -0.0024046516, 0.018800827, -0.017361464, 0.0030289462, -0.02050454, -0.01391336, -0.0028717346, -0.0073876767, -0.028263692, -0.0035404654, -0.017653605, -0.010328662, -0.00011799145, -0.016276037, -0.013947565, -0.0036193533, 0.013725508, -0.009880262, 0.035002686, 0.009521859, -0.011669193, 0.024615593, -0.03405548, -0.011136118, -0.014471005, -0.01844453, 0.00041094684, -0.029122371, -0.008374674, 0.017568674, 0.017818011, 0.0057204585, 0.0074973986, 0.0007530876, 0.018591784, -0.01160919, -0.018700954, 0.0062858094, 0.011572871, -0.0031574364, 0.030516258, -0.008962682, -0.011290266, 0.008029894, -0.003763001, 0.027202353, 0.0029297797, -0.0005266597, -0.0015279239, -0.0028803744, 0.0018153788, -0.0059049358, 0.007857404, 0.008055512, 0.017384153, 0.005916982, -0.014421312, -0.024799893, -0.0010041604, 0.0075717685, -0.0065709925, 0.03743341, 0.016891941, 0.016569873, 0.015180486, 0.0149913505, -0.029609403, 0.0034075717, -0.0065760664, -0.004488608, 0.01486793, 0.0007945003, 0.0046351235, -0.015178033, -0.012771045, -0.00027258485, 0.0035091175, 0.006923057, 0.0059499396, 0.008022741, -0.010500633, 0.0023864973, -0.001403595, -0.0073318332, 0.0047018365, 0.009527717, -0.014190115, 0.009738879, -0.01041686, 0.0030260007, 0.01048589, 0.0054438077, 0.007843656, -0.033158306, 0.0033277972, 0.004811607, -0.0032861214, 0.007523991, 0.00070436485, 0.00061601616, 0.0066887336, -0.0065740086, 0.010841598, -0.0058351513, -0.0042435774, -0.018265603, -0.014142246, 0.03277663, 0.014988947, -0.0014962697, 0.0049784835, 0.022561189, 0.0029105176, -0.007643632, 0.0015839768, 0.008318181, 0.012626822, -0.024837866, -0.002665523, 0.0066234698, 0.022923961, 0.015965443, -0.017767867, 0.004450512, -0.005818794, -0.0064706793, 0.017203912, 0.016280305, 0.00272989, -0.006413483, 0.015125143, -0.011155868, 0.0059358515, 0.011596694, -0.014269509, -0.016965194, -0.00083415146, 0.0076686395, -0.0074825143, -0.008667262, 0.0006524366, 0.0018696154, -0.011839035, -0.024797933, 0.0012644309, -0.028010553, 0.0061668446, 0.011813628, -0.013972322, -0.018215427, 0.009225316, 0.0055896677, 0.00096806325, 0.0013788836, -0.025533058, -0.009827527, -0.004254659, 0.008682476, 0.007169283, 0.010332215, -0.004392879, -0.018722437, -0.012774016, -0.011518835, 0.01323513, 0.003592704, 0.028276378, -0.018481677, 0.0064840787, -0.005199648, -0.014886654, -0.00034821106, -0.0037916703, 0.010312965, 0.010698373, -0.018341495, -0.0063555404, 0.0040118275, 0.0072561996, -0.014330708, -0.013642646, -0.0003292903, -0.00622766, -0.026216846, 0.0012630388, -0.014243218, -0.014343662, -0.003838718, -0.023629462, 0.01712023, -0.0007270472, 0.0059997807, 0.0076988125, 0.011370321, -0.020601967, 0.022036273, 0.0066201272, -0.019256003, 0.0010785462, -0.0022506872, -0.020749917, 0.005731241, 0.002098607, -3.3170094e-05, -2.1109683e-05, 0.004671892, -0.00010471046, 0.0062030605, 0.024346586, 0.0041976036, -0.0025982987, -0.00068041804, 0.011054958, 0.012207734, 0.0035905922, 0.011222277, -0.00040325057, 0.011510457, 0.0093898745, 0.00043824583, 0.008854748, 0.0077269827, -0.009988043, 0.0062696314, 0.018318078, -0.006936647, -0.008772406, -0.017167538, -0.009524946, 0.008959651, -0.027996814, -0.010769895, -0.01108351, 0.005013237, 0.01822641, -0.012080011, -0.03706153, -0.0040231613, -0.013614214, -0.010647864, -0.0030193953, 0.004014227, -0.0071256915, 0.009109602, -0.0040731397, 0.014910683, -0.016844304, 0.023646656, 0.003471909, 0.012064704, 0.009803229, 0.006466104, -0.017503075, -0.007568902, -0.004969393, -0.0010146975, 0.007410045, -0.006745274, 0.007117787, 0.0065466426, 0.012744002, 0.0017504173, -0.0026664343, 0.0059938226, 0.0010451209, 0.0053468626, -0.013097049, 0.0010024417, 0.011175678, 0.007337152, -0.008746973, -0.011638527, -0.012048021, -0.02743613, -0.00077343005, -0.0013623269, -0.01866861, -0.0038149126, -0.010182882, -0.00277685, -0.0031944853, 0.0010395083, -0.00083874667, -0.0016909882, 0.006082208, 0.0028307238, 0.011186974, 0.020341955, -0.00456076, -0.001068676, -0.024072036, 0.0050490913, 0.015727686, 0.026132168, 0.0023899055, -0.016218262, 0.009796359, 0.0036982526, -0.008716144, -0.022779291, 0.004372829, -0.007905405, 0.020218514, -0.005289619, 0.025331046, 0.0013458995, 0.003041942, 0.032823026, -0.0057081142, 0.011677523, 0.013807835, 0.010819511, -0.010054077, -0.015719451, -0.00057966035, 0.0043765856, -0.015551442, 0.02619635, -0.013804476, 0.008063423, 0.0018990184, -0.015497983, -0.020442788, 0.004890224, 0.009093806, 0.021398282, 0.017201161, -2.0116184e-05, -0.012623009, -0.013078362, 0.00040107663, 0.0041735875, 0.004341663, 0.005560302, -0.011109239, 0.008531404, 0.014848786, -0.0105335545, -0.027679399, 0.01682903, -0.015424276, 0.006508776, 0.0052362005, -0.009868305, 0.019813627, 0.00025525814, -0.008187729, 0.005056515, -0.0034507213, 0.0034808966, -0.0064357407, -0.019909868, 0.013664957, -0.0006445207, -0.006911052, -0.0069461074, -0.0027397978, -0.040025868, -0.0053986805, -0.045536425, -0.012899813, -0.011642349, -0.016039409, -0.022173887, -0.013321245, 0.0030387545, -0.039798625, -9.403168e-05, 0.009462071, -0.018634228, 0.020751208, 0.010637106, 0.006804118, -0.020652529, -0.017860366, -0.015971402, -0.019217178, -0.0049266205, 0.018559989, 0.006325524, -0.0070832106, -0.012086984, 0.0023026834, 0.007308155, -0.005210544, -0.0035061322, 0.009141252, 0.005200869, -0.012290596, 0.008531761, -0.004696177, -0.0035753672, -0.0015514083, 0.013990197, -0.00046416553, -0.014403986, -0.024736205, 0.0019452926, -0.002989592, 0.009291678, -0.0002434572, 0.019225894, -0.021524955, 0.002919955, -0.007375296, -0.002997013, 0.006299524, -0.01631571, 0.0054444247, -0.0005943425, 0.010549255, 0.0016069668, 0.02031024, 0.0037550023, 0.018375011, -0.0001476916, 0.030848883, 0.008776635, 0.0095196385, -0.003323525, -0.0036533556, -0.004843622, 0.0073889126, -0.0035431406, -0.010665799, -0.0025559603, -0.01123759, -0.006603027, 0.02284151, 0.015275179, -0.002365366, 0.0018453422, -0.0014720507, -0.02122581, -0.03580871, -0.025392814, 0.014141019, 0.0038090202, 0.013274468, -0.013392718, 0.002182972, 0.00019309612, 0.0064475834, 0.00022228641, -0.008036653, 0.018952254, -0.019817024, -0.0025862881, -0.010968261, 0.0069342926, 0.0069920593, 0.0030446535, 0.0073210215, -0.0012179279, -0.013939758, -0.019718854, 0.0016287394, 0.0014505236, -0.011340465, 0.012245462, -0.010225799, 0.023426162, -0.0077655776, -0.00808528, 0.009112837, 0.012594163, 0.0011160573, 0.008243369, -0.0017751557, 0.009899568, -0.0051766625, -0.011418592, 0.008440668, 0.00031044817, 0.013329185, -0.0024996104, -0.006371321, -0.010434405, 0.0037083032, 0.006830674, 0.0029284947, 0.0026709156, 0.0024503793, -0.0282721, -0.007216174, -0.026217967, -0.0016287817, 0.005478918, 0.00044165953, 0.012894411, -0.00093555904, 0.014167051, -0.015797481, -0.012652293, -0.026006028, 0.0061126323, -0.012776552, -0.011174666, 0.030779123, 0.011358255, -0.0068163127, -0.0039373613, -0.0019763166, 0.006097084, 0.019663569, 0.015348299, -0.0066554155, -0.011139828, -0.013068531, -0.0057792943, 0.012710023, -0.0056861243, -0.04278344, 0.013953231, -0.008857148, -0.0011807752, -0.010826164, -0.005890236, 0.004942741, 0.008461337, 0.0025992368, 0.003287599, -0.013490066, 0.0052255876, -0.010813966, 0.008725318, -0.0018425392, -0.019934619, -0.002209695, 0.002163081, 0.01621069, 0.014764575, 0.003063213, 0.011897203, 0.0011022139, -0.007915918, -0.01007513, -0.014347433, -0.0005440535, -0.013272158, -0.0017558597, 0.016731119, 0.022984093, -0.005247047, 0.0022550228, 0.02148803, -0.021642024, 0.010558206, -0.009401541, -0.0026618075, 0.00569337, 0.0055600526, 0.0049404902, -0.010038694, -0.0005548396, 0.009159423, -0.0118958205, -0.001439541, -0.007999666, -0.007756583, 0.020762613, -0.013084889, -0.0152903395, 7.0700095e-05, 0.0052644913, 0.02167877, 0.004054973, -0.009182726, 0.026074713, 0.017821174, 0.021892907, -0.00063265034, 0.0013150086, 0.16642573, 0.11706637, -0.018395975, -0.0024694991, 0.012499405, -0.004462572, -0.01816927, -0.017272668, 0.0063009234, 0.01469515, -0.024947431, 0.0034504964, -0.03316675, 0.00322203, -0.015070392, 0.0009857422, 0.032238632, 0.011258944, -0.028051836, 0.0054639685, 0.0043001426, 0.020295009, -0.01067486, -0.011293091, -0.016432974, 0.008032665, -0.0001296526, -0.008663057, 0.025009679, -0.009760578, 0.0013559395, -0.011343493, 0.008938509, 0.004934172, 0.009837688, -0.018203836, -0.015665656, 0.007941667, 0.017875006, -0.01866547, -0.0055144103, 0.005124839, -0.006968762, -0.014053752, 0.02765102, -0.015685394, -0.0066900784, -0.01865996, -0.0012622242, 0.0036434338, -0.020221338, -0.0041470835, 0.008634307, 0.016035687, 0.0035432782, 0.0043237763, 0.009208865, 0.017986353, 0.0092434855, 0.017187279, 0.021409914, 0.008204561, -0.008714219, -0.00041293673, -0.0024737318, 0.0017502835, -0.0056201066, 0.018572517, 0.0015987614, -0.01441653, -0.009972503, 0.0026953218, 0.02070705, -0.0074229795, 0.010554435, 0.012785262, -0.015679082, 0.0158473, 0.010557838, 0.010328389, -0.038604267, -0.003252468, 0.0023018755, -0.01819187, -0.011308326, -0.004036383, 0.022447255, 0.024238177, 0.14312406, 0.0018069398, 0.009725411, -0.016076121, -0.00609399, 0.005861222, 0.0042056474, 0.0454631, -0.0045638, -0.018574981, 0.004470501, -0.008333267, 0.01728934, -0.011957635, 0.010549974, -0.006086357, 0.022520732, 0.054943804, 0.010160144, -0.011488936, 0.011770065, -0.00086697296, 0.0038379398, -0.012082211, 0.02092127, -0.020078503, 0.015088783, -0.0067324294, -0.017568672, -0.0028358852, -0.09122577, -0.004574136, 0.006270719, -0.0068731797, -0.024774957, 0.015524055, -0.016796922, 0.003650086, 0.0064338217, 0.014085393, 0.009905258, -0.012246805, -0.0017846872, 0.008936671, -0.017107336, 0.0072228964, -0.0040040794, -0.0024153094, 0.0016825495, 0.005422286, 0.020026451, -0.025429852, -0.017539432, 0.011050284, -0.016230142, 0.015133655, -0.0070289895, -0.002327302, 0.0017862946, -0.0084251035, -0.029649982, 0.011530984, 0.014605528, 0.0015341411, 0.006830583, 0.040582575, -0.0018111826, -0.017851846, -0.011851742, -0.02094311, -0.023992093, -0.0027128044, -0.000105794345, -0.0110136075, 0.015482835, 0.026363293, -0.0033453973, -0.018705528, -0.038897246, -0.027727354, 0.041714184, 0.0051608332, -0.010472856, 0.0041347183, -0.014699698, -0.009558353, 0.011186353, -0.004876418, -0.016880315, -0.008542523, 0.013669051, 0.010407536, 0.0021125942, 0.0048005786, -0.029954322, -0.006372681, -0.022537, -0.0087796105, -0.008789457, 0.0052301637, -0.015380105, 0.012192466, 0.022886835, -0.0028549095, -0.0049724723, -0.004102013, -0.0051241443, 0.011307203, 0.008272182, 0.0050910464, -0.0010644187, -0.034819696, -0.0021016346, 0.12518892, 0.027527655, -0.009425017, 0.011770366, 0.013820716, -0.002321861, 0.004306031, -0.020266717, 0.012452209, -0.0079293335, 0.006574065, 0.01351658, 0.00074365584, 0.005967855, 0.013752021, -0.012084598, 0.019127881, -0.020078406, 0.017416324, 0.0006034544, -0.018873781, 0.011002696, -0.006637026, 0.007467526, 0.020430535, -0.0045081275, -0.01266351, 0.016136961, 0.004658582, 0.0013421839, -0.011863539, 0.0019753575, 0.0034160023, -0.02699623, -0.0028407983, -0.010949498, -0.008903564, -0.011502092, -0.004635833, -0.0024911272, -0.00799245, 0.008700524, 0.039455667, -0.013875668, -0.024018254, 0.19044502, 0.005509665, 0.025019271, 0.0046650064, -0.0022705141, 0.0128301205, 0.002915508, -0.009702841, -0.0007260821, 0.0009921152, 0.00896386, 0.004959628, 0.004956278, -0.01971012, -0.013964942, -0.014775574, -0.008218558, -0.0066039762, 0.0020443397, -0.010852023, -0.0077852868, 0.010228455, -0.00042763204, -0.02076542, 0.015152405, -0.0021954982, -0.009291745, 0.015080322, -0.013095163, -0.009989585, 0.00089703314, -0.005794591, 0.0117681045, 0.0111466395, 0.015986688, 0.0011890975, 0.010860614, 0.013816893, 0.015768524, 0.00053906353, 0.014759121, 0.002856657, -0.010199975, -0.011957241, -0.021605704, -0.005707758, -0.01954056, 0.01621359, -0.0152644515, 0.027085008, -0.020123268, 0.0061061364, -0.013783016, -0.00235287, 0.0067818775, 0.0035644919, 0.021190599, -0.0045353184, -0.0038077876, 0.017755957, 0.005540603, 0.0048787068, -0.003929496, -0.015407987, -0.0092982035, 0.018358463, -0.009187816], statistics=None)]\n",
      "Content Count 2\n",
      "Dimension 3072\n"
     ]
    }
   ],
   "source": [
    "result = client.models.embed_content(\n",
    "        model=\"gemini-embedding-exp-03-07\",\n",
    "        contents=[\"Positive\", \"Negative\"],\n",
    "        config=types.EmbedContentConfig(task_type=\"SEMANTIC_SIMILARITY\") # config=types.EmbedContentConfig(output_dimensionality=10),\n",
    "    )\n",
    "print(result.embeddings)\n",
    "print(\"Content Count\",len(result.embeddings))\n",
    "print(\"Dimension\",len(result.embeddings[0].values))\n"
   ]
  }
 ],
 "metadata": {
  "kernelspec": {
   "display_name": ".venv",
   "language": "python",
   "name": "python3"
  },
  "language_info": {
   "codemirror_mode": {
    "name": "ipython",
    "version": 3
   },
   "file_extension": ".py",
   "mimetype": "text/x-python",
   "name": "python",
   "nbconvert_exporter": "python",
   "pygments_lexer": "ipython3",
   "version": "3.10.15"
  }
 },
 "nbformat": 4,
 "nbformat_minor": 2
}
