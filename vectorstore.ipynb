{
 "cells": [
  {
   "cell_type": "code",
   "execution_count": null,
   "id": "081ccbd2",
   "metadata": {},
   "outputs": [],
   "source": [
    "%load_ext autoreload\n",
    "%autoreload 2"
   ]
  },
  {
   "cell_type": "code",
   "execution_count": 1,
   "id": "5af2d8fb",
   "metadata": {},
   "outputs": [],
   "source": [
    "import json\n",
    "import numpy as np\n",
    "import psycopg2\n",
    "import faiss\n",
    "from pgvector.psycopg2 import register_vector\n",
    "from sentence_transformers import SentenceTransformer\n"
   ]
  },
  {
   "cell_type": "markdown",
   "id": "50957b44",
   "metadata": {},
   "source": [
    "# Pgvector\n",
    "- Use sentence transformer for embeddings\n",
    "- Other codes: [here](https://github.com/pgvector/pgvector-python/blob/master/examples/sentence_transformers/example.py)"
   ]
  },
  {
   "cell_type": "code",
   "execution_count": 14,
   "id": "dc7cb072",
   "metadata": {},
   "outputs": [],
   "source": [
    "class VectorStore():\n",
    "    def __init__(self, database=\"rag_db\", user=\"postgres\", password=\"password\", model=\"all-MiniLM-L6-v2\"):\n",
    "        self.conn = psycopg2.connect(host=\"localhost\", port=\"5432\", database=database, user=user, password=password)\n",
    "        self.cur = self.conn.cursor()\n",
    "        register_vector(self.conn)\n",
    "        self.model = SentenceTransformer(model)\n",
    "    \n",
    "    def terminate(self):\n",
    "        self.cur.close()\n",
    "        self.conn.close()\n",
    "    def get_embedding(self, text):\n",
    "        return self.model.encode(text)\n",
    "    def add_document(self, content):\n",
    "        embedding = self.get_embedding(content)\n",
    "        self.cur.execute(\"INSERT INTO items (name, content, embedding384) VALUES (%s, %s, %s)\", (\"demo\", content, embedding))\n",
    "        self.conn.commit()\n",
    "    def search_documents_by_distance(self, query, limit=5):\n",
    "        query_embedding = self.get_embedding(query)\n",
    "        self.cur.execute(\"\"\"\n",
    "            SELECT content, embedding384 <-> %s AS distance\n",
    "            FROM items\n",
    "            ORDER BY distance\n",
    "            LIMIT %s\n",
    "        \"\"\", (query_embedding, limit))\n",
    "        return self.cur.fetchall()\n",
    "    def search_documents_by_cosine_distance(self, query, limit=5):\n",
    "        query_embedding = self.get_embedding(query)\n",
    "        self.cur.execute(\"\"\"\n",
    "            SELECT content, embedding384 <=> %s AS cosine_distance\n",
    "            FROM items\n",
    "            ORDER BY cosine_distance\n",
    "            LIMIT %s\n",
    "        \"\"\", (query_embedding, limit))\n",
    "        return self.cur.fetchall()\n",
    "    \n",
    "vec = VectorStore(database=\"rag_db\", user=\"postgres\", password=\"password\", model=\"all-MiniLM-L6-v2\")"
   ]
  },
  {
   "cell_type": "code",
   "execution_count": 3,
   "id": "09387942",
   "metadata": {},
   "outputs": [
    {
     "name": "stdout",
     "output_type": "stream",
     "text": [
      "['Ash finally became the Pokémon Champion after years of hard work and determination.', 'Pikachu’s Thunderbolt attack saved the day during the intense battle.', 'The bond between trainers and their Pokémon is truly inspiring and heartwarming.', 'Team Rocket’s schemes often lead to chaos and trouble for innocent Pokémon.', 'A trainer abandoned their Pokémon, leaving it heartbroken and confused.', 'The forest was destroyed after a fierce battle between two powerful legendary Pokémon.', 'Charizard’s wings spread wide as it soared high above the clouds.', 'Trainers gathered in the arena, ready for the upcoming tournament.', 'A Poké Ball rolled to a stop on the ground, the capture uncertain.']\n"
     ]
    }
   ],
   "source": [
    "with open(\"data/sample.json\", \"r\") as f:\n",
    "    sample_docs = json.load(f)[\"docs\"]\n",
    "    print(sample_docs)\n",
    "for doc in sample_docs:\n",
    "    vec.add_document(doc)"
   ]
  },
  {
   "cell_type": "code",
   "execution_count": 12,
   "id": "1230a922",
   "metadata": {},
   "outputs": [
    {
     "name": "stdout",
     "output_type": "stream",
     "text": [
      "Search results for: 'Tell me more about pokeball'\n",
      "1. A Poké Ball rolled to a stop on the ground, the capture uncertain. (Distance: 0.9112)\n",
      "2. Team Rocket’s schemes often lead to chaos and trouble for innocent Pokémon. (Distance: 1.0872)\n",
      "3. Ash finally became the Pokémon Champion after years of hard work and determination. (Distance: 1.1024)\n",
      "4. The bond between trainers and their Pokémon is truly inspiring and heartwarming. (Distance: 1.1175)\n",
      "5. A trainer abandoned their Pokémon, leaving it heartbroken and confused. (Distance: 1.1713)\n"
     ]
    }
   ],
   "source": [
    "# Perform a search (distance)\n",
    "search_query = \"Tell me more about pokeball\"\n",
    "results = vec.search_documents_by_distance(search_query)\n",
    "print(f\"Search results for: '{search_query}'\")\n",
    "for i, (content, distance) in enumerate(results, 1):\n",
    "    print(f\"{i}. {content} (Distance: {distance:.4f})\")"
   ]
  },
  {
   "cell_type": "code",
   "execution_count": 18,
   "id": "1fad1eb0",
   "metadata": {},
   "outputs": [
    {
     "name": "stdout",
     "output_type": "stream",
     "text": [
      "Search results for: 'Tell me more about pokeball'\n",
      "1. A Poké Ball rolled to a stop on the ground, the capture uncertain. (Cosine Distance: 0.4152)\n",
      "2. Team Rocket’s schemes often lead to chaos and trouble for innocent Pokémon. (Cosine Distance: 0.5910)\n",
      "3. Ash finally became the Pokémon Champion after years of hard work and determination. (Cosine Distance: 0.6076)\n",
      "4. The bond between trainers and their Pokémon is truly inspiring and heartwarming. (Cosine Distance: 0.6244)\n",
      "5. A trainer abandoned their Pokémon, leaving it heartbroken and confused. (Cosine Distance: 0.6860)\n"
     ]
    }
   ],
   "source": [
    "# Perform a search (cosine distance)\n",
    "search_query = \"Tell me more about pokeball\"\n",
    "results = vec.search_documents_by_cosine_distance(search_query)\n",
    "print(f\"Search results for: '{search_query}'\")\n",
    "for i, (content, distance) in enumerate(results, 1):\n",
    "    print(f\"{i}. {content} (Cosine Distance: {distance:.4f})\")"
   ]
  },
  {
   "cell_type": "markdown",
   "id": "b3af4d41",
   "metadata": {},
   "source": [
    "# FAISS (IndexFlatL2, IndexIVFFlat, and IndexIVFPQ)\n",
    "- [FAISS vector store](https://medium.com/@amrita.thakur/understanding-faiss-vector-store-and-its-advantages-cdc7b54afe47#:~:text=In%20the%20age%20of%20information,of%20dense%20vectors%20at%20scale.)\n",
    "- [https://www.pinecone.io/learn/series/faiss/faiss-tutorial/](https://www.pinecone.io/learn/series/faiss/faiss-tutorial/)\n",
    "- [Similarity Search](https://www.datacamp.com/blog/faiss-facebook-ai-similarity-search)"
   ]
  },
  {
   "cell_type": "code",
   "execution_count": 3,
   "id": "ddaf7d6a",
   "metadata": {},
   "outputs": [],
   "source": [
    "sentence_list = [\n",
    "    \"Supervised learning involves training a model using labeled data to make predictions.\",\n",
    "    \"Unsupervised learning helps identify patterns and structures in data without explicit labels.\",\n",
    "    \"Neural networks are designed to mimic the way the human brain processes information.\",\n",
    "    \"Decision trees are used to create models that make predictions based on a series of rules.\",\n",
    "    \"Reinforcement learning teaches an agent to make optimal decisions through trial and error.\",\n",
    "    \"Overfitting occurs when a model performs well on training data but poorly on new data.\",\n",
    "    \"Transfer learning allows models to leverage knowledge learned from one task for another.\",\n",
    "    \"Gradient descent is a common optimization algorithm for training neural networks.\",\n",
    "    \"Convolutional neural networks (CNNs) are widely used for image recognition and classification.\",\n",
    "    \"Natural language processing (NLP) enables machines to understand and process human language.\",\n",
    "    \"Feature engineering improves model performance by selecting or transforming relevant data attributes.\",\n",
    "    \"Support vector machines (SVMs) are used for classification tasks by finding the best separating boundary.\",\n",
    "    \"K-means clustering groups similar data points into clusters without predefined labels.\",\n",
    "    \"Principal component analysis (PCA) reduces the dimensionality of large datasets.\",\n",
    "    \"Anomaly detection identifies unusual patterns or outliers in data using machine learning techniques.\",\n",
    "    \"Generative adversarial networks (GANs) create realistic images, text, or audio by training two competing models.\",\n",
    "    \"Hyperparameter tuning optimizes model performance by adjusting key training parameters.\",\n",
    "    \"Data augmentation enhances training datasets by applying transformations like rotation or flipping.\",\n",
    "    \"Bayesian inference provides probabilistic approaches for updating model predictions based on new data.\",\n",
    "    \"Explainable AI (XAI) helps interpret and understand complex machine learning models for transparency and accountability.\"\n",
    "]"
   ]
  },
  {
   "cell_type": "code",
   "execution_count": 4,
   "id": "ee550c83",
   "metadata": {},
   "outputs": [
    {
     "data": {
      "text/plain": [
       "(20, 384)"
      ]
     },
     "execution_count": 4,
     "metadata": {},
     "output_type": "execute_result"
    }
   ],
   "source": [
    "# Create sentence embeddings\n",
    "model = SentenceTransformer(\"all-MiniLM-L6-v2\")\n",
    "sentence_embeddings = model.encode(sentence_list)\n",
    "sentence_embeddings.shape"
   ]
  },
  {
   "cell_type": "code",
   "execution_count": 5,
   "id": "1577f5df",
   "metadata": {},
   "outputs": [
    {
     "data": {
      "text/plain": [
       "True"
      ]
     },
     "execution_count": 5,
     "metadata": {},
     "output_type": "execute_result"
    }
   ],
   "source": [
    "# Create index store\n",
    "index = faiss.IndexFlatL2(sentence_embeddings.shape[1])\n",
    "index.is_trained"
   ]
  },
  {
   "cell_type": "code",
   "execution_count": 6,
   "id": "3835eb7e",
   "metadata": {},
   "outputs": [
    {
     "data": {
      "text/plain": [
       "20"
      ]
     },
     "execution_count": 6,
     "metadata": {},
     "output_type": "execute_result"
    }
   ],
   "source": [
    "# Add to index store\n",
    "index.add(sentence_embeddings)\n",
    "index.ntotal"
   ]
  },
  {
   "cell_type": "code",
   "execution_count": 28,
   "id": "3725bbbe",
   "metadata": {},
   "outputs": [
    {
     "name": "stdout",
     "output_type": "stream",
     "text": [
      "(384,)\n",
      "Distance: [[1.575367  1.5869488 1.5956731 1.6780944]]\n",
      "List index: [[ 2 19  7  6]]\n",
      "\n",
      "Sentence: \n",
      "Neural networks are designed to mimic the way the human brain processes information.\n",
      "Explainable AI (XAI) helps interpret and understand complex machine learning models for transparency and accountability.\n",
      "Gradient descent is a common optimization algorithm for training neural networks.\n",
      "Transfer learning allows models to leverage knowledge learned from one task for another.\n"
     ]
    }
   ],
   "source": [
    "from operator import itemgetter\n",
    "k = 4 # top k\n",
    "xq = model.encode([\"How does neutral networks works?\"])\n",
    "# ! %%time\n",
    "D, I = index.search(xq, k)  # search top K for euclidean distance and list index\n",
    "\n",
    "# Get vector\n",
    "print(index.reconstruct(I[0].tolist()[0]).shape)\n",
    "\n",
    "print(f\"Distance: {D}\")\n",
    "print(f\"List index: {I}\")\n",
    "print(f\"\\nSentence: \\n{\"\\n\".join(itemgetter(*I.tolist()[0])(sentence_list))}\")"
   ]
  },
  {
   "cell_type": "code",
   "execution_count": null,
   "id": "f6f69764",
   "metadata": {},
   "outputs": [],
   "source": []
  }
 ],
 "metadata": {
  "kernelspec": {
   "display_name": ".venv",
   "language": "python",
   "name": "python3"
  },
  "language_info": {
   "codemirror_mode": {
    "name": "ipython",
    "version": 3
   },
   "file_extension": ".py",
   "mimetype": "text/x-python",
   "name": "python",
   "nbconvert_exporter": "python",
   "pygments_lexer": "ipython3",
   "version": "3.12.2"
  }
 },
 "nbformat": 4,
 "nbformat_minor": 5
}
