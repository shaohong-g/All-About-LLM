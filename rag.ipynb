{
 "cells": [
  {
   "cell_type": "code",
   "execution_count": 68,
   "id": "6dfc5a3a",
   "metadata": {},
   "outputs": [],
   "source": [
    "import faiss\n",
    "from llama_index.llms.azure_openai import AzureOpenAI\n",
    "from llama_index.embeddings.azure_openai import AzureOpenAIEmbedding\n",
    "from llama_index.core import (\n",
    "    SimpleDirectoryReader,\n",
    "    load_index_from_storage,\n",
    "    VectorStoreIndex,\n",
    "    StorageContext,\n",
    ")\n",
    "from llama_index.vector_stores.faiss import FaissVectorStore\n",
    "from llama_index.core import Settings\n",
    "from llama_index.core import get_response_synthesizer\n",
    "import logging\n",
    "import sys, os\n",
    "\n",
    "from dotenv import load_dotenv\n",
    "load_dotenv(\".env\")\n",
    "\n",
    "logging.basicConfig(\n",
    "    stream=sys.stdout, level=logging.INFO\n",
    ")  # logging.DEBUG for more verbose output\n",
    "logging.getLogger().addHandler(logging.StreamHandler(stream=sys.stdout))"
   ]
  },
  {
   "cell_type": "code",
   "execution_count": 37,
   "id": "b654c623",
   "metadata": {},
   "outputs": [],
   "source": [
    "# dimensions of text-ada-embedding-002\n",
    "d = 1536\n",
    "faiss_index = faiss.IndexFlatL2(d)\n",
    "vector_store = FaissVectorStore(faiss_index=faiss_index)\n",
    "storage_context = StorageContext.from_defaults(vector_store=vector_store)\n",
    "# vector_store = FaissVectorStore(faiss_index=faiss_index).from_persist_dir(\"./storage\")\n",
    "# storage_context = StorageContext.from_defaults(vector_store=vector_store, persist_dir=\"./storage\")"
   ]
  },
  {
   "cell_type": "code",
   "execution_count": 5,
   "id": "8de19214",
   "metadata": {},
   "outputs": [],
   "source": [
    "llm = AzureOpenAI(\n",
    "    model=os.getenv(\"AZURE_OPENAI_MODEL\"),\n",
    "    deployment_name=os.getenv(\"AZURE_OPENAI_NAME\"),\n",
    "    api_key=os.getenv(\"AZURE_OPENAI_KEY\"),\n",
    "    azure_endpoint=os.getenv(\"AZURE_OPENAI_ENDPOINT\"),\n",
    "    api_version=os.getenv(\"AZURE_OPENAI_VERSION\"),\n",
    ")\n",
    "\n",
    "# You need to deploy your own embedding model as well as your own chat completion model\n",
    "embed_model = AzureOpenAIEmbedding(\n",
    "    model=os.getenv(\"AZURE_EMBEDDING_MODEL\"),\n",
    "    deployment_name=os.getenv(\"AZURE_EMBEDDING_NAME\"),\n",
    "    api_key=os.getenv(\"AZURE_EMBEDDING_KEY\"),\n",
    "    azure_endpoint=os.getenv(\"AZURE_EMBEDDING_ENDPOINT\"),\n",
    "    api_version=os.getenv(\"AZURE_EMBEDDING_VERSION\"),\n",
    ")\n",
    "\n",
    "Settings.llm = llm\n",
    "Settings.embed_model = embed_model"
   ]
  },
  {
   "cell_type": "markdown",
   "id": "072e83cf",
   "metadata": {},
   "source": [
    "# llamaIndex\n",
    "- Example: Load resume and read from it\n",
    "- Document load -> Vector Store -> Query\n",
    "- https://docs.llamaindex.ai/en/stable/module_guides/indexing/vector_store_index/"
   ]
  },
  {
   "cell_type": "markdown",
   "id": "de4a3681",
   "metadata": {},
   "source": [
    "## Document Load\n",
    "- https://docs.llamaindex.ai/en/stable/module_guides/loading/simpledirectoryreader/"
   ]
  },
  {
   "cell_type": "code",
   "execution_count": null,
   "id": "5c553fc7",
   "metadata": {},
   "outputs": [
    {
     "name": "stdout",
     "output_type": "stream",
     "text": [
      "The LLM sees this: \n",
      " Metadata: category=>finance::author=>LlamaIndex\n",
      "-----\n",
      "Content: This is a super-customized document\n",
      "\n",
      "######################\n",
      "\n",
      "The Embedding model sees this: \n",
      " Metadata: file_name=>super_secret_document.txt::category=>finance::author=>LlamaIndex\n",
      "-----\n",
      "Content: This is a super-customized document\n"
     ]
    }
   ],
   "source": [
    "from llama_index.core import Document\n",
    "from llama_index.core.schema import MetadataMode\n",
    "\n",
    "document = Document(\n",
    "    text=\"This is a super-customized document\",\n",
    "    metadata={\n",
    "        \"file_name\": \"super_secret_document.txt\",\n",
    "        \"category\": \"finance\",\n",
    "        \"author\": \"LlamaIndex\",\n",
    "    },\n",
    "    excluded_llm_metadata_keys=[\"file_name\"],\n",
    "    metadata_seperator=\"::\",\n",
    "    metadata_template=\"{key}=>{value}\",\n",
    "    text_template=\"Metadata: {metadata_str}\\n-----\\nContent: {content}\",\n",
    ")\n",
    "\n",
    "print(\n",
    "    \"The LLM sees this: \\n\",\n",
    "    document.get_content(metadata_mode=MetadataMode.LLM),\n",
    ")\n",
    "print(\"\\n######################\\n\")\n",
    "print(\n",
    "    \"The Embedding model sees this: \\n\",\n",
    "    document.get_content(metadata_mode=MetadataMode.EMBED),\n",
    ")"
   ]
  },
  {
   "cell_type": "code",
   "execution_count": 6,
   "id": "2e246fc8",
   "metadata": {},
   "outputs": [
    {
     "data": {
      "text/plain": [
       "[Document(id_='897d932f-3b5a-4a1b-9d8f-e157043f84bf', embedding=None, metadata={'page_label': '1', 'file_name': 'my_resume.pdf', 'file_path': 'data/my_resume.pdf', 'file_type': 'application/pdf', 'file_size': 250772, 'creation_date': '2025-04-27', 'last_modified_date': '2025-04-27'}, excluded_embed_metadata_keys=['file_name', 'file_type', 'file_size', 'creation_date', 'last_modified_date', 'last_accessed_date'], excluded_llm_metadata_keys=['file_name', 'file_type', 'file_size', 'creation_date', 'last_modified_date', 'last_accessed_date'], relationships={}, metadata_template='{key}: {value}', metadata_separator='\\n', text_resource=MediaResource(embeddings=None, data=None, text=\"GAN SHAO HONG \\n(+65) 90855781 | shaohong.g97@gmail.com | www.linkedin.com/in/g-shaohong/ | https://github.com/shaohong-g  \\n \\nPROFESSIONAL SUMMARY \\n• Machine Learning Engineer with 3+ years of experience in developing highly scalable AI models, implementing ML \\npipelines, and deploying models in cloud environments.  \\n• Proficient in Python, TensorFlow, and PyTorch, with experience in distributed computing (GPU, AWS SageMaker) and \\ndata-driven decision-making.  \\n• Passionate about delivering cutting-edge AI solutions that enhance business operations and user experience.  \\n \\nEDUCATION \\nSingapore Management University  \\nBSc Information Systems (Business Analytics & Artificial Intelligence) Aug 2019 – Apr 2023 \\nCum Laude (Distinction) \\nRelated Modules: Deep Learning, Web Development, Social Analytics, Natural Language Communication \\n \\nNgee Ann Polytechnic  \\nDiploma in Business Studies (International Business) Apr 2014 – Mar 2017 \\nRelated Modules: Financial Management, Decision Support with Spreadsheets, Business Analytics \\n \\nEXPERIENCE \\nUBS \\nAI Research Scientist Jan 2025 – Present \\n• Apply Explainable AI (XAI) methods such as SHAP (SHapley Additive exPlanations) to improve interpretability and \\ntransparency in the legal litigation domain. \\n \\nSoftware Engineer (full-stack) Aug 2023 – Jan 2025 \\n• Core developer for Performance Data Mart, a one-stop application that aggregates data from multiple source systems, \\nwhich increases visibility in the data warehouse and reduces data gaps among stakeholders. \\n• Upgrade and update legacy codes used in Java Spring applications, oracle packages , and deployment pipelines in Azure \\nand Gitlab. \\n• Enhanced user experience and redesigned application visuals by decoupling and creating reusable UI components. \\n• Integrate AI chatbot to allow stakeholders to retrieve in-house information easily.  \\n• Developed Power BI dashboards extensively used by L2 and upper management stakeholders for compliance, \\nsuccessfully reducing SLA lead time by 10% to improve financial controller productivity.  \\n \\nAsurion  \\nIntern – Technology (Data Science, AI & Machine Learning) Jan 2023 – May 2023 \\n• Planned and implemented the Object Detection/Segmentation workflow lifecycle, including labeling, training, and model \\ndeployment in AWS SageMaker. \\n• Upgrade and update maintenance codes from yolov5 model to yolov8 model and integrate non-max suppression (NMS) \\nlogic/layer in the model architecture through onnx model framework. \\n• Retrain and fine-tune the existing model by adding two additional classes for phone screen detection using Tensorflow.  \\n• Create a web prototype to demonstrate live object detection inference from a webcam using TensorFlow.js. \\n \\nInfineon Technologies  \\nMachine Learning and Test Verification Intern Aug 2022 – Jan 2023 \\n• Explore state-of-the-art object detection architectures such as Faster RCNN, YOLO, and Single Shot Detector for object \\ndetection on sensor data. \\n• Created a customized labeling GUI to annotate radar frames against corresponding video frames, allowing reviewing of \\nbounding boxes in each data sample and automatically identifying bounding box's coordinates.  \\n• Benchmarked and significantly improved fps and mAP metrics for deploying models on Raspberry Pi devices. \\n \", path=None, url=None, mimetype=None), image_resource=None, audio_resource=None, video_resource=None, text_template='{metadata_str}\\n\\n{content}'),\n",
       " Document(id_='abb5dcdd-6203-42a7-99fe-16177741713b', embedding=None, metadata={'page_label': '2', 'file_name': 'my_resume.pdf', 'file_path': 'data/my_resume.pdf', 'file_type': 'application/pdf', 'file_size': 250772, 'creation_date': '2025-04-27', 'last_modified_date': '2025-04-27'}, excluded_embed_metadata_keys=['file_name', 'file_type', 'file_size', 'creation_date', 'last_modified_date', 'last_accessed_date'], excluded_llm_metadata_keys=['file_name', 'file_type', 'file_size', 'creation_date', 'last_modified_date', 'last_accessed_date'], relationships={}, metadata_template='{key}: {value}', metadata_separator='\\n', text_resource=MediaResource(embeddings=None, data=None, text=\"Neuron Mobility  \\nData Engineering Intern May 2022 – Aug 2022 \\n• Pipeline migration from existing Jobber 'jobs' in EC2 to Argo workflows.  \\n• Optimize codes using various implementations such as server-side cursors, object-oriented design patterns, and parallel \\nprocessing with Python Celery to reduce time and space complexity. \\n• Work with time series and geospatial data and expose to AWS services such as Redshift, RDS, S3, EC2, EKS, and ECR. \\n• Develop a Flask application that integrates with the Slack application and allows business users to retrieve their queries \\nfrom Redshift/RDS based on their inputs, thereby reducing the number of tickets, and automating the retrieval process. \\n \\nHewlett-Packard (HP)  \\nIntelligent Robotic Process Automation and Analytics Developer Jul 2021 – Jan 2022 \\n• Spearheaded end-to-end project life cycle of activities including analysis, design, testing , and deployment phases of \\nautomation workflows. \\n• Automated dashboard reporting workflow and reduced time spent from 8 hours to 20 minutes using Microsoft Power \\nAutomate, and Office Scripts (vba). \\n• Member of Intelligent Automation Circle and involved in Data Analytics team sharing . \\n \\nNOTABLE PROJECTS & HACKATHONS \\nUBS TechNOVA Hackathon – 2nd place Nov 2024 – Nov 2024 \\n• Developed an anomaly detection solution that analyzes conversations to identify potential compliance risks and flag \\ninstances of policy, regulatory, or legal violations. In talks on moving this to production. \\n• Tech stacks: LLMs and RAG technologies (Azure OpenAI, Azure Search), python Flask, and React web framework.  \\n \\nUBS AI Kettle Oct 2024 – Nov 2024 \\n• Kaggle-style competition on FX Trading prediction. (predicting transaction volumes of selected currency pairs)  \\n• Developed an LSTM model that outperformed the baseline score using PyTorch. \\n \\nCustom Faster-CNN Implementation  Nov 2022 – Dec 2022 \\n• Re-created fcnn architecture using TensorFlow and trained a car detection model with CUDA. \\n \\nSMU Ellipsis Tech Series 2022 sponsored by Goldman Sachs – Top 10 teams Aug 2022 – Aug 2022 \\n• Developed an integrated platform to encourage Fintech companies to invest in startups that align with their interest. \\n• Recommendation score is weighted based on key components such as collaborative filtering on similar users. \\n• Tech stacks: frontend (Vue, tailwind), backend (python Flask, SQLAlchemy, TensorFlow, sklearn), Kubernetes, AWS  \\n \\nCoursework: Social Analytics Jan 2022 – Apr 2022 \\n• Partnered with The Singapore Children's Society (SCS) to tackle the lack of engagement and social media presence using \\ntext and network analysis.  \\n• Tech stacks: Python (pandas, selenium, sklearn, nltk, genism, networkx), AWS Rekognition, AWS Comprehend  \\n \\nSKILLS & INTERESTS \\n• Programming Languages: Python, Java, MySQL, PHP, JavaScript \\n• Familiar Libraries / Frameworks: Python (Flask, Fastapi, NumPy, Pandas, Scikit-learn, Matplotlib, TensorFlow, PyTorch), \\nJavaScript (VueJs, React), Java (Spring) \\n• Trained in OS: Windows, Linux \\n• Work Programmes: Azure, AWS, Figma, Tableau, PowerBI, Gitlab, Argo \\n• Certificates:  \\no Microsoft Certified: Azure AI Fundamentals \\no Microsoft Certified: Azure Administrator Associate \\no AWS Certified Solutions Architect – Associate \\no Deep Learning Specialization from DeepLearning.AI \\no Oracle Certified Foundations Associate (Java) \\no SAS Certified Specialist: Machine Learning Using SAS Viya 3.5 \\no CodeIT Advanced: Advanced Data Structures & Algorithms \", path=None, url=None, mimetype=None), image_resource=None, audio_resource=None, video_resource=None, text_template='{metadata_str}\\n\\n{content}')]"
      ]
     },
     "execution_count": 6,
     "metadata": {},
     "output_type": "execute_result"
    }
   ],
   "source": [
    "reader = SimpleDirectoryReader(input_files=[\"./data/my_resume.pdf\"])\n",
    "documents = reader.load_data()\n",
    "documents"
   ]
  },
  {
   "cell_type": "code",
   "execution_count": 8,
   "id": "5bc85d79",
   "metadata": {},
   "outputs": [
    {
     "data": {
      "text/plain": [
       "{'id_': '897d932f-3b5a-4a1b-9d8f-e157043f84bf',\n",
       " 'embedding': None,\n",
       " 'metadata': {'page_label': '1',\n",
       "  'file_name': 'my_resume.pdf',\n",
       "  'file_path': 'data/my_resume.pdf',\n",
       "  'file_type': 'application/pdf',\n",
       "  'file_size': 250772,\n",
       "  'creation_date': '2025-04-27',\n",
       "  'last_modified_date': '2025-04-27'},\n",
       " 'excluded_embed_metadata_keys': ['file_name',\n",
       "  'file_type',\n",
       "  'file_size',\n",
       "  'creation_date',\n",
       "  'last_modified_date',\n",
       "  'last_accessed_date'],\n",
       " 'excluded_llm_metadata_keys': ['file_name',\n",
       "  'file_type',\n",
       "  'file_size',\n",
       "  'creation_date',\n",
       "  'last_modified_date',\n",
       "  'last_accessed_date'],\n",
       " 'relationships': {},\n",
       " 'metadata_template': '{key}: {value}',\n",
       " 'metadata_separator': '\\n',\n",
       " 'text_resource': MediaResource(embeddings=None, data=None, text=\"GAN SHAO HONG \\n(+65) 90855781 | shaohong.g97@gmail.com | www.linkedin.com/in/g-shaohong/ | https://github.com/shaohong-g  \\n \\nPROFESSIONAL SUMMARY \\n• Machine Learning Engineer with 3+ years of experience in developing highly scalable AI models, implementing ML \\npipelines, and deploying models in cloud environments.  \\n• Proficient in Python, TensorFlow, and PyTorch, with experience in distributed computing (GPU, AWS SageMaker) and \\ndata-driven decision-making.  \\n• Passionate about delivering cutting-edge AI solutions that enhance business operations and user experience.  \\n \\nEDUCATION \\nSingapore Management University  \\nBSc Information Systems (Business Analytics & Artificial Intelligence) Aug 2019 – Apr 2023 \\nCum Laude (Distinction) \\nRelated Modules: Deep Learning, Web Development, Social Analytics, Natural Language Communication \\n \\nNgee Ann Polytechnic  \\nDiploma in Business Studies (International Business) Apr 2014 – Mar 2017 \\nRelated Modules: Financial Management, Decision Support with Spreadsheets, Business Analytics \\n \\nEXPERIENCE \\nUBS \\nAI Research Scientist Jan 2025 – Present \\n• Apply Explainable AI (XAI) methods such as SHAP (SHapley Additive exPlanations) to improve interpretability and \\ntransparency in the legal litigation domain. \\n \\nSoftware Engineer (full-stack) Aug 2023 – Jan 2025 \\n• Core developer for Performance Data Mart, a one-stop application that aggregates data from multiple source systems, \\nwhich increases visibility in the data warehouse and reduces data gaps among stakeholders. \\n• Upgrade and update legacy codes used in Java Spring applications, oracle packages , and deployment pipelines in Azure \\nand Gitlab. \\n• Enhanced user experience and redesigned application visuals by decoupling and creating reusable UI components. \\n• Integrate AI chatbot to allow stakeholders to retrieve in-house information easily.  \\n• Developed Power BI dashboards extensively used by L2 and upper management stakeholders for compliance, \\nsuccessfully reducing SLA lead time by 10% to improve financial controller productivity.  \\n \\nAsurion  \\nIntern – Technology (Data Science, AI & Machine Learning) Jan 2023 – May 2023 \\n• Planned and implemented the Object Detection/Segmentation workflow lifecycle, including labeling, training, and model \\ndeployment in AWS SageMaker. \\n• Upgrade and update maintenance codes from yolov5 model to yolov8 model and integrate non-max suppression (NMS) \\nlogic/layer in the model architecture through onnx model framework. \\n• Retrain and fine-tune the existing model by adding two additional classes for phone screen detection using Tensorflow.  \\n• Create a web prototype to demonstrate live object detection inference from a webcam using TensorFlow.js. \\n \\nInfineon Technologies  \\nMachine Learning and Test Verification Intern Aug 2022 – Jan 2023 \\n• Explore state-of-the-art object detection architectures such as Faster RCNN, YOLO, and Single Shot Detector for object \\ndetection on sensor data. \\n• Created a customized labeling GUI to annotate radar frames against corresponding video frames, allowing reviewing of \\nbounding boxes in each data sample and automatically identifying bounding box's coordinates.  \\n• Benchmarked and significantly improved fps and mAP metrics for deploying models on Raspberry Pi devices. \\n \", path=None, url=None, mimetype=None),\n",
       " 'image_resource': None,\n",
       " 'audio_resource': None,\n",
       " 'video_resource': None,\n",
       " 'text_template': '{metadata_str}\\n\\n{content}'}"
      ]
     },
     "execution_count": 8,
     "metadata": {},
     "output_type": "execute_result"
    }
   ],
   "source": [
    "vars(documents[0])"
   ]
  },
  {
   "cell_type": "markdown",
   "id": "4dd8f610",
   "metadata": {},
   "source": [
    "## Test Chunking (Independent section)"
   ]
  },
  {
   "cell_type": "code",
   "execution_count": 1,
   "id": "da0da70d",
   "metadata": {},
   "outputs": [
    {
     "data": {
      "text/plain": [
       "True"
      ]
     },
     "execution_count": 1,
     "metadata": {},
     "output_type": "execute_result"
    }
   ],
   "source": [
    "import sys, os, json\n",
    "import pandas as pd\n",
    "\n",
    "import tiktoken\n",
    "from llama_index.embeddings.azure_openai import AzureOpenAIEmbedding\n",
    "from llama_index.core.callbacks import CallbackManager, TokenCountingHandler, LlamaDebugHandler\n",
    "from llama_index.core.schema import MetadataMode\n",
    "from llama_index.core.node_parser import JSONNodeParser, SentenceSplitter\n",
    "from llama_index.core import (\n",
    "    Document,\n",
    "    VectorStoreIndex,\n",
    ")\n",
    "from dotenv import load_dotenv\n",
    "load_dotenv(\".env\")"
   ]
  },
  {
   "cell_type": "code",
   "execution_count": 2,
   "id": "69d88b74",
   "metadata": {},
   "outputs": [],
   "source": [
    "EMBEDDING_ENDPOINT = os.getenv(\"AZURE_EMBEDDING_ENDPOINT\")\n",
    "EMBEDDING_API_KEY=os.getenv(\"AZURE_EMBEDDING_KEY\")\n",
    "EMBEDDING_API_VERSION=os.getenv(\"AZURE_EMBEDDING_VERSION\")\n",
    "EMBEDDING_DEPLOYMENT_NAME = os.getenv(\"AZURE_EMBEDDING_NAME\")\n",
    "EMBEDDING_MODEL_NAME= os.getenv(\"AZURE_EMBEDDING_MODEL\")\n",
    "\n",
    "llama_debug = LlamaDebugHandler(print_trace_on_end=True)\n",
    "\n",
    "token_counter2 = TokenCountingHandler(\n",
    "    tokenizer=tiktoken.encoding_for_model(EMBEDDING_MODEL_NAME).encode\n",
    ")\n",
    "def get_token_info2(reset=False):\n",
    "    print(\n",
    "        \"Embedding Tokens: \",\n",
    "        token_counter2.total_embedding_token_count,\n",
    "        \"\\n\",\n",
    "        \"LLM Prompt Tokens: \",\n",
    "        token_counter2.prompt_llm_token_count,\n",
    "        \"\\n\",\n",
    "        \"LLM Completion Tokens: \",\n",
    "        token_counter2.completion_llm_token_count,\n",
    "        \"\\n\",\n",
    "        \"Total LLM Token Count: \",\n",
    "        token_counter2.total_llm_token_count,\n",
    "        \"\\n\",\n",
    "    )\n",
    "    if reset:\n",
    "        token_counter2.reset_counts()\n",
    "\n",
    "# logging.basicConfig(stream=sys.stdout, level=logging.DEBUG)\n",
    "# logging.getLogger().addHandler(logging.StreamHandler(stream=sys.stdout))\n",
    "\n",
    "embed_model = AzureOpenAIEmbedding(\n",
    "    model=EMBEDDING_MODEL_NAME,\n",
    "    deployment_name=EMBEDDING_DEPLOYMENT_NAME,\n",
    "    api_key=EMBEDDING_API_KEY,\n",
    "    azure_endpoint=EMBEDDING_ENDPOINT,\n",
    "    api_version=EMBEDDING_API_VERSION,\n",
    "    callback_manager=CallbackManager([token_counter2, llama_debug])\n",
    ")\n"
   ]
  },
  {
   "cell_type": "code",
   "execution_count": 15,
   "id": "7f2b2a24",
   "metadata": {},
   "outputs": [
    {
     "data": {
      "text/html": [
       "<div>\n",
       "<style scoped>\n",
       "    .dataframe tbody tr th:only-of-type {\n",
       "        vertical-align: middle;\n",
       "    }\n",
       "\n",
       "    .dataframe tbody tr th {\n",
       "        vertical-align: top;\n",
       "    }\n",
       "\n",
       "    .dataframe thead th {\n",
       "        text-align: right;\n",
       "    }\n",
       "</style>\n",
       "<table border=\"1\" class=\"dataframe\">\n",
       "  <thead>\n",
       "    <tr style=\"text-align: right;\">\n",
       "      <th></th>\n",
       "      <th>Unnamed: 0</th>\n",
       "      <th>abilities</th>\n",
       "      <th>against_bug</th>\n",
       "      <th>against_dark</th>\n",
       "      <th>against_dragon</th>\n",
       "      <th>against_electric</th>\n",
       "      <th>against_fairy</th>\n",
       "      <th>against_fight</th>\n",
       "      <th>against_fire</th>\n",
       "      <th>against_flying</th>\n",
       "      <th>...</th>\n",
       "      <th>pokedex_number</th>\n",
       "      <th>sp_attack</th>\n",
       "      <th>sp_defense</th>\n",
       "      <th>speed</th>\n",
       "      <th>type1</th>\n",
       "      <th>type2</th>\n",
       "      <th>weight_kg</th>\n",
       "      <th>generation</th>\n",
       "      <th>is_legendary</th>\n",
       "      <th>description</th>\n",
       "    </tr>\n",
       "  </thead>\n",
       "  <tbody>\n",
       "    <tr>\n",
       "      <th>0</th>\n",
       "      <td>0</td>\n",
       "      <td>['Overgrow', 'Chlorophyll']</td>\n",
       "      <td>1.0</td>\n",
       "      <td>1.0</td>\n",
       "      <td>1.0</td>\n",
       "      <td>0.5</td>\n",
       "      <td>0.5</td>\n",
       "      <td>0.5</td>\n",
       "      <td>2.0</td>\n",
       "      <td>2.0</td>\n",
       "      <td>...</td>\n",
       "      <td>1</td>\n",
       "      <td>65</td>\n",
       "      <td>65</td>\n",
       "      <td>45</td>\n",
       "      <td>grass</td>\n",
       "      <td>poison</td>\n",
       "      <td>6.9</td>\n",
       "      <td>1</td>\n",
       "      <td>0</td>\n",
       "      <td>### Bulbasaur: Detailed Summary\\n\\n#### 1. **C...</td>\n",
       "    </tr>\n",
       "    <tr>\n",
       "      <th>1</th>\n",
       "      <td>1</td>\n",
       "      <td>['Overgrow', 'Chlorophyll']</td>\n",
       "      <td>1.0</td>\n",
       "      <td>1.0</td>\n",
       "      <td>1.0</td>\n",
       "      <td>0.5</td>\n",
       "      <td>0.5</td>\n",
       "      <td>0.5</td>\n",
       "      <td>2.0</td>\n",
       "      <td>2.0</td>\n",
       "      <td>...</td>\n",
       "      <td>2</td>\n",
       "      <td>80</td>\n",
       "      <td>80</td>\n",
       "      <td>60</td>\n",
       "      <td>grass</td>\n",
       "      <td>poison</td>\n",
       "      <td>13.0</td>\n",
       "      <td>1</td>\n",
       "      <td>0</td>\n",
       "      <td>### Ivysaur: Detailed Summary\\n\\n#### 1. **Cha...</td>\n",
       "    </tr>\n",
       "    <tr>\n",
       "      <th>2</th>\n",
       "      <td>2</td>\n",
       "      <td>['Overgrow', 'Chlorophyll']</td>\n",
       "      <td>1.0</td>\n",
       "      <td>1.0</td>\n",
       "      <td>1.0</td>\n",
       "      <td>0.5</td>\n",
       "      <td>0.5</td>\n",
       "      <td>0.5</td>\n",
       "      <td>2.0</td>\n",
       "      <td>2.0</td>\n",
       "      <td>...</td>\n",
       "      <td>3</td>\n",
       "      <td>122</td>\n",
       "      <td>120</td>\n",
       "      <td>80</td>\n",
       "      <td>grass</td>\n",
       "      <td>poison</td>\n",
       "      <td>100.0</td>\n",
       "      <td>1</td>\n",
       "      <td>0</td>\n",
       "      <td>### **Venusaur: Detailed Summary**\\n\\nVenusaur...</td>\n",
       "    </tr>\n",
       "    <tr>\n",
       "      <th>3</th>\n",
       "      <td>3</td>\n",
       "      <td>['Blaze', 'Solar Power']</td>\n",
       "      <td>0.5</td>\n",
       "      <td>1.0</td>\n",
       "      <td>1.0</td>\n",
       "      <td>1.0</td>\n",
       "      <td>0.5</td>\n",
       "      <td>1.0</td>\n",
       "      <td>0.5</td>\n",
       "      <td>1.0</td>\n",
       "      <td>...</td>\n",
       "      <td>4</td>\n",
       "      <td>60</td>\n",
       "      <td>50</td>\n",
       "      <td>65</td>\n",
       "      <td>fire</td>\n",
       "      <td>NaN</td>\n",
       "      <td>8.5</td>\n",
       "      <td>1</td>\n",
       "      <td>0</td>\n",
       "      <td>### Detailed Summary of Charmander\\n\\nCharmand...</td>\n",
       "    </tr>\n",
       "    <tr>\n",
       "      <th>4</th>\n",
       "      <td>4</td>\n",
       "      <td>['Blaze', 'Solar Power']</td>\n",
       "      <td>0.5</td>\n",
       "      <td>1.0</td>\n",
       "      <td>1.0</td>\n",
       "      <td>1.0</td>\n",
       "      <td>0.5</td>\n",
       "      <td>1.0</td>\n",
       "      <td>0.5</td>\n",
       "      <td>1.0</td>\n",
       "      <td>...</td>\n",
       "      <td>5</td>\n",
       "      <td>80</td>\n",
       "      <td>65</td>\n",
       "      <td>80</td>\n",
       "      <td>fire</td>\n",
       "      <td>NaN</td>\n",
       "      <td>19.0</td>\n",
       "      <td>1</td>\n",
       "      <td>0</td>\n",
       "      <td>### Detailed Summary of Charmeleon\\n\\nCharmele...</td>\n",
       "    </tr>\n",
       "  </tbody>\n",
       "</table>\n",
       "<p>5 rows × 43 columns</p>\n",
       "</div>"
      ],
      "text/plain": [
       "   Unnamed: 0                    abilities  against_bug  against_dark  \\\n",
       "0           0  ['Overgrow', 'Chlorophyll']          1.0           1.0   \n",
       "1           1  ['Overgrow', 'Chlorophyll']          1.0           1.0   \n",
       "2           2  ['Overgrow', 'Chlorophyll']          1.0           1.0   \n",
       "3           3     ['Blaze', 'Solar Power']          0.5           1.0   \n",
       "4           4     ['Blaze', 'Solar Power']          0.5           1.0   \n",
       "\n",
       "   against_dragon  against_electric  against_fairy  against_fight  \\\n",
       "0             1.0               0.5            0.5            0.5   \n",
       "1             1.0               0.5            0.5            0.5   \n",
       "2             1.0               0.5            0.5            0.5   \n",
       "3             1.0               1.0            0.5            1.0   \n",
       "4             1.0               1.0            0.5            1.0   \n",
       "\n",
       "   against_fire  against_flying  ...  pokedex_number  sp_attack  sp_defense  \\\n",
       "0           2.0             2.0  ...               1         65          65   \n",
       "1           2.0             2.0  ...               2         80          80   \n",
       "2           2.0             2.0  ...               3        122         120   \n",
       "3           0.5             1.0  ...               4         60          50   \n",
       "4           0.5             1.0  ...               5         80          65   \n",
       "\n",
       "   speed  type1   type2  weight_kg  generation  is_legendary  \\\n",
       "0     45  grass  poison        6.9           1             0   \n",
       "1     60  grass  poison       13.0           1             0   \n",
       "2     80  grass  poison      100.0           1             0   \n",
       "3     65   fire     NaN        8.5           1             0   \n",
       "4     80   fire     NaN       19.0           1             0   \n",
       "\n",
       "                                         description  \n",
       "0  ### Bulbasaur: Detailed Summary\\n\\n#### 1. **C...  \n",
       "1  ### Ivysaur: Detailed Summary\\n\\n#### 1. **Cha...  \n",
       "2  ### **Venusaur: Detailed Summary**\\n\\nVenusaur...  \n",
       "3  ### Detailed Summary of Charmander\\n\\nCharmand...  \n",
       "4  ### Detailed Summary of Charmeleon\\n\\nCharmele...  \n",
       "\n",
       "[5 rows x 43 columns]"
      ]
     },
     "execution_count": 15,
     "metadata": {},
     "output_type": "execute_result"
    }
   ],
   "source": [
    "POKEMON_FILE_SAVED = \"./data/pokemon_updated.csv\"\n",
    "df = pd.read_csv(POKEMON_FILE_SAVED)\n",
    "df.head()"
   ]
  },
  {
   "cell_type": "code",
   "execution_count": 16,
   "id": "e63e1ee3",
   "metadata": {},
   "outputs": [],
   "source": [
    "df[\"description\"] = df[\"description\"].apply(lambda x: x[:1000])\n",
    "df_json = df.to_json(orient = \"records\")\n",
    "df_json = json.loads(df_json)[:3]\n",
    "\n",
    "documents = []\n",
    "for each_pokemon in df_json:\n",
    "    documents.append(\n",
    "        Document(\n",
    "            # text=json.dumps(each_pokemon),\n",
    "            text=json.dumps(each_pokemon[\"description\"]),\n",
    "            metadata={\n",
    "                \"name\": each_pokemon[\"name\"],\n",
    "                \"generation\": each_pokemon[\"generation\"],\n",
    "                \"type1\": each_pokemon[\"type1\"],\n",
    "                \"type2\": each_pokemon[\"type2\"],\n",
    "                \"is_legendary\": each_pokemon[\"is_legendary\"]\n",
    "            },\n",
    "            id_= each_pokemon[\"name\"],\n",
    "            metadata_seperator=\"::\",\n",
    "            metadata_template=\"{key}=>{value}\",\n",
    "            text_template=\"Metadata: {metadata_str}\\n-----\\nContent: {content}\",\n",
    "            # excluded_embed_metadata_keys=[\"name\",\"generation\",\"type1\",\"type2\",\"is_legendary\"],\n",
    "            # excluded_llm_metadata_keys=[\"name\",\"generation\",\"type1\",\"type2\",\"is_legendary\"]\n",
    "        )\n",
    "    )"
   ]
  },
  {
   "cell_type": "code",
   "execution_count": 60,
   "id": "0785ccfa",
   "metadata": {},
   "outputs": [
    {
     "name": "stdout",
     "output_type": "stream",
     "text": [
      "name=>Venusaur generation=>1 type1=>grass type2=>poison is_legendary=>0\n",
      "['name', 'Venusaur', 'generation', '1', 'type1', 'grass', 'type2', 'poison', 'is_legendary', '0']\n",
      "71 10\n"
     ]
    },
    {
     "data": {
      "text/plain": [
       "(22, 17)"
      ]
     },
     "execution_count": 60,
     "metadata": {},
     "output_type": "execute_result"
    }
   ],
   "source": [
    "import re\n",
    "delimiter = \"::|=>|\\\\s\"\n",
    "target_sentence = documents[2].get_metadata_str().replace(\"::\", \" \")\n",
    "split_only_related_words = re.split(delimiter, target_sentence)\n",
    "encoder = tiktoken.encoding_for_model(EMBEDDING_MODEL_NAME).encode\n",
    "\n",
    "print(target_sentence)\n",
    "print(split_only_related_words)\n",
    "\n",
    "print(len(target_sentence), len( split_only_related_words ) )\n",
    "len(tiktoken.encoding_for_model(EMBEDDING_MODEL_NAME).encode(target_sentence)), len(tiktoken.encoding_for_model(EMBEDDING_MODEL_NAME).encode(\" \".join(split_only_related_words) ))\n",
    "\n",
    "# len(tiktoken.encoding_for_model(EMBEDDING_MODEL_NAME).encode(r'\"### Bulbasaur: Detailed Summary\\\\n\\\\n#### 1. **Characteristics**\\\\nBulbasaur is a dual-type **Grass/Poison** Pok\\\\u00e9mon and') )"
   ]
  },
  {
   "cell_type": "code",
   "execution_count": 48,
   "id": "e6d302ef",
   "metadata": {},
   "outputs": [
    {
     "data": {
      "text/plain": [
       "[(1026,\n",
       "  153,\n",
       "  '\"### Bulbasaur: Detailed Summary\\\\n\\\\n#### 1. **Characteristics**\\\\nBulbasaur is a dual-type **Grass/Poison** Pok\\\\u00e9mon and is the first Pok\\\\u00e9mon in the National Pok\\\\u00e9dex (#001). It is known for its unique appearance, which features a small, quadrupedal body with a plant bulb growing on its back. \\\\n\\\\n- **Physical Appearance**: Bulbasaur has a teal-blue body with darker spots scattered across its skin. Its large, red eyes and pointed ears give it a cute yet determined look. The bulb on its back is its most defining feature, which grows as it evolves and eventually blooms into a large flower in its final evolution, Venusaur.\\\\n- **Height and Weight**: Bulbasaur stands at 0.7 meters (2\\'04\\\\\") tall and weighs 6.9 kilograms (15.2 lbs).\\\\n- **Abilities**: Bulbasaur typically has the ability **Overgrow**, which boosts the power of Grass-type moves when its HP is low. Some Bulbasaur may also have the hidden ability **Chlorophyll**, which increases its speed in sunny weather.\\\\n- **Evolution**: Bulbasaur evolves in\"'),\n",
       " (1025,\n",
       "  165,\n",
       "  '\"### Ivysaur: Detailed Summary\\\\n\\\\n#### 1. **Characteristics**\\\\nIvysaur is a dual-type **Grass/Poison** Pok\\\\u00e9mon and the evolved form of Bulbasaur, evolving at level 16. It is the middle stage in the evolutionary line, with its final form being Venusaur, which it evolves into at level 32. Ivysaur is a quadrupedal Pok\\\\u00e9mon with a sturdy, stocky build. Its body is primarily blue-green, with darker patches on its skin. It has pointed ears, red eyes, and small fangs protruding from its upper jaw.\\\\n\\\\nThe most distinctive feature of Ivysaur is the large pink flower bud on its back, which is supported by thick green leaves. This bud is a sign of its evolution from Bulbasaur and is a precursor to the full bloom of Venusaur. As Ivysaur grows stronger, the bud begins to bloom, and its fragrance becomes more pronounced. Its legs are muscular, allowing it to support the weight of the growing bud.\\\\n\\\\n#### 2. **Behavior**\\\\nIvysaur is a calm and determined Pok\\\\u00e9mon, often seen as more mature and focused compared \"'),\n",
       " (1032,\n",
       "  154,\n",
       "  '\"### **Venusaur: Detailed Summary**\\\\n\\\\nVenusaur is a dual-type Grass/Poison Pok\\\\u00e9mon introduced in Generation I. It is the final evolution of Bulbasaur, evolving from Ivysaur at level 32. Known for its large, plant-like appearance and powerful abilities, Venusaur is one of the most iconic Pok\\\\u00e9mon in the franchise.\\\\n\\\\n---\\\\n\\\\n### **1. Characteristics**\\\\n- **Appearance:** Venusaur is a large, quadrupedal Pok\\\\u00e9mon resembling a dinosaur or amphibian. It has a bulky, green body covered in darker green spots. Its most distinctive feature is the large pink flower with white spots and broad green leaves growing on its back. The flower is supported by a thick, tree-like stem. Venusaur\\\\u2019s face is wide, with small, pointed ears and sharp teeth. Its eyes are red, giving it a fierce and determined look.\\\\n- **Height and Weight:** Venusaur stands at 6\\'7\\\\\" (2.0 m) and weighs 220.5 lbs (100.0 kg).\\\\n- **Mega Evolution:** Venusaur can Mega Evolve into Mega Venusaur using the Venusaurite. Mega Venusaur gains additional \"')]"
      ]
     },
     "execution_count": 48,
     "metadata": {},
     "output_type": "execute_result"
    }
   ],
   "source": [
    "list(map(lambda x: (len(x.text), len(x.text.split()), x.text), documents))"
   ]
  },
  {
   "cell_type": "code",
   "execution_count": 89,
   "id": "1e1b4140",
   "metadata": {},
   "outputs": [
    {
     "data": {
      "application/vnd.jupyter.widget-view+json": {
       "model_id": "cfe291c5a9f04f69997269bb77221852",
       "version_major": 2,
       "version_minor": 0
      },
      "text/plain": [
       "Parsing nodes:   0%|          | 0/3 [00:00<?, ?it/s]"
      ]
     },
     "metadata": {},
     "output_type": "display_data"
    }
   ],
   "source": [
    "node_parser = SentenceSplitter(chunk_size=100, chunk_overlap=50, callback_manager=CallbackManager([llama_debug]))\n",
    "\n",
    "nodes = node_parser.get_nodes_from_documents(\n",
    "    documents, show_progress=True\n",
    ")"
   ]
  },
  {
   "cell_type": "code",
   "execution_count": 90,
   "id": "8cc47a54",
   "metadata": {},
   "outputs": [
    {
     "data": {
      "text/plain": [
       "109"
      ]
     },
     "execution_count": 90,
     "metadata": {},
     "output_type": "execute_result"
    }
   ],
   "source": [
    "len(encoder(nodes[1].get_content(metadata_mode=MetadataMode.EMBED)))\n"
   ]
  },
  {
   "cell_type": "code",
   "execution_count": 91,
   "id": "4e2857a3",
   "metadata": {},
   "outputs": [
    {
     "data": {
      "text/plain": [
       "['\"### Bulbasaur: Detailed Summary\\\\n\\\\n#### 1. **Characteristics**\\\\nBulbasaur is a dual-type **Grass/Poison** Pok\\\\u00e9mon and is the first Pok\\\\u00e9mon in the National Pok\\\\u00e9dex (#001).',\n",
       " '**Characteristics**\\\\nBulbasaur is a dual-type **Grass/Poison** Pok\\\\u00e9mon and is the first Pok\\\\u00e9mon in the National Pok\\\\u00e9dex (#001). It is known for its unique appearance, which features a small, quadrupedal body with a plant bulb growing on its back.',\n",
       " 'It is known for its unique appearance, which features a small, quadrupedal body with a plant bulb growing on its back. \\\\n\\\\n- **Physical Appearance**: Bulbasaur has a teal-blue body with darker spots scattered across its skin. Its large, red eyes and pointed ears give it a cute yet determined look.',\n",
       " '\\\\n\\\\n- **Physical Appearance**: Bulbasaur has a teal-blue body with darker spots scattered across its skin. Its large, red eyes and pointed ears give it a cute yet determined look. The bulb on its back is its most defining feature, which grows as it evolves and eventually blooms into a large flower in its final evolution, Venusaur.',\n",
       " 'Its large, red eyes and pointed ears give it a cute yet determined look. The bulb on its back is its most defining feature, which grows as it evolves and eventually blooms into a large flower in its final evolution, Venusaur.\\\\n- **Height and Weight**: Bulbasaur stands at 0.',\n",
       " 'The bulb on its back is its most defining feature, which grows as it evolves and eventually blooms into a large flower in its final evolution, Venusaur.\\\\n- **Height and Weight**: Bulbasaur stands at 0.7 meters (2\\'04\\\\\") tall and weighs 6.9 kilograms (15.2 lbs).',\n",
       " 'Venusaur.\\\\n- **Height and Weight**: Bulbasaur stands at 0.7 meters (2\\'04\\\\\") tall and weighs 6.9 kilograms (15.2 lbs).\\\\n- **Abilities**: Bulbasaur typically has the ability **Overgrow**, which boosts the power of Grass-type moves when its HP is low.',\n",
       " '9 kilograms (15.2 lbs).\\\\n- **Abilities**: Bulbasaur typically has the ability **Overgrow**, which boosts the power of Grass-type moves when its HP is low. Some Bulbasaur may also have the hidden ability **Chlorophyll**, which increases its speed in sunny weather.\\\\n- **Evolution**: Bulbasaur evolves in\"',\n",
       " '\"### Ivysaur: Detailed Summary\\\\n\\\\n#### 1. **Characteristics**\\\\nIvysaur is a dual-type **Grass/Poison** Pok\\\\u00e9mon and the evolved form of Bulbasaur, evolving at level 16.',\n",
       " '**Characteristics**\\\\nIvysaur is a dual-type **Grass/Poison** Pok\\\\u00e9mon and the evolved form of Bulbasaur, evolving at level 16. It is the middle stage in the evolutionary line, with its final form being Venusaur, which it evolves into at level 32.',\n",
       " 'It is the middle stage in the evolutionary line, with its final form being Venusaur, which it evolves into at level 32. Ivysaur is a quadrupedal Pok\\\\u00e9mon with a sturdy, stocky build. Its body is primarily blue-green, with darker patches on its skin.',\n",
       " 'Ivysaur is a quadrupedal Pok\\\\u00e9mon with a sturdy, stocky build. Its body is primarily blue-green, with darker patches on its skin. It has pointed ears, red eyes, and small fangs protruding from its upper jaw.\\\\n\\\\nThe most distinctive feature of Ivysaur is the large pink flower bud on its back, which is supported by thick green leaves.',\n",
       " 'It has pointed ears, red eyes, and small fangs protruding from its upper jaw.\\\\n\\\\nThe most distinctive feature of Ivysaur is the large pink flower bud on its back, which is supported by thick green leaves. This bud is a sign of its evolution from Bulbasaur and is a precursor to the full bloom of Venusaur.',\n",
       " 'This bud is a sign of its evolution from Bulbasaur and is a precursor to the full bloom of Venusaur. As Ivysaur grows stronger, the bud begins to bloom, and its fragrance becomes more pronounced. Its legs are muscular, allowing it to support the weight of the growing bud.\\\\n\\\\n#### 2.',\n",
       " 'As Ivysaur grows stronger, the bud begins to bloom, and its fragrance becomes more pronounced. Its legs are muscular, allowing it to support the weight of the growing bud.\\\\n\\\\n#### 2. **Behavior**\\\\nIvysaur is a calm and determined Pok\\\\u00e9mon, often seen as more mature and focused compared \"',\n",
       " '\"### **Venusaur: Detailed Summary**\\\\n\\\\nVenusaur is a dual-type Grass/Poison Pok\\\\u00e9mon introduced in Generation I. It is the final evolution of Bulbasaur, evolving from Ivysaur at level 32.',\n",
       " 'Known for its large, plant-like appearance and powerful abilities, Venusaur is one of the most iconic Pok\\\\u00e9mon in the franchise.\\\\n\\\\n---\\\\n\\\\n### **1. Characteristics**\\\\n- **Appearance:** Venusaur is a large, quadrupedal Pok\\\\u00e9mon resembling a dinosaur or amphibian.',\n",
       " 'Characteristics**\\\\n- **Appearance:** Venusaur is a large, quadrupedal Pok\\\\u00e9mon resembling a dinosaur or amphibian. It has a bulky, green body covered in darker green spots. Its most distinctive feature is the large pink flower with white spots and broad green leaves growing on its back.',\n",
       " 'It has a bulky, green body covered in darker green spots. Its most distinctive feature is the large pink flower with white spots and broad green leaves growing on its back. The flower is supported by a thick, tree-like stem. Venusaur\\\\u2019s face is wide, with small, pointed ears and sharp teeth.',\n",
       " 'The flower is supported by a thick, tree-like stem. Venusaur\\\\u2019s face is wide, with small, pointed ears and sharp teeth. Its eyes are red, giving it a fierce and determined look.\\\\n- **Height and Weight:** Venusaur stands at 6\\'7\\\\\" (2.0 m) and weighs 220.5 lbs (100.0 kg).\\\\n- **Mega Evolution:** Venusaur can Mega Evolve into Mega Venusaur using the Venusaurite.',\n",
       " 'Mega Venusaur gains additional \"']"
      ]
     },
     "execution_count": 91,
     "metadata": {},
     "output_type": "execute_result"
    }
   ],
   "source": [
    "list(map(lambda x: x.text, nodes))"
   ]
  },
  {
   "cell_type": "code",
   "execution_count": null,
   "id": "d83d9660",
   "metadata": {},
   "outputs": [],
   "source": []
  },
  {
   "cell_type": "markdown",
   "id": "aad3dd25",
   "metadata": {},
   "source": [
    "## Insert parsed documents to vectorstore"
   ]
  },
  {
   "cell_type": "code",
   "execution_count": 38,
   "id": "4842798d",
   "metadata": {},
   "outputs": [
    {
     "name": "stdout",
     "output_type": "stream",
     "text": [
      "INFO:httpx:HTTP Request: POST https://black-exposure.openai.azure.com/openai/deployments/black-ada-002/embeddings?api-version=2023-05-15 \"HTTP/1.1 200 OK\"\n",
      "HTTP Request: POST https://black-exposure.openai.azure.com/openai/deployments/black-ada-002/embeddings?api-version=2023-05-15 \"HTTP/1.1 200 OK\"\n",
      "HTTP Request: POST https://black-exposure.openai.azure.com/openai/deployments/black-ada-002/embeddings?api-version=2023-05-15 \"HTTP/1.1 200 OK\"\n",
      "HTTP Request: POST https://black-exposure.openai.azure.com/openai/deployments/black-ada-002/embeddings?api-version=2023-05-15 \"HTTP/1.1 200 OK\"\n",
      "HTTP Request: POST https://black-exposure.openai.azure.com/openai/deployments/black-ada-002/embeddings?api-version=2023-05-15 \"HTTP/1.1 200 OK\"\n",
      "HTTP Request: POST https://black-exposure.openai.azure.com/openai/deployments/black-ada-002/embeddings?api-version=2023-05-15 \"HTTP/1.1 200 OK\"\n",
      "HTTP Request: POST https://black-exposure.openai.azure.com/openai/deployments/black-ada-002/embeddings?api-version=2023-05-15 \"HTTP/1.1 200 OK\"\n"
     ]
    }
   ],
   "source": [
    "index = VectorStoreIndex.from_documents(documents, storage_context=storage_context)\n",
    "index.storage_context.persist()"
   ]
  },
  {
   "cell_type": "code",
   "execution_count": 39,
   "id": "18f53cce",
   "metadata": {},
   "outputs": [
    {
     "name": "stdout",
     "output_type": "stream",
     "text": [
      "INFO:llama_index.core.indices.loading:Loading all indices.\n",
      "Loading all indices.\n",
      "Loading all indices.\n",
      "Loading all indices.\n",
      "Loading all indices.\n",
      "Loading all indices.\n",
      "Loading all indices.\n"
     ]
    }
   ],
   "source": [
    "index = load_index_from_storage(storage_context=storage_context)"
   ]
  },
  {
   "cell_type": "code",
   "execution_count": null,
   "id": "9d476075",
   "metadata": {},
   "outputs": [
    {
     "name": "stdout",
     "output_type": "stream",
     "text": [
      "INFO:httpx:HTTP Request: POST https://black-exposure.openai.azure.com/openai/deployments/black-ada-002/embeddings?api-version=2023-05-15 \"HTTP/1.1 200 OK\"\n",
      "HTTP Request: POST https://black-exposure.openai.azure.com/openai/deployments/black-ada-002/embeddings?api-version=2023-05-15 \"HTTP/1.1 200 OK\"\n",
      "HTTP Request: POST https://black-exposure.openai.azure.com/openai/deployments/black-ada-002/embeddings?api-version=2023-05-15 \"HTTP/1.1 200 OK\"\n",
      "HTTP Request: POST https://black-exposure.openai.azure.com/openai/deployments/black-ada-002/embeddings?api-version=2023-05-15 \"HTTP/1.1 200 OK\"\n",
      "HTTP Request: POST https://black-exposure.openai.azure.com/openai/deployments/black-ada-002/embeddings?api-version=2023-05-15 \"HTTP/1.1 200 OK\"\n",
      "HTTP Request: POST https://black-exposure.openai.azure.com/openai/deployments/black-ada-002/embeddings?api-version=2023-05-15 \"HTTP/1.1 200 OK\"\n",
      "HTTP Request: POST https://black-exposure.openai.azure.com/openai/deployments/black-ada-002/embeddings?api-version=2023-05-15 \"HTTP/1.1 200 OK\"\n",
      "HTTP Request: POST https://black-exposure.openai.azure.com/openai/deployments/black-ada-002/embeddings?api-version=2023-05-15 \"HTTP/1.1 200 OK\"\n",
      "INFO:httpx:HTTP Request: POST https://black-exposure.openai.azure.com/openai/deployments/black-4o/chat/completions?api-version=2025-01-01-preview \"HTTP/1.1 200 OK\"\n",
      "HTTP Request: POST https://black-exposure.openai.azure.com/openai/deployments/black-4o/chat/completions?api-version=2025-01-01-preview \"HTTP/1.1 200 OK\"\n",
      "HTTP Request: POST https://black-exposure.openai.azure.com/openai/deployments/black-4o/chat/completions?api-version=2025-01-01-preview \"HTTP/1.1 200 OK\"\n",
      "HTTP Request: POST https://black-exposure.openai.azure.com/openai/deployments/black-4o/chat/completions?api-version=2025-01-01-preview \"HTTP/1.1 200 OK\"\n",
      "HTTP Request: POST https://black-exposure.openai.azure.com/openai/deployments/black-4o/chat/completions?api-version=2025-01-01-preview \"HTTP/1.1 200 OK\"\n",
      "HTTP Request: POST https://black-exposure.openai.azure.com/openai/deployments/black-4o/chat/completions?api-version=2025-01-01-preview \"HTTP/1.1 200 OK\"\n",
      "HTTP Request: POST https://black-exposure.openai.azure.com/openai/deployments/black-4o/chat/completions?api-version=2025-01-01-preview \"HTTP/1.1 200 OK\"\n",
      "HTTP Request: POST https://black-exposure.openai.azure.com/openai/deployments/black-4o/chat/completions?api-version=2025-01-01-preview \"HTTP/1.1 200 OK\"\n"
     ]
    }
   ],
   "source": [
    "query = \"How many jobs have the applicants done? Give the company name, role as well as time.\"\n",
    "query = \"How many jobs have the applicants done from 2022-2023?\"\n",
    "\n",
    "response_synthesizer = get_response_synthesizer(response_mode=\"compact\") # refine , context_only, accumulate, compact (default)\n",
    "query_engine = index.as_query_engine(response_synthesizer=response_synthesizer)\n",
    "response = query_engine.query(query)"
   ]
  },
  {
   "cell_type": "code",
   "execution_count": 81,
   "id": "0d74a72c",
   "metadata": {},
   "outputs": [
    {
     "name": "stdout",
     "output_type": "stream",
     "text": [
      "> Source (Doc id: a6455d01-5069-484e-ab17-94bf8c26202e): Neuron Mobility  \n",
      "Data Engineering Intern May 2022 – Aug 2022 \n",
      "• Pipeline migration from existing...\n",
      "\n",
      "> Source (Doc id: 153458dc-dc80-4b58-b479-11b22aea1ee8): GAN SHAO HONG \n",
      "(+65) 90855781 | shaohong.g97@gmail.com | www.linkedin.com/in/g-shaohong/ | https:...\n",
      "query was: How many jobs have the applicants done from 2022-2023?\n",
      "answer was: The applicant has done four jobs from 2022 to 2023:\n",
      "\n",
      "1. **Neuron Mobility** (Data Engineering Intern) - May 2022 to August 2022  \n",
      "2. **Infineon Technologies** (Machine Learning and Test Verification Intern) - August 2022 to January 2023  \n",
      "3. **Asurion** (Intern – Technology, Data Science, AI & Machine Learning) - January 2023 to May 2023  \n",
      "4. **UBS** (Software Engineer, full-stack) - August 2023 to January 2025 (part of this role falls in 2023).\n"
     ]
    }
   ],
   "source": [
    "\n",
    "print(response.get_formatted_sources())\n",
    "print(\"query was:\", query)\n",
    "print(\"answer was:\", response)"
   ]
  },
  {
   "cell_type": "code",
   "execution_count": null,
   "id": "399e493d",
   "metadata": {},
   "outputs": [
    {
     "data": {
      "text/plain": [
       "dict_keys(['node', 'score', 'class_name'])"
      ]
     },
     "execution_count": 62,
     "metadata": {},
     "output_type": "execute_result"
    }
   ],
   "source": [
    "import json\n",
    "nodes = [json.loads(x.to_json()) for x in response.source_nodes]\n",
    "node1 = nodes[0]\n",
    "node1.keys()"
   ]
  },
  {
   "cell_type": "code",
   "execution_count": 63,
   "id": "20ef45b2",
   "metadata": {},
   "outputs": [
    {
     "name": "stdout",
     "output_type": "stream",
     "text": [
      "0.48575446009635925 0.4998507499694824\n"
     ]
    },
    {
     "data": {
      "text/plain": [
       "{'id_': 'a6455d01-5069-484e-ab17-94bf8c26202e',\n",
       " 'embedding': None,\n",
       " 'metadata': {'page_label': '2',\n",
       "  'file_name': 'my_resume.pdf',\n",
       "  'file_path': 'data/my_resume.pdf',\n",
       "  'file_type': 'application/pdf',\n",
       "  'file_size': 250772,\n",
       "  'creation_date': '2025-04-27',\n",
       "  'last_modified_date': '2025-04-27'},\n",
       " 'excluded_embed_metadata_keys': ['file_name',\n",
       "  'file_type',\n",
       "  'file_size',\n",
       "  'creation_date',\n",
       "  'last_modified_date',\n",
       "  'last_accessed_date'],\n",
       " 'excluded_llm_metadata_keys': ['file_name',\n",
       "  'file_type',\n",
       "  'file_size',\n",
       "  'creation_date',\n",
       "  'last_modified_date',\n",
       "  'last_accessed_date'],\n",
       " 'relationships': {'1': {'node_id': 'abb5dcdd-6203-42a7-99fe-16177741713b',\n",
       "   'node_type': '4',\n",
       "   'metadata': {'page_label': '2',\n",
       "    'file_name': 'my_resume.pdf',\n",
       "    'file_path': 'data/my_resume.pdf',\n",
       "    'file_type': 'application/pdf',\n",
       "    'file_size': 250772,\n",
       "    'creation_date': '2025-04-27',\n",
       "    'last_modified_date': '2025-04-27'},\n",
       "   'hash': '05b49a6b9291d425546cdaa3a50e53191769ff57a18d8517f3f8ce58934dc150',\n",
       "   'class_name': 'RelatedNodeInfo'}},\n",
       " 'metadata_template': '{key}: {value}',\n",
       " 'metadata_separator': '\\n',\n",
       " 'text': \"Neuron Mobility  \\nData Engineering Intern May 2022 – Aug 2022 \\n• Pipeline migration from existing Jobber 'jobs' in EC2 to Argo workflows.  \\n• Optimize codes using various implementations such as server-side cursors, object-oriented design patterns, and parallel \\nprocessing with Python Celery to reduce time and space complexity. \\n• Work with time series and geospatial data and expose to AWS services such as Redshift, RDS, S3, EC2, EKS, and ECR. \\n• Develop a Flask application that integrates with the Slack application and allows business users to retrieve their queries \\nfrom Redshift/RDS based on their inputs, thereby reducing the number of tickets, and automating the retrieval process. \\n \\nHewlett-Packard (HP)  \\nIntelligent Robotic Process Automation and Analytics Developer Jul 2021 – Jan 2022 \\n• Spearheaded end-to-end project life cycle of activities including analysis, design, testing , and deployment phases of \\nautomation workflows. \\n• Automated dashboard reporting workflow and reduced time spent from 8 hours to 20 minutes using Microsoft Power \\nAutomate, and Office Scripts (vba). \\n• Member of Intelligent Automation Circle and involved in Data Analytics team sharing . \\n \\nNOTABLE PROJECTS & HACKATHONS \\nUBS TechNOVA Hackathon – 2nd place Nov 2024 – Nov 2024 \\n• Developed an anomaly detection solution that analyzes conversations to identify potential compliance risks and flag \\ninstances of policy, regulatory, or legal violations. In talks on moving this to production. \\n• Tech stacks: LLMs and RAG technologies (Azure OpenAI, Azure Search), python Flask, and React web framework.  \\n \\nUBS AI Kettle Oct 2024 – Nov 2024 \\n• Kaggle-style competition on FX Trading prediction. (predicting transaction volumes of selected currency pairs)  \\n• Developed an LSTM model that outperformed the baseline score using PyTorch. \\n \\nCustom Faster-CNN Implementation  Nov 2022 – Dec 2022 \\n• Re-created fcnn architecture using TensorFlow and trained a car detection model with CUDA. \\n \\nSMU Ellipsis Tech Series 2022 sponsored by Goldman Sachs – Top 10 teams Aug 2022 – Aug 2022 \\n• Developed an integrated platform to encourage Fintech companies to invest in startups that align with their interest. \\n• Recommendation score is weighted based on key components such as collaborative filtering on similar users. \\n• Tech stacks: frontend (Vue, tailwind), backend (python Flask, SQLAlchemy, TensorFlow, sklearn), Kubernetes, AWS  \\n \\nCoursework: Social Analytics Jan 2022 – Apr 2022 \\n• Partnered with The Singapore Children's Society (SCS) to tackle the lack of engagement and social media presence using \\ntext and network analysis.  \\n• Tech stacks: Python (pandas, selenium, sklearn, nltk, genism, networkx), AWS Rekognition, AWS Comprehend  \\n \\nSKILLS & INTERESTS \\n• Programming Languages: Python, Java, MySQL, PHP, JavaScript \\n• Familiar Libraries / Frameworks: Python (Flask, Fastapi, NumPy, Pandas, Scikit-learn, Matplotlib, TensorFlow, PyTorch), \\nJavaScript (VueJs, React), Java (Spring) \\n• Trained in OS: Windows, Linux \\n• Work Programmes: Azure, AWS, Figma, Tableau, PowerBI, Gitlab, Argo \\n• Certificates:  \\no Microsoft Certified: Azure AI Fundamentals \\no Microsoft Certified: Azure Administrator Associate \\no AWS Certified Solutions Architect – Associate \\no Deep Learning Specialization from DeepLearning.AI \\no Oracle Certified Foundations Associate (Java) \\no SAS Certified Specialist: Machine Learning Using SAS Viya 3.5 \\no CodeIT Advanced: Advanced Data Structures & Algorithms\",\n",
       " 'mimetype': 'text/plain',\n",
       " 'start_char_idx': 0,\n",
       " 'end_char_idx': 3482,\n",
       " 'metadata_seperator': '\\n',\n",
       " 'text_template': '{metadata_str}\\n\\n{content}',\n",
       " 'class_name': 'TextNode'}"
      ]
     },
     "execution_count": 63,
     "metadata": {},
     "output_type": "execute_result"
    }
   ],
   "source": [
    "print(node1[\"score\"], nodes[1][\"score\"])\n",
    "node1[\"node\"]"
   ]
  },
  {
   "cell_type": "markdown",
   "id": "83725c9d",
   "metadata": {},
   "source": [
    "# Example: Pokemon"
   ]
  },
  {
   "cell_type": "code",
   "execution_count": 1,
   "id": "9e07f83e",
   "metadata": {},
   "outputs": [
    {
     "data": {
      "text/plain": [
       "True"
      ]
     },
     "execution_count": 1,
     "metadata": {},
     "output_type": "execute_result"
    }
   ],
   "source": [
    "import sys, os, json\n",
    "import pandas as pd\n",
    "\n",
    "import tiktoken\n",
    "import faiss\n",
    "from llama_index.llms.azure_openai import AzureOpenAI\n",
    "from llama_index.embeddings.azure_openai import AzureOpenAIEmbedding\n",
    "from llama_index.core.callbacks import CallbackManager, TokenCountingHandler, LlamaDebugHandler\n",
    "from llama_index.core.schema import MetadataMode\n",
    "from llama_index.core.llms import ChatMessage\n",
    "from llama_index.core.node_parser import JSONNodeParser, SentenceSplitter\n",
    "from llama_index.core import (\n",
    "    Document,\n",
    "    SimpleDirectoryReader,\n",
    "    load_index_from_storage,\n",
    "    VectorStoreIndex,\n",
    "    StorageContext,\n",
    "    get_response_synthesizer\n",
    ")\n",
    "from llama_index.vector_stores.faiss import FaissVectorStore\n",
    "\n",
    "from dotenv import load_dotenv\n",
    "load_dotenv(\".env\")"
   ]
  },
  {
   "cell_type": "code",
   "execution_count": 2,
   "id": "14de235e",
   "metadata": {},
   "outputs": [],
   "source": [
    "AZURE_ENDPOINT = os.getenv(\"AZURE_OPENAI_ENDPOINT\")\n",
    "AZURE_API_KEY=os.getenv(\"AZURE_OPENAI_KEY\")\n",
    "AZURE_API_VERSION=os.getenv(\"AZURE_OPENAI_VERSION\")\n",
    "AZURE_DEPLOYMENT_NAME = os.getenv(\"AZURE_OPENAI_NAME\")\n",
    "AZURE_MODEL_NAME= os.getenv(\"AZURE_OPENAI_MODEL\")\n",
    "\n",
    "EMBEDDING_ENDPOINT = os.getenv(\"AZURE_EMBEDDING_ENDPOINT\")\n",
    "EMBEDDING_API_KEY=os.getenv(\"AZURE_EMBEDDING_KEY\")\n",
    "EMBEDDING_API_VERSION=os.getenv(\"AZURE_EMBEDDING_VERSION\")\n",
    "EMBEDDING_DEPLOYMENT_NAME = os.getenv(\"AZURE_EMBEDDING_NAME\")\n",
    "EMBEDDING_MODEL_NAME= os.getenv(\"AZURE_EMBEDDING_MODEL\")\n",
    "\n",
    "llama_debug = LlamaDebugHandler(print_trace_on_end=True)\n",
    "\n",
    "token_counter = TokenCountingHandler(\n",
    "    tokenizer=tiktoken.encoding_for_model(AZURE_MODEL_NAME).encode\n",
    ")\n",
    "token_counter2 = TokenCountingHandler(\n",
    "    tokenizer=tiktoken.encoding_for_model(EMBEDDING_MODEL_NAME).encode\n",
    ")\n",
    "\n",
    "def get_token_info(reset=False):\n",
    "    print(\n",
    "        \"Embedding Tokens: \",\n",
    "        token_counter.total_embedding_token_count,\n",
    "        \"\\n\",\n",
    "        \"LLM Prompt Tokens: \",\n",
    "        token_counter.prompt_llm_token_count,\n",
    "        \"\\n\",\n",
    "        \"LLM Completion Tokens: \",\n",
    "        token_counter.completion_llm_token_count,\n",
    "        \"\\n\",\n",
    "        \"Total LLM Token Count: \",\n",
    "        token_counter.total_llm_token_count,\n",
    "        \"\\n\",\n",
    "    )\n",
    "    if reset:\n",
    "        token_counter.reset_counts()\n",
    "def get_token_info2(reset=False):\n",
    "    print(\n",
    "        \"Embedding Tokens: \",\n",
    "        token_counter2.total_embedding_token_count,\n",
    "        \"\\n\",\n",
    "        \"LLM Prompt Tokens: \",\n",
    "        token_counter2.prompt_llm_token_count,\n",
    "        \"\\n\",\n",
    "        \"LLM Completion Tokens: \",\n",
    "        token_counter2.completion_llm_token_count,\n",
    "        \"\\n\",\n",
    "        \"Total LLM Token Count: \",\n",
    "        token_counter2.total_llm_token_count,\n",
    "        \"\\n\",\n",
    "    )\n",
    "    if reset:\n",
    "        token_counter2.reset_counts()"
   ]
  },
  {
   "cell_type": "code",
   "execution_count": 3,
   "id": "ca670417",
   "metadata": {},
   "outputs": [],
   "source": [
    "# import logging\n",
    "# import sys\n",
    "\n",
    "# logging.basicConfig(stream=sys.stdout, level=logging.DEBUG)\n",
    "# logging.getLogger().addHandler(logging.StreamHandler(stream=sys.stdout))\n",
    "\n",
    "llm = AzureOpenAI(\n",
    "    engine=AZURE_DEPLOYMENT_NAME,\n",
    "    model=AZURE_MODEL_NAME,\n",
    "    # temperature=0.0,\n",
    "    azure_endpoint=AZURE_ENDPOINT,\n",
    "    api_key=AZURE_API_KEY,\n",
    "    api_version=AZURE_API_VERSION,\n",
    "    callback_manager=CallbackManager([token_counter, llama_debug])\n",
    ")\n",
    "embed_model = AzureOpenAIEmbedding(\n",
    "    model=EMBEDDING_MODEL_NAME,\n",
    "    deployment_name=EMBEDDING_DEPLOYMENT_NAME,\n",
    "    api_key=EMBEDDING_API_KEY,\n",
    "    azure_endpoint=EMBEDDING_ENDPOINT,\n",
    "    api_version=EMBEDDING_API_VERSION,\n",
    "    callback_manager=CallbackManager([token_counter2, llama_debug])\n",
    ")\n"
   ]
  },
  {
   "cell_type": "code",
   "execution_count": 4,
   "id": "45c6c583",
   "metadata": {},
   "outputs": [],
   "source": [
    "# dimensions of text-embedding-3-large\n",
    "d = 3072 # 3072\n",
    "VECTOR_STORE_LOC = \"./storage_row_doc\"\n",
    "VECTOR_STORE_LOC = \"./storage_row_text\"\n",
    "VECTOR_STORE_LOC = \"./storage_row_node\""
   ]
  },
  {
   "cell_type": "markdown",
   "id": "f2b4c8a5",
   "metadata": {},
   "source": [
    "## Add Description to dataset with LLMs (One-time)"
   ]
  },
  {
   "cell_type": "code",
   "execution_count": null,
   "id": "3753bdd0",
   "metadata": {},
   "outputs": [
    {
     "data": {
      "text/html": [
       "<div>\n",
       "<style scoped>\n",
       "    .dataframe tbody tr th:only-of-type {\n",
       "        vertical-align: middle;\n",
       "    }\n",
       "\n",
       "    .dataframe tbody tr th {\n",
       "        vertical-align: top;\n",
       "    }\n",
       "\n",
       "    .dataframe thead th {\n",
       "        text-align: right;\n",
       "    }\n",
       "</style>\n",
       "<table border=\"1\" class=\"dataframe\">\n",
       "  <thead>\n",
       "    <tr style=\"text-align: right;\">\n",
       "      <th></th>\n",
       "      <th>abilities</th>\n",
       "      <th>against_bug</th>\n",
       "      <th>against_dark</th>\n",
       "      <th>against_dragon</th>\n",
       "      <th>against_electric</th>\n",
       "      <th>against_fairy</th>\n",
       "      <th>against_fight</th>\n",
       "      <th>against_fire</th>\n",
       "      <th>against_flying</th>\n",
       "      <th>against_ghost</th>\n",
       "      <th>...</th>\n",
       "      <th>percentage_male</th>\n",
       "      <th>pokedex_number</th>\n",
       "      <th>sp_attack</th>\n",
       "      <th>sp_defense</th>\n",
       "      <th>speed</th>\n",
       "      <th>type1</th>\n",
       "      <th>type2</th>\n",
       "      <th>weight_kg</th>\n",
       "      <th>generation</th>\n",
       "      <th>is_legendary</th>\n",
       "    </tr>\n",
       "  </thead>\n",
       "  <tbody>\n",
       "    <tr>\n",
       "      <th>0</th>\n",
       "      <td>['Overgrow', 'Chlorophyll']</td>\n",
       "      <td>1.0</td>\n",
       "      <td>1.0</td>\n",
       "      <td>1.0</td>\n",
       "      <td>0.5</td>\n",
       "      <td>0.5</td>\n",
       "      <td>0.5</td>\n",
       "      <td>2.0</td>\n",
       "      <td>2.0</td>\n",
       "      <td>1.0</td>\n",
       "      <td>...</td>\n",
       "      <td>88.1</td>\n",
       "      <td>1</td>\n",
       "      <td>65</td>\n",
       "      <td>65</td>\n",
       "      <td>45</td>\n",
       "      <td>grass</td>\n",
       "      <td>poison</td>\n",
       "      <td>6.9</td>\n",
       "      <td>1</td>\n",
       "      <td>0</td>\n",
       "    </tr>\n",
       "    <tr>\n",
       "      <th>1</th>\n",
       "      <td>['Overgrow', 'Chlorophyll']</td>\n",
       "      <td>1.0</td>\n",
       "      <td>1.0</td>\n",
       "      <td>1.0</td>\n",
       "      <td>0.5</td>\n",
       "      <td>0.5</td>\n",
       "      <td>0.5</td>\n",
       "      <td>2.0</td>\n",
       "      <td>2.0</td>\n",
       "      <td>1.0</td>\n",
       "      <td>...</td>\n",
       "      <td>88.1</td>\n",
       "      <td>2</td>\n",
       "      <td>80</td>\n",
       "      <td>80</td>\n",
       "      <td>60</td>\n",
       "      <td>grass</td>\n",
       "      <td>poison</td>\n",
       "      <td>13.0</td>\n",
       "      <td>1</td>\n",
       "      <td>0</td>\n",
       "    </tr>\n",
       "    <tr>\n",
       "      <th>2</th>\n",
       "      <td>['Overgrow', 'Chlorophyll']</td>\n",
       "      <td>1.0</td>\n",
       "      <td>1.0</td>\n",
       "      <td>1.0</td>\n",
       "      <td>0.5</td>\n",
       "      <td>0.5</td>\n",
       "      <td>0.5</td>\n",
       "      <td>2.0</td>\n",
       "      <td>2.0</td>\n",
       "      <td>1.0</td>\n",
       "      <td>...</td>\n",
       "      <td>88.1</td>\n",
       "      <td>3</td>\n",
       "      <td>122</td>\n",
       "      <td>120</td>\n",
       "      <td>80</td>\n",
       "      <td>grass</td>\n",
       "      <td>poison</td>\n",
       "      <td>100.0</td>\n",
       "      <td>1</td>\n",
       "      <td>0</td>\n",
       "    </tr>\n",
       "    <tr>\n",
       "      <th>3</th>\n",
       "      <td>['Blaze', 'Solar Power']</td>\n",
       "      <td>0.5</td>\n",
       "      <td>1.0</td>\n",
       "      <td>1.0</td>\n",
       "      <td>1.0</td>\n",
       "      <td>0.5</td>\n",
       "      <td>1.0</td>\n",
       "      <td>0.5</td>\n",
       "      <td>1.0</td>\n",
       "      <td>1.0</td>\n",
       "      <td>...</td>\n",
       "      <td>88.1</td>\n",
       "      <td>4</td>\n",
       "      <td>60</td>\n",
       "      <td>50</td>\n",
       "      <td>65</td>\n",
       "      <td>fire</td>\n",
       "      <td>NaN</td>\n",
       "      <td>8.5</td>\n",
       "      <td>1</td>\n",
       "      <td>0</td>\n",
       "    </tr>\n",
       "    <tr>\n",
       "      <th>4</th>\n",
       "      <td>['Blaze', 'Solar Power']</td>\n",
       "      <td>0.5</td>\n",
       "      <td>1.0</td>\n",
       "      <td>1.0</td>\n",
       "      <td>1.0</td>\n",
       "      <td>0.5</td>\n",
       "      <td>1.0</td>\n",
       "      <td>0.5</td>\n",
       "      <td>1.0</td>\n",
       "      <td>1.0</td>\n",
       "      <td>...</td>\n",
       "      <td>88.1</td>\n",
       "      <td>5</td>\n",
       "      <td>80</td>\n",
       "      <td>65</td>\n",
       "      <td>80</td>\n",
       "      <td>fire</td>\n",
       "      <td>NaN</td>\n",
       "      <td>19.0</td>\n",
       "      <td>1</td>\n",
       "      <td>0</td>\n",
       "    </tr>\n",
       "  </tbody>\n",
       "</table>\n",
       "<p>5 rows × 41 columns</p>\n",
       "</div>"
      ],
      "text/plain": [
       "                     abilities  against_bug  against_dark  against_dragon  \\\n",
       "0  ['Overgrow', 'Chlorophyll']          1.0           1.0             1.0   \n",
       "1  ['Overgrow', 'Chlorophyll']          1.0           1.0             1.0   \n",
       "2  ['Overgrow', 'Chlorophyll']          1.0           1.0             1.0   \n",
       "3     ['Blaze', 'Solar Power']          0.5           1.0             1.0   \n",
       "4     ['Blaze', 'Solar Power']          0.5           1.0             1.0   \n",
       "\n",
       "   against_electric  against_fairy  against_fight  against_fire  \\\n",
       "0               0.5            0.5            0.5           2.0   \n",
       "1               0.5            0.5            0.5           2.0   \n",
       "2               0.5            0.5            0.5           2.0   \n",
       "3               1.0            0.5            1.0           0.5   \n",
       "4               1.0            0.5            1.0           0.5   \n",
       "\n",
       "   against_flying  against_ghost  ...  percentage_male  pokedex_number  \\\n",
       "0             2.0            1.0  ...             88.1               1   \n",
       "1             2.0            1.0  ...             88.1               2   \n",
       "2             2.0            1.0  ...             88.1               3   \n",
       "3             1.0            1.0  ...             88.1               4   \n",
       "4             1.0            1.0  ...             88.1               5   \n",
       "\n",
       "   sp_attack  sp_defense  speed  type1   type2  weight_kg  generation  \\\n",
       "0         65          65     45  grass  poison        6.9           1   \n",
       "1         80          80     60  grass  poison       13.0           1   \n",
       "2        122         120     80  grass  poison      100.0           1   \n",
       "3         60          50     65   fire     NaN        8.5           1   \n",
       "4         80          65     80   fire     NaN       19.0           1   \n",
       "\n",
       "   is_legendary  \n",
       "0             0  \n",
       "1             0  \n",
       "2             0  \n",
       "3             0  \n",
       "4             0  \n",
       "\n",
       "[5 rows x 41 columns]"
      ]
     },
     "execution_count": 18,
     "metadata": {},
     "output_type": "execute_result"
    }
   ],
   "source": [
    "POKEMON_FILE = \"./data/pokemon.csv\"\n",
    "POKEMON_FILE_SAVED = \"./data/pokemon_updated.csv\"\n",
    "df = pd.read_csv(POKEMON_FILE)\n",
    "df.head()"
   ]
  },
  {
   "cell_type": "code",
   "execution_count": null,
   "id": "f62ef901",
   "metadata": {},
   "outputs": [
    {
     "name": "stdout",
     "output_type": "stream",
     "text": [
      "Embedding Tokens:  0 \n",
      " LLM Prompt Tokens:  47120 \n",
      " LLM Completion Tokens:  755556 \n",
      " Total LLM Token Count:  802676 \n",
      "\n"
     ]
    }
   ],
   "source": [
    "POKEMON_DESCRIPTION_PROMPT = \"\"\"\n",
    "Give me a detailed summary of the pokemon, {name}.\n",
    "You should provide the following details:\n",
    "1. Characteristics \n",
    "2. Behavior\n",
    "3. Pokedex description\n",
    "4. Notable trainers who owns them\n",
    "5. Famous scene in Pokemon franchise\n",
    "\"\"\"\n",
    "##### Commented this to avoid running again #####\n",
    "df[\"description\"] = df[\"name\"].apply(lambda x: str(llm.complete(POKEMON_DESCRIPTION_PROMPT.format(name=x))) )\n",
    "df.to_csv(POKEMON_FILE_SAVED)\n",
    "\n",
    "##### Tokens spent #####\n",
    "get_token_info(reset=True)"
   ]
  },
  {
   "cell_type": "markdown",
   "id": "b0a6da46",
   "metadata": {},
   "source": [
    "## Indexing and store at index store\n",
    "- https://www.reddit.com/r/LlamaIndex/comments/1ab57n4/any_ideas_for_getting_statistics_about_internal/"
   ]
  },
  {
   "cell_type": "code",
   "execution_count": 5,
   "id": "662de01e",
   "metadata": {},
   "outputs": [
    {
     "data": {
      "text/html": [
       "<div>\n",
       "<style scoped>\n",
       "    .dataframe tbody tr th:only-of-type {\n",
       "        vertical-align: middle;\n",
       "    }\n",
       "\n",
       "    .dataframe tbody tr th {\n",
       "        vertical-align: top;\n",
       "    }\n",
       "\n",
       "    .dataframe thead th {\n",
       "        text-align: right;\n",
       "    }\n",
       "</style>\n",
       "<table border=\"1\" class=\"dataframe\">\n",
       "  <thead>\n",
       "    <tr style=\"text-align: right;\">\n",
       "      <th></th>\n",
       "      <th>Unnamed: 0</th>\n",
       "      <th>abilities</th>\n",
       "      <th>against_bug</th>\n",
       "      <th>against_dark</th>\n",
       "      <th>against_dragon</th>\n",
       "      <th>against_electric</th>\n",
       "      <th>against_fairy</th>\n",
       "      <th>against_fight</th>\n",
       "      <th>against_fire</th>\n",
       "      <th>against_flying</th>\n",
       "      <th>...</th>\n",
       "      <th>pokedex_number</th>\n",
       "      <th>sp_attack</th>\n",
       "      <th>sp_defense</th>\n",
       "      <th>speed</th>\n",
       "      <th>type1</th>\n",
       "      <th>type2</th>\n",
       "      <th>weight_kg</th>\n",
       "      <th>generation</th>\n",
       "      <th>is_legendary</th>\n",
       "      <th>description</th>\n",
       "    </tr>\n",
       "  </thead>\n",
       "  <tbody>\n",
       "    <tr>\n",
       "      <th>0</th>\n",
       "      <td>0</td>\n",
       "      <td>['Overgrow', 'Chlorophyll']</td>\n",
       "      <td>1.0</td>\n",
       "      <td>1.0</td>\n",
       "      <td>1.0</td>\n",
       "      <td>0.5</td>\n",
       "      <td>0.5</td>\n",
       "      <td>0.5</td>\n",
       "      <td>2.0</td>\n",
       "      <td>2.0</td>\n",
       "      <td>...</td>\n",
       "      <td>1</td>\n",
       "      <td>65</td>\n",
       "      <td>65</td>\n",
       "      <td>45</td>\n",
       "      <td>grass</td>\n",
       "      <td>poison</td>\n",
       "      <td>6.9</td>\n",
       "      <td>1</td>\n",
       "      <td>0</td>\n",
       "      <td>### Bulbasaur: Detailed Summary\\n\\n#### 1. **C...</td>\n",
       "    </tr>\n",
       "    <tr>\n",
       "      <th>1</th>\n",
       "      <td>1</td>\n",
       "      <td>['Overgrow', 'Chlorophyll']</td>\n",
       "      <td>1.0</td>\n",
       "      <td>1.0</td>\n",
       "      <td>1.0</td>\n",
       "      <td>0.5</td>\n",
       "      <td>0.5</td>\n",
       "      <td>0.5</td>\n",
       "      <td>2.0</td>\n",
       "      <td>2.0</td>\n",
       "      <td>...</td>\n",
       "      <td>2</td>\n",
       "      <td>80</td>\n",
       "      <td>80</td>\n",
       "      <td>60</td>\n",
       "      <td>grass</td>\n",
       "      <td>poison</td>\n",
       "      <td>13.0</td>\n",
       "      <td>1</td>\n",
       "      <td>0</td>\n",
       "      <td>### Ivysaur: Detailed Summary\\n\\n#### 1. **Cha...</td>\n",
       "    </tr>\n",
       "    <tr>\n",
       "      <th>2</th>\n",
       "      <td>2</td>\n",
       "      <td>['Overgrow', 'Chlorophyll']</td>\n",
       "      <td>1.0</td>\n",
       "      <td>1.0</td>\n",
       "      <td>1.0</td>\n",
       "      <td>0.5</td>\n",
       "      <td>0.5</td>\n",
       "      <td>0.5</td>\n",
       "      <td>2.0</td>\n",
       "      <td>2.0</td>\n",
       "      <td>...</td>\n",
       "      <td>3</td>\n",
       "      <td>122</td>\n",
       "      <td>120</td>\n",
       "      <td>80</td>\n",
       "      <td>grass</td>\n",
       "      <td>poison</td>\n",
       "      <td>100.0</td>\n",
       "      <td>1</td>\n",
       "      <td>0</td>\n",
       "      <td>### **Venusaur: Detailed Summary**\\n\\nVenusaur...</td>\n",
       "    </tr>\n",
       "    <tr>\n",
       "      <th>3</th>\n",
       "      <td>3</td>\n",
       "      <td>['Blaze', 'Solar Power']</td>\n",
       "      <td>0.5</td>\n",
       "      <td>1.0</td>\n",
       "      <td>1.0</td>\n",
       "      <td>1.0</td>\n",
       "      <td>0.5</td>\n",
       "      <td>1.0</td>\n",
       "      <td>0.5</td>\n",
       "      <td>1.0</td>\n",
       "      <td>...</td>\n",
       "      <td>4</td>\n",
       "      <td>60</td>\n",
       "      <td>50</td>\n",
       "      <td>65</td>\n",
       "      <td>fire</td>\n",
       "      <td>NaN</td>\n",
       "      <td>8.5</td>\n",
       "      <td>1</td>\n",
       "      <td>0</td>\n",
       "      <td>### Detailed Summary of Charmander\\n\\nCharmand...</td>\n",
       "    </tr>\n",
       "    <tr>\n",
       "      <th>4</th>\n",
       "      <td>4</td>\n",
       "      <td>['Blaze', 'Solar Power']</td>\n",
       "      <td>0.5</td>\n",
       "      <td>1.0</td>\n",
       "      <td>1.0</td>\n",
       "      <td>1.0</td>\n",
       "      <td>0.5</td>\n",
       "      <td>1.0</td>\n",
       "      <td>0.5</td>\n",
       "      <td>1.0</td>\n",
       "      <td>...</td>\n",
       "      <td>5</td>\n",
       "      <td>80</td>\n",
       "      <td>65</td>\n",
       "      <td>80</td>\n",
       "      <td>fire</td>\n",
       "      <td>NaN</td>\n",
       "      <td>19.0</td>\n",
       "      <td>1</td>\n",
       "      <td>0</td>\n",
       "      <td>### Detailed Summary of Charmeleon\\n\\nCharmele...</td>\n",
       "    </tr>\n",
       "  </tbody>\n",
       "</table>\n",
       "<p>5 rows × 43 columns</p>\n",
       "</div>"
      ],
      "text/plain": [
       "   Unnamed: 0                    abilities  against_bug  against_dark  \\\n",
       "0           0  ['Overgrow', 'Chlorophyll']          1.0           1.0   \n",
       "1           1  ['Overgrow', 'Chlorophyll']          1.0           1.0   \n",
       "2           2  ['Overgrow', 'Chlorophyll']          1.0           1.0   \n",
       "3           3     ['Blaze', 'Solar Power']          0.5           1.0   \n",
       "4           4     ['Blaze', 'Solar Power']          0.5           1.0   \n",
       "\n",
       "   against_dragon  against_electric  against_fairy  against_fight  \\\n",
       "0             1.0               0.5            0.5            0.5   \n",
       "1             1.0               0.5            0.5            0.5   \n",
       "2             1.0               0.5            0.5            0.5   \n",
       "3             1.0               1.0            0.5            1.0   \n",
       "4             1.0               1.0            0.5            1.0   \n",
       "\n",
       "   against_fire  against_flying  ...  pokedex_number  sp_attack  sp_defense  \\\n",
       "0           2.0             2.0  ...               1         65          65   \n",
       "1           2.0             2.0  ...               2         80          80   \n",
       "2           2.0             2.0  ...               3        122         120   \n",
       "3           0.5             1.0  ...               4         60          50   \n",
       "4           0.5             1.0  ...               5         80          65   \n",
       "\n",
       "   speed  type1   type2  weight_kg  generation  is_legendary  \\\n",
       "0     45  grass  poison        6.9           1             0   \n",
       "1     60  grass  poison       13.0           1             0   \n",
       "2     80  grass  poison      100.0           1             0   \n",
       "3     65   fire     NaN        8.5           1             0   \n",
       "4     80   fire     NaN       19.0           1             0   \n",
       "\n",
       "                                         description  \n",
       "0  ### Bulbasaur: Detailed Summary\\n\\n#### 1. **C...  \n",
       "1  ### Ivysaur: Detailed Summary\\n\\n#### 1. **Cha...  \n",
       "2  ### **Venusaur: Detailed Summary**\\n\\nVenusaur...  \n",
       "3  ### Detailed Summary of Charmander\\n\\nCharmand...  \n",
       "4  ### Detailed Summary of Charmeleon\\n\\nCharmele...  \n",
       "\n",
       "[5 rows x 43 columns]"
      ]
     },
     "execution_count": 5,
     "metadata": {},
     "output_type": "execute_result"
    }
   ],
   "source": [
    "POKEMON_FILE_SAVED = \"./data/pokemon_updated.csv\"\n",
    "df = pd.read_csv(POKEMON_FILE_SAVED)\n",
    "df.head()"
   ]
  },
  {
   "cell_type": "markdown",
   "id": "5f3a1872",
   "metadata": {},
   "source": [
    "### Vector Search"
   ]
  },
  {
   "cell_type": "code",
   "execution_count": 6,
   "id": "07857203",
   "metadata": {},
   "outputs": [],
   "source": [
    "faiss_index = faiss.IndexFlatL2(d)\n",
    "vector_store = FaissVectorStore(faiss_index=faiss_index)\n",
    "storage_context = StorageContext.from_defaults(vector_store=vector_store)"
   ]
  },
  {
   "cell_type": "code",
   "execution_count": null,
   "id": "606b85ca",
   "metadata": {},
   "outputs": [],
   "source": [
    "df_json = df.to_json(orient = \"records\")\n",
    "df_json = json.loads(df_json)\n",
    "\n",
    "documents = []\n",
    "for each_pokemon in df_json:\n",
    "    documents.append(\n",
    "        Document(\n",
    "            # text=json.dumps(each_pokemon),\n",
    "            text=json.dumps(each_pokemon[\"description\"]).replace(\"\\n\", \" \"),\n",
    "            metadata={\n",
    "                \"name\": each_pokemon[\"name\"],\n",
    "                \"generation\": each_pokemon[\"generation\"],\n",
    "                \"type1\": each_pokemon[\"type1\"],\n",
    "                \"type2\": each_pokemon[\"type2\"],\n",
    "                \"is_legendary\": each_pokemon[\"is_legendary\"]\n",
    "            },\n",
    "            id_= each_pokemon[\"name\"],\n",
    "            metadata_seperator=\"::\",\n",
    "            metadata_template=\"{key}=>{value}\",\n",
    "            text_template=\"Metadata: {metadata_str}\\n-----\\nContent: {content}\",\n",
    "            # excluded_embed_metadata_keys=[\"name\"],\n",
    "            # excluded_llm_metadata_keys=[\"name\",\"generation\",\"type1\",\"type2\",\"is_legendary\"]\n",
    "        )\n",
    "    )\n",
    "\n",
    "# parser = JSONNodeParser()\n",
    "# nodes = parser.get_nodes_from_documents([document], show_progress=True)"
   ]
  },
  {
   "cell_type": "code",
   "execution_count": 10,
   "id": "136da690",
   "metadata": {},
   "outputs": [
    {
     "name": "stdout",
     "output_type": "stream",
     "text": [
      "The LLM sees this: \n",
      " Metadata: name=>Charmeleon::generation=>1::type1=>fire::type2=>None::is_legendary=>0\n",
      "-----\n",
      "Content: \"### Detailed Summary of Charmeleon\\n\\nCharmeleon is a Fire-type Pok\\u00e9mon introduced in Generation I. It is the evolved form of Charmander and evolves into Charizard at level 36. Below is a detailed breakdown of Charmeleon\\u2019s characteristics, behavior, Pok\\u00e9dex description, notable trainers, and famous scenes in the Pok\\u00e9mon franchise.\\n\\n---\\n\\n### **1. Characteristics**\\n- **Appearance**: Charmeleon is a bipedal, reptilian Pok\\u00e9mon with a red-orange body, a long tail tipped with a flame, and a horn-like structure on the back of its head. Its claws are sharp, and it has a more aggressive and mature look compared to its pre-evolution, Charmander.\\n- **Height**: 1.1 meters (3'07\\\").\\n- **Weight**: 19.0 kilograms (41.9 lbs).\\n- **Type**: Fire.\\n- **Abilities**: Charmeleon typically has the ability *Blaze*, which boosts the power of Fire-type moves when its HP is low. In some games, it can have the hidden ability *Solar Power*, which increases Special Attack in sunny weather at the cost of HP.\\n- **Signature Features**: The flame on its tail burns brighter and hotter depending on its mood and strength. This flame is a key indicator of its vitality.\\n\\n---\\n\\n### **2. Behavior**\\n- **Temperament**: Charmeleon is known for its aggressive and hot-headed nature. It is far more temperamental than its pre-evolution, Charmander, and can become easily enraged during battles. When angered, it lashes out with powerful attacks and its tail flame burns intensely.\\n- **Combat Style**: Charmeleon is a fierce fighter that thrives in battle. It uses its sharp claws and fiery breath to overwhelm opponents. It is known to seek out strong opponents to test its strength.\\n- **Social Interaction**: While Charmeleon can be loyal to its trainer, its fiery personality may make it challenging to handle for inexperienced trainers. It requires patience and skill to manage its aggressive tendencies.\\n\\n---\\n\\n### **3. Pok\\u00e9dex Description**\\nCharmeleon\\u2019s Pok\\u00e9dex entries across various games emphasize its fiery nature and combat prowess. Below are some notable descriptions:\\n\\n- **Red/Blue**: \\\"When it swings its burning tail, it elevates the temperature to unbearably high levels.\\\"\\n- **Gold**: \\\"It has a barbaric nature. In battle, it whips its fiery tail around and slashes away with sharp claws.\\\"\\n- **Ruby/Sapphire**: \\\"Charmeleon mercilessly destroys its foes using its sharp claws. If it encounters a strong enemy, it becomes agitated, and the flame on its tail flares up in a bluish-white color.\\\"\\n- **Sword/Shield**: \\\"Without pity, it attacks enemies with its claws. If it encounters strong opponents, it turns aggressive.\\\"\\n\\nThese entries highlight Charmeleon\\u2019s ferocity and its tendency to become more aggressive when facing tough opponents.\\n\\n---\\n\\n### **4. Notable Trainers Who Own Charmeleon**\\nCharmeleon has been owned by several notable trainers in the Pok\\u00e9mon franchise:\\n\\n- **Ash Ketchum**: Ash\\u2019s Charmander evolves into Charmeleon in the original Pok\\u00e9mon anime during the episode *\\\"March of the Exeggutor Squad\\\"*. However, Charmeleon\\u2019s personality changes drastically after evolving, becoming disobedient and difficult for Ash to control. This behavior continues until it evolves into Charizard.\\n- **Red**: In the Pok\\u00e9mon games and manga, Red, the iconic protagonist of the series, is often depicted with a Charmeleon as part of his team before it evolves into Charizard.\\n- **Trevor**: In the Pok\\u00e9mon anime (*Pok\\u00e9mon XY series*), Trevor, one of Ash\\u2019s rivals, owns a Charmeleon that eventually evolves into Charizard.\\n\\n---\\n\\n### **5. Famous Scene in Pok\\u00e9mon Franchise**\\nOne of the most famous scenes involving Charmeleon occurs in the original Pok\\u00e9mon anime:\\n\\n- **Ash\\u2019s Charmeleon\\u2019s Disobedience**: After evolving from Charmander, Charmeleon\\u2019s personality undergoes a drastic shift. In the episode *\\\"The Problem with Paras\\\"*, Charmeleon refuses to obey Ash\\u2019s commands during a battle against a Paras. This marks the beginning of Ash\\u2019s struggles with Charmeleon\\u2019s rebellious nature, which continues until it evolves into Charizard. This storyline is significant because it showcases the challenges of managing a Pok\\u00e9mon with a strong personality and highlights the importance of building trust and respect between trainer and Pok\\u00e9mon.\\n\\n---\\n\\n### **Conclusion**\\nCharmeleon is a fiery and aggressive Pok\\u00e9mon that represents the transitional phase between the loyal Charmander and the powerful Charizard. Its temperamental nature and combat prowess make it a challenging yet rewarding Pok\\u00e9mon for skilled trainers. Charmeleon\\u2019s appearances in the Pok\\u00e9mon franchise, particularly in the anime, have left a lasting impression on fans, showcasing its fiery spirit and the complexities of Pok\\u00e9mon training.\"\n",
      "\n",
      "##########################\n",
      "\n",
      "The Embedding model sees this: \n",
      " Metadata: generation=>1::type1=>fire::type2=>None::is_legendary=>0\n",
      "-----\n",
      "Content: \"### Detailed Summary of Charmeleon\\n\\nCharmeleon is a Fire-type Pok\\u00e9mon introduced in Generation I. It is the evolved form of Charmander and evolves into Charizard at level 36. Below is a detailed breakdown of Charmeleon\\u2019s characteristics, behavior, Pok\\u00e9dex description, notable trainers, and famous scenes in the Pok\\u00e9mon franchise.\\n\\n---\\n\\n### **1. Characteristics**\\n- **Appearance**: Charmeleon is a bipedal, reptilian Pok\\u00e9mon with a red-orange body, a long tail tipped with a flame, and a horn-like structure on the back of its head. Its claws are sharp, and it has a more aggressive and mature look compared to its pre-evolution, Charmander.\\n- **Height**: 1.1 meters (3'07\\\").\\n- **Weight**: 19.0 kilograms (41.9 lbs).\\n- **Type**: Fire.\\n- **Abilities**: Charmeleon typically has the ability *Blaze*, which boosts the power of Fire-type moves when its HP is low. In some games, it can have the hidden ability *Solar Power*, which increases Special Attack in sunny weather at the cost of HP.\\n- **Signature Features**: The flame on its tail burns brighter and hotter depending on its mood and strength. This flame is a key indicator of its vitality.\\n\\n---\\n\\n### **2. Behavior**\\n- **Temperament**: Charmeleon is known for its aggressive and hot-headed nature. It is far more temperamental than its pre-evolution, Charmander, and can become easily enraged during battles. When angered, it lashes out with powerful attacks and its tail flame burns intensely.\\n- **Combat Style**: Charmeleon is a fierce fighter that thrives in battle. It uses its sharp claws and fiery breath to overwhelm opponents. It is known to seek out strong opponents to test its strength.\\n- **Social Interaction**: While Charmeleon can be loyal to its trainer, its fiery personality may make it challenging to handle for inexperienced trainers. It requires patience and skill to manage its aggressive tendencies.\\n\\n---\\n\\n### **3. Pok\\u00e9dex Description**\\nCharmeleon\\u2019s Pok\\u00e9dex entries across various games emphasize its fiery nature and combat prowess. Below are some notable descriptions:\\n\\n- **Red/Blue**: \\\"When it swings its burning tail, it elevates the temperature to unbearably high levels.\\\"\\n- **Gold**: \\\"It has a barbaric nature. In battle, it whips its fiery tail around and slashes away with sharp claws.\\\"\\n- **Ruby/Sapphire**: \\\"Charmeleon mercilessly destroys its foes using its sharp claws. If it encounters a strong enemy, it becomes agitated, and the flame on its tail flares up in a bluish-white color.\\\"\\n- **Sword/Shield**: \\\"Without pity, it attacks enemies with its claws. If it encounters strong opponents, it turns aggressive.\\\"\\n\\nThese entries highlight Charmeleon\\u2019s ferocity and its tendency to become more aggressive when facing tough opponents.\\n\\n---\\n\\n### **4. Notable Trainers Who Own Charmeleon**\\nCharmeleon has been owned by several notable trainers in the Pok\\u00e9mon franchise:\\n\\n- **Ash Ketchum**: Ash\\u2019s Charmander evolves into Charmeleon in the original Pok\\u00e9mon anime during the episode *\\\"March of the Exeggutor Squad\\\"*. However, Charmeleon\\u2019s personality changes drastically after evolving, becoming disobedient and difficult for Ash to control. This behavior continues until it evolves into Charizard.\\n- **Red**: In the Pok\\u00e9mon games and manga, Red, the iconic protagonist of the series, is often depicted with a Charmeleon as part of his team before it evolves into Charizard.\\n- **Trevor**: In the Pok\\u00e9mon anime (*Pok\\u00e9mon XY series*), Trevor, one of Ash\\u2019s rivals, owns a Charmeleon that eventually evolves into Charizard.\\n\\n---\\n\\n### **5. Famous Scene in Pok\\u00e9mon Franchise**\\nOne of the most famous scenes involving Charmeleon occurs in the original Pok\\u00e9mon anime:\\n\\n- **Ash\\u2019s Charmeleon\\u2019s Disobedience**: After evolving from Charmander, Charmeleon\\u2019s personality undergoes a drastic shift. In the episode *\\\"The Problem with Paras\\\"*, Charmeleon refuses to obey Ash\\u2019s commands during a battle against a Paras. This marks the beginning of Ash\\u2019s struggles with Charmeleon\\u2019s rebellious nature, which continues until it evolves into Charizard. This storyline is significant because it showcases the challenges of managing a Pok\\u00e9mon with a strong personality and highlights the importance of building trust and respect between trainer and Pok\\u00e9mon.\\n\\n---\\n\\n### **Conclusion**\\nCharmeleon is a fiery and aggressive Pok\\u00e9mon that represents the transitional phase between the loyal Charmander and the powerful Charizard. Its temperamental nature and combat prowess make it a challenging yet rewarding Pok\\u00e9mon for skilled trainers. Charmeleon\\u2019s appearances in the Pok\\u00e9mon franchise, particularly in the anime, have left a lasting impression on fans, showcasing its fiery spirit and the complexities of Pok\\u00e9mon training.\"\n"
     ]
    }
   ],
   "source": [
    "document = documents[4]\n",
    "print(\n",
    "    \"The LLM sees this: \\n\",\n",
    "    document.get_content(metadata_mode=MetadataMode.LLM),\n",
    ")\n",
    "print(\"\\n##########################\\n\")\n",
    "print(\n",
    "    \"The Embedding model sees this: \\n\",\n",
    "    document.get_content(metadata_mode=MetadataMode.EMBED),\n",
    ")"
   ]
  },
  {
   "cell_type": "code",
   "execution_count": 16,
   "id": "9450e5ab",
   "metadata": {},
   "outputs": [
    {
     "data": {
      "application/vnd.jupyter.widget-view+json": {
       "model_id": "469be19567784bfaa21195f44f7914ea",
       "version_major": 2,
       "version_minor": 0
      },
      "text/plain": [
       "Parsing nodes:   0%|          | 0/801 [00:00<?, ?it/s]"
      ]
     },
     "metadata": {},
     "output_type": "display_data"
    },
    {
     "data": {
      "application/vnd.jupyter.widget-view+json": {
       "model_id": "9992c8098d5f48ceafa4c0589bdb4cf3",
       "version_major": 2,
       "version_minor": 0
      },
      "text/plain": [
       "Generating embeddings:   0%|          | 0/1479 [00:00<?, ?it/s]"
      ]
     },
     "metadata": {},
     "output_type": "display_data"
    }
   ],
   "source": [
    "index = VectorStoreIndex.from_documents(documents, \n",
    "                                        storage_context=storage_context, \n",
    "                                        embed_model=embed_model, \n",
    "                                        show_progress=True,\n",
    "                                        transformations=[SentenceSplitter(chunk_size=1024, chunk_overlap=20)]\n",
    "                                        )"
   ]
  },
  {
   "cell_type": "code",
   "execution_count": null,
   "id": "7a853b34",
   "metadata": {},
   "outputs": [
    {
     "data": {
      "text/plain": [
       "532"
      ]
     },
     "execution_count": 23,
     "metadata": {},
     "output_type": "execute_result"
    }
   ],
   "source": [
    "len(index.docstore.docs.get('96646498-32a9-411c-aed8-c5e95bdd4c33').text.split(\" \"))"
   ]
  },
  {
   "cell_type": "code",
   "execution_count": 25,
   "id": "16511e0c",
   "metadata": {},
   "outputs": [],
   "source": [
    "index.storage_context.persist(persist_dir = VECTOR_STORE_LOC)"
   ]
  },
  {
   "cell_type": "code",
   "execution_count": 74,
   "id": "aa519655",
   "metadata": {},
   "outputs": [
    {
     "data": {
      "application/vnd.jupyter.widget-view+json": {
       "model_id": "aac3a44f431844b3ad7d833795b94f70",
       "version_major": 2,
       "version_minor": 0
      },
      "text/plain": [
       "Parsing nodes:   0%|          | 0/801 [00:00<?, ?it/s]"
      ]
     },
     "metadata": {},
     "output_type": "display_data"
    }
   ],
   "source": [
    "node_parser = SentenceSplitter(chunk_size=1024, chunk_overlap=100)\n",
    "\n",
    "nodes = node_parser.get_nodes_from_documents(\n",
    "    documents, show_progress=True\n",
    ")"
   ]
  },
  {
   "cell_type": "code",
   "execution_count": 84,
   "id": "fa27a66f",
   "metadata": {},
   "outputs": [
    {
     "name": "stdout",
     "output_type": "stream",
     "text": [
      "re uses a Venusaur during battles with the player, showcasing its Mega Evolution.\\n\\n---\\n\\n### **5.\n",
      "Famous Scene in Pok\\u00e9mon Franchise**\\nOne of the most memorable scenes involving Venusaur occurs\n"
     ]
    },
    {
     "data": {
      "text/plain": [
       "'Metadata: name=>Venusaur::generation=>1::type1=>grass::type2=>poison::is_legendary=>0\\n-----\\nContent: Famous Scene in Pok\\\\u00e9mon Franchise**\\\\nOne of the most memorable scenes involving Venusaur occurs in the **Pok\\\\u00e9mon Origins** mini-series. In the climactic battle between Red and Blue, Red\\\\u2019s Venusaur faces off against Blue\\\\u2019s Charizard. The intense battle showcases Venusaur\\\\u2019s strategic use of moves like Solar Beam and Sleep Powder, highlighting its strength and versatility. The scene culminates in Venusaur\\\\u2019s victory, solidifying its role as one of Red\\\\u2019s most trusted Pok\\\\u00e9mon.\\\\n\\\\nAnother iconic moment is Venusaur\\\\u2019s appearance in **Pok\\\\u00e9mon: The First Movie**, where it battles alongside Blastoise and Charizard against their cloned counterparts created by Mewtwo. The battle is intense and visually striking, showcasing Venusaur\\\\u2019s raw power and determination.\\\\n\\\\n---\\\\n\\\\nVenusaur remains a fan-favorite Pok\\\\u00e9mon due to its unique design, connection to nature, and role as one of the original starter Pok\\\\u00e9mon evolutions. Its appearances in games, anime, and movies have cemented its legacy as a cornerstone of the Pok\\\\u00e9mon franchise.\"'"
      ]
     },
     "execution_count": 84,
     "metadata": {},
     "output_type": "execute_result"
    }
   ],
   "source": [
    "i = 2\n",
    "print(nodes[2+i].text[-100:])\n",
    "print(nodes[3+i].text[:100])\n",
    "nodes[5].get_content(MetadataMode.EMBED)"
   ]
  },
  {
   "cell_type": "code",
   "execution_count": null,
   "id": "8bce1d8c",
   "metadata": {},
   "outputs": [],
   "source": [
    "retriever = index.as_retriever(similarity_top_k=10)"
   ]
  },
  {
   "cell_type": "code",
   "execution_count": null,
   "id": "2712eb1e",
   "metadata": {},
   "outputs": [
    {
     "name": "stdout",
     "output_type": "stream",
     "text": [
      "**********\n",
      "Trace: query\n",
      "    |_CBEventType.RETRIEVE -> 1.302882 seconds\n",
      "      |_CBEventType.EMBEDDING -> 1.300432 seconds\n",
      "**********\n",
      "Rampardos (1.3677854537963867) -- However, Ash's Pikachu and Turtwig manage to outmaneuver it, showcasing the importance of strategy over brute strength. This battle highlights Rampardos' raw power and its role as a challenging Gym Leader Pok\\u00e9mon.\\n- **In the Games**: In the Sinnoh games, Roark's Rampardos is a significant challenge for players early in their journey. Its high Attack stat and moves like Headbutt can easily knock out unprepared teams, making it a memorable opponent for many players.\\n\\n---\\n\\nRampardos remains a fan-favorite fossil Pok\\u00e9mon due to its unique design, incredible strength, and ties to prehistoric creatures. Its role as Roark's ace Pok\\u00e9mon and its reputation as a glass cannon make it a standout in the Pok\\u00e9mon franchise.\"\n",
      "Buzzwole (1.379696249961853) -- This behavior is both comical and intimidating, showcasing Buzzwole's unique personality.\\n- The scene where Buzzwole and Ash's Pikachu engage in a \\\"flexing contest\\\" is particularly famous. Buzzwole mimics Pikachu's poses, creating a humorous and lighthearted moment despite the high stakes of the mission.\\n\\n---\\n\\n### Summary\\nBuzzwole is a larger-than-life Pok\\u00e9mon with a bold personality and incredible strength. Its alien origins, combined with its unique behavior of flexing and posing, make it one of the most memorable Ultra Beasts in the Pok\\u00e9mon franchise. Whether pulverizing dump trucks or engaging in flexing contests, Buzzwole leaves a lasting impression on both fans and trainers alike.\"\n",
      "Liepard (1.4140162467956543) -- Its speed and surprise attacks make it a formidable opponent, and its elegant design contrasts with its ruthless fighting style.\\n\\n---\\n\\n### Summary\\nLiepard is a Pok\\u00e9mon that embodies elegance and cruelty. Its sleek design and stealthy behavior make it a favorite among trainers who value cunning and speed. While it is often associated with villainous teams like Team Plasma, Liepard's beauty and agility have earned it a place in the hearts of many fans.\"\n",
      "Litleo (1.4151597023010254) -- It also showcases Litleo's fiery determination as it faces challenges and ultimately earns the respect of its pride, including the Pyroar leader.\\n\\n---\\n\\n### **Conclusion**\\nLitleo is a beloved Pok\\u00e9mon known for its fiery spirit, playful nature, and determination to grow stronger. Its design and behavior are inspired by lion cubs, and it plays a significant role in the Kalos region's ecosystem. While it may not have as much spotlight as some other Pok\\u00e9mon, its appearances in the anime and games leave a lasting impression on fans, particularly for its themes of growth and independence.\"\n",
      "Barbaracle (1.4188261032104492) -- The battle highlights Barbaracle's ability to turn the tide with its offensive capabilities, making it a standout moment for the Pok\\u00e9mon.\\n\\nAdditionally, Barbaracle's unique design and concept have made it a fan favorite in competitive battles, especially when utilizing moves like **Razor Shell**, **Stone Edge**, and **Cross Chop** to take advantage of its Tough Claws ability.\\n\\n---\\n\\nBarbaracle remains a fascinating Pok\\u00e9mon due to its symbiotic nature, versatility, and intimidating appearance. While not as widely recognized as some other Pok\\u00e9mon, it has carved out a niche in both the games and anime as a powerful and resourceful fighter.\"\n",
      "Bruxish (1.4207340478897095) -- Additionally, its ability, **Dazzling**, which prevents priority moves, has made it a unique choice for competitive battles, though it is not commonly used.\\n\\n---\\n\\n### **Conclusion**\\nBruxish is a unique and vibrant Pok\\u00e9mon that stands out for its combination of Water and Psychic abilities, as well as its flamboyant appearance. While it may not have a prominent role in the Pok\\u00e9mon franchise, its aggressive behavior, powerful psychic abilities, and striking design make it a memorable addition to the Alola region's roster of Pok\\u00e9mon.\"\n",
      "Meditite (1.4299776554107666) -- Meditite battles Ash's Pikachu, demonstrating its ability to combine psychic powers with physical attacks.\\n\\nAnother notable moment is its role in Gym battles against Brawly and Maylene in the games. Players often remember Meditite for its surprising strength due to its **Pure Power** ability, which can catch unprepared trainers off guard.\\n\\n---\\n\\nMeditite is a fascinating Pok\\u00e9mon that embodies the balance between physical strength and mental discipline. Its unique design, abilities, and role in the Pok\\u00e9mon world make it a standout among Fighting and Psychic types.\"\n",
      "Eelektross (1.4312349557876587) -- This battle highlights its strength as a mixed attacker and its ability to counter opponents who rely on Ground-type moves to defeat Electric-types.\\n\\n---\\n\\n### Summary\\nEelektross is a unique and powerful Electric-type Pok\\u00e9mon with no weaknesses due to its Levitate ability. Its predatory nature and adaptability make it a fascinating creature in the Pok\\u00e9mon world. It has been featured in both the games and anime, often used by skilled trainers to showcase its versatility and strength. Its famous appearances in battles, particularly in the Unova League, have cemented its reputation as a formidable Pok\\u00e9mon.\"\n",
      "Pinsir (1.434504508972168) -- This battle highlights Pinsir's strength and versatility, as well as the importance of strategy in overcoming powerful opponents.\\n\\nAnother notable scene is in **Pok\\u00e9mon Journeys**, where Goh's Pinsir bonds with Heracross after initially feeling insecure about its appearance. This storyline showcases Pinsir's emotional depth and ability to form connections with other Pok\\u00e9mon, adding a layer of personality to its character.\\n\\n#### **Conclusion**\\nPinsir is a fascinating Pok\\u00e9mon with a reputation for strength, aggression, and loyalty. Its iconic pincers and Mega Evolution make it a standout Bug-type Pok\\u00e9mon in the franchise. Whether in battles, the wild, or alongside notable trainers, Pinsir continues to leave a lasting impression on fans of the series.\"\n",
      "Zebstrika (1.4370466470718384) -- The battle showcases Zebstrika's incredible speed and power, as it uses moves like Flame Charge to boost its speed even further. Ash struggles to keep up with Zebstrika's agility and offensive pressure, but he ultimately manages to defeat it using clever strategies.\\n\\nAnother notable scene is in the **Pok\\u00e9mon Adventures manga**, where Elesa's Zebstrika plays a significant role in her battles. It is depicted as a loyal and powerful partner, capable of taking on multiple opponents with its electric attacks and speed.\\n\\n---\\n\\n### Summary\\nZebstrika is a striking and powerful Electric-type Pok\\u00e9mon known for its speed, electric abilities, and temperamental nature. It is a favorite of Elesa, the Nimbasa City Gym Leader, and has been featured prominently in both the games and anime. Its sleek design and lightning-fast movements make it a memorable Pok\\u00e9mon in the Unova region.\"\n"
     ]
    }
   ],
   "source": [
    "##### Only Text with chunking #####\n",
    "\n",
    "nodes = retriever.retrieve(\"However, it can be reckless and overconfident, especially when it underestimates its opponent\")\n",
    "# nodes = retriever.retrieve(\"What are some pokemon which can be reckless and overconfident, especially when it underestimates its opponent?\")\n",
    "\n",
    "for each_node in nodes:\n",
    "    result = each_node.to_dict()\n",
    "    print(f\"{result['node']['metadata']['name']} ({result['score']}) -- {result['node']['text']}\")"
   ]
  },
  {
   "cell_type": "markdown",
   "id": "95a6e183",
   "metadata": {},
   "source": [
    "### BM25 Retriever\n",
    "- https://docs.llamaindex.ai/en/stable/examples/retrievers/bm25_retriever/"
   ]
  },
  {
   "cell_type": "code",
   "execution_count": 14,
   "id": "6ee49a32",
   "metadata": {},
   "outputs": [
    {
     "name": "stderr",
     "output_type": "stream",
     "text": [
      "Matplotlib is building the font cache; this may take a moment.\n"
     ]
    }
   ],
   "source": [
    "from llama_index.core.storage.docstore import SimpleDocumentStore\n",
    "from llama_index.retrievers.bm25 import BM25Retriever\n",
    "from llama_index.core.response.notebook_utils import display_source_node\n",
    "import Stemmer"
   ]
  },
  {
   "cell_type": "code",
   "execution_count": 7,
   "id": "eec6da4c",
   "metadata": {},
   "outputs": [],
   "source": [
    "docstore = SimpleDocumentStore.from_persist_dir(persist_dir=VECTOR_STORE_LOC)"
   ]
  },
  {
   "cell_type": "code",
   "execution_count": 16,
   "id": "ec16e847",
   "metadata": {},
   "outputs": [],
   "source": [
    "bm25_retriever = BM25Retriever.from_defaults(\n",
    "    docstore=docstore,\n",
    "    similarity_top_k=3,\n",
    "    # Optional: We can pass in the stemmer and set the language for stopwords\n",
    "    # This is important for removing stopwords and stemming the query + text\n",
    "    # The default is english for both\n",
    "    stemmer=Stemmer.Stemmer(\"english\"),\n",
    "    language=\"english\",\n",
    ")"
   ]
  },
  {
   "cell_type": "code",
   "execution_count": null,
   "id": "5c9b413b",
   "metadata": {},
   "outputs": [
    {
     "data": {
      "text/markdown": [
       "**Node ID:** 224a4daf-c96a-452a-a81d-c6e728a5a5e9<br>**Similarity:** 8.339054107666016<br>**Text:** \"### Charizard: Detailed Summary\\n\\nCharizard is one of the most iconic Pok\\u00e9mon in the franchise, beloved by fans for its powerful design, fiery abilities, and prominent role in the Pok\\u00e9mon series. Below is a detailed breakdown of Charizard's characteristics, behavior, Pok\\u00e9dex description, notable trainers, and famous moments in the Pok\\u00e9mon franchise.\\n\\n---\\n\\n### 1. **Characteristics**\\n- **Species**: Flame Pok\\u00e9mon\\n- **Type**: Fire/Flying\\n- **Height**: 5'07\\\" (1.7 m)\\n- **Weight**: 199.5 lbs (90.5 kg)\\n- **Evolutionary Line**: Charmander \\u2192 Charmeleon \\u2192 Charizard\\n- **Mega Evolutions**: Charizard has two Mega Evolutions, Mega Charizard X (Fire/Dragon type) and Mega Charizard Y (Fire/Flying type), introduced in *Pok\\u00e9mon X and Y*.\\n- **Gigantamax Form**: Charizard also has a Gigantamax form introduced in *Pok\\u00e9mon Sword and Shield*, which gives it a massive, fiery appearance with flames erupting from its wings and body.\\n\\nCharizard resembles a large, orange dragon with a long tail tipped with a flame. Its wings are blue on the inside and allow it to fly at high speeds. Despite its dragon-like appearance, it is not a Dragon-type Pok\\u00e9mon in its base form.\\n\\n---\\n\\n### 2. **Behavior**\\nCharizard is known for its fiery temperament and pride. It is a powerful and competitive Pok\\u00e9mon that loves to battle strong opponents. However, it can be reckless and overconfident, especially when it underestimates its opponent. Charizard\\u2019s flame burns hotter when it is excited or angry, and it is said to never use its fire breath on weaker opponents, showing a sense of honor.\\n\\nCharizard is also highly loyal to trainers who earn its respect, but it can be disobedient if it feels its trainer is inexperienced or unworthy, as seen in the Pok\\u00e9mon anime.\\n\\n---\\n\\n### 3. **Pok\\u00e9dex Description**\\nCharizard has appeared in nearly every Pok\\u00e9mon game, and its Pok\\u00e9dex entries often emphasize its fiery breath and flying abilities. Below are some notable Pok\\u00e9dex descriptions:\\n\\n- **Pok\\u00e9mon Red/Blue**: \\\"Spits fire that is hot enough to melt boulders. Known to cause forest fires unintentionally.\\\"\\n- **Pok\\u00e9mon Gold**: \\\"If Charizard becomes furious, the flame at the tip of its tail flares up in a whitish-blue color.\\\"\\n- **Pok\\u00e9mon Sword**: \\\"It spits fire that is hot enough to melt boulders. It may cause forest fires by blowing flames.\\\"\\n- **Pok\\u00e9mon Shield**: \\\"The flame inside its body burns hotter than 3,600 degrees Fahrenheit. When Charizard roars, that temperature climbs even higher.\\\"\\n\\nThese entries highlight its destructive power and the intensity of its flames.\\n\\n---\\n\\n### 4. **Notable Trainers Who Own Charizard**\\nCharizard has been owned by several notable trainers in the Pok\\u00e9mon franchise, including:\\n\\n- **Ash Ketchum**: Ash\\u2019s Charizard is one of his most famous Pok\\u00e9mon. It started as a Charmander abandoned by its previous trainer, Damian, and evolved into a powerful but initially disobedient Charizard. Over time, Ash earned its respect, and it became one of his most reliable and iconic Pok\\u00e9mon.\\n- **Leon**: The Champion of the Galar region in *Pok\\u00e9mon Sword and Shield* is known for his Gigantamax Charizard, which serves as his signature Pok\\u00e9mon.<br>"
      ],
      "text/plain": [
       "<IPython.core.display.Markdown object>"
      ]
     },
     "metadata": {},
     "output_type": "display_data"
    },
    {
     "data": {
      "text/markdown": [
       "**Node ID:** 9374b01e-0394-451f-a439-f56a45ad3e84<br>**Similarity:** 4.360943794250488<br>**Text:** The evolution marks a turning point in the Pok\\u00e9mon\\u2019s personality, as it becomes more confident and assertive while still retaining its loyalty to its owner.\\n\\nAnother notable scene is when Granbull is used in battles during various tournaments and showcases its powerful jaw attacks, such as *Crunch* and *Play Rough*. Its intimidating presence often surprises opponents who underestimate its strength due to its timid nature.\\n\\n---\\n\\nGranbull remains a fan-favorite Pok\\u00e9mon for its unique combination of a fierce appearance and gentle personality. Its role in the franchise highlights themes of loyalty, courage, and the importance of not judging others based on their looks.\"<br>"
      ],
      "text/plain": [
       "<IPython.core.display.Markdown object>"
      ]
     },
     "metadata": {},
     "output_type": "display_data"
    },
    {
     "data": {
      "text/markdown": [
       "**Node ID:** 2f8b9c1b-8108-404b-b531-9ec23fb9f679<br>**Similarity:** 3.9626479148864746<br>**Text:** \"### Detailed Summary of Rhyhorn\\n\\n#### 1. **Characteristics**\\nRhyhorn is a dual-type **Ground/Rock Pok\\u00e9mon** introduced in Generation I. It is known for its rugged, rhinoceros-like appearance, with a body covered in thick, gray, rock-like armor that provides excellent defense. Its body is quadrupedal, with short, sturdy legs and a spiked tail. Rhyhorn has a single, prominent horn on its snout, which it uses for charging and attacking opponents. Its eyes are small and fierce, giving it an intimidating look.\\n\\nRhyhorn is a relatively large Pok\\u00e9mon, standing at **3'03\\\" (1.0 m)** tall and weighing **253.5 lbs (115.0 kg)**. Its physical strength and durability make it a formidable Pok\\u00e9mon in battle, especially when utilizing its high Attack and Defense stats. However, it is not known for its speed or agility, and its Special Defense is notably weak.\\n\\n#### 2. **Behavior**\\nRhyhorn is a straightforward and somewhat reckless Pok\\u00e9mon. It is known for charging at anything it sees, often without thinking. This behavior stems from its instinctive nature and its reliance on brute strength rather than strategy. However, Rhyhorn's intelligence is relatively low, and it has difficulty remembering things for long periods. For example, it may forget why it started charging in the first place.\\n\\nDespite its aggressive tendencies, Rhyhorn is not inherently malicious. It is simply driven by its instincts and its natural affinity for physical combat. In the wild, Rhyhorn is often seen roaming rocky terrains, deserts, and mountainous regions, where it can use its sturdy body to navigate harsh environments.\\n\\n#### 3. **Pokedex Description**\\nRhyhorn's Pok\\u00e9dex entries across various games emphasize its physical power, durability, and lack of intelligence. Here are some notable examples:\\n\\n- **Red/Blue:** \\\"Its massive bones are 1,000 times harder than human bones. It can easily knock a trailer flying.\\\"\\n- **Yellow:** \\\"A Pok\\u00e9mon with a one-track mind. Once it charges, it won\\u2019t stop running until it falls asleep.\\\"\\n- **Gold:** \\\"It is inept at turning because of its four short legs. It can only charge and run in one direction.\\\"\\n- **Ruby/Sapphire:** \\\"Rhyhorn runs in a straight line, smashing everything in its path. It is not bothered even if it rushes headlong into a block of steel. This Pok\\u00e9mon may feel some pain from the collision the next day, however.\\\"\\n\\nThese entries highlight Rhyhorn's incredible physical strength and endurance, as well as its somewhat clumsy and single-minded nature.\\n\\n#### 4. **Notable Trainers Who Own Them**\\nRhyhorn has been owned by several notable trainers in the Pok\\u00e9mon franchise, including:\\n\\n- **Blaine (Gym Leader):** In the Pok\\u00e9mon Adventures manga, Blaine is shown using a Rhyhorn during battles.\\n- **Kiawe (Anime):** In the Pok\\u00e9mon Sun and Moon anime, Kiawe's family owns a Rhyhorn that is used for farm work.\\n- **Serena (Anime):** In the Pok\\u00e9mon X and Y anime, Serena is shown to have experience riding Rhyhorn, as her mother is a famous Rhyhorn racer. While Serena does not own a Rhyhorn herself, her connection to Rhyhorn racing is a significant part of her backstory.\\n\\n#### 5. **Famous Scene in the Pok\\u00e9mon Franchise**\\nOne of the most memorable scenes involving Rhyhorn occurs in the **Pok\\u00e9mon X and Y anime**, where Serena is shown practicing Rhyhorn racing. This scene is significant because it highlights Serena's upbringing and her initial struggles to find her own path in life. Her mother, Grace, is a renowned Rhyhorn racer, and Serena is expected to follow in her footsteps. However, Serena ultimately decides to pursue her own dreams, which sets her on the path to becoming a Pok\\u00e9mon Performer.\\n\\nAnother notable moment is in the **Pok\\u00e9mon Adventures manga**, where Rhyhorn is used in intense battles, showcasing its raw power and durability.<br>"
      ],
      "text/plain": [
       "<IPython.core.display.Markdown object>"
      ]
     },
     "metadata": {},
     "output_type": "display_data"
    }
   ],
   "source": [
    "retrieved_nodes = bm25_retriever.retrieve(\n",
    "    \"However, it can be reckless and overconfident, especially when it underestimates its opponent\"\n",
    ")\n",
    "for node in retrieved_nodes:\n",
    "    display_source_node(node, source_length=5000)"
   ]
  },
  {
   "cell_type": "markdown",
   "id": "4ec2a543",
   "metadata": {},
   "source": [
    "### KeywordTableIndex\n",
    "- https://docs.llamaindex.ai/en/stable/examples/query_engine/CustomRetrievers/"
   ]
  },
  {
   "cell_type": "code",
   "execution_count": 37,
   "id": "192189a9",
   "metadata": {},
   "outputs": [
    {
     "name": "stdout",
     "output_type": "stream",
     "text": [
      "INFO:root:Loading llama_index.vector_stores.faiss.base from ./storage_row_node/default__vector_store.json.\n",
      "Loading llama_index.vector_stores.faiss.base from ./storage_row_node/default__vector_store.json.\n",
      "DEBUG:llama_index.core.storage.kvstore.simple_kvstore:Loading llama_index.core.storage.kvstore.simple_kvstore from ./storage_row_node/docstore.json.\n",
      "Loading llama_index.core.storage.kvstore.simple_kvstore from ./storage_row_node/docstore.json.\n",
      "DEBUG:fsspec.local:open file: /Users/gsh/Documents/2 - Codes/All-About-LLM/storage_row_node/docstore.json\n",
      "open file: /Users/gsh/Documents/2 - Codes/All-About-LLM/storage_row_node/docstore.json\n",
      "DEBUG:llama_index.core.storage.kvstore.simple_kvstore:Loading llama_index.core.storage.kvstore.simple_kvstore from ./storage_row_node/index_store.json.\n",
      "Loading llama_index.core.storage.kvstore.simple_kvstore from ./storage_row_node/index_store.json.\n",
      "DEBUG:fsspec.local:open file: /Users/gsh/Documents/2 - Codes/All-About-LLM/storage_row_node/index_store.json\n",
      "open file: /Users/gsh/Documents/2 - Codes/All-About-LLM/storage_row_node/index_store.json\n",
      "DEBUG:llama_index.core.graph_stores.simple:Loading llama_index.core.graph_stores.simple from ./storage_row_node/graph_store.json.\n",
      "Loading llama_index.core.graph_stores.simple from ./storage_row_node/graph_store.json.\n",
      "DEBUG:fsspec.local:open file: /Users/gsh/Documents/2 - Codes/All-About-LLM/storage_row_node/graph_store.json\n",
      "open file: /Users/gsh/Documents/2 - Codes/All-About-LLM/storage_row_node/graph_store.json\n",
      "DEBUG:fsspec.local:open file: /Users/gsh/Documents/2 - Codes/All-About-LLM/storage_row_node/property_graph_store.json\n",
      "open file: /Users/gsh/Documents/2 - Codes/All-About-LLM/storage_row_node/property_graph_store.json\n",
      "INFO:llama_index.core.indices.loading:Loading all indices.\n",
      "Loading all indices.\n",
      "**********\n",
      "Trace: index_construction\n",
      "**********\n"
     ]
    }
   ],
   "source": [
    "from llama_index.core import SimpleKeywordTableIndex, VectorStoreIndex\n",
    "\n",
    "\n",
    "faiss_index = faiss.IndexFlatL2(d)\n",
    "vector_store = FaissVectorStore(faiss_index=faiss_index).from_persist_dir(persist_dir=VECTOR_STORE_LOC)\n",
    "storage_context = StorageContext.from_defaults(vector_store=vector_store, persist_dir=VECTOR_STORE_LOC)\n",
    "index = load_index_from_storage(storage_context=storage_context, embed_model=embed_model, callback_manager=CallbackManager([token_counter, llama_debug]), transformations=[SentenceSplitter(chunk_size=1024, chunk_overlap=20)] )\n",
    "\n",
    "\n",
    "keyword_index = SimpleKeywordTableIndex(list(index.docstore.docs.values()), storage_context=storage_context, llm=llm)\n"
   ]
  },
  {
   "cell_type": "code",
   "execution_count": 52,
   "id": "9565f47c",
   "metadata": {},
   "outputs": [
    {
     "name": "stdout",
     "output_type": "stream",
     "text": [
      "INFO:llama_index.core.indices.keyword_table.retrievers:> Starting query: However, it can be reckless and overconfident, especially when it underestimates its opponent\n",
      "> Starting query: However, it can be reckless and overconfident, especially when it underestimates its opponent\n",
      "INFO:llama_index.core.indices.keyword_table.retrievers:query keywords: ['opponent', 'reckless', 'overconfident', 'underestimates', 'especially', 'however']\n",
      "query keywords: ['opponent', 'reckless', 'overconfident', 'underestimates', 'especially', 'however']\n",
      "INFO:llama_index.core.indices.keyword_table.retrievers:> Extracted keywords: ['opponent', 'however']\n",
      "> Extracted keywords: ['opponent', 'however']\n",
      "DEBUG:llama_index.core.indices.keyword_table.retrievers:> Querying with idx: b16eb1c4-9cb1-4c59-ab3a-9a0c47ec679d: Clair's Kingdra is infamous among players for i...\n",
      "> Querying with idx: b16eb1c4-9cb1-4c59-ab3a-9a0c47ec679d: Clair's Kingdra is infamous among players for i...\n",
      "DEBUG:llama_index.core.indices.keyword_table.retrievers:> Querying with idx: 2f8b9c1b-8108-404b-b531-9ec23fb9f679: \"### Detailed Summary of Rhyhorn\\n\\n#### 1. **C...\n",
      "> Querying with idx: 2f8b9c1b-8108-404b-b531-9ec23fb9f679: \"### Detailed Summary of Rhyhorn\\n\\n#### 1. **C...\n",
      "**********\n",
      "Trace: query\n",
      "    |_CBEventType.RETRIEVE -> 0.00692 seconds\n",
      "**********\n"
     ]
    },
    {
     "data": {
      "text/plain": [
       "[NodeWithScore(node=TextNode(id_='b16eb1c4-9cb1-4c59-ab3a-9a0c47ec679d', embedding=None, metadata={'name': 'Kingdra', 'generation': 2, 'type1': 'water', 'type2': 'dragon', 'is_legendary': 0}, excluded_embed_metadata_keys=[], excluded_llm_metadata_keys=[], relationships={<NodeRelationship.SOURCE: '1'>: RelatedNodeInfo(node_id='Kingdra', node_type='4', metadata={'name': 'Kingdra', 'generation': 2, 'type1': 'water', 'type2': 'dragon', 'is_legendary': 0}, hash='e40c0fc668ea79f909755d8a3e08583f5a8dfe45f677f37c0e8d5c4ddfa1e350'), <NodeRelationship.PREVIOUS: '2'>: RelatedNodeInfo(node_id='358579a9-0fa1-4184-8250-02286b5180ff', node_type='1', metadata={'name': 'Kingdra', 'generation': 2, 'type1': 'water', 'type2': 'dragon', 'is_legendary': 0}, hash='0a21006532b8d340309f71b2306086bfaeaf512b9b52ec6b459bbd343e8f4b2c')}, metadata_template='{key}=>{value}', metadata_separator='::', text='Clair\\'s Kingdra is infamous among players for its high stats and lack of weaknesses in Generation II, as the only Dragon-type moves available at the time were Dragon Rage and Twister, which were not very effective. This made Kingdra a formidable opponent and a defining moment for many trainers in their journey through Johto.\\\\n\\\\nIn the Pok\\\\u00e9mon anime, Kingdra makes a notable appearance during Ash\\'s battle against Clair. Clair\\'s Kingdra demonstrates its strength and strategy, using moves like *Smokescreen* to lower visibility and *Hydro Pump* to deal massive damage. The battle showcases Kingdra\\'s ability to dominate in both offense and defense, solidifying its reputation as a powerful Dragon Pok\\\\u00e9mon.\\\\n\\\\n---\\\\n\\\\n### Summary\\\\nKingdra is a majestic and powerful Pok\\\\u00e9mon that embodies the mystery and strength of the ocean. With its unique Water/Dragon typing, it is a versatile and challenging opponent in battles. Its association with notable trainers like Clair and its appearances in the games and anime have cemented its place as one of the most iconic Pok\\\\u00e9mon in the franchise.\"', mimetype='text/plain', start_char_idx=3630, end_char_idx=4736, metadata_seperator='::', text_template='Metadata: {metadata_str}\\n-----\\nContent: {content}'), score=None),\n",
       " NodeWithScore(node=TextNode(id_='2f8b9c1b-8108-404b-b531-9ec23fb9f679', embedding=None, metadata={'name': 'Rhyhorn', 'generation': 1, 'type1': 'ground', 'type2': 'rock', 'is_legendary': 0}, excluded_embed_metadata_keys=[], excluded_llm_metadata_keys=[], relationships={<NodeRelationship.SOURCE: '1'>: RelatedNodeInfo(node_id='Rhyhorn', node_type='4', metadata={'name': 'Rhyhorn', 'generation': 1, 'type1': 'ground', 'type2': 'rock', 'is_legendary': 0}, hash='c2327a2fd8b5e5fb097df8a08da258d94dba57f65969037ace04ee3eed4e5a15'), <NodeRelationship.NEXT: '3'>: RelatedNodeInfo(node_id='6642bc90-c498-4fbb-9c95-07d11e300de5', node_type='1', metadata={}, hash='20d39ee01f87bac0e589ff23c59115526483727d5c8cf64040e0fd38f98e0461')}, metadata_template='{key}=>{value}', metadata_separator='::', text='\"### Detailed Summary of Rhyhorn\\\\n\\\\n#### 1. **Characteristics**\\\\nRhyhorn is a dual-type **Ground/Rock Pok\\\\u00e9mon** introduced in Generation I. It is known for its rugged, rhinoceros-like appearance, with a body covered in thick, gray, rock-like armor that provides excellent defense. Its body is quadrupedal, with short, sturdy legs and a spiked tail. Rhyhorn has a single, prominent horn on its snout, which it uses for charging and attacking opponents. Its eyes are small and fierce, giving it an intimidating look.\\\\n\\\\nRhyhorn is a relatively large Pok\\\\u00e9mon, standing at **3\\'03\\\\\" (1.0 m)** tall and weighing **253.5 lbs (115.0 kg)**. Its physical strength and durability make it a formidable Pok\\\\u00e9mon in battle, especially when utilizing its high Attack and Defense stats. However, it is not known for its speed or agility, and its Special Defense is notably weak.\\\\n\\\\n#### 2. **Behavior**\\\\nRhyhorn is a straightforward and somewhat reckless Pok\\\\u00e9mon. It is known for charging at anything it sees, often without thinking. This behavior stems from its instinctive nature and its reliance on brute strength rather than strategy. However, Rhyhorn\\'s intelligence is relatively low, and it has difficulty remembering things for long periods. For example, it may forget why it started charging in the first place.\\\\n\\\\nDespite its aggressive tendencies, Rhyhorn is not inherently malicious. It is simply driven by its instincts and its natural affinity for physical combat. In the wild, Rhyhorn is often seen roaming rocky terrains, deserts, and mountainous regions, where it can use its sturdy body to navigate harsh environments.\\\\n\\\\n#### 3. **Pokedex Description**\\\\nRhyhorn\\'s Pok\\\\u00e9dex entries across various games emphasize its physical power, durability, and lack of intelligence. Here are some notable examples:\\\\n\\\\n- **Red/Blue:** \\\\\"Its massive bones are 1,000 times harder than human bones. It can easily knock a trailer flying.\\\\\"\\\\n- **Yellow:** \\\\\"A Pok\\\\u00e9mon with a one-track mind. Once it charges, it won\\\\u2019t stop running until it falls asleep.\\\\\"\\\\n- **Gold:** \\\\\"It is inept at turning because of its four short legs. It can only charge and run in one direction.\\\\\"\\\\n- **Ruby/Sapphire:** \\\\\"Rhyhorn runs in a straight line, smashing everything in its path. It is not bothered even if it rushes headlong into a block of steel. This Pok\\\\u00e9mon may feel some pain from the collision the next day, however.\\\\\"\\\\n\\\\nThese entries highlight Rhyhorn\\'s incredible physical strength and endurance, as well as its somewhat clumsy and single-minded nature.\\\\n\\\\n#### 4. **Notable Trainers Who Own Them**\\\\nRhyhorn has been owned by several notable trainers in the Pok\\\\u00e9mon franchise, including:\\\\n\\\\n- **Blaine (Gym Leader):** In the Pok\\\\u00e9mon Adventures manga, Blaine is shown using a Rhyhorn during battles.\\\\n- **Kiawe (Anime):** In the Pok\\\\u00e9mon Sun and Moon anime, Kiawe\\'s family owns a Rhyhorn that is used for farm work.\\\\n- **Serena (Anime):** In the Pok\\\\u00e9mon X and Y anime, Serena is shown to have experience riding Rhyhorn, as her mother is a famous Rhyhorn racer. While Serena does not own a Rhyhorn herself, her connection to Rhyhorn racing is a significant part of her backstory.\\\\n\\\\n#### 5. **Famous Scene in the Pok\\\\u00e9mon Franchise**\\\\nOne of the most memorable scenes involving Rhyhorn occurs in the **Pok\\\\u00e9mon X and Y anime**, where Serena is shown practicing Rhyhorn racing. This scene is significant because it highlights Serena\\'s upbringing and her initial struggles to find her own path in life. Her mother, Grace, is a renowned Rhyhorn racer, and Serena is expected to follow in her footsteps. However, Serena ultimately decides to pursue her own dreams, which sets her on the path to becoming a Pok\\\\u00e9mon Performer.\\\\n\\\\nAnother notable moment is in the **Pok\\\\u00e9mon Adventures manga**, where Rhyhorn is used in intense battles, showcasing its raw power and durability.', mimetype='text/plain', start_char_idx=0, end_char_idx=3916, metadata_seperator='::', text_template='Metadata: {metadata_str}\\n-----\\nContent: {content}'), score=None)]"
      ]
     },
     "execution_count": 52,
     "metadata": {},
     "output_type": "execute_result"
    }
   ],
   "source": [
    "# import QueryBundle\n",
    "from llama_index.core import QueryBundle\n",
    "\n",
    "# import NodeWithScore\n",
    "# from llama_index.core.schema import NodeWithScore\n",
    "\n",
    "# Retrievers\n",
    "from llama_index.core.retrievers import (\n",
    "    # BaseRetriever,\n",
    "    # VectorIndexRetriever,\n",
    "    KeywordTableSimpleRetriever,\n",
    ")\n",
    "\n",
    "from typing import List\n",
    "\n",
    "keyword_retriever = KeywordTableSimpleRetriever(index=keyword_index, llm=llm, callback_manager=CallbackManager([token_counter, llama_debug]))\n",
    "keyword_retriever.retrieve(QueryBundle(\"However, it can be reckless and overconfident, especially when it underestimates its opponent\"))"
   ]
  },
  {
   "cell_type": "code",
   "execution_count": 55,
   "id": "8d539231",
   "metadata": {},
   "outputs": [
    {
     "name": "stdout",
     "output_type": "stream",
     "text": [
      "INFO:llama_index.core.indices.keyword_table.retrievers:> Starting query: However, it can be reckless and overconfident, especially when it underestimates its opponent\n",
      "> Starting query: However, it can be reckless and overconfident, especially when it underestimates its opponent\n",
      "INFO:llama_index.core.indices.keyword_table.retrievers:query keywords: ['opponent', 'reckless', 'overconfident', 'underestimates', 'especially', 'however']\n",
      "query keywords: ['opponent', 'reckless', 'overconfident', 'underestimates', 'especially', 'however']\n",
      "INFO:llama_index.core.indices.keyword_table.retrievers:> Extracted keywords: ['opponent', 'however']\n",
      "> Extracted keywords: ['opponent', 'however']\n",
      "DEBUG:llama_index.core.indices.keyword_table.retrievers:> Querying with idx: b16eb1c4-9cb1-4c59-ab3a-9a0c47ec679d: Clair's Kingdra is infamous among players for i...\n",
      "> Querying with idx: b16eb1c4-9cb1-4c59-ab3a-9a0c47ec679d: Clair's Kingdra is infamous among players for i...\n",
      "DEBUG:llama_index.core.indices.keyword_table.retrievers:> Querying with idx: 2f8b9c1b-8108-404b-b531-9ec23fb9f679: \"### Detailed Summary of Rhyhorn\\n\\n#### 1. **C...\n",
      "> Querying with idx: 2f8b9c1b-8108-404b-b531-9ec23fb9f679: \"### Detailed Summary of Rhyhorn\\n\\n#### 1. **C...\n",
      "DEBUG:openai._base_client:Request options: {'method': 'post', 'url': '/deployments/gpt-4o/chat/completions', 'headers': {'api-key': '<redacted>'}, 'files': None, 'idempotency_key': 'stainless-python-retry-969c5966-5860-4a1b-a370-ca9be068dc93', 'json_data': {'messages': [{'role': 'system', 'content': \"You are an expert Q&A system that is trusted around the world.\\nAlways answer the query using the provided context information, and not prior knowledge.\\nSome rules to follow:\\n1. Never directly reference the given context in your answer.\\n2. Avoid statements like 'Based on the context, ...' or 'The context information ...' or anything along those lines.\"}, {'role': 'user', 'content': 'Context information is below.\\n---------------------\\nMetadata: name=>Kingdra::generation=>2::type1=>water::type2=>dragon::is_legendary=>0\\n-----\\nContent: Clair\\'s Kingdra is infamous among players for its high stats and lack of weaknesses in Generation II, as the only Dragon-type moves available at the time were Dragon Rage and Twister, which were not very effective. This made Kingdra a formidable opponent and a defining moment for many trainers in their journey through Johto.\\\\n\\\\nIn the Pok\\\\u00e9mon anime, Kingdra makes a notable appearance during Ash\\'s battle against Clair. Clair\\'s Kingdra demonstrates its strength and strategy, using moves like *Smokescreen* to lower visibility and *Hydro Pump* to deal massive damage. The battle showcases Kingdra\\'s ability to dominate in both offense and defense, solidifying its reputation as a powerful Dragon Pok\\\\u00e9mon.\\\\n\\\\n---\\\\n\\\\n### Summary\\\\nKingdra is a majestic and powerful Pok\\\\u00e9mon that embodies the mystery and strength of the ocean. With its unique Water/Dragon typing, it is a versatile and challenging opponent in battles. Its association with notable trainers like Clair and its appearances in the games and anime have cemented its place as one of the most iconic Pok\\\\u00e9mon in the franchise.\"\\n\\nMetadata: name=>Rhyhorn::generation=>1::type1=>ground::type2=>rock::is_legendary=>0\\n-----\\nContent: \"### Detailed Summary of Rhyhorn\\\\n\\\\n#### 1. **Characteristics**\\\\nRhyhorn is a dual-type **Ground/Rock Pok\\\\u00e9mon** introduced in Generation I. It is known for its rugged, rhinoceros-like appearance, with a body covered in thick, gray, rock-like armor that provides excellent defense. Its body is quadrupedal, with short, sturdy legs and a spiked tail. Rhyhorn has a single, prominent horn on its snout, which it uses for charging and attacking opponents. Its eyes are small and fierce, giving it an intimidating look.\\\\n\\\\nRhyhorn is a relatively large Pok\\\\u00e9mon, standing at **3\\'03\\\\\" (1.0 m)** tall and weighing **253.5 lbs (115.0 kg)**. Its physical strength and durability make it a formidable Pok\\\\u00e9mon in battle, especially when utilizing its high Attack and Defense stats. However, it is not known for its speed or agility, and its Special Defense is notably weak.\\\\n\\\\n#### 2. **Behavior**\\\\nRhyhorn is a straightforward and somewhat reckless Pok\\\\u00e9mon. It is known for charging at anything it sees, often without thinking. This behavior stems from its instinctive nature and its reliance on brute strength rather than strategy. However, Rhyhorn\\'s intelligence is relatively low, and it has difficulty remembering things for long periods. For example, it may forget why it started charging in the first place.\\\\n\\\\nDespite its aggressive tendencies, Rhyhorn is not inherently malicious. It is simply driven by its instincts and its natural affinity for physical combat. In the wild, Rhyhorn is often seen roaming rocky terrains, deserts, and mountainous regions, where it can use its sturdy body to navigate harsh environments.\\\\n\\\\n#### 3. **Pokedex Description**\\\\nRhyhorn\\'s Pok\\\\u00e9dex entries across various games emphasize its physical power, durability, and lack of intelligence. Here are some notable examples:\\\\n\\\\n- **Red/Blue:** \\\\\"Its massive bones are 1,000 times harder than human bones. It can easily knock a trailer flying.\\\\\"\\\\n- **Yellow:** \\\\\"A Pok\\\\u00e9mon with a one-track mind. Once it charges, it won\\\\u2019t stop running until it falls asleep.\\\\\"\\\\n- **Gold:** \\\\\"It is inept at turning because of its four short legs. It can only charge and run in one direction.\\\\\"\\\\n- **Ruby/Sapphire:** \\\\\"Rhyhorn runs in a straight line, smashing everything in its path. It is not bothered even if it rushes headlong into a block of steel. This Pok\\\\u00e9mon may feel some pain from the collision the next day, however.\\\\\"\\\\n\\\\nThese entries highlight Rhyhorn\\'s incredible physical strength and endurance, as well as its somewhat clumsy and single-minded nature.\\\\n\\\\n#### 4. **Notable Trainers Who Own Them**\\\\nRhyhorn has been owned by several notable trainers in the Pok\\\\u00e9mon franchise, including:\\\\n\\\\n- **Blaine (Gym Leader):** In the Pok\\\\u00e9mon Adventures manga, Blaine is shown using a Rhyhorn during battles.\\\\n- **Kiawe (Anime):** In the Pok\\\\u00e9mon Sun and Moon anime, Kiawe\\'s family owns a Rhyhorn that is used for farm work.\\\\n- **Serena (Anime):** In the Pok\\\\u00e9mon X and Y anime, Serena is shown to have experience riding Rhyhorn, as her mother is a famous Rhyhorn racer. While Serena does not own a Rhyhorn herself, her connection to Rhyhorn racing is a significant part of her backstory.\\\\n\\\\n#### 5. **Famous Scene in the Pok\\\\u00e9mon Franchise**\\\\nOne of the most memorable scenes involving Rhyhorn occurs in the **Pok\\\\u00e9mon X and Y anime**, where Serena is shown practicing Rhyhorn racing. This scene is significant because it highlights Serena\\'s upbringing and her initial struggles to find her own path in life. Her mother, Grace, is a renowned Rhyhorn racer, and Serena is expected to follow in her footsteps. However, Serena ultimately decides to pursue her own dreams, which sets her on the path to becoming a Pok\\\\u00e9mon Performer.\\\\n\\\\nAnother notable moment is in the **Pok\\\\u00e9mon Adventures manga**, where Rhyhorn is used in intense battles, showcasing its raw power and durability.\\n---------------------\\nGiven the context information and not prior knowledge, answer the query.\\nQuery: However, it can be reckless and overconfident, especially when it underestimates its opponent\\nAnswer: '}], 'model': 'gpt-4o', 'stream': False, 'temperature': 0.1}}\n",
      "Request options: {'method': 'post', 'url': '/deployments/gpt-4o/chat/completions', 'headers': {'api-key': '<redacted>'}, 'files': None, 'idempotency_key': 'stainless-python-retry-969c5966-5860-4a1b-a370-ca9be068dc93', 'json_data': {'messages': [{'role': 'system', 'content': \"You are an expert Q&A system that is trusted around the world.\\nAlways answer the query using the provided context information, and not prior knowledge.\\nSome rules to follow:\\n1. Never directly reference the given context in your answer.\\n2. Avoid statements like 'Based on the context, ...' or 'The context information ...' or anything along those lines.\"}, {'role': 'user', 'content': 'Context information is below.\\n---------------------\\nMetadata: name=>Kingdra::generation=>2::type1=>water::type2=>dragon::is_legendary=>0\\n-----\\nContent: Clair\\'s Kingdra is infamous among players for its high stats and lack of weaknesses in Generation II, as the only Dragon-type moves available at the time were Dragon Rage and Twister, which were not very effective. This made Kingdra a formidable opponent and a defining moment for many trainers in their journey through Johto.\\\\n\\\\nIn the Pok\\\\u00e9mon anime, Kingdra makes a notable appearance during Ash\\'s battle against Clair. Clair\\'s Kingdra demonstrates its strength and strategy, using moves like *Smokescreen* to lower visibility and *Hydro Pump* to deal massive damage. The battle showcases Kingdra\\'s ability to dominate in both offense and defense, solidifying its reputation as a powerful Dragon Pok\\\\u00e9mon.\\\\n\\\\n---\\\\n\\\\n### Summary\\\\nKingdra is a majestic and powerful Pok\\\\u00e9mon that embodies the mystery and strength of the ocean. With its unique Water/Dragon typing, it is a versatile and challenging opponent in battles. Its association with notable trainers like Clair and its appearances in the games and anime have cemented its place as one of the most iconic Pok\\\\u00e9mon in the franchise.\"\\n\\nMetadata: name=>Rhyhorn::generation=>1::type1=>ground::type2=>rock::is_legendary=>0\\n-----\\nContent: \"### Detailed Summary of Rhyhorn\\\\n\\\\n#### 1. **Characteristics**\\\\nRhyhorn is a dual-type **Ground/Rock Pok\\\\u00e9mon** introduced in Generation I. It is known for its rugged, rhinoceros-like appearance, with a body covered in thick, gray, rock-like armor that provides excellent defense. Its body is quadrupedal, with short, sturdy legs and a spiked tail. Rhyhorn has a single, prominent horn on its snout, which it uses for charging and attacking opponents. Its eyes are small and fierce, giving it an intimidating look.\\\\n\\\\nRhyhorn is a relatively large Pok\\\\u00e9mon, standing at **3\\'03\\\\\" (1.0 m)** tall and weighing **253.5 lbs (115.0 kg)**. Its physical strength and durability make it a formidable Pok\\\\u00e9mon in battle, especially when utilizing its high Attack and Defense stats. However, it is not known for its speed or agility, and its Special Defense is notably weak.\\\\n\\\\n#### 2. **Behavior**\\\\nRhyhorn is a straightforward and somewhat reckless Pok\\\\u00e9mon. It is known for charging at anything it sees, often without thinking. This behavior stems from its instinctive nature and its reliance on brute strength rather than strategy. However, Rhyhorn\\'s intelligence is relatively low, and it has difficulty remembering things for long periods. For example, it may forget why it started charging in the first place.\\\\n\\\\nDespite its aggressive tendencies, Rhyhorn is not inherently malicious. It is simply driven by its instincts and its natural affinity for physical combat. In the wild, Rhyhorn is often seen roaming rocky terrains, deserts, and mountainous regions, where it can use its sturdy body to navigate harsh environments.\\\\n\\\\n#### 3. **Pokedex Description**\\\\nRhyhorn\\'s Pok\\\\u00e9dex entries across various games emphasize its physical power, durability, and lack of intelligence. Here are some notable examples:\\\\n\\\\n- **Red/Blue:** \\\\\"Its massive bones are 1,000 times harder than human bones. It can easily knock a trailer flying.\\\\\"\\\\n- **Yellow:** \\\\\"A Pok\\\\u00e9mon with a one-track mind. Once it charges, it won\\\\u2019t stop running until it falls asleep.\\\\\"\\\\n- **Gold:** \\\\\"It is inept at turning because of its four short legs. It can only charge and run in one direction.\\\\\"\\\\n- **Ruby/Sapphire:** \\\\\"Rhyhorn runs in a straight line, smashing everything in its path. It is not bothered even if it rushes headlong into a block of steel. This Pok\\\\u00e9mon may feel some pain from the collision the next day, however.\\\\\"\\\\n\\\\nThese entries highlight Rhyhorn\\'s incredible physical strength and endurance, as well as its somewhat clumsy and single-minded nature.\\\\n\\\\n#### 4. **Notable Trainers Who Own Them**\\\\nRhyhorn has been owned by several notable trainers in the Pok\\\\u00e9mon franchise, including:\\\\n\\\\n- **Blaine (Gym Leader):** In the Pok\\\\u00e9mon Adventures manga, Blaine is shown using a Rhyhorn during battles.\\\\n- **Kiawe (Anime):** In the Pok\\\\u00e9mon Sun and Moon anime, Kiawe\\'s family owns a Rhyhorn that is used for farm work.\\\\n- **Serena (Anime):** In the Pok\\\\u00e9mon X and Y anime, Serena is shown to have experience riding Rhyhorn, as her mother is a famous Rhyhorn racer. While Serena does not own a Rhyhorn herself, her connection to Rhyhorn racing is a significant part of her backstory.\\\\n\\\\n#### 5. **Famous Scene in the Pok\\\\u00e9mon Franchise**\\\\nOne of the most memorable scenes involving Rhyhorn occurs in the **Pok\\\\u00e9mon X and Y anime**, where Serena is shown practicing Rhyhorn racing. This scene is significant because it highlights Serena\\'s upbringing and her initial struggles to find her own path in life. Her mother, Grace, is a renowned Rhyhorn racer, and Serena is expected to follow in her footsteps. However, Serena ultimately decides to pursue her own dreams, which sets her on the path to becoming a Pok\\\\u00e9mon Performer.\\\\n\\\\nAnother notable moment is in the **Pok\\\\u00e9mon Adventures manga**, where Rhyhorn is used in intense battles, showcasing its raw power and durability.\\n---------------------\\nGiven the context information and not prior knowledge, answer the query.\\nQuery: However, it can be reckless and overconfident, especially when it underestimates its opponent\\nAnswer: '}], 'model': 'gpt-4o', 'stream': False, 'temperature': 0.1}}\n",
      "DEBUG:openai._base_client:Sending HTTP Request: POST https://gtp-get.openai.azure.com/openai/deployments/gpt-4o/chat/completions?api-version=2025-01-01-preview\n",
      "Sending HTTP Request: POST https://gtp-get.openai.azure.com/openai/deployments/gpt-4o/chat/completions?api-version=2025-01-01-preview\n",
      "DEBUG:httpcore.connection:close.started\n",
      "close.started\n",
      "DEBUG:httpcore.connection:close.complete\n",
      "close.complete\n",
      "DEBUG:httpcore.connection:connect_tcp.started host='gtp-get.openai.azure.com' port=443 local_address=None timeout=60.0 socket_options=None\n",
      "connect_tcp.started host='gtp-get.openai.azure.com' port=443 local_address=None timeout=60.0 socket_options=None\n",
      "DEBUG:httpcore.connection:connect_tcp.complete return_value=<httpcore._backends.sync.SyncStream object at 0x1237fed20>\n",
      "connect_tcp.complete return_value=<httpcore._backends.sync.SyncStream object at 0x1237fed20>\n",
      "DEBUG:httpcore.connection:start_tls.started ssl_context=<ssl.SSLContext object at 0x1240a6450> server_hostname='gtp-get.openai.azure.com' timeout=60.0\n",
      "start_tls.started ssl_context=<ssl.SSLContext object at 0x1240a6450> server_hostname='gtp-get.openai.azure.com' timeout=60.0\n",
      "DEBUG:httpcore.connection:start_tls.complete return_value=<httpcore._backends.sync.SyncStream object at 0x12309eff0>\n",
      "start_tls.complete return_value=<httpcore._backends.sync.SyncStream object at 0x12309eff0>\n",
      "DEBUG:httpcore.http11:send_request_headers.started request=<Request [b'POST']>\n",
      "send_request_headers.started request=<Request [b'POST']>\n",
      "DEBUG:httpcore.http11:send_request_headers.complete\n",
      "send_request_headers.complete\n",
      "DEBUG:httpcore.http11:send_request_body.started request=<Request [b'POST']>\n",
      "send_request_body.started request=<Request [b'POST']>\n",
      "DEBUG:httpcore.http11:send_request_body.complete\n",
      "send_request_body.complete\n",
      "DEBUG:httpcore.http11:receive_response_headers.started request=<Request [b'POST']>\n",
      "receive_response_headers.started request=<Request [b'POST']>\n",
      "DEBUG:httpcore.http11:receive_response_headers.complete return_value=(b'HTTP/1.1', 200, b'OK', [(b'Content-Length', b'1595'), (b'Content-Type', b'application/json'), (b'apim-request-id', b'f96e3b65-4b4e-4ad7-961c-10dfee0f2156'), (b'Strict-Transport-Security', b'max-age=31536000; includeSubDomains; preload'), (b'x-content-type-options', b'nosniff'), (b'x-ms-region', b'East US'), (b'x-ratelimit-remaining-requests', b'29879'), (b'x-ratelimit-limit-requests', b'29880'), (b'x-ratelimit-remaining-tokens', b'29875800'), (b'x-ratelimit-limit-tokens', b'29880000'), (b'azureml-model-session', b'd055-20250513092719'), (b'cmp-upstream-response-duration', b'988'), (b'x-accel-buffering', b'no'), (b'x-request-id', b'58c1a255-d528-4d49-8c3c-c9a3f32e0bc8'), (b'x-ms-deployment-name', b'gpt-4o'), (b'Date', b'Tue, 03 Jun 2025 16:12:12 GMT')])\n",
      "receive_response_headers.complete return_value=(b'HTTP/1.1', 200, b'OK', [(b'Content-Length', b'1595'), (b'Content-Type', b'application/json'), (b'apim-request-id', b'f96e3b65-4b4e-4ad7-961c-10dfee0f2156'), (b'Strict-Transport-Security', b'max-age=31536000; includeSubDomains; preload'), (b'x-content-type-options', b'nosniff'), (b'x-ms-region', b'East US'), (b'x-ratelimit-remaining-requests', b'29879'), (b'x-ratelimit-limit-requests', b'29880'), (b'x-ratelimit-remaining-tokens', b'29875800'), (b'x-ratelimit-limit-tokens', b'29880000'), (b'azureml-model-session', b'd055-20250513092719'), (b'cmp-upstream-response-duration', b'988'), (b'x-accel-buffering', b'no'), (b'x-request-id', b'58c1a255-d528-4d49-8c3c-c9a3f32e0bc8'), (b'x-ms-deployment-name', b'gpt-4o'), (b'Date', b'Tue, 03 Jun 2025 16:12:12 GMT')])\n",
      "INFO:httpx:HTTP Request: POST https://gtp-get.openai.azure.com/openai/deployments/gpt-4o/chat/completions?api-version=2025-01-01-preview \"HTTP/1.1 200 OK\"\n",
      "HTTP Request: POST https://gtp-get.openai.azure.com/openai/deployments/gpt-4o/chat/completions?api-version=2025-01-01-preview \"HTTP/1.1 200 OK\"\n",
      "DEBUG:httpcore.http11:receive_response_body.started request=<Request [b'POST']>\n",
      "receive_response_body.started request=<Request [b'POST']>\n",
      "DEBUG:httpcore.http11:receive_response_body.complete\n",
      "receive_response_body.complete\n",
      "DEBUG:httpcore.http11:response_closed.started\n",
      "response_closed.started\n",
      "DEBUG:httpcore.http11:response_closed.complete\n",
      "response_closed.complete\n",
      "DEBUG:openai._base_client:HTTP Response: POST https://gtp-get.openai.azure.com/openai/deployments/gpt-4o/chat/completions?api-version=2025-01-01-preview \"200 OK\" Headers({'content-length': '1595', 'content-type': 'application/json', 'apim-request-id': 'f96e3b65-4b4e-4ad7-961c-10dfee0f2156', 'strict-transport-security': 'max-age=31536000; includeSubDomains; preload', 'x-content-type-options': 'nosniff', 'x-ms-region': 'East US', 'x-ratelimit-remaining-requests': '29879', 'x-ratelimit-limit-requests': '29880', 'x-ratelimit-remaining-tokens': '29875800', 'x-ratelimit-limit-tokens': '29880000', 'azureml-model-session': 'd055-20250513092719', 'cmp-upstream-response-duration': '988', 'x-accel-buffering': 'no', 'x-request-id': '58c1a255-d528-4d49-8c3c-c9a3f32e0bc8', 'x-ms-deployment-name': 'gpt-4o', 'date': 'Tue, 03 Jun 2025 16:12:12 GMT'})\n",
      "HTTP Response: POST https://gtp-get.openai.azure.com/openai/deployments/gpt-4o/chat/completions?api-version=2025-01-01-preview \"200 OK\" Headers({'content-length': '1595', 'content-type': 'application/json', 'apim-request-id': 'f96e3b65-4b4e-4ad7-961c-10dfee0f2156', 'strict-transport-security': 'max-age=31536000; includeSubDomains; preload', 'x-content-type-options': 'nosniff', 'x-ms-region': 'East US', 'x-ratelimit-remaining-requests': '29879', 'x-ratelimit-limit-requests': '29880', 'x-ratelimit-remaining-tokens': '29875800', 'x-ratelimit-limit-tokens': '29880000', 'azureml-model-session': 'd055-20250513092719', 'cmp-upstream-response-duration': '988', 'x-accel-buffering': 'no', 'x-request-id': '58c1a255-d528-4d49-8c3c-c9a3f32e0bc8', 'x-ms-deployment-name': 'gpt-4o', 'date': 'Tue, 03 Jun 2025 16:12:12 GMT'})\n",
      "DEBUG:openai._base_client:request_id: 58c1a255-d528-4d49-8c3c-c9a3f32e0bc8\n",
      "request_id: 58c1a255-d528-4d49-8c3c-c9a3f32e0bc8\n",
      "**********\n",
      "Trace: query\n",
      "    |_CBEventType.QUERY -> 2.423667 seconds\n",
      "**********\n",
      "[NodeWithScore(node=TextNode(id_='b16eb1c4-9cb1-4c59-ab3a-9a0c47ec679d', embedding=None, metadata={'name': 'Kingdra', 'generation': 2, 'type1': 'water', 'type2': 'dragon', 'is_legendary': 0}, excluded_embed_metadata_keys=[], excluded_llm_metadata_keys=[], relationships={<NodeRelationship.SOURCE: '1'>: RelatedNodeInfo(node_id='Kingdra', node_type='4', metadata={'name': 'Kingdra', 'generation': 2, 'type1': 'water', 'type2': 'dragon', 'is_legendary': 0}, hash='e40c0fc668ea79f909755d8a3e08583f5a8dfe45f677f37c0e8d5c4ddfa1e350'), <NodeRelationship.PREVIOUS: '2'>: RelatedNodeInfo(node_id='358579a9-0fa1-4184-8250-02286b5180ff', node_type='1', metadata={'name': 'Kingdra', 'generation': 2, 'type1': 'water', 'type2': 'dragon', 'is_legendary': 0}, hash='0a21006532b8d340309f71b2306086bfaeaf512b9b52ec6b459bbd343e8f4b2c')}, metadata_template='{key}=>{value}', metadata_separator='::', text='Clair\\'s Kingdra is infamous among players for its high stats and lack of weaknesses in Generation II, as the only Dragon-type moves available at the time were Dragon Rage and Twister, which were not very effective. This made Kingdra a formidable opponent and a defining moment for many trainers in their journey through Johto.\\\\n\\\\nIn the Pok\\\\u00e9mon anime, Kingdra makes a notable appearance during Ash\\'s battle against Clair. Clair\\'s Kingdra demonstrates its strength and strategy, using moves like *Smokescreen* to lower visibility and *Hydro Pump* to deal massive damage. The battle showcases Kingdra\\'s ability to dominate in both offense and defense, solidifying its reputation as a powerful Dragon Pok\\\\u00e9mon.\\\\n\\\\n---\\\\n\\\\n### Summary\\\\nKingdra is a majestic and powerful Pok\\\\u00e9mon that embodies the mystery and strength of the ocean. With its unique Water/Dragon typing, it is a versatile and challenging opponent in battles. Its association with notable trainers like Clair and its appearances in the games and anime have cemented its place as one of the most iconic Pok\\\\u00e9mon in the franchise.\"', mimetype='text/plain', start_char_idx=3630, end_char_idx=4736, metadata_seperator='::', text_template='Metadata: {metadata_str}\\n-----\\nContent: {content}'), score=None), NodeWithScore(node=TextNode(id_='2f8b9c1b-8108-404b-b531-9ec23fb9f679', embedding=None, metadata={'name': 'Rhyhorn', 'generation': 1, 'type1': 'ground', 'type2': 'rock', 'is_legendary': 0}, excluded_embed_metadata_keys=[], excluded_llm_metadata_keys=[], relationships={<NodeRelationship.SOURCE: '1'>: RelatedNodeInfo(node_id='Rhyhorn', node_type='4', metadata={'name': 'Rhyhorn', 'generation': 1, 'type1': 'ground', 'type2': 'rock', 'is_legendary': 0}, hash='c2327a2fd8b5e5fb097df8a08da258d94dba57f65969037ace04ee3eed4e5a15'), <NodeRelationship.NEXT: '3'>: RelatedNodeInfo(node_id='6642bc90-c498-4fbb-9c95-07d11e300de5', node_type='1', metadata={}, hash='20d39ee01f87bac0e589ff23c59115526483727d5c8cf64040e0fd38f98e0461')}, metadata_template='{key}=>{value}', metadata_separator='::', text='\"### Detailed Summary of Rhyhorn\\\\n\\\\n#### 1. **Characteristics**\\\\nRhyhorn is a dual-type **Ground/Rock Pok\\\\u00e9mon** introduced in Generation I. It is known for its rugged, rhinoceros-like appearance, with a body covered in thick, gray, rock-like armor that provides excellent defense. Its body is quadrupedal, with short, sturdy legs and a spiked tail. Rhyhorn has a single, prominent horn on its snout, which it uses for charging and attacking opponents. Its eyes are small and fierce, giving it an intimidating look.\\\\n\\\\nRhyhorn is a relatively large Pok\\\\u00e9mon, standing at **3\\'03\\\\\" (1.0 m)** tall and weighing **253.5 lbs (115.0 kg)**. Its physical strength and durability make it a formidable Pok\\\\u00e9mon in battle, especially when utilizing its high Attack and Defense stats. However, it is not known for its speed or agility, and its Special Defense is notably weak.\\\\n\\\\n#### 2. **Behavior**\\\\nRhyhorn is a straightforward and somewhat reckless Pok\\\\u00e9mon. It is known for charging at anything it sees, often without thinking. This behavior stems from its instinctive nature and its reliance on brute strength rather than strategy. However, Rhyhorn\\'s intelligence is relatively low, and it has difficulty remembering things for long periods. For example, it may forget why it started charging in the first place.\\\\n\\\\nDespite its aggressive tendencies, Rhyhorn is not inherently malicious. It is simply driven by its instincts and its natural affinity for physical combat. In the wild, Rhyhorn is often seen roaming rocky terrains, deserts, and mountainous regions, where it can use its sturdy body to navigate harsh environments.\\\\n\\\\n#### 3. **Pokedex Description**\\\\nRhyhorn\\'s Pok\\\\u00e9dex entries across various games emphasize its physical power, durability, and lack of intelligence. Here are some notable examples:\\\\n\\\\n- **Red/Blue:** \\\\\"Its massive bones are 1,000 times harder than human bones. It can easily knock a trailer flying.\\\\\"\\\\n- **Yellow:** \\\\\"A Pok\\\\u00e9mon with a one-track mind. Once it charges, it won\\\\u2019t stop running until it falls asleep.\\\\\"\\\\n- **Gold:** \\\\\"It is inept at turning because of its four short legs. It can only charge and run in one direction.\\\\\"\\\\n- **Ruby/Sapphire:** \\\\\"Rhyhorn runs in a straight line, smashing everything in its path. It is not bothered even if it rushes headlong into a block of steel. This Pok\\\\u00e9mon may feel some pain from the collision the next day, however.\\\\\"\\\\n\\\\nThese entries highlight Rhyhorn\\'s incredible physical strength and endurance, as well as its somewhat clumsy and single-minded nature.\\\\n\\\\n#### 4. **Notable Trainers Who Own Them**\\\\nRhyhorn has been owned by several notable trainers in the Pok\\\\u00e9mon franchise, including:\\\\n\\\\n- **Blaine (Gym Leader):** In the Pok\\\\u00e9mon Adventures manga, Blaine is shown using a Rhyhorn during battles.\\\\n- **Kiawe (Anime):** In the Pok\\\\u00e9mon Sun and Moon anime, Kiawe\\'s family owns a Rhyhorn that is used for farm work.\\\\n- **Serena (Anime):** In the Pok\\\\u00e9mon X and Y anime, Serena is shown to have experience riding Rhyhorn, as her mother is a famous Rhyhorn racer. While Serena does not own a Rhyhorn herself, her connection to Rhyhorn racing is a significant part of her backstory.\\\\n\\\\n#### 5. **Famous Scene in the Pok\\\\u00e9mon Franchise**\\\\nOne of the most memorable scenes involving Rhyhorn occurs in the **Pok\\\\u00e9mon X and Y anime**, where Serena is shown practicing Rhyhorn racing. This scene is significant because it highlights Serena\\'s upbringing and her initial struggles to find her own path in life. Her mother, Grace, is a renowned Rhyhorn racer, and Serena is expected to follow in her footsteps. However, Serena ultimately decides to pursue her own dreams, which sets her on the path to becoming a Pok\\\\u00e9mon Performer.\\\\n\\\\nAnother notable moment is in the **Pok\\\\u00e9mon Adventures manga**, where Rhyhorn is used in intense battles, showcasing its raw power and durability.', mimetype='text/plain', start_char_idx=0, end_char_idx=3916, metadata_seperator='::', text_template='Metadata: {metadata_str}\\n-----\\nContent: {content}'), score=None)]\n",
      "This statement aligns with Rhyhorn's behavior, as it is known for its straightforward and reckless nature. Rhyhorn often charges at anything it sees without thinking, relying on brute strength rather than strategy. Its lack of intelligence and tendency to act instinctively can lead to situations where it underestimates its opponent, making it overconfident in its physical abilities.\n",
      "Embedding Tokens:  0 \n",
      " LLM Prompt Tokens:  1385 \n",
      " LLM Completion Tokens:  74 \n",
      " Total LLM Token Count:  1459 \n",
      "\n",
      "Embedding Tokens:  0 \n",
      " LLM Prompt Tokens:  0 \n",
      " LLM Completion Tokens:  0 \n",
      " Total LLM Token Count:  0 \n",
      "\n"
     ]
    }
   ],
   "source": [
    "from llama_index.core import get_response_synthesizer\n",
    "from llama_index.core.query_engine import RetrieverQueryEngine\n",
    "keyword_query_engine = RetrieverQueryEngine(\n",
    "    retriever=keyword_retriever,\n",
    "    response_synthesizer=get_response_synthesizer(llm=llm, callback_manager=CallbackManager([token_counter, llama_debug])), \n",
    "    callback_manager=CallbackManager([token_counter, llama_debug])\n",
    ")\n",
    "response = keyword_query_engine.query(\n",
    "    \"However, it can be reckless and overconfident, especially when it underestimates its opponent\"\n",
    ")\n",
    "print(response.source_nodes)\n",
    "print(str(response))\n",
    "get_token_info(True)\n",
    "get_token_info2(True)"
   ]
  },
  {
   "cell_type": "code",
   "execution_count": 49,
   "id": "5e836b6e",
   "metadata": {},
   "outputs": [
    {
     "data": {
      "text/plain": [
       "['Clair\\'s Kingdra is infamous among players for its high stats and lack of weaknesses in Generation II, as the only Dragon-type moves available at the time were Dragon Rage and Twister, which were not very effective. This made Kingdra a formidable opponent and a defining moment for many trainers in their journey through Johto.\\\\n\\\\nIn the Pok\\\\u00e9mon anime, Kingdra makes a notable appearance during Ash\\'s battle against Clair. Clair\\'s Kingdra demonstrates its strength and strategy, using moves like *Smokescreen* to lower visibility and *Hydro Pump* to deal massive damage. The battle showcases Kingdra\\'s ability to dominate in both offense and defense, solidifying its reputation as a powerful Dragon Pok\\\\u00e9mon.\\\\n\\\\n---\\\\n\\\\n### Summary\\\\nKingdra is a majestic and powerful Pok\\\\u00e9mon that embodies the mystery and strength of the ocean. With its unique Water/Dragon typing, it is a versatile and challenging opponent in battles. Its association with notable trainers like Clair and its appearances in the games and anime have cemented its place as one of the most iconic Pok\\\\u00e9mon in the franchise.\"',\n",
       " '\"### Detailed Summary of Rhyhorn\\\\n\\\\n#### 1. **Characteristics**\\\\nRhyhorn is a dual-type **Ground/Rock Pok\\\\u00e9mon** introduced in Generation I. It is known for its rugged, rhinoceros-like appearance, with a body covered in thick, gray, rock-like armor that provides excellent defense. Its body is quadrupedal, with short, sturdy legs and a spiked tail. Rhyhorn has a single, prominent horn on its snout, which it uses for charging and attacking opponents. Its eyes are small and fierce, giving it an intimidating look.\\\\n\\\\nRhyhorn is a relatively large Pok\\\\u00e9mon, standing at **3\\'03\\\\\" (1.0 m)** tall and weighing **253.5 lbs (115.0 kg)**. Its physical strength and durability make it a formidable Pok\\\\u00e9mon in battle, especially when utilizing its high Attack and Defense stats. However, it is not known for its speed or agility, and its Special Defense is notably weak.\\\\n\\\\n#### 2. **Behavior**\\\\nRhyhorn is a straightforward and somewhat reckless Pok\\\\u00e9mon. It is known for charging at anything it sees, often without thinking. This behavior stems from its instinctive nature and its reliance on brute strength rather than strategy. However, Rhyhorn\\'s intelligence is relatively low, and it has difficulty remembering things for long periods. For example, it may forget why it started charging in the first place.\\\\n\\\\nDespite its aggressive tendencies, Rhyhorn is not inherently malicious. It is simply driven by its instincts and its natural affinity for physical combat. In the wild, Rhyhorn is often seen roaming rocky terrains, deserts, and mountainous regions, where it can use its sturdy body to navigate harsh environments.\\\\n\\\\n#### 3. **Pokedex Description**\\\\nRhyhorn\\'s Pok\\\\u00e9dex entries across various games emphasize its physical power, durability, and lack of intelligence. Here are some notable examples:\\\\n\\\\n- **Red/Blue:** \\\\\"Its massive bones are 1,000 times harder than human bones. It can easily knock a trailer flying.\\\\\"\\\\n- **Yellow:** \\\\\"A Pok\\\\u00e9mon with a one-track mind. Once it charges, it won\\\\u2019t stop running until it falls asleep.\\\\\"\\\\n- **Gold:** \\\\\"It is inept at turning because of its four short legs. It can only charge and run in one direction.\\\\\"\\\\n- **Ruby/Sapphire:** \\\\\"Rhyhorn runs in a straight line, smashing everything in its path. It is not bothered even if it rushes headlong into a block of steel. This Pok\\\\u00e9mon may feel some pain from the collision the next day, however.\\\\\"\\\\n\\\\nThese entries highlight Rhyhorn\\'s incredible physical strength and endurance, as well as its somewhat clumsy and single-minded nature.\\\\n\\\\n#### 4. **Notable Trainers Who Own Them**\\\\nRhyhorn has been owned by several notable trainers in the Pok\\\\u00e9mon franchise, including:\\\\n\\\\n- **Blaine (Gym Leader):** In the Pok\\\\u00e9mon Adventures manga, Blaine is shown using a Rhyhorn during battles.\\\\n- **Kiawe (Anime):** In the Pok\\\\u00e9mon Sun and Moon anime, Kiawe\\'s family owns a Rhyhorn that is used for farm work.\\\\n- **Serena (Anime):** In the Pok\\\\u00e9mon X and Y anime, Serena is shown to have experience riding Rhyhorn, as her mother is a famous Rhyhorn racer. While Serena does not own a Rhyhorn herself, her connection to Rhyhorn racing is a significant part of her backstory.\\\\n\\\\n#### 5. **Famous Scene in the Pok\\\\u00e9mon Franchise**\\\\nOne of the most memorable scenes involving Rhyhorn occurs in the **Pok\\\\u00e9mon X and Y anime**, where Serena is shown practicing Rhyhorn racing. This scene is significant because it highlights Serena\\'s upbringing and her initial struggles to find her own path in life. Her mother, Grace, is a renowned Rhyhorn racer, and Serena is expected to follow in her footsteps. However, Serena ultimately decides to pursue her own dreams, which sets her on the path to becoming a Pok\\\\u00e9mon Performer.\\\\n\\\\nAnother notable moment is in the **Pok\\\\u00e9mon Adventures manga**, where Rhyhorn is used in intense battles, showcasing its raw power and durability.']"
      ]
     },
     "execution_count": 49,
     "metadata": {},
     "output_type": "execute_result"
    }
   ],
   "source": [
    "[x.get_content() for x in response.source_nodes]"
   ]
  },
  {
   "cell_type": "markdown",
   "id": "1f0c3d01",
   "metadata": {},
   "source": [
    "## Test RAG Techniques\n",
    "- https://docs.llamaindex.ai/en/stable/examples/vector_stores/AzureAISearchIndexDemo/#query-mode\n",
    "- https://docs.llamaindex.ai/en/stable/examples/retrievers/bm25_retriever/\n",
    "- https://docs.llamaindex.ai/en/stable/examples/query_engine/CustomRetrievers/"
   ]
  },
  {
   "cell_type": "code",
   "execution_count": null,
   "id": "100b2ad0",
   "metadata": {},
   "outputs": [
    {
     "name": "stdout",
     "output_type": "stream",
     "text": [
      "e Pok\\u00e9mon franchise.\n",
      "One of the most famous scenes involving Bulbasaur \n"
     ]
    }
   ],
   "source": [
    "\n",
    "x = list(map(lambda x: x.text, index.docstore.get_nodes(['96646498-32a9-411c-aed8-c5e95bdd4c33','c46a0b71-b28c-4d35-8e96-4d8ff19fa33f'])) )\n",
    "print(x[0][-25:])\n",
    "print(x[1][:50])\n"
   ]
  },
  {
   "cell_type": "code",
   "execution_count": 53,
   "id": "59e008ce",
   "metadata": {},
   "outputs": [
    {
     "data": {
      "text/plain": [
       "'Metadata: name=>Bulbasaur::generation=>1::type1=>grass::type2=>poison::is_legendary=>0\\n-----\\nContent: One of the most famous scenes involving Bulbasaur is from the **original Pok\\\\u00e9mon anime series**, specifically in the episode titled *\\\\\"Bulbasaur and the Hidden Village\\\\\"*.\\\\n\\\\n- **Episode Summary**: In this episode, Ash and his friends encounter a wild Bulbasaur that is fiercely protective of an injured Pok\\\\u00e9mon sanctuary in the Hidden Village. Bulbasaur initially challenges Ash to a battle, showcasing its strength and determination. After Ash defeats it in battle, Bulbasaur agrees to join his team. This episode highlights Bulbasaur\\'s loyalty and protective nature, traits that remain consistent throughout its time with Ash.\\\\n\\\\nAnother iconic moment is in the **Pok\\\\u00e9mon movie \\\\\"Mewtwo Strikes Back\\\\\"**, where Ash\\'s Bulbasaur fights valiantly against Mewtwo\\'s cloned Bulbasaur. This scene emphasizes Bulbasaur\\'s courage and fighting spirit, even when facing overwhelming odds.\\\\n\\\\n---\\\\n\\\\nBulbasaur remains one of the most beloved Pok\\\\u00e9mon in the franchise due to its adorable design, strong personality, and its role as a starter Pok\\\\u00e9mon for countless trainers. Its combination of Grass and Poison typing, along with its evolution line, makes it a versatile and reliable companion in both the games and the anime.\"'"
      ]
     },
     "execution_count": 53,
     "metadata": {},
     "output_type": "execute_result"
    }
   ],
   "source": [
    "index.docstore.get_node('c46a0b71-b28c-4d35-8e96-4d8ff19fa33f').get_content(MetadataMode.ALL)"
   ]
  },
  {
   "cell_type": "markdown",
   "id": "8d890724",
   "metadata": {},
   "source": [
    "## RAG Solution\n",
    "- Hybrid search with agentic flow\n",
    "- https://docs.llamaindex.ai/en/stable/examples/index_structs/struct_indices/SQLIndexDemo/#query-index\n",
    "- https://docs.llamaindex.ai/en/stable/examples/query_engine/SQLRouterQueryEngine/\n",
    "- https://docs.llamaindex.ai/en/stable/examples/query_engine/recursive_retriever_agents/"
   ]
  },
  {
   "cell_type": "code",
   "execution_count": 15,
   "id": "ae1caf4a",
   "metadata": {},
   "outputs": [],
   "source": [
    "# import QueryBundle\n",
    "from llama_index.core import QueryBundle\n",
    "\n",
    "# import NodeWithScore\n",
    "from llama_index.core.schema import NodeWithScore\n",
    "\n",
    "# Retrievers\n",
    "from llama_index.core.retrievers import (\n",
    "    BaseRetriever,\n",
    "    VectorIndexRetriever\n",
    ")\n",
    "\n",
    "from llama_index.core.storage.docstore import SimpleDocumentStore\n",
    "from llama_index.retrievers.bm25 import BM25Retriever\n",
    "\n",
    "from llama_index.core.agent.workflow import FunctionAgent, ReActAgent\n",
    "from llama_index.core.tools import FunctionTool\n",
    "from llama_index.core.agent.workflow import AgentStream, ToolCallResult\n",
    "\n",
    "import Stemmer\n",
    "from typing import List"
   ]
  },
  {
   "cell_type": "code",
   "execution_count": 16,
   "id": "921451ac",
   "metadata": {},
   "outputs": [
    {
     "name": "stdout",
     "output_type": "stream",
     "text": [
      "Embedding Tokens:  0 \n",
      " LLM Prompt Tokens:  0 \n",
      " LLM Completion Tokens:  0 \n",
      " Total LLM Token Count:  0 \n",
      "\n",
      "Embedding Tokens:  0 \n",
      " LLM Prompt Tokens:  0 \n",
      " LLM Completion Tokens:  0 \n",
      " Total LLM Token Count:  0 \n",
      "\n"
     ]
    }
   ],
   "source": [
    "get_token_info(True)\n",
    "get_token_info2(True)"
   ]
  },
  {
   "cell_type": "code",
   "execution_count": 17,
   "id": "2f6650ee",
   "metadata": {},
   "outputs": [
    {
     "name": "stdout",
     "output_type": "stream",
     "text": [
      "**********\n",
      "Trace: index_construction\n",
      "**********\n"
     ]
    }
   ],
   "source": [
    "llm_callback_manager = CallbackManager([token_counter, llama_debug])\n",
    "embdding_callback_manager = CallbackManager([token_counter2, llama_debug])\n",
    "\n",
    "faiss_index = faiss.IndexFlatL2(d)\n",
    "vector_store = FaissVectorStore(faiss_index=faiss_index).from_persist_dir(persist_dir=VECTOR_STORE_LOC)\n",
    "storage_context = StorageContext.from_defaults(vector_store=vector_store, persist_dir=VECTOR_STORE_LOC)\n",
    "# index = load_index_from_storage(storage_context=storage_context, embed_model=embed_model, callback_manager=CallbackManager([token_counter, llama_debug]) )\n",
    "index = load_index_from_storage(storage_context=storage_context, embed_model=embed_model, callback_manager=llm_callback_manager, transformations=[SentenceSplitter(chunk_size=1024, chunk_overlap=20)] )"
   ]
  },
  {
   "cell_type": "code",
   "execution_count": 19,
   "id": "d83f5271",
   "metadata": {},
   "outputs": [
    {
     "data": {
      "text/plain": [
       "Response(response='Charizard\\'s descriptions in the Pokédex emphasize its fiery breath and immense power. Here are the notable entries:\\n\\n- **Pokémon Red/Blue**: \"Spits fire that is hot enough to melt boulders. Known to cause forest fires unintentionally.\"\\n- **Pokémon Gold**: \"If Charizard becomes furious, the flame at the tip of its tail flares up in a whitish-blue color.\"\\n- **Pokémon Sword**: \"It spits fire that is hot enough to melt boulders. It may cause forest fires by blowing flames.\"\\n- **Pokémon Shield**: \"The flame inside its body burns hotter than 3,600 degrees Fahrenheit. When Charizard roars, that temperature climbs even higher.\"', source_nodes=[NodeWithScore(node=TextNode(id_='224a4daf-c96a-452a-a81d-c6e728a5a5e9', embedding=None, metadata={'name': 'Charizard', 'generation': 1, 'type1': 'fire', 'type2': 'flying', 'is_legendary': 0}, excluded_embed_metadata_keys=[], excluded_llm_metadata_keys=[], relationships={<NodeRelationship.SOURCE: '1'>: RelatedNodeInfo(node_id='Charizard', node_type='4', metadata={'name': 'Charizard', 'generation': 1, 'type1': 'fire', 'type2': 'flying', 'is_legendary': 0}, hash='a669e62f2ff7ef480ae290c9bf7bc98f961a0c854a8b9becac7fa50cb9d90d32'), <NodeRelationship.NEXT: '3'>: RelatedNodeInfo(node_id='bbf90ac5-bbb4-4171-abc9-c4e98d3beb15', node_type='1', metadata={}, hash='6a35a40f872fc6d49d0c2249031bc2c0d329fbcd7595390797276077ecf91699')}, metadata_template='{key}=>{value}', metadata_separator='::', text='\"### Charizard: Detailed Summary\\\\n\\\\nCharizard is one of the most iconic Pok\\\\u00e9mon in the franchise, beloved by fans for its powerful design, fiery abilities, and prominent role in the Pok\\\\u00e9mon series. Below is a detailed breakdown of Charizard\\'s characteristics, behavior, Pok\\\\u00e9dex description, notable trainers, and famous moments in the Pok\\\\u00e9mon franchise.\\\\n\\\\n---\\\\n\\\\n### 1. **Characteristics**\\\\n- **Species**: Flame Pok\\\\u00e9mon\\\\n- **Type**: Fire/Flying\\\\n- **Height**: 5\\'07\\\\\" (1.7 m)\\\\n- **Weight**: 199.5 lbs (90.5 kg)\\\\n- **Evolutionary Line**: Charmander \\\\u2192 Charmeleon \\\\u2192 Charizard\\\\n- **Mega Evolutions**: Charizard has two Mega Evolutions, Mega Charizard X (Fire/Dragon type) and Mega Charizard Y (Fire/Flying type), introduced in *Pok\\\\u00e9mon X and Y*.\\\\n- **Gigantamax Form**: Charizard also has a Gigantamax form introduced in *Pok\\\\u00e9mon Sword and Shield*, which gives it a massive, fiery appearance with flames erupting from its wings and body.\\\\n\\\\nCharizard resembles a large, orange dragon with a long tail tipped with a flame. Its wings are blue on the inside and allow it to fly at high speeds. Despite its dragon-like appearance, it is not a Dragon-type Pok\\\\u00e9mon in its base form.\\\\n\\\\n---\\\\n\\\\n### 2. **Behavior**\\\\nCharizard is known for its fiery temperament and pride. It is a powerful and competitive Pok\\\\u00e9mon that loves to battle strong opponents. However, it can be reckless and overconfident, especially when it underestimates its opponent. Charizard\\\\u2019s flame burns hotter when it is excited or angry, and it is said to never use its fire breath on weaker opponents, showing a sense of honor.\\\\n\\\\nCharizard is also highly loyal to trainers who earn its respect, but it can be disobedient if it feels its trainer is inexperienced or unworthy, as seen in the Pok\\\\u00e9mon anime.\\\\n\\\\n---\\\\n\\\\n### 3. **Pok\\\\u00e9dex Description**\\\\nCharizard has appeared in nearly every Pok\\\\u00e9mon game, and its Pok\\\\u00e9dex entries often emphasize its fiery breath and flying abilities. Below are some notable Pok\\\\u00e9dex descriptions:\\\\n\\\\n- **Pok\\\\u00e9mon Red/Blue**: \\\\\"Spits fire that is hot enough to melt boulders. Known to cause forest fires unintentionally.\\\\\"\\\\n- **Pok\\\\u00e9mon Gold**: \\\\\"If Charizard becomes furious, the flame at the tip of its tail flares up in a whitish-blue color.\\\\\"\\\\n- **Pok\\\\u00e9mon Sword**: \\\\\"It spits fire that is hot enough to melt boulders. It may cause forest fires by blowing flames.\\\\\"\\\\n- **Pok\\\\u00e9mon Shield**: \\\\\"The flame inside its body burns hotter than 3,600 degrees Fahrenheit. When Charizard roars, that temperature climbs even higher.\\\\\"\\\\n\\\\nThese entries highlight its destructive power and the intensity of its flames.\\\\n\\\\n---\\\\n\\\\n### 4. **Notable Trainers Who Own Charizard**\\\\nCharizard has been owned by several notable trainers in the Pok\\\\u00e9mon franchise, including:\\\\n\\\\n- **Ash Ketchum**: Ash\\\\u2019s Charizard is one of his most famous Pok\\\\u00e9mon. It started as a Charmander abandoned by its previous trainer, Damian, and evolved into a powerful but initially disobedient Charizard. Over time, Ash earned its respect, and it became one of his most reliable and iconic Pok\\\\u00e9mon.\\\\n- **Leon**: The Champion of the Galar region in *Pok\\\\u00e9mon Sword and Shield* is known for his Gigantamax Charizard, which serves as his signature Pok\\\\u00e9mon.', mimetype='text/plain', start_char_idx=0, end_char_idx=3327, metadata_seperator='::', text_template='Metadata: {metadata_str}\\n-----\\nContent: {content}'), score=0.8217648267745972), NodeWithScore(node=TextNode(id_='7c8f0ce2-1ff6-423b-b3fa-b0dd0d4bf7d4', embedding=None, metadata={'name': 'Charmander', 'generation': 1, 'type1': 'fire', 'type2': None, 'is_legendary': 0}, excluded_embed_metadata_keys=[], excluded_llm_metadata_keys=[], relationships={<NodeRelationship.SOURCE: '1'>: RelatedNodeInfo(node_id='Charmander', node_type='4', metadata={'name': 'Charmander', 'generation': 1, 'type1': 'fire', 'type2': None, 'is_legendary': 0}, hash='86ef4303f034ca9de8b0b361fd48a5785d80a99b0e77da370b3d781a0cdd6bca'), <NodeRelationship.NEXT: '3'>: RelatedNodeInfo(node_id='d1b1339c-a047-464e-9a79-aea055d431f8', node_type='1', metadata={}, hash='f5b37a063d87cbbc3030994b63298290ae722728e7a7e4f5dab572b03ec43216')}, metadata_template='{key}=>{value}', metadata_separator='::', text='\"### Detailed Summary of Charmander\\\\n\\\\nCharmander is one of the most iconic Pok\\\\u00e9mon in the franchise, beloved by fans for its fiery personality and its role as one of the original starter Pok\\\\u00e9mon introduced in *Pok\\\\u00e9mon Red and Blue*. Below is a detailed breakdown of Charmander\\'s characteristics, behavior, Pok\\\\u00e9dex description, notable trainers, and famous scenes.\\\\n\\\\n---\\\\n\\\\n### **1. Characteristics**\\\\n- **Type:** Fire\\\\n- **Category:** Lizard Pok\\\\u00e9mon\\\\n- **Appearance:** Charmander is a small, bipedal reptilian Pok\\\\u00e9mon with orange skin, a cream-colored underside, and a long tail tipped with a flame. It has large blue eyes, three clawed toes on each foot, and small arms with three fingers.\\\\n- **Height:** 2\\'00\\\\\" (0.6 m)\\\\n- **Weight:** 18.7 lbs (8.5 kg)\\\\n- **Signature Feature:** The flame on its tail is its most distinctive characteristic. The intensity of the flame reflects Charmander\\'s health and mood. If the flame goes out, it is said that Charmander will perish.\\\\n\\\\n---\\\\n\\\\n### **2. Behavior**\\\\n- Charmander is known for its friendly and loyal nature, making it a popular choice for trainers. It is curious and playful but can become fiercely determined in battle.\\\\n- The flame on its tail serves as an emotional indicator. A strong, bright flame signifies happiness and vitality, while a weak or flickering flame indicates sadness or exhaustion.\\\\n- Charmander is highly adaptable and grows stronger as it gains experience. It evolves into Charmeleon at level 16 and later into Charizard at level 36, becoming a powerful Fire/Flying-type Pok\\\\u00e9mon.\\\\n- Despite its fiery nature, Charmander is not inherently aggressive and often bonds deeply with its trainer.\\\\n\\\\n---\\\\n\\\\n### **3. Pok\\\\u00e9dex Description**\\\\nCharmander\\'s Pok\\\\u00e9dex entries across various games emphasize its tail flame and its connection to its health and emotions. Below are some notable entries:\\\\n\\\\n- **Pok\\\\u00e9mon Red/Blue:** \\\\\"Obviously prefers hot places. When it rains, steam is said to spout from the tip of its tail.\\\\\"\\\\n- **Pok\\\\u00e9mon Yellow:** \\\\\"The flame at the tip of its tail makes a sound as it burns. You can only hear it in quiet places.\\\\\"\\\\n- **Pok\\\\u00e9mon Gold:** \\\\\"The flame on its tail shows the strength of its life force. If it is weak, the flame also burns weakly.\\\\\"\\\\n- **Pok\\\\u00e9mon Ruby/Sapphire:** \\\\\"The flame that burns at the tip of its tail is an indication of its emotions. The flame wavers when Charmander is enjoying itself. If the Pok\\\\u00e9mon becomes enraged, the flame burns fiercely.\\\\\"\\\\n\\\\n---\\\\n\\\\n### **4. Notable Trainers Who Own Charmander**\\\\nCharmander has been owned by several notable trainers in the Pok\\\\u00e9mon franchise, including:\\\\n\\\\n- **Ash Ketchum:** Ash famously caught a Charmander in the original Pok\\\\u00e9mon anime series (*Indigo League*). This Charmander was abandoned by its previous trainer, Damian, and Ash rescued it from the rain. It later evolved into Charmeleon and eventually Charizard, becoming one of Ash\\'s most powerful and iconic Pok\\\\u00e9mon.\\\\n- **Red:** In the Pok\\\\u00e9mon games (*Red/Blue* and their remakes), Charmander is one of the three starter Pok\\\\u00e9mon that Red can choose at the beginning of his journey.\\\\n- **Leon:** In *Pok\\\\u00e9mon Sword and Shield*, Leon, the Champion of the Galar region, gives the player a Charmander after defeating him. This Charmander can eventually evolve into a Gigantamax Charizard.\\\\n\\\\n---\\\\n\\\\n### **5. Famous Scene in the Pok\\\\u00e9mon Franchise**\\\\nOne of the most memorable scenes involving Charmander occurs in the *Indigo League* episode titled \\\\\"Charmander \\\\u2013 The Stray Pok\\\\u00e9mon.\\\\\" In this episode:\\\\n\\\\n- Charmander is abandoned by its original trainer, Damian, who cruelly leaves it in the wild, claiming it is too weak.', mimetype='text/plain', start_char_idx=0, end_char_idx=3751, metadata_seperator='::', text_template='Metadata: {metadata_str}\\n-----\\nContent: {content}'), score=0.9355511665344238)], metadata={'224a4daf-c96a-452a-a81d-c6e728a5a5e9': {'name': 'Charizard', 'generation': 1, 'type1': 'fire', 'type2': 'flying', 'is_legendary': 0}, '7c8f0ce2-1ff6-423b-b3fa-b0dd0d4bf7d4': {'name': 'Charmander', 'generation': 1, 'type1': 'fire', 'type2': None, 'is_legendary': 0}})"
      ]
     },
     "execution_count": 19,
     "metadata": {},
     "output_type": "execute_result"
    }
   ],
   "source": [
    "test = index.as_query_engine(llm=llm)\n",
    "test.query(\"Give me all description of Charizard in rag.\")"
   ]
  },
  {
   "cell_type": "code",
   "execution_count": 51,
   "id": "9ffb50be",
   "metadata": {},
   "outputs": [],
   "source": [
    "similarity_top_k = 20\n",
    "vector_retriever = index.as_retriever(similarity_top_k=similarity_top_k)\n",
    "\n",
    "docstore = SimpleDocumentStore.from_persist_dir(persist_dir=VECTOR_STORE_LOC)\n",
    "bm25_retriever = BM25Retriever.from_defaults(\n",
    "    docstore=docstore,\n",
    "    similarity_top_k=similarity_top_k,\n",
    "    # Optional: We can pass in the stemmer and set the language for stopwords\n",
    "    # This is important for removing stopwords and stemming the query + text\n",
    "    # The default is english for both\n",
    "    stemmer=Stemmer.Stemmer(\"english\"),\n",
    "    language=\"english\",\n",
    ")"
   ]
  },
  {
   "cell_type": "code",
   "execution_count": 52,
   "id": "4cbbc0d5",
   "metadata": {},
   "outputs": [
    {
     "name": "stdout",
     "output_type": "stream",
     "text": [
      "**********\n",
      "Trace: query\n",
      "    |_CBEventType.RETRIEVE -> 1.04649 seconds\n",
      "      |_CBEventType.EMBEDDING -> 1.043023 seconds\n",
      "**********\n",
      "[NodeWithScore(node=TextNode(id_='313e0f97-7ae4-4759-bf2c-3924840df5f7', embedding=None, metadata={'name': 'Rampardos', 'generation': 4, 'type1': 'rock', 'type2': None, 'is_legendary': 0}, excluded_embed_metadata_keys=[], excluded_llm_metadata_keys=[], relationships={<NodeRelationship.SOURCE: '1'>: RelatedNodeInfo(node_id='Rampardos', node_type='4', metadata={'name': 'Rampardos', 'generation': 4, 'type1': 'rock', 'type2': None, 'is_legendary': 0}, hash='0bd77c76361ab430c630323824d81a72c662b2b67a3270f52cbbd254949d8cf6'), <NodeRelationship.PREVIOUS: '2'>: RelatedNodeInfo(node_id='e22c01e1-6c44-4815-bcc9-9beb9596f4dd', node_type='1', metadata={'name': 'Rampardos', 'generation': 4, 'type1': 'rock', 'type2': None, 'is_legendary': 0}, hash='a9ce372fa312e0c80b9de6960b11bd669f2f6ecc944fce8a1c1d4f4e5353d1e2')}, metadata_template='{key}=>{value}', metadata_separator='::', text='However, Ash\\'s Pikachu and Turtwig manage to outmaneuver it, showcasing the importance of strategy over brute strength. This battle highlights Rampardos\\' raw power and its role as a challenging Gym Leader Pok\\\\u00e9mon.\\\\n- **In the Games**: In the Sinnoh games, Roark\\'s Rampardos is a significant challenge for players early in their journey. Its high Attack stat and moves like Headbutt can easily knock out unprepared teams, making it a memorable opponent for many players.\\\\n\\\\n---\\\\n\\\\nRampardos remains a fan-favorite fossil Pok\\\\u00e9mon due to its unique design, incredible strength, and ties to prehistoric creatures. Its role as Roark\\'s ace Pok\\\\u00e9mon and its reputation as a glass cannon make it a standout in the Pok\\\\u00e9mon franchise.\"', mimetype='text/plain', start_char_idx=3755, end_char_idx=4499, metadata_seperator='::', text_template='Metadata: {metadata_str}\\n-----\\nContent: {content}'), score=1.4606502056121826), NodeWithScore(node=TextNode(id_='0ae67188-c36d-41be-a0e1-62f09870ed5b', embedding=None, metadata={'name': 'Buzzwole', 'generation': 7, 'type1': 'bug', 'type2': 'fighting', 'is_legendary': 1}, excluded_embed_metadata_keys=[], excluded_llm_metadata_keys=[], relationships={<NodeRelationship.SOURCE: '1'>: RelatedNodeInfo(node_id='Buzzwole', node_type='4', metadata={'name': 'Buzzwole', 'generation': 7, 'type1': 'bug', 'type2': 'fighting', 'is_legendary': 1}, hash='4651ebd705d0d5294fc74256f98a673f38a83b972a76e01b24c4f6955047e805'), <NodeRelationship.PREVIOUS: '2'>: RelatedNodeInfo(node_id='bb477b19-4157-4098-983a-dbd2037ea67b', node_type='1', metadata={'name': 'Buzzwole', 'generation': 7, 'type1': 'bug', 'type2': 'fighting', 'is_legendary': 1}, hash='e1d69d475c2152892ded6b1e1f77065197cc11808d6c21588260b4d19c9a197f')}, metadata_template='{key}=>{value}', metadata_separator='::', text='This behavior is both comical and intimidating, showcasing Buzzwole\\'s unique personality.\\\\n- The scene where Buzzwole and Ash\\'s Pikachu engage in a \\\\\"flexing contest\\\\\" is particularly famous. Buzzwole mimics Pikachu\\'s poses, creating a humorous and lighthearted moment despite the high stakes of the mission.\\\\n\\\\n---\\\\n\\\\n### Summary\\\\nBuzzwole is a larger-than-life Pok\\\\u00e9mon with a bold personality and incredible strength. Its alien origins, combined with its unique behavior of flexing and posing, make it one of the most memorable Ultra Beasts in the Pok\\\\u00e9mon franchise. Whether pulverizing dump trucks or engaging in flexing contests, Buzzwole leaves a lasting impression on both fans and trainers alike.\"', mimetype='text/plain', start_char_idx=3867, end_char_idx=4581, metadata_seperator='::', text_template='Metadata: {metadata_str}\\n-----\\nContent: {content}'), score=1.4850858449935913), NodeWithScore(node=TextNode(id_='1c0458fd-af15-49d6-9c19-d0f0b6ff6b53', embedding=None, metadata={'name': 'Liepard', 'generation': 5, 'type1': 'dark', 'type2': None, 'is_legendary': 0}, excluded_embed_metadata_keys=[], excluded_llm_metadata_keys=[], relationships={<NodeRelationship.SOURCE: '1'>: RelatedNodeInfo(node_id='Liepard', node_type='4', metadata={'name': 'Liepard', 'generation': 5, 'type1': 'dark', 'type2': None, 'is_legendary': 0}, hash='52239c47c28fe85c97893127b4c51376259f9ae0ae0016cd72f7064d5c1e55e4'), <NodeRelationship.PREVIOUS: '2'>: RelatedNodeInfo(node_id='42c28623-9918-46f1-97a8-a337bcf25e6c', node_type='1', metadata={'name': 'Liepard', 'generation': 5, 'type1': 'dark', 'type2': None, 'is_legendary': 0}, hash='43839fa3c30f896bf0e8c5c57f27bbbfeb31f9833a94fb5a8d6bcddb34d0f64c')}, metadata_template='{key}=>{value}', metadata_separator='::', text='Its speed and surprise attacks make it a formidable opponent, and its elegant design contrasts with its ruthless fighting style.\\\\n\\\\n---\\\\n\\\\n### Summary\\\\nLiepard is a Pok\\\\u00e9mon that embodies elegance and cruelty. Its sleek design and stealthy behavior make it a favorite among trainers who value cunning and speed. While it is often associated with villainous teams like Team Plasma, Liepard\\'s beauty and agility have earned it a place in the hearts of many fans.\"', mimetype='text/plain', start_char_idx=3662, end_char_idx=4127, metadata_seperator='::', text_template='Metadata: {metadata_str}\\n-----\\nContent: {content}'), score=1.5457524061203003), NodeWithScore(node=TextNode(id_='48cd1180-c147-457d-8a26-3d0f2641e191', embedding=None, metadata={'name': 'Rhyperior', 'generation': 4, 'type1': 'ground', 'type2': 'rock', 'is_legendary': 0}, excluded_embed_metadata_keys=[], excluded_llm_metadata_keys=[], relationships={<NodeRelationship.SOURCE: '1'>: RelatedNodeInfo(node_id='Rhyperior', node_type='4', metadata={'name': 'Rhyperior', 'generation': 4, 'type1': 'ground', 'type2': 'rock', 'is_legendary': 0}, hash='10a914a0f3c053124f833110312953cb8bd1de9b5880ffe0860f2536dcd0f949'), <NodeRelationship.PREVIOUS: '2'>: RelatedNodeInfo(node_id='8c33e190-bfc2-465f-974a-0440dcb3c92f', node_type='1', metadata={'name': 'Rhyperior', 'generation': 4, 'type1': 'ground', 'type2': 'rock', 'is_legendary': 0}, hash='fdf7dc4cff3211f0e1e419629a943ef86a779d721aa55bae88267c970f4d90b9')}, metadata_template='{key}=>{value}', metadata_separator='::', text='This battle highlights Rhyperior\\'s role as a powerhouse Pok\\\\u00e9mon and showcases Paul\\'s tactical approach to battles.\\\\n\\\\nAnother notable moment is in the *Pok\\\\u00e9mon Journeys* anime, where Rhyperior is featured in battles involving trainers aiming to climb the World Coronation Series rankings. Its sheer strength and ability to launch projectiles make it a standout Pok\\\\u00e9mon in these high-stakes matches.\\\\n\\\\n---\\\\n\\\\nRhyperior is a quintessential example of a tank-like Pok\\\\u00e9mon, combining raw power, durability, and unique abilities to dominate in both the games and the anime. Its imposing presence and strategic versatility make it a favorite among trainers who value strength and resilience.\"', mimetype='text/plain', start_char_idx=3785, end_char_idx=4492, metadata_seperator='::', text_template='Metadata: {metadata_str}\\n-----\\nContent: {content}'), score=1.5476033687591553), NodeWithScore(node=TextNode(id_='efda5f90-be87-4cca-82b0-d4a4831102bb', embedding=None, metadata={'name': 'Barbaracle', 'generation': 6, 'type1': 'rock', 'type2': 'water', 'is_legendary': 0}, excluded_embed_metadata_keys=[], excluded_llm_metadata_keys=[], relationships={<NodeRelationship.SOURCE: '1'>: RelatedNodeInfo(node_id='Barbaracle', node_type='4', metadata={'name': 'Barbaracle', 'generation': 6, 'type1': 'rock', 'type2': 'water', 'is_legendary': 0}, hash='e540c9a3090f66eef1bbd0d36f2c46b3ffa941e6fb421fdedb5ebe1e15d2b821'), <NodeRelationship.PREVIOUS: '2'>: RelatedNodeInfo(node_id='4b14d046-1a7c-4849-bd05-d42a261d2161', node_type='1', metadata={'name': 'Barbaracle', 'generation': 6, 'type1': 'rock', 'type2': 'water', 'is_legendary': 0}, hash='a414056c07da6a7335d40fe48f407c99bd69c030e781d9828b3f7615b253bc8f')}, metadata_template='{key}=>{value}', metadata_separator='::', text='The battle highlights Barbaracle\\'s ability to turn the tide with its offensive capabilities, making it a standout moment for the Pok\\\\u00e9mon.\\\\n\\\\nAdditionally, Barbaracle\\'s unique design and concept have made it a fan favorite in competitive battles, especially when utilizing moves like **Razor Shell**, **Stone Edge**, and **Cross Chop** to take advantage of its Tough Claws ability.\\\\n\\\\n---\\\\n\\\\nBarbaracle remains a fascinating Pok\\\\u00e9mon due to its symbiotic nature, versatility, and intimidating appearance. While not as widely recognized as some other Pok\\\\u00e9mon, it has carved out a niche in both the games and anime as a powerful and resourceful fighter.\"', mimetype='text/plain', start_char_idx=3775, end_char_idx=4440, metadata_seperator='::', text_template='Metadata: {metadata_str}\\n-----\\nContent: {content}'), score=1.557273268699646), NodeWithScore(node=TextNode(id_='95e1d994-a33b-4bd6-9f5c-712065e0bcf0', embedding=None, metadata={'name': 'Sawk', 'generation': 5, 'type1': 'fighting', 'type2': None, 'is_legendary': 0}, excluded_embed_metadata_keys=[], excluded_llm_metadata_keys=[], relationships={<NodeRelationship.SOURCE: '1'>: RelatedNodeInfo(node_id='Sawk', node_type='4', metadata={'name': 'Sawk', 'generation': 5, 'type1': 'fighting', 'type2': None, 'is_legendary': 0}, hash='5bbb7f4b93b476f1e5d0c82e6b764a0c443bcbb4c76a1fe35ac1cf1b2f3643ce'), <NodeRelationship.PREVIOUS: '2'>: RelatedNodeInfo(node_id='6215f2d8-4d6e-4ee3-8deb-0d24ffe22f41', node_type='1', metadata={'name': 'Sawk', 'generation': 5, 'type1': 'fighting', 'type2': None, 'is_legendary': 0}, hash='3def8248f900d7072f37f398d09ccd4c8ba83d992d25a472ec733f1cc07d8be7')}, metadata_template='{key}=>{value}', metadata_separator='::', text='Despite its impressive performance, it ultimately loses to Palpitoad\\'s strategy and Water-type moves. This battle highlights Sawk\\'s fighting spirit and determination, making it a fan-favorite moment.\\\\n\\\\nAnother notable scene is Sawk\\'s training montage in the anime, where it is shown breaking boulders and practicing its moves in the mountains, emphasizing its dedication to martial arts and physical training.\\\\n\\\\n---\\\\n\\\\nSawk remains a popular Fighting-type Pok\\\\u00e9mon due to its unique design, martial arts theme, and strong presence in battles. Its disciplined nature and impressive strength make it a standout choice for trainers who value hard work and determination.\"', mimetype='text/plain', start_char_idx=3681, end_char_idx=4355, metadata_seperator='::', text_template='Metadata: {metadata_str}\\n-----\\nContent: {content}'), score=1.5581233501434326), NodeWithScore(node=TextNode(id_='6642bc90-c498-4fbb-9c95-07d11e300de5', embedding=None, metadata={'name': 'Rhyhorn', 'generation': 1, 'type1': 'ground', 'type2': 'rock', 'is_legendary': 0}, excluded_embed_metadata_keys=[], excluded_llm_metadata_keys=[], relationships={<NodeRelationship.SOURCE: '1'>: RelatedNodeInfo(node_id='Rhyhorn', node_type='4', metadata={'name': 'Rhyhorn', 'generation': 1, 'type1': 'ground', 'type2': 'rock', 'is_legendary': 0}, hash='c2327a2fd8b5e5fb097df8a08da258d94dba57f65969037ace04ee3eed4e5a15'), <NodeRelationship.PREVIOUS: '2'>: RelatedNodeInfo(node_id='2f8b9c1b-8108-404b-b531-9ec23fb9f679', node_type='1', metadata={'name': 'Rhyhorn', 'generation': 1, 'type1': 'ground', 'type2': 'rock', 'is_legendary': 0}, hash='4dbf1c56fec0e7a80b18bd4c1627e00fd822ca46af0cec994302db591a69144a')}, metadata_template='{key}=>{value}', metadata_separator='::', text='These moments emphasize Rhyhorn\\'s role as a powerhouse Pok\\\\u00e9mon that can hold its own in combat.\\\\n\\\\n#### Summary\\\\nRhyhorn is a powerful and durable Pok\\\\u00e9mon with a straightforward, instinct-driven nature. Its reckless charging and immense physical strength make it a force to be reckoned with, though its lack of intelligence and agility can be a drawback. With its iconic appearance and memorable moments in the Pok\\\\u00e9mon franchise, Rhyhorn remains a fan-favorite Pok\\\\u00e9mon for many trainers.\"', mimetype='text/plain', start_char_idx=3917, end_char_idx=4425, metadata_seperator='::', text_template='Metadata: {metadata_str}\\n-----\\nContent: {content}'), score=1.5616580247879028), NodeWithScore(node=TextNode(id_='ddf667fc-3150-4e66-8ecb-778a796a53d7', embedding=None, metadata={'name': 'Eelektross', 'generation': 5, 'type1': 'electric', 'type2': None, 'is_legendary': 0}, excluded_embed_metadata_keys=[], excluded_llm_metadata_keys=[], relationships={<NodeRelationship.SOURCE: '1'>: RelatedNodeInfo(node_id='Eelektross', node_type='4', metadata={'name': 'Eelektross', 'generation': 5, 'type1': 'electric', 'type2': None, 'is_legendary': 0}, hash='9119ea95764f4831ca5dba45c4c0f4866d118f912cfa12896abd64926dff43d7'), <NodeRelationship.PREVIOUS: '2'>: RelatedNodeInfo(node_id='ff74de12-9e15-4128-979f-bd1da92411c7', node_type='1', metadata={'name': 'Eelektross', 'generation': 5, 'type1': 'electric', 'type2': None, 'is_legendary': 0}, hash='8b82a976888f9e4b1ce9d5834c16e2e9705a368a9606ad2ba6336de876cdd4e0')}, metadata_template='{key}=>{value}', metadata_separator='::', text='This battle highlights its strength as a mixed attacker and its ability to counter opponents who rely on Ground-type moves to defeat Electric-types.\\\\n\\\\n---\\\\n\\\\n### Summary\\\\nEelektross is a unique and powerful Electric-type Pok\\\\u00e9mon with no weaknesses due to its Levitate ability. Its predatory nature and adaptability make it a fascinating creature in the Pok\\\\u00e9mon world. It has been featured in both the games and anime, often used by skilled trainers to showcase its versatility and strength. Its famous appearances in battles, particularly in the Unova League, have cemented its reputation as a formidable Pok\\\\u00e9mon.\"', mimetype='text/plain', start_char_idx=3935, end_char_idx=4565, metadata_seperator='::', text_template='Metadata: {metadata_str}\\n-----\\nContent: {content}'), score=1.5623384714126587), NodeWithScore(node=TextNode(id_='ca95550b-b5f9-4ad1-9e9d-b1fa65ab5a30', embedding=None, metadata={'name': 'Buizel', 'generation': 4, 'type1': 'water', 'type2': None, 'is_legendary': 0}, excluded_embed_metadata_keys=[], excluded_llm_metadata_keys=[], relationships={<NodeRelationship.SOURCE: '1'>: RelatedNodeInfo(node_id='Buizel', node_type='4', metadata={'name': 'Buizel', 'generation': 4, 'type1': 'water', 'type2': None, 'is_legendary': 0}, hash='6614bf9d10ac12ff611ed04b76a09596ce171e4390aa8ef5d843eb6f83bd6c15'), <NodeRelationship.PREVIOUS: '2'>: RelatedNodeInfo(node_id='4eb5497b-eef1-447e-8730-20dfebc7d85e', node_type='1', metadata={'name': 'Buizel', 'generation': 4, 'type1': 'water', 'type2': None, 'is_legendary': 0}, hash='4412a62ab00cf9d49fc209994f4ee1ca21bcdd58f61dd8afcb7bf0ccb62510e0')}, metadata_template='{key}=>{value}', metadata_separator='::', text='Buizel demonstrates its strength and determination, putting up a fierce fight against Lucario. This battle showcases Buizel\\'s skill in combat and its ability to adapt to challenging opponents.\\\\n\\\\n---\\\\n\\\\nBuizel remains a fan-favorite Pok\\\\u00e9mon due to its sleek design, energetic personality, and memorable appearances in the Pok\\\\u00e9mon anime and games. Its unique traits and strong connection to water make it a standout Pok\\\\u00e9mon in the Sinnoh region.\"', mimetype='text/plain', start_char_idx=3830, end_char_idx=4290, metadata_seperator='::', text_template='Metadata: {metadata_str}\\n-----\\nContent: {content}'), score=1.5664762258529663), NodeWithScore(node=TextNode(id_='94876a87-bff3-4d80-9620-d80b8e45ec58', embedding=None, metadata={'name': 'Zebstrika', 'generation': 5, 'type1': 'electric', 'type2': None, 'is_legendary': 0}, excluded_embed_metadata_keys=[], excluded_llm_metadata_keys=[], relationships={<NodeRelationship.SOURCE: '1'>: RelatedNodeInfo(node_id='Zebstrika', node_type='4', metadata={'name': 'Zebstrika', 'generation': 5, 'type1': 'electric', 'type2': None, 'is_legendary': 0}, hash='eb958e602d6d1bfd8a1299721859b13d5819c8c19ca72ee329d72cee64c48817'), <NodeRelationship.PREVIOUS: '2'>: RelatedNodeInfo(node_id='4c751538-a8a4-4113-8a3b-17c893e80afe', node_type='1', metadata={'name': 'Zebstrika', 'generation': 5, 'type1': 'electric', 'type2': None, 'is_legendary': 0}, hash='78202844437f4fab264cf081f851a499910e1d74800d83d19e08e71ff032d12c')}, metadata_template='{key}=>{value}', metadata_separator='::', text='The battle showcases Zebstrika\\'s incredible speed and power, as it uses moves like Flame Charge to boost its speed even further. Ash struggles to keep up with Zebstrika\\'s agility and offensive pressure, but he ultimately manages to defeat it using clever strategies.\\\\n\\\\nAnother notable scene is in the **Pok\\\\u00e9mon Adventures manga**, where Elesa\\'s Zebstrika plays a significant role in her battles. It is depicted as a loyal and powerful partner, capable of taking on multiple opponents with its electric attacks and speed.\\\\n\\\\n---\\\\n\\\\n### Summary\\\\nZebstrika is a striking and powerful Electric-type Pok\\\\u00e9mon known for its speed, electric abilities, and temperamental nature. It is a favorite of Elesa, the Nimbasa City Gym Leader, and has been featured prominently in both the games and anime. Its sleek design and lightning-fast movements make it a memorable Pok\\\\u00e9mon in the Unova region.\"', mimetype='text/plain', start_char_idx=3549, end_char_idx=4449, metadata_seperator='::', text_template='Metadata: {metadata_str}\\n-----\\nContent: {content}'), score=1.5728659629821777), NodeWithScore(node=TextNode(id_='c6a0d351-604e-4d1c-b102-a09841a613f5', embedding=None, metadata={'name': 'Noivern', 'generation': 6, 'type1': 'flying', 'type2': 'dragon', 'is_legendary': 0}, excluded_embed_metadata_keys=[], excluded_llm_metadata_keys=[], relationships={<NodeRelationship.SOURCE: '1'>: RelatedNodeInfo(node_id='Noivern', node_type='4', metadata={'name': 'Noivern', 'generation': 6, 'type1': 'flying', 'type2': 'dragon', 'is_legendary': 0}, hash='a8a2fda8f16067c091c991d37469b7280c2dab399a4b573aaa8c5747d1499cb8'), <NodeRelationship.PREVIOUS: '2'>: RelatedNodeInfo(node_id='968b7a0c-b891-4e52-9ab6-865e19ba22fe', node_type='1', metadata={'name': 'Noivern', 'generation': 6, 'type1': 'flying', 'type2': 'dragon', 'is_legendary': 0}, hash='2cafa8778648067f6c9b4340fb977ad275d416bf8d3af4089d8d3da99133606d')}, metadata_template='{key}=>{value}', metadata_separator='::', text='Although Noivern ultimately loses the battle, it demonstrates its incredible agility and mastery of sound-based moves, earning the respect of fans.\\\\n\\\\n---\\\\n\\\\nNoivern is a Pok\\\\u00e9mon that combines elegance, power, and intelligence, making it a standout in both the games and the anime. Its unique design and sound-based abilities have cemented its place as one of the most beloved Pok\\\\u00e9mon introduced in Generation VI.\"', mimetype='text/plain', start_char_idx=3716, end_char_idx=4140, metadata_seperator='::', text_template='Metadata: {metadata_str}\\n-----\\nContent: {content}'), score=1.573847770690918), NodeWithScore(node=TextNode(id_='bff7746b-b881-4675-8471-ee84d420fbfd', embedding=None, metadata={'name': 'Hakamo-o', 'generation': 7, 'type1': 'dragon', 'type2': 'fighting', 'is_legendary': 0}, excluded_embed_metadata_keys=[], excluded_llm_metadata_keys=[], relationships={<NodeRelationship.SOURCE: '1'>: RelatedNodeInfo(node_id='Hakamo-o', node_type='4', metadata={'name': 'Hakamo-o', 'generation': 7, 'type1': 'dragon', 'type2': 'fighting', 'is_legendary': 0}, hash='4265905cd80d14025ecf88b719ee808b743e4b1e2adbddd172810a386e52cd27'), <NodeRelationship.PREVIOUS: '2'>: RelatedNodeInfo(node_id='2d1f90a2-150d-4f43-8d03-a9eb569a47aa', node_type='1', metadata={'name': 'Hakamo-o', 'generation': 7, 'type1': 'dragon', 'type2': 'fighting', 'is_legendary': 0}, hash='7c76ce5e5392162034f347050e13e68d455e08986709be7bf811dc0a62c20a20')}, metadata_template='{key}=>{value}', metadata_separator='::', text='This battle is memorable because it serves as a test of the player\\\\u2019s skills and strategy, showcasing Hakamo-o\\\\u2019s warrior-like qualities.\\\\n\\\\nIn the Pok\\\\u00e9mon anime, Hakamo-o has appeared in episodes featuring Dragon-type Pok\\\\u00e9mon, often depicted as a fierce and honorable fighter. While it hasn\\\\u2019t had a major starring role, its presence in battles emphasizes its strength and determination.\\\\n\\\\n---\\\\n\\\\nHakamo-o is a Pok\\\\u00e9mon that embodies the spirit of a warrior, with its metallic scales and disciplined behavior making it a standout Dragon/Fighting-type. Its appearances in the games and anime highlight its role as a challenging and honorable opponent.\"', mimetype='text/plain', start_char_idx=3703, end_char_idx=4382, metadata_seperator='::', text_template='Metadata: {metadata_str}\\n-----\\nContent: {content}'), score=1.5749592781066895), NodeWithScore(node=TextNode(id_='3bc836ce-f63d-42f0-95de-9e849814be5d', embedding=None, metadata={'name': 'Braviary', 'generation': 5, 'type1': 'normal', 'type2': 'flying', 'is_legendary': 0}, excluded_embed_metadata_keys=[], excluded_llm_metadata_keys=[], relationships={<NodeRelationship.SOURCE: '1'>: RelatedNodeInfo(node_id='Braviary', node_type='4', metadata={'name': 'Braviary', 'generation': 5, 'type1': 'normal', 'type2': 'flying', 'is_legendary': 0}, hash='c0bb3b49eaca7d0590c9c1decea5440b9ce4357b08fcbe963f0d200b178082bc')}, metadata_template='{key}=>{value}', metadata_separator='::', text='\"### Detailed Summary of Braviary\\\\n\\\\n#### 1. **Characteristics**\\\\nBraviary is a dual-type **Normal/Flying Pok\\\\u00e9mon** introduced in Generation V. It evolves from Rufflet starting at level 54. Known as the \\\\\"Valiant Pok\\\\u00e9mon,\\\\\" Braviary is a large, eagle-like Pok\\\\u00e9mon with a striking appearance. It has a red, white, and blue color scheme that resembles the American bald eagle, symbolizing bravery and patriotism. Its body is primarily blue, with red feathers on its head and a white plume resembling a war bonnet, giving it a majestic and fierce look. Its talons and beak are sharp and powerful, emphasizing its role as a predator.\\\\n\\\\nIn the Hisui region (featured in *Pok\\\\u00e9mon Legends: Arceus*), Braviary has a regional variant known as **Hisuian Braviary**, which is a dual-type **Psychic/Flying Pok\\\\u00e9mon**. Hisuian Braviary has a more mystical appearance, with black feathers, glowing purple eyes, and a ghostly aura around its head feathers.\\\\n\\\\n#### 2. **Behavior**\\\\nBraviary is known for its courageous and protective nature. It is fiercely loyal to its friends and will fight valiantly to protect them, even if it means putting itself in harm\\'s way. This Pok\\\\u00e9mon is often seen as a symbol of heroism and determination. It is highly territorial and will not hesitate to challenge stronger opponents to defend its domain or allies.\\\\n\\\\nHisuian Braviary, on the other hand, is more solitary and mystical. It is said to have a haunting cry that can instill fear in its enemies. Unlike its Unovan counterpart, Hisuian Braviary is more attuned to spiritual and psychic energies, often soaring high in the skies to meditate or scout.\\\\n\\\\n#### 3. **Pokedex Description**\\\\n- **Unovan Braviary:**\\\\n  - *Black/White*: \\\\\"They fight for their friends without any thought about danger to themselves. One can carry a car while flying.\\\\\"\\\\n  - *Sun*: \\\\\"Known for its bravery and pride, this majestic Pok\\\\u00e9mon is often seen as a symbol of heroism.\\\\\"\\\\n  - *Sword*: \\\\\"Because this Pok\\\\u00e9mon is hotheaded and belligerent, it\\\\u2019s Corviknight that tend to handle its transportation needs.\\\\\"\\\\n\\\\n- **Hisuian Braviary:**\\\\n  - *Legends: Arceus*: \\\\\"The screeches of this Pok\\\\u00e9mon are thought to be imbued with a mysterious power. People of old feared that Braviary\\\\u2019s cries would incite war.\\\\\"\\\\n\\\\n#### 4. **Notable Trainers Who Own Them**\\\\n- **N**: In *Pok\\\\u00e9mon Black 2 and White 2*, N is known to have a Braviary in his team if the player battles him on a Monday in the Desert Resort.\\\\n- **Skyla**: The Mistralton City Gym Leader in the Pok\\\\u00e9mon Adventures manga uses a Braviary as part of her Flying-type team.\\\\n- **Ash Ketchum**: While Ash himself does not own a Braviary, he has encountered and battled against Braviary in various episodes of the Pok\\\\u00e9mon anime.\\\\n\\\\n#### 5. **Famous Scene in Pok\\\\u00e9mon Franchise**\\\\nOne of Braviary\\'s most memorable appearances in the Pok\\\\u00e9mon anime occurs in the *Black & White* series, where a wild Braviary is shown courageously defending its territory from Team Rocket. This scene highlights Braviary\\'s valiant and protective nature, as it fights against overwhelming odds to protect its home.\\\\n\\\\nIn *Pok\\\\u00e9mon Legends: Arceus*, Hisuian Braviary plays a significant role as one of the rideable Pok\\\\u00e9mon that helps the player traverse the skies of the Hisui region. This marks a pivotal moment in the game, as the player gains the ability to explore previously inaccessible areas from above, showcasing Hisuian Braviary\\'s importance in the storyline.\\\\n\\\\n---\\\\n\\\\nBraviary is a Pok\\\\u00e9mon that embodies courage, loyalty, and strength, making it a fan favorite among trainers who value these traits. Whether in its Unovan or Hisuian form, Braviary remains a symbol of heroism and freedom in the Pok\\\\u00e9mon world.\"', mimetype='text/plain', start_char_idx=0, end_char_idx=3798, metadata_seperator='::', text_template='Metadata: {metadata_str}\\n-----\\nContent: {content}'), score=1.5784542560577393), NodeWithScore(node=TextNode(id_='0ea14815-8d44-4ccc-8514-657f1981f232', embedding=None, metadata={'name': 'Gurdurr', 'generation': 5, 'type1': 'fighting', 'type2': None, 'is_legendary': 0}, excluded_embed_metadata_keys=[], excluded_llm_metadata_keys=[], relationships={<NodeRelationship.SOURCE: '1'>: RelatedNodeInfo(node_id='Gurdurr', node_type='4', metadata={'name': 'Gurdurr', 'generation': 5, 'type1': 'fighting', 'type2': None, 'is_legendary': 0}, hash='a877158f9963240e588fda3dfdeff2d9286f7657604a4eeb5ed90ba262a0071f'), <NodeRelationship.PREVIOUS: '2'>: RelatedNodeInfo(node_id='4f4c8b7b-fe53-4f04-9f08-41ffa0aaa778', node_type='1', metadata={'name': 'Gurdurr', 'generation': 5, 'type1': 'fighting', 'type2': None, 'is_legendary': 0}, hash='2d6a6626db21baec696f4ff7002516fdc6b031d2b1bd14cfcda118611a7a84fa')}, metadata_template='{key}=>{value}', metadata_separator='::', text='This battle demonstrates Gurdurr\\'s raw power and its ability to use moves like *Dynamic Punch* and *Rock Throw* effectively.\\\\n\\\\n---\\\\n\\\\n### Summary\\\\nGurdurr is a Pok\\\\u00e9mon that embodies physical strength and hard work. Its association with construction and its competitive nature make it a unique and memorable Pok\\\\u00e9mon in the franchise. Whether in the games, anime, or manga, Gurdurr is often portrayed as a reliable and powerful companion, especially for trainers who value strength and determination.\"', mimetype='text/plain', start_char_idx=3722, end_char_idx=4232, metadata_seperator='::', text_template='Metadata: {metadata_str}\\n-----\\nContent: {content}'), score=1.5852841138839722), NodeWithScore(node=TextNode(id_='d33c4c58-a07b-4edf-8493-2a17a6b6f8e8', embedding=None, metadata={'name': 'Bruxish', 'generation': 7, 'type1': 'water', 'type2': 'psychic', 'is_legendary': 0}, excluded_embed_metadata_keys=[], excluded_llm_metadata_keys=[], relationships={<NodeRelationship.SOURCE: '1'>: RelatedNodeInfo(node_id='Bruxish', node_type='4', metadata={'name': 'Bruxish', 'generation': 7, 'type1': 'water', 'type2': 'psychic', 'is_legendary': 0}, hash='218d8843a61d911d4a6c635b179a266a851cc3d257912cca26de9120b4729fa1'), <NodeRelationship.PREVIOUS: '2'>: RelatedNodeInfo(node_id='fe0b6ebe-a130-4835-8eae-dddb879b3975', node_type='1', metadata={'name': 'Bruxish', 'generation': 7, 'type1': 'water', 'type2': 'psychic', 'is_legendary': 0}, hash='8f4984d034bec7a0258f5050273dd824980cc770d6c057718104eb081abf766b')}, metadata_template='{key}=>{value}', metadata_separator='::', text='Additionally, its ability, **Dazzling**, which prevents priority moves, has made it a unique choice for competitive battles, though it is not commonly used.\\\\n\\\\n---\\\\n\\\\n### **Conclusion**\\\\nBruxish is a unique and vibrant Pok\\\\u00e9mon that stands out for its combination of Water and Psychic abilities, as well as its flamboyant appearance. While it may not have a prominent role in the Pok\\\\u00e9mon franchise, its aggressive behavior, powerful psychic abilities, and striking design make it a memorable addition to the Alola region\\'s roster of Pok\\\\u00e9mon.\"', mimetype='text/plain', start_char_idx=3760, end_char_idx=4316, metadata_seperator='::', text_template='Metadata: {metadata_str}\\n-----\\nContent: {content}'), score=1.5895814895629883), NodeWithScore(node=TextNode(id_='87c789c4-f712-48d2-9879-a787842d48b8', embedding=None, metadata={'name': 'Rattata', 'generation': 1, 'type1': 'normal', 'type2': 'dark', 'is_legendary': 0}, excluded_embed_metadata_keys=[], excluded_llm_metadata_keys=[], relationships={<NodeRelationship.SOURCE: '1'>: RelatedNodeInfo(node_id='Rattata', node_type='4', metadata={'name': 'Rattata', 'generation': 1, 'type1': 'normal', 'type2': 'dark', 'is_legendary': 0}, hash='86c7389e89b9de685f2326e47bb1971af266d144dce6eb16bc202c48b26ed418'), <NodeRelationship.PREVIOUS: '2'>: RelatedNodeInfo(node_id='331a54c3-c21f-4dd3-9b04-fa594763a68d', node_type='1', metadata={'name': 'Rattata', 'generation': 1, 'type1': 'normal', 'type2': 'dark', 'is_legendary': 0}, hash='3100e64e460aa1248d38165fe609da00d9483ee42b9a5b2fd11c389976631db4')}, metadata_template='{key}=>{value}', metadata_separator='::', text='Joey\\'s boast about his Rattata being in the \\\\\"top percentage of Rattata\\\\\" has become a running joke among fans, symbolizing the pride trainers can have in even the most common Pok\\\\u00e9mon.\\\\n\\\\n#### Conclusion\\\\nRattata may not be the most powerful or rare Pok\\\\u00e9mon, but its adaptability, vigilance, and iconic status in the Pok\\\\u00e9mon franchise make it a memorable part of the series. Whether it\\'s scavenging for food, defending its territory, or being the subject of humorous memes, Rattata has earned its place as one of the most recognizable Pok\\\\u00e9mon in the franchise.\"', mimetype='text/plain', start_char_idx=4000, end_char_idx=4581, metadata_seperator='::', text_template='Metadata: {metadata_str}\\n-----\\nContent: {content}'), score=1.5900180339813232), NodeWithScore(node=TextNode(id_='c722c62b-800a-4ad4-b968-f55cdc7da097', embedding=None, metadata={'name': 'Bouffalant', 'generation': 5, 'type1': 'normal', 'type2': None, 'is_legendary': 0}, excluded_embed_metadata_keys=[], excluded_llm_metadata_keys=[], relationships={<NodeRelationship.SOURCE: '1'>: RelatedNodeInfo(node_id='Bouffalant', node_type='4', metadata={'name': 'Bouffalant', 'generation': 5, 'type1': 'normal', 'type2': None, 'is_legendary': 0}, hash='7078b6358580908bb83390c07d4653902f3dbfc8b0cfd9d2991c2a74d7132daa'), <NodeRelationship.PREVIOUS: '2'>: RelatedNodeInfo(node_id='3fd28920-b9fa-4f7e-acde-aa94d0dddc68', node_type='1', metadata={'name': 'Bouffalant', 'generation': 5, 'type1': 'normal', 'type2': None, 'is_legendary': 0}, hash='8145b5d80cfdc3884f6c58f1d54665ef0fdf0f392d00dfdbd6e06f4d0bcd5fe1')}, metadata_template='{key}=>{value}', metadata_separator='::', text='The Bouffalant are extremely territorial and aggressive, attacking anyone who enters their domain. To avoid conflict, Ash and his friends disguise themselves using wigs that resemble Bouffalant\\'s afro-like mane. This humorous and action-packed episode highlights Bouffalant\\'s protective nature and its role as a guardian of its herd.\\\\n\\\\nAdditionally, Bouffalant is often remembered for its role in Alder\\'s Champion team in Pok\\\\u00e9mon Black and White. Its powerful moves, including Head Charge, make it a formidable opponent during the final battles of the Unova region.\\\\n\\\\n---\\\\n\\\\n### Summary\\\\nBouffalant is a strong, resilient Pok\\\\u00e9mon with a distinctive afro-like mane and a penchant for headbutting. It is fiercely territorial and protective of its herd, making it a symbol of strength and loyalty. Bouffalant has appeared in both the games and anime, most notably as part of Alder\\'s Champion team and in the \\\\\"Baffling the Bouffalant!\\\\\" episode. Its durability and powerful physical attacks make it a memorable Pok\\\\u00e9mon in the franchise.\"', mimetype='text/plain', start_char_idx=3683, end_char_idx=4734, metadata_seperator='::', text_template='Metadata: {metadata_str}\\n-----\\nContent: {content}'), score=1.5912262201309204), NodeWithScore(node=TextNode(id_='88c9258c-0745-4842-8ff3-b5a8635f6deb', embedding=None, metadata={'name': 'Combusken', 'generation': 3, 'type1': 'fire', 'type2': 'fighting', 'is_legendary': 0}, excluded_embed_metadata_keys=[], excluded_llm_metadata_keys=[], relationships={<NodeRelationship.SOURCE: '1'>: RelatedNodeInfo(node_id='Combusken', node_type='4', metadata={'name': 'Combusken', 'generation': 3, 'type1': 'fire', 'type2': 'fighting', 'is_legendary': 0}, hash='3129fec00f7293c50290b1573f85b28508235a1aa1f5c98ce8171a8a227ab2b4'), <NodeRelationship.PREVIOUS: '2'>: RelatedNodeInfo(node_id='e488505e-c0ad-4f3b-a74d-4126b870798c', node_type='1', metadata={'name': 'Combusken', 'generation': 3, 'type1': 'fire', 'type2': 'fighting', 'is_legendary': 0}, hash='117f673e5bc911e81a634e131a9d4388841d3336ba7ed68f4ede08237a28f119')}, metadata_template='{key}=>{value}', metadata_separator='::', text='Its ability to balance strength and beauty makes it a standout in these competitions.\\\\n\\\\n---\\\\n\\\\nCombusken is a fan-favorite Pok\\\\u00e9mon due to its fiery personality, impressive combat skills, and role in both the games and anime. Its evolution from the adorable Torchic into the powerful Blaziken makes it a key part of many trainers\\' journeys in the Hoenn region.\"', mimetype='text/plain', start_char_idx=3949, end_char_idx=4315, metadata_seperator='::', text_template='Metadata: {metadata_str}\\n-----\\nContent: {content}'), score=1.5923123359680176), NodeWithScore(node=TextNode(id_='05e8ceb0-340d-4af6-8b1b-73cadbd38e8f', embedding=None, metadata={'name': 'Meditite', 'generation': 3, 'type1': 'fighting', 'type2': 'psychic', 'is_legendary': 0}, excluded_embed_metadata_keys=[], excluded_llm_metadata_keys=[], relationships={<NodeRelationship.SOURCE: '1'>: RelatedNodeInfo(node_id='Meditite', node_type='4', metadata={'name': 'Meditite', 'generation': 3, 'type1': 'fighting', 'type2': 'psychic', 'is_legendary': 0}, hash='1aa0664512da37b3a5a990c4c31d4e2fa4a01327cf484d91f019ec20de5d555a'), <NodeRelationship.PREVIOUS: '2'>: RelatedNodeInfo(node_id='eb52b65c-eca1-444b-bc40-64e679addb2d', node_type='1', metadata={'name': 'Meditite', 'generation': 3, 'type1': 'fighting', 'type2': 'psychic', 'is_legendary': 0}, hash='e2798dda7e9e52c6eff638f6c5a643639e463c9257bf6ab4d5f653e3c6523f6a')}, metadata_template='{key}=>{value}', metadata_separator='::', text='Meditite battles Ash\\'s Pikachu, demonstrating its ability to combine psychic powers with physical attacks.\\\\n\\\\nAnother notable moment is its role in Gym battles against Brawly and Maylene in the games. Players often remember Meditite for its surprising strength due to its **Pure Power** ability, which can catch unprepared trainers off guard.\\\\n\\\\n---\\\\n\\\\nMeditite is a fascinating Pok\\\\u00e9mon that embodies the balance between physical strength and mental discipline. Its unique design, abilities, and role in the Pok\\\\u00e9mon world make it a standout among Fighting and Psychic types.\"', mimetype='text/plain', start_char_idx=3882, end_char_idx=4467, metadata_seperator='::', text_template='Metadata: {metadata_str}\\n-----\\nContent: {content}'), score=1.5939979553222656), NodeWithScore(node=TextNode(id_='a84b64dc-3ebc-46ea-9811-4822ce24274b', embedding=None, metadata={'name': 'Avalugg', 'generation': 6, 'type1': 'ice', 'type2': None, 'is_legendary': 0}, excluded_embed_metadata_keys=[], excluded_llm_metadata_keys=[], relationships={<NodeRelationship.SOURCE: '1'>: RelatedNodeInfo(node_id='Avalugg', node_type='4', metadata={'name': 'Avalugg', 'generation': 6, 'type1': 'ice', 'type2': None, 'is_legendary': 0}, hash='525526bd71f9221a378e3e3039b5bd5743f761db34f4a08be8f4c23f1f7c0d55'), <NodeRelationship.PREVIOUS: '2'>: RelatedNodeInfo(node_id='509a1d4d-f59d-4964-8a0f-6c8d67162238', node_type='1', metadata={'name': 'Avalugg', 'generation': 6, 'type1': 'ice', 'type2': None, 'is_legendary': 0}, hash='a5e4b00b7cecad337aa945d2cd3e7eae4bb129b7ad928cd0e19e66daa05a6ace')}, metadata_template='{key}=>{value}', metadata_separator='::', text='This battle is memorable for showcasing Ash\\'s growth as a trainer and his strategic thinking in overcoming Avalugg\\'s defenses.\\\\n\\\\nAnother notable moment is Avalugg\\'s appearance as a Noble Pok\\\\u00e9mon in *Pok\\\\u00e9mon Legends: Arceus*. The battle against the Noble Hisuian Avalugg is one of the most visually striking and challenging encounters in the game. The sheer size of the Noble Avalugg, combined with its aggressive attacks, makes it a standout moment in the storyline.\\\\n\\\\n---\\\\n\\\\nAvalugg is a fascinating Pok\\\\u00e9mon that combines immense physical strength with a unique design inspired by icebergs. Whether serving as a Gym Leader\\'s ace or a Noble Pok\\\\u00e9mon guarding its territory, Avalugg leaves a lasting impression on trainers in the Pok\\\\u00e9mon world.\"', mimetype='text/plain', start_char_idx=3701, end_char_idx=4471, metadata_seperator='::', text_template='Metadata: {metadata_str}\\n-----\\nContent: {content}'), score=1.5940701961517334)]\n",
      "Embedding Tokens:  15 \n",
      " LLM Prompt Tokens:  0 \n",
      " LLM Completion Tokens:  0 \n",
      " Total LLM Token Count:  0 \n",
      "\n",
      "Embedding Tokens:  0 \n",
      " LLM Prompt Tokens:  0 \n",
      " LLM Completion Tokens:  0 \n",
      " Total LLM Token Count:  0 \n",
      "\n",
      "[NodeWithScore(node=TextNode(id_='224a4daf-c96a-452a-a81d-c6e728a5a5e9', embedding=None, metadata={'name': 'Charizard', 'generation': 1, 'type1': 'fire', 'type2': 'flying', 'is_legendary': 0}, excluded_embed_metadata_keys=[], excluded_llm_metadata_keys=[], relationships={<NodeRelationship.SOURCE: '1'>: RelatedNodeInfo(node_id='Charizard', node_type='4', metadata={'name': 'Charizard', 'generation': 1, 'type1': 'fire', 'type2': 'flying', 'is_legendary': 0}, hash='a669e62f2ff7ef480ae290c9bf7bc98f961a0c854a8b9becac7fa50cb9d90d32'), <NodeRelationship.NEXT: '3'>: RelatedNodeInfo(node_id='bbf90ac5-bbb4-4171-abc9-c4e98d3beb15', node_type='1', metadata={}, hash='6a35a40f872fc6d49d0c2249031bc2c0d329fbcd7595390797276077ecf91699')}, metadata_template='{key}=>{value}', metadata_separator='::', text='\"### Charizard: Detailed Summary\\\\n\\\\nCharizard is one of the most iconic Pok\\\\u00e9mon in the franchise, beloved by fans for its powerful design, fiery abilities, and prominent role in the Pok\\\\u00e9mon series. Below is a detailed breakdown of Charizard\\'s characteristics, behavior, Pok\\\\u00e9dex description, notable trainers, and famous moments in the Pok\\\\u00e9mon franchise.\\\\n\\\\n---\\\\n\\\\n### 1. **Characteristics**\\\\n- **Species**: Flame Pok\\\\u00e9mon\\\\n- **Type**: Fire/Flying\\\\n- **Height**: 5\\'07\\\\\" (1.7 m)\\\\n- **Weight**: 199.5 lbs (90.5 kg)\\\\n- **Evolutionary Line**: Charmander \\\\u2192 Charmeleon \\\\u2192 Charizard\\\\n- **Mega Evolutions**: Charizard has two Mega Evolutions, Mega Charizard X (Fire/Dragon type) and Mega Charizard Y (Fire/Flying type), introduced in *Pok\\\\u00e9mon X and Y*.\\\\n- **Gigantamax Form**: Charizard also has a Gigantamax form introduced in *Pok\\\\u00e9mon Sword and Shield*, which gives it a massive, fiery appearance with flames erupting from its wings and body.\\\\n\\\\nCharizard resembles a large, orange dragon with a long tail tipped with a flame. Its wings are blue on the inside and allow it to fly at high speeds. Despite its dragon-like appearance, it is not a Dragon-type Pok\\\\u00e9mon in its base form.\\\\n\\\\n---\\\\n\\\\n### 2. **Behavior**\\\\nCharizard is known for its fiery temperament and pride. It is a powerful and competitive Pok\\\\u00e9mon that loves to battle strong opponents. However, it can be reckless and overconfident, especially when it underestimates its opponent. Charizard\\\\u2019s flame burns hotter when it is excited or angry, and it is said to never use its fire breath on weaker opponents, showing a sense of honor.\\\\n\\\\nCharizard is also highly loyal to trainers who earn its respect, but it can be disobedient if it feels its trainer is inexperienced or unworthy, as seen in the Pok\\\\u00e9mon anime.\\\\n\\\\n---\\\\n\\\\n### 3. **Pok\\\\u00e9dex Description**\\\\nCharizard has appeared in nearly every Pok\\\\u00e9mon game, and its Pok\\\\u00e9dex entries often emphasize its fiery breath and flying abilities. Below are some notable Pok\\\\u00e9dex descriptions:\\\\n\\\\n- **Pok\\\\u00e9mon Red/Blue**: \\\\\"Spits fire that is hot enough to melt boulders. Known to cause forest fires unintentionally.\\\\\"\\\\n- **Pok\\\\u00e9mon Gold**: \\\\\"If Charizard becomes furious, the flame at the tip of its tail flares up in a whitish-blue color.\\\\\"\\\\n- **Pok\\\\u00e9mon Sword**: \\\\\"It spits fire that is hot enough to melt boulders. It may cause forest fires by blowing flames.\\\\\"\\\\n- **Pok\\\\u00e9mon Shield**: \\\\\"The flame inside its body burns hotter than 3,600 degrees Fahrenheit. When Charizard roars, that temperature climbs even higher.\\\\\"\\\\n\\\\nThese entries highlight its destructive power and the intensity of its flames.\\\\n\\\\n---\\\\n\\\\n### 4. **Notable Trainers Who Own Charizard**\\\\nCharizard has been owned by several notable trainers in the Pok\\\\u00e9mon franchise, including:\\\\n\\\\n- **Ash Ketchum**: Ash\\\\u2019s Charizard is one of his most famous Pok\\\\u00e9mon. It started as a Charmander abandoned by its previous trainer, Damian, and evolved into a powerful but initially disobedient Charizard. Over time, Ash earned its respect, and it became one of his most reliable and iconic Pok\\\\u00e9mon.\\\\n- **Leon**: The Champion of the Galar region in *Pok\\\\u00e9mon Sword and Shield* is known for his Gigantamax Charizard, which serves as his signature Pok\\\\u00e9mon.', mimetype='text/plain', start_char_idx=0, end_char_idx=3327, metadata_seperator='::', text_template='Metadata: {metadata_str}\\n-----\\nContent: {content}'), score=7.512044906616211), NodeWithScore(node=TextNode(id_='9374b01e-0394-451f-a439-f56a45ad3e84', embedding=None, metadata={'name': 'Granbull', 'generation': 2, 'type1': 'fairy', 'type2': None, 'is_legendary': 0}, excluded_embed_metadata_keys=[], excluded_llm_metadata_keys=[], relationships={<NodeRelationship.SOURCE: '1'>: RelatedNodeInfo(node_id='Granbull', node_type='4', metadata={'name': 'Granbull', 'generation': 2, 'type1': 'fairy', 'type2': None, 'is_legendary': 0}, hash='bcf2b9baf58713116f5b41570c336a5b6d6cde1bd6a5743e54ef1622c160f849'), <NodeRelationship.PREVIOUS: '2'>: RelatedNodeInfo(node_id='ade03da7-5f42-4401-9d1e-87025f6e17e3', node_type='1', metadata={'name': 'Granbull', 'generation': 2, 'type1': 'fairy', 'type2': None, 'is_legendary': 0}, hash='6a4728f8f7ea88a597e237ff2affb275cad31476db1cbc0c689e1729e63a5466')}, metadata_template='{key}=>{value}', metadata_separator='::', text='The evolution marks a turning point in the Pok\\\\u00e9mon\\\\u2019s personality, as it becomes more confident and assertive while still retaining its loyalty to its owner.\\\\n\\\\nAnother notable scene is when Granbull is used in battles during various tournaments and showcases its powerful jaw attacks, such as *Crunch* and *Play Rough*. Its intimidating presence often surprises opponents who underestimate its strength due to its timid nature.\\\\n\\\\n---\\\\n\\\\nGranbull remains a fan-favorite Pok\\\\u00e9mon for its unique combination of a fierce appearance and gentle personality. Its role in the franchise highlights themes of loyalty, courage, and the importance of not judging others based on their looks.\"', mimetype='text/plain', start_char_idx=3612, end_char_idx=4307, metadata_seperator='::', text_template='Metadata: {metadata_str}\\n-----\\nContent: {content}'), score=4.360943794250488), NodeWithScore(node=TextNode(id_='a6091fc8-c41e-4784-8350-463f52be46c8', embedding=None, metadata={'name': 'Emboar', 'generation': 5, 'type1': 'fire', 'type2': 'fighting', 'is_legendary': 0}, excluded_embed_metadata_keys=[], excluded_llm_metadata_keys=[], relationships={<NodeRelationship.SOURCE: '1'>: RelatedNodeInfo(node_id='Emboar', node_type='4', metadata={'name': 'Emboar', 'generation': 5, 'type1': 'fire', 'type2': 'fighting', 'is_legendary': 0}, hash='c00e9ab7947ea0eb156b8c3d5509b157aa24654d4c77a85b0da5246c0a8166e3'), <NodeRelationship.NEXT: '3'>: RelatedNodeInfo(node_id='7c533a06-6555-4d28-983c-224f9b2ad587', node_type='1', metadata={}, hash='057912d0015a105eb2f0169c4dcb1ea6fb003cd284a75e3c4e90160a2fbb550b')}, metadata_template='{key}=>{value}', metadata_separator='::', text='\"### Emboar: The Mega Fire Pig Pok\\\\u00e9mon\\\\n\\\\nEmboar is a dual-type **Fire/Fighting** Pok\\\\u00e9mon introduced in **Generation V**. It is the final evolution of Tepig, evolving from Pignite starting at level 36. Known for its fiery mane and immense strength, Emboar is a popular choice among trainers who value power and resilience.\\\\n\\\\n---\\\\n\\\\n### 1. **Characteristics**\\\\n- **Appearance**: Emboar is a large, bipedal Pok\\\\u00e9mon resembling a boar. It has a bulky, muscular build with orange fur covering most of its body. Its chest and arms are black, adorned with intricate yellow flame-like patterns. Emboar\\'s most striking feature is its fiery mane, which burns brightly around its neck and shoulders. It has tusks protruding from its lower jaw and a short, curled tail.\\\\n- **Height**: 5\\'03\\\\\" (1.6 m)\\\\n- **Weight**: 330.7 lbs (150.0 kg)\\\\n- **Abilities**: \\\\n  - **Blaze** (Standard Ability): Boosts the power of Fire-type moves when Emboar\\'s HP is low.\\\\n  - **Reckless** (Hidden Ability): Increases the power of moves that have recoil damage, such as Flare Blitz.\\\\n- **Signature Moves**: Heat Crash (a Fire-type move that deals more damage the heavier Emboar is compared to its opponent).\\\\n\\\\nEmboar is known for its immense physical strength and its ability to unleash devastating Fire- and Fighting-type moves. Its design is inspired by a combination of a boar and a wrestler, with its fiery mane symbolizing its fighting spirit.\\\\n\\\\n---\\\\n\\\\n### 2. **Behavior**\\\\nEmboar is a courageous and loyal Pok\\\\u00e9mon that fights with honor. It is known for its protective nature, especially toward its trainer and allies. Emboar uses its fiery mane to intimidate opponents and can unleash flames from its hands to attack. Despite its intimidating appearance, Emboar is gentle and caring toward those it trusts.\\\\n\\\\nIn battle, Emboar is relentless and strategic. It uses its bulk and strength to overpower opponents, often relying on moves like Flare Blitz and Arm Thrust to deal heavy damage. Its fiery mane burns brighter when it is excited or enraged, signaling its determination to win.\\\\n\\\\n---\\\\n\\\\n### 3. **Pokedex Description**\\\\n- **Black/White**: It can throw a fire punch by setting its fists on fire with its fiery chin. It cares deeply about its friends.\\\\n- **Black 2/White 2**: A flaring beard of fire is proof that it is fired up. It is adept at using many different moves.\\\\n- **Sword/Shield**: It blasts fire from its nose. When it heats up, its movements grow sharper. It takes on opponents with its strong arms.\\\\n\\\\nThe Pokedex highlights Emboar\\'s fiery nature and its ability to use flames both offensively and defensively. It also emphasizes its loyalty and versatility in battle.\\\\n\\\\n---\\\\n\\\\n### 4. **Notable Trainers Who Own Emboar**\\\\n- **Bianca (Anime)**: Bianca, one of Ash\\'s rivals in the Unova region, owns an Emboar. She is seen using it in several battles, showcasing its strength and versatility. Bianca\\'s Emboar is a key member of her team and often serves as her ace Pok\\\\u00e9mon.\\\\n- **Hilda/Hilbert (Games)**: In the Pok\\\\u00e9mon Black and White games, if the player chooses Tepig as their starter, it will eventually evolve into Emboar. As the player\\'s partner, Emboar plays a significant role in their journey through the Unova region.\\\\n\\\\n---\\\\n\\\\n### 5. **Famous Scene in the Pok\\\\u00e9mon Franchise**\\\\nOne of the most memorable scenes involving Emboar occurs in the **Pok\\\\u00e9mon Black and White anime**, during Bianca\\'s battle against Ash in the **Vertress Conference** (Unova League). Bianca\\'s Emboar faces off against Ash\\'s Krookodile in an intense match. Emboar demonstrates its raw power and versatility, using moves like Flamethrower and Hammer Arm to put up a strong fight.', mimetype='text/plain', start_char_idx=0, end_char_idx=3697, metadata_seperator='::', text_template='Metadata: {metadata_str}\\n-----\\nContent: {content}'), score=3.244002342224121), NodeWithScore(node=TextNode(id_='92913ee6-28fe-419a-8127-16f8ec8f8b18', embedding=None, metadata={'name': 'Linoone', 'generation': 3, 'type1': 'normal', 'type2': None, 'is_legendary': 0}, excluded_embed_metadata_keys=[], excluded_llm_metadata_keys=[], relationships={<NodeRelationship.SOURCE: '1'>: RelatedNodeInfo(node_id='Linoone', node_type='4', metadata={'name': 'Linoone', 'generation': 3, 'type1': 'normal', 'type2': None, 'is_legendary': 0}, hash='3d202437535ed6811e8c7f3834b0525c1f3cbece528f566599b692ba8173e4d6'), <NodeRelationship.NEXT: '3'>: RelatedNodeInfo(node_id='650ff5e7-780f-46cd-944d-1d4b2550cbdf', node_type='1', metadata={}, hash='64f2827b691d0fee9b52a7a63e9511328d9560fc7d722b81b6ff474add9fa119')}, metadata_template='{key}=>{value}', metadata_separator='::', text='\"### Detailed Summary of Linoone\\\\n\\\\nLinoone is a Pok\\\\u00e9mon introduced in **Generation III** and is the evolved form of Zigzagoon. It is known for its sleek, fast-moving body and its ability to dart in straight lines at high speeds. In **Generation VIII**, a regional variant called **Galarian Linoone** was introduced, which has a darker, edgier design and evolves into Obstagoon.\\\\n\\\\n---\\\\n\\\\n### 1. **Characteristics**\\\\n- **Type:** Normal (Hoennian Linoone) / Dark-Normal (Galarian Linoone)\\\\n- **Appearance:** \\\\n  - Hoennian Linoone has a slender, ferret-like body with cream-colored fur and brown stripes running along its back. Its body is streamlined for speed, and its paws are small and clawed.\\\\n  - Galarian Linoone has a more aggressive appearance, with black and white fur and a sharp, edgy design. Its eyes are red, giving it a more intimidating look.\\\\n- **Height:** 0.5 m (1\\'8\\\\\")\\\\n- **Weight:** 32.5 kg (71.7 lbs)\\\\n- **Abilities:** Pickup, Gluttony (Hidden Ability)\\\\n- **Notable Stats:** Linoone is known for its high **Speed** stat, making it one of the fastest Pok\\\\u00e9mon in its evolutionary stage.\\\\n\\\\n---\\\\n\\\\n### 2. **Behavior**\\\\n- **Hoennian Linoone:** \\\\n  - Linoone is known for its incredible speed and its tendency to run in straight lines. It cannot turn easily while running, which can lead to collisions with obstacles. It uses this speed to hunt prey and escape predators.\\\\n  - It has a keen sense of smell and often scavenges for food, including berries and small items. Its Pickup ability reflects this behavior, as it can find items during battles.\\\\n- **Galarian Linoone:** \\\\n  - The Galarian variant is more aggressive and reckless, often charging at opponents with no regard for its own safety. It is known to be a troublemaker and thrives in chaotic environments.\\\\n  - This variant is more likely to engage in fights and has a rebellious personality, which ties into its evolution into Obstagoon, a Pok\\\\u00e9mon inspired by punk rock culture.\\\\n\\\\n---\\\\n\\\\n### 3. **Pokedex Description**\\\\n- **Hoennian Linoone:**\\\\n  - *Ruby:* \\\\\"Linoone always runs full speed and only in straight lines. If facing an obstacle, it makes a right-angle turn to evade it. This Pok\\\\u00e9mon is very challenged by gently curving roads.\\\\\"\\\\n  - *Sapphire:* \\\\\"Linoone is capable of running at speeds of up to 60 mph. It has a tough time with curved roads.\\\\\"\\\\n  - *Emerald:* \\\\\"When it spots prey, it runs after it in a straight line. It catches only Pok\\\\u00e9mon that it can run straight at.\\\\\"\\\\n- **Galarian Linoone:**\\\\n  - *Sword:* \\\\\"This Pok\\\\u00e9mon is strong-willed, and it can pick fights with even those stronger than itself. Its temperament is wild and savage.\\\\\"\\\\n  - *Shield:* \\\\\"It charges at enemies with reckless abandon. It lives in harsh environments where it thrives on conflict.\\\\\"\\\\n\\\\n---\\\\n\\\\n### 4. **Notable Trainers Who Own Linoone**\\\\n- **Max (Anime):** In the Pok\\\\u00e9mon anime, Max, the younger brother of Gym Leader May, befriends a Linoone in the episode \\\\\"Showdown at Linoone!\\\\\" This Linoone helps Max retrieve items using its Pickup ability.\\\\n- **Hop (Games):** In Pok\\\\u00e9mon Sword and Shield, Hop, the rival character, uses a Galarian Linoone in some battles before evolving it into Obstagoon.\\\\n- **Team Yell (Games):** Members of Team Yell, the punk-themed antagonists in Sword and Shield, frequently use Galarian Linoone as part of their team.\\\\n\\\\n---\\\\n\\\\n### 5.', mimetype='text/plain', start_char_idx=0, end_char_idx=3386, metadata_seperator='::', text_template='Metadata: {metadata_str}\\n-----\\nContent: {content}'), score=2.852252721786499), NodeWithScore(node=TextNode(id_='6642bc90-c498-4fbb-9c95-07d11e300de5', embedding=None, metadata={'name': 'Rhyhorn', 'generation': 1, 'type1': 'ground', 'type2': 'rock', 'is_legendary': 0}, excluded_embed_metadata_keys=[], excluded_llm_metadata_keys=[], relationships={<NodeRelationship.SOURCE: '1'>: RelatedNodeInfo(node_id='Rhyhorn', node_type='4', metadata={'name': 'Rhyhorn', 'generation': 1, 'type1': 'ground', 'type2': 'rock', 'is_legendary': 0}, hash='c2327a2fd8b5e5fb097df8a08da258d94dba57f65969037ace04ee3eed4e5a15'), <NodeRelationship.PREVIOUS: '2'>: RelatedNodeInfo(node_id='2f8b9c1b-8108-404b-b531-9ec23fb9f679', node_type='1', metadata={'name': 'Rhyhorn', 'generation': 1, 'type1': 'ground', 'type2': 'rock', 'is_legendary': 0}, hash='4dbf1c56fec0e7a80b18bd4c1627e00fd822ca46af0cec994302db591a69144a')}, metadata_template='{key}=>{value}', metadata_separator='::', text='These moments emphasize Rhyhorn\\'s role as a powerhouse Pok\\\\u00e9mon that can hold its own in combat.\\\\n\\\\n#### Summary\\\\nRhyhorn is a powerful and durable Pok\\\\u00e9mon with a straightforward, instinct-driven nature. Its reckless charging and immense physical strength make it a force to be reckoned with, though its lack of intelligence and agility can be a drawback. With its iconic appearance and memorable moments in the Pok\\\\u00e9mon franchise, Rhyhorn remains a fan-favorite Pok\\\\u00e9mon for many trainers.\"', mimetype='text/plain', start_char_idx=3917, end_char_idx=4425, metadata_seperator='::', text_template='Metadata: {metadata_str}\\n-----\\nContent: {content}'), score=2.6718356609344482), NodeWithScore(node=TextNode(id_='2f8b9c1b-8108-404b-b531-9ec23fb9f679', embedding=None, metadata={'name': 'Rhyhorn', 'generation': 1, 'type1': 'ground', 'type2': 'rock', 'is_legendary': 0}, excluded_embed_metadata_keys=[], excluded_llm_metadata_keys=[], relationships={<NodeRelationship.SOURCE: '1'>: RelatedNodeInfo(node_id='Rhyhorn', node_type='4', metadata={'name': 'Rhyhorn', 'generation': 1, 'type1': 'ground', 'type2': 'rock', 'is_legendary': 0}, hash='c2327a2fd8b5e5fb097df8a08da258d94dba57f65969037ace04ee3eed4e5a15'), <NodeRelationship.NEXT: '3'>: RelatedNodeInfo(node_id='6642bc90-c498-4fbb-9c95-07d11e300de5', node_type='1', metadata={}, hash='20d39ee01f87bac0e589ff23c59115526483727d5c8cf64040e0fd38f98e0461')}, metadata_template='{key}=>{value}', metadata_separator='::', text='\"### Detailed Summary of Rhyhorn\\\\n\\\\n#### 1. **Characteristics**\\\\nRhyhorn is a dual-type **Ground/Rock Pok\\\\u00e9mon** introduced in Generation I. It is known for its rugged, rhinoceros-like appearance, with a body covered in thick, gray, rock-like armor that provides excellent defense. Its body is quadrupedal, with short, sturdy legs and a spiked tail. Rhyhorn has a single, prominent horn on its snout, which it uses for charging and attacking opponents. Its eyes are small and fierce, giving it an intimidating look.\\\\n\\\\nRhyhorn is a relatively large Pok\\\\u00e9mon, standing at **3\\'03\\\\\" (1.0 m)** tall and weighing **253.5 lbs (115.0 kg)**. Its physical strength and durability make it a formidable Pok\\\\u00e9mon in battle, especially when utilizing its high Attack and Defense stats. However, it is not known for its speed or agility, and its Special Defense is notably weak.\\\\n\\\\n#### 2. **Behavior**\\\\nRhyhorn is a straightforward and somewhat reckless Pok\\\\u00e9mon. It is known for charging at anything it sees, often without thinking. This behavior stems from its instinctive nature and its reliance on brute strength rather than strategy. However, Rhyhorn\\'s intelligence is relatively low, and it has difficulty remembering things for long periods. For example, it may forget why it started charging in the first place.\\\\n\\\\nDespite its aggressive tendencies, Rhyhorn is not inherently malicious. It is simply driven by its instincts and its natural affinity for physical combat. In the wild, Rhyhorn is often seen roaming rocky terrains, deserts, and mountainous regions, where it can use its sturdy body to navigate harsh environments.\\\\n\\\\n#### 3. **Pokedex Description**\\\\nRhyhorn\\'s Pok\\\\u00e9dex entries across various games emphasize its physical power, durability, and lack of intelligence. Here are some notable examples:\\\\n\\\\n- **Red/Blue:** \\\\\"Its massive bones are 1,000 times harder than human bones. It can easily knock a trailer flying.\\\\\"\\\\n- **Yellow:** \\\\\"A Pok\\\\u00e9mon with a one-track mind. Once it charges, it won\\\\u2019t stop running until it falls asleep.\\\\\"\\\\n- **Gold:** \\\\\"It is inept at turning because of its four short legs. It can only charge and run in one direction.\\\\\"\\\\n- **Ruby/Sapphire:** \\\\\"Rhyhorn runs in a straight line, smashing everything in its path. It is not bothered even if it rushes headlong into a block of steel. This Pok\\\\u00e9mon may feel some pain from the collision the next day, however.\\\\\"\\\\n\\\\nThese entries highlight Rhyhorn\\'s incredible physical strength and endurance, as well as its somewhat clumsy and single-minded nature.\\\\n\\\\n#### 4. **Notable Trainers Who Own Them**\\\\nRhyhorn has been owned by several notable trainers in the Pok\\\\u00e9mon franchise, including:\\\\n\\\\n- **Blaine (Gym Leader):** In the Pok\\\\u00e9mon Adventures manga, Blaine is shown using a Rhyhorn during battles.\\\\n- **Kiawe (Anime):** In the Pok\\\\u00e9mon Sun and Moon anime, Kiawe\\'s family owns a Rhyhorn that is used for farm work.\\\\n- **Serena (Anime):** In the Pok\\\\u00e9mon X and Y anime, Serena is shown to have experience riding Rhyhorn, as her mother is a famous Rhyhorn racer. While Serena does not own a Rhyhorn herself, her connection to Rhyhorn racing is a significant part of her backstory.\\\\n\\\\n#### 5. **Famous Scene in the Pok\\\\u00e9mon Franchise**\\\\nOne of the most memorable scenes involving Rhyhorn occurs in the **Pok\\\\u00e9mon X and Y anime**, where Serena is shown practicing Rhyhorn racing. This scene is significant because it highlights Serena\\'s upbringing and her initial struggles to find her own path in life. Her mother, Grace, is a renowned Rhyhorn racer, and Serena is expected to follow in her footsteps. However, Serena ultimately decides to pursue her own dreams, which sets her on the path to becoming a Pok\\\\u00e9mon Performer.\\\\n\\\\nAnother notable moment is in the **Pok\\\\u00e9mon Adventures manga**, where Rhyhorn is used in intense battles, showcasing its raw power and durability.', mimetype='text/plain', start_char_idx=0, end_char_idx=3916, metadata_seperator='::', text_template='Metadata: {metadata_str}\\n-----\\nContent: {content}'), score=2.661296844482422), NodeWithScore(node=TextNode(id_='1c25ed7d-a364-41c3-abba-26f7b5c62ad6', embedding=None, metadata={'name': 'Carvanha', 'generation': 3, 'type1': 'water', 'type2': 'dark', 'is_legendary': 0}, excluded_embed_metadata_keys=[], excluded_llm_metadata_keys=[], relationships={<NodeRelationship.SOURCE: '1'>: RelatedNodeInfo(node_id='Carvanha', node_type='4', metadata={'name': 'Carvanha', 'generation': 3, 'type1': 'water', 'type2': 'dark', 'is_legendary': 0}, hash='d3b6a1bd65eb2de9e23baed41eaa7287be9d035f6e990f443430fb8058442fa9'), <NodeRelationship.PREVIOUS: '2'>: RelatedNodeInfo(node_id='66e1f24d-e767-476a-876d-76b3a1770bab', node_type='1', metadata={'name': 'Carvanha', 'generation': 3, 'type1': 'water', 'type2': 'dark', 'is_legendary': 0}, hash='208178bcff91e6217eb0f5e982279b2af11976d2ae66c05a2f982529d8372a63')}, metadata_template='{key}=>{value}', metadata_separator='::', text='The episode highlights Carvanha\\'s role as a key Pok\\\\u00e9mon for Team Aqua, emphasizing its connection to water-based schemes and its ferocity in battle.\\\\n\\\\nAdditionally, Carvanha is often featured in underwater scenes in the anime and games, where it is shown swarming and attacking intruders, reinforcing its reputation as a dangerous Pok\\\\u00e9mon to encounter in the wild.\\\\n\\\\n---\\\\n\\\\nCarvanha is a fascinating Pok\\\\u00e9mon that embodies the untamed and dangerous aspects of aquatic life. Its aggressive behavior, sharp teeth, and group tactics make it a formidable opponent, especially when encountered in the wild or as part of Team Aqua\\'s plans.\"', mimetype='text/plain', start_char_idx=3555, end_char_idx=4205, metadata_seperator='::', text_template='Metadata: {metadata_str}\\n-----\\nContent: {content}'), score=2.4904425144195557), NodeWithScore(node=TextNode(id_='0c766235-78bd-42ad-b60b-5be1e8a4b4a9', embedding=None, metadata={'name': 'Pignite', 'generation': 5, 'type1': 'fire', 'type2': 'fighting', 'is_legendary': 0}, excluded_embed_metadata_keys=[], excluded_llm_metadata_keys=[], relationships={<NodeRelationship.SOURCE: '1'>: RelatedNodeInfo(node_id='Pignite', node_type='4', metadata={'name': 'Pignite', 'generation': 5, 'type1': 'fire', 'type2': 'fighting', 'is_legendary': 0}, hash='c3987e9059a6021378b864c89bf327e9f0ef1a3e91b80c73d8011191bb398bc1')}, metadata_template='{key}=>{value}', metadata_separator='::', text='\"### Detailed Summary of Pignite\\\\n\\\\n#### 1. **Characteristics**\\\\nPignite is a Fire/Fighting-type Pok\\\\u00e9mon introduced in Generation V. It is the evolved form of Tepig, the Fire-type starter Pok\\\\u00e9mon of the Unova region, and evolves into Emboar. Pignite is a bipedal, pig-like Pok\\\\u00e9mon with a stout, muscular build. Its body is primarily orange with black markings resembling a wrestling singlet, and it has a yellow, flame-like pattern on its chest. Its ears are pointed, and it has a curly tail resembling a pig\\'s tail. Pignite\\'s arms and legs are thick and strong, emphasizing its physical prowess.\\\\n\\\\nPignite\\'s internal flame burns brightly, fueling its fighting spirit and enabling it to unleash powerful Fire-type moves. Its body temperature rises when it gets excited or angry, causing flames to erupt from its nostrils. This Pok\\\\u00e9mon is known for its strength and stamina, making it a formidable opponent in battle.\\\\n\\\\n#### 2. **Behavior**\\\\nPignite is a determined and energetic Pok\\\\u00e9mon that thrives in battle. It has a strong sense of loyalty to its trainer and will fight with all its might to protect them. Pignite is known for its competitive nature and enjoys testing its strength against strong opponents. It is also a glutton, often seen eating large amounts of food to fuel its internal flame and maintain its energy levels.\\\\n\\\\nWhen Pignite is in battle, it becomes highly focused and aggressive, using its powerful physical attacks and fiery moves to overwhelm its opponents. However, it can sometimes be reckless, charging headfirst into situations without thinking. Despite this, Pignite\\'s fighting spirit and resilience make it a reliable partner in tough situations.\\\\n\\\\n#### 3. **Pokedex Description**\\\\nHere are some Pokedex entries for Pignite from various games:\\\\n\\\\n- **Black:** When its internal fire flares up, its movements grow sharper and faster. When in trouble, it emits smoke.\\\\n- **White:** Whatever it eats becomes fuel for the flame in its stomach. When it is angered, the intensity of the flame increases.\\\\n- **Black 2/White 2:** The more it eats, the more fuel it has to make the fire in its stomach stronger. This fills it with even more power.\\\\n\\\\nThese descriptions highlight Pignite\\'s reliance on its internal flame for both its strength and its fiery attacks, as well as its voracious appetite.\\\\n\\\\n#### 4. **Notable Trainers Who Own Pignite**\\\\n- **Ash Ketchum:** Ash\\'s Tepig evolves into Pignite during his journey in the Unova region. Tepig was originally abandoned by its previous trainer, but Ash took it in and helped it regain its confidence. Pignite becomes a key member of Ash\\'s team, showcasing its strength and determination in battles.\\\\n- **Bianca:** In the Pok\\\\u00e9mon anime, Bianca, one of Ash\\'s rivals in the Unova region, is also shown to own a Pignite. Her Pignite is a strong battler and reflects her energetic and somewhat clumsy personality.\\\\n\\\\n#### 5. **Famous Scene in the Pok\\\\u00e9mon Franchise**\\\\nOne of the most memorable moments involving Pignite occurs in the Pok\\\\u00e9mon anime during Ash\\'s journey in Unova. In the episode *\\\\\"Evolution by Fire!\\\\\"*, Ash\\'s Tepig evolves into Pignite during a heated battle against its former trainer, Shamus. Shamus had abandoned Tepig, calling it weak, but Ash\\'s care and encouragement helped Tepig grow stronger. During the battle, Tepig evolves into Pignite and defeats Shamus\\'s Pok\\\\u00e9mon, proving its strength and loyalty to Ash. This scene is a powerful moment of redemption and showcases Pignite\\'s fighting spirit and determination.\\\\n\\\\nAnother notable scene is when Ash\\'s Pignite participates in the Unova League, where it demonstrates its strength and versatility in battles against tough opponents. Pignite\\'s role in these battles highlights its importance as a core member of Ash\\'s team.\\\\n\\\\n---\\\\n\\\\nPignite is a Pok\\\\u00e9mon that embodies strength, loyalty, and determination, making it a fan-favorite among trainers and viewers of the Pok\\\\u00e9mon franchise. Its journey from an abandoned Tepig to a powerful and confident Pignite is a testament to the bond between Pok\\\\u00e9mon and their trainers.\"', mimetype='text/plain', start_char_idx=0, end_char_idx=4129, metadata_seperator='::', text_template='Metadata: {metadata_str}\\n-----\\nContent: {content}'), score=2.477632522583008), NodeWithScore(node=TextNode(id_='6625ea10-cd95-467e-9485-d4051641b9e5', embedding=None, metadata={'name': 'Oshawott', 'generation': 5, 'type1': 'water', 'type2': None, 'is_legendary': 0}, excluded_embed_metadata_keys=[], excluded_llm_metadata_keys=[], relationships={<NodeRelationship.SOURCE: '1'>: RelatedNodeInfo(node_id='Oshawott', node_type='4', metadata={'name': 'Oshawott', 'generation': 5, 'type1': 'water', 'type2': None, 'is_legendary': 0}, hash='324b46915b003dd4721ccb35df0d74d15d2df3123d24da4f0d04fc11134f4a67'), <NodeRelationship.NEXT: '3'>: RelatedNodeInfo(node_id='2f0f439f-3d49-425a-b4db-39c1f1c837e7', node_type='1', metadata={}, hash='4622890e9f7030425c9cd86a3594db1088e0c7353a5cc63aa619b4fd0812ab49')}, metadata_template='{key}=>{value}', metadata_separator='::', text='\"### **Oshawott: Detailed Summary**\\\\n\\\\nOshawott is a Water-type Pok\\\\u00e9mon introduced in Generation V (Unova region). It is the first-stage evolution of a three-stage evolutionary line, evolving into Dewott and later into Samurott. Oshawott is one of the starter Pok\\\\u00e9mon offered to trainers in the Unova region.\\\\n\\\\n---\\\\n\\\\n### **1. Characteristics**\\\\n- **Appearance:**  \\\\nOshawott is a small, otter-like Pok\\\\u00e9mon with a round, light blue body and a white face. It has large, dark eyes, a small triangular nose, and two pointed ears. Its arms and feet are stubby, and its tail is flat and paddle-shaped. A distinctive feature of Oshawott is the beige seashell (known as a \\\\\"scalchop\\\\\") attached to its belly. This shell is used as a weapon and tool in battle.\\\\n\\\\n- **Height and Weight:**  \\\\nOshawott stands at 0.5 meters (1\\'08\\\\\") tall and weighs 5.9 kilograms (13.0 lbs).\\\\n\\\\n- **Type:**  \\\\nWater-type Pok\\\\u00e9mon.\\\\n\\\\n- **Abilities:**  \\\\nIts primary ability is **Torrent**, which boosts the power of Water-type moves when its HP is low. Hidden Ability: **Shell Armor**, which prevents critical hits.\\\\n\\\\n---\\\\n\\\\n### **2. Behavior**\\\\nOshawott is known for its playful and confident personality. It is often depicted as brave and determined, though it can sometimes act a bit clumsy or overconfident. Despite its small size, Oshawott is resourceful and uses its scalchop effectively in battle, both offensively and defensively. It takes great pride in its scalchop, polishing it regularly to keep it in pristine condition. If the scalchop is damaged or lost, Oshawott becomes distressed and will search for a replacement.\\\\n\\\\nOshawott is also highly loyal to its trainer and enjoys showing off its skills. It has a curious nature and is often seen exploring its surroundings.\\\\n\\\\n---\\\\n\\\\n### **3. Pok\\\\u00e9dex Description**\\\\nHere are some notable Pok\\\\u00e9dex entries for Oshawott across different games:\\\\n\\\\n- **Black/White:**  \\\\n\\\\\"It fights using the scalchop on its stomach. In battle, it uses it to block attacks and then counterattack.\\\\\"\\\\n\\\\n- **Black 2/White 2:**  \\\\n\\\\\"The scalchop on its stomach isn\\'t just used for battle\\\\u2014it can be used to break open hard berries as well.\\\\\"\\\\n\\\\n- **Sword/Shield:**  \\\\n\\\\\"It uses the shell on its belly to fight off enemies. The shell is harder than rock.\\\\\"\\\\n\\\\nThese entries emphasize Oshawott\\'s reliance on its scalchop for both combat and practical purposes.\\\\n\\\\n---\\\\n\\\\n### **4. Notable Trainers Who Own Oshawott**\\\\nOshawott has been featured prominently in the Pok\\\\u00e9mon anime and games. Some notable trainers include:\\\\n\\\\n- **Ash Ketchum:**  \\\\nAsh received an Oshawott from Professor Juniper in the Unova region during the *Pok\\\\u00e9mon: Black & White* series. Oshawott became one of Ash\\'s main Pok\\\\u00e9mon throughout his journey in Unova. It was known for its comedic personality, often getting into trouble or showing off its scalchop.\\\\n\\\\n- **Trip:**  \\\\nTrip, Ash\\'s rival in the Unova region, also chose Oshawott as his starter Pok\\\\u00e9mon in the anime. However, Trip\\'s Oshawott evolved into Dewott early in the series.\\\\n\\\\n- **Hilbert/Hilda (Player Character):**  \\\\nIn the *Pok\\\\u00e9mon Black/White* games, Oshawott is one of the three starter Pok\\\\u00e9mon offered to the player by Professor Juniper.\\\\n\\\\n---\\\\n\\\\n### **5. Famous Scene in Pok\\\\u00e9mon Franchise**\\\\nOne of the most memorable scenes involving Oshawott occurs in the *Pok\\\\u00e9mon: Black & White* anime series. Ash\\'s Oshawott is often portrayed as a comic relief character, and one iconic moment is when it struggles to open its eyes underwater.', mimetype='text/plain', start_char_idx=0, end_char_idx=3559, metadata_seperator='::', text_template='Metadata: {metadata_str}\\n-----\\nContent: {content}'), score=2.46720290184021), NodeWithScore(node=TextNode(id_='27c5f0d2-ace6-4292-adf6-e44d31eb9fc3', embedding=None, metadata={'name': 'Magmortar', 'generation': 4, 'type1': 'fire', 'type2': None, 'is_legendary': 0}, excluded_embed_metadata_keys=[], excluded_llm_metadata_keys=[], relationships={<NodeRelationship.SOURCE: '1'>: RelatedNodeInfo(node_id='Magmortar', node_type='4', metadata={'name': 'Magmortar', 'generation': 4, 'type1': 'fire', 'type2': None, 'is_legendary': 0}, hash='333727f546a0fa30b76dc35bce55cfd54c784ff76e72202922a4aa4ee084755e'), <NodeRelationship.NEXT: '3'>: RelatedNodeInfo(node_id='8296dad2-9f7f-4006-b995-e8dc664a8e6f', node_type='1', metadata={}, hash='6f9a88ce8863fe355d98c6547b17f46083cd72bb1d64cd0c26bce1fccc56abd3')}, metadata_template='{key}=>{value}', metadata_separator='::', text='\"### **Magmortar: Detailed Summary**\\\\n\\\\nMagmortar is a Fire-type Pok\\\\u00e9mon introduced in Generation IV. It is the evolved form of Magmar and can only evolve when exposed to a **Magmarizer** during a trade. Known for its fiery arsenal and intimidating presence, Magmortar is a powerful Pok\\\\u00e9mon often associated with heat and destruction.\\\\n\\\\n---\\\\n\\\\n### **1. Characteristics**\\\\n- **Appearance:**  \\\\nMagmortar has a bulky, humanoid body with a fiery, flame-like design. Its body is predominantly orange and yellow, resembling molten lava. Its arms are shaped like cannon barrels, capable of firing explosive fireballs. It has a spiked collar around its neck and flame-like extensions on its shoulders and tail. Its face is adorned with a fierce expression, and its eyes are sharp and intimidating.\\\\n\\\\n- **Height and Weight:**  \\\\nMagmortar stands at **5\\'03\\\\\" (1.6 m)** and weighs **68.0 kg (149.9 lbs)**.\\\\n\\\\n- **Abilities:**  \\\\nIts primary ability is **Flame Body**, which has a chance to burn opponents upon physical contact. In battle, Magmortar is known for its high Special Attack stat, making it a formidable special attacker.\\\\n\\\\n- **Signature Move:**  \\\\nMagmortar is often associated with powerful Fire-type moves like **Flamethrower**, **Fire Blast**, and **Lava Plume**. It can also learn Electric-type moves like **Thunderbolt**, giving it coverage against Water-types.\\\\n\\\\n---\\\\n\\\\n### **2. Behavior**\\\\nMagmortar is a solitary and territorial Pok\\\\u00e9mon. It thrives in volcanic regions and areas with extreme heat. It uses its cannon-like arms to shoot fireballs at prey or threats, incinerating them instantly. Magmortar is known to be highly aggressive when provoked, but it is also intelligent and strategic in battle.\\\\n\\\\nDespite its fiery nature, Magmortar is not reckless. It carefully controls the intensity of its flames to avoid unnecessary destruction. However, when angered, it can unleash devastating firepower capable of melting entire landscapes.\\\\n\\\\n---\\\\n\\\\n### **3. Pok\\\\u00e9dex Description**\\\\nMagmortar\\'s Pok\\\\u00e9dex entries emphasize its fiery abilities and destructive potential:\\\\n\\\\n- **Diamond/Pearl:** \\\\\"It blasts fireballs of over 3,600 degrees Fahrenheit from the ends of its arms. It lives in volcanic craters.\\\\\"\\\\n- **Platinum:** \\\\\"When launching 3,600-degree fireballs, its body takes on a whitish hue from the heat.\\\\\"\\\\n- **Sword/Shield:** \\\\\"Magmortar\\'s body temperature is around 2,200 degrees Fahrenheit. It is capable of incinerating anything with its fireballs.\\\\\"\\\\n\\\\nThese descriptions highlight its immense heat and its preference for volcanic habitats.\\\\n\\\\n---\\\\n\\\\n### **4. Notable Trainers Who Own Magmortar**\\\\nMagmortar has been featured in the Pok\\\\u00e9mon franchise as a powerful Pok\\\\u00e9mon used by skilled trainers:\\\\n\\\\n- **Paul (Anime):**  \\\\nPaul, Ash\\'s rival in the Sinnoh region, owns a Magmortar. It is one of his strongest Pok\\\\u00e9mon and is often seen in intense battles. Paul uses Magmortar\\'s firepower and strategic moves to dominate his opponents.\\\\n\\\\n- **Flint (Elite Four):**  \\\\nFlint, a member of the Sinnoh Elite Four specializing in Fire-type Pok\\\\u00e9mon, uses Magmortar in his team. It serves as a testament to his mastery of Fire-types and is a key part of his battle strategy.\\\\n\\\\n---\\\\n\\\\n### **5. Famous Scene in Pok\\\\u00e9mon Franchise**\\\\nOne of the most memorable scenes involving Magmortar occurs during **Ash vs. Paul** in the Sinnoh League. Paul\\'s Magmortar battles Ash\\'s Infernape in a heated and emotional match. The battle showcases Magmortar\\'s immense power and versatility, as it uses moves like Flamethrower and Thunderbolt to pressure Infernape.\\\\n\\\\nThis scene is significant because it highlights the rivalry between Ash and Paul, as well as Infernape\\'s growth and determination to overcome its past struggles.', mimetype='text/plain', start_char_idx=0, end_char_idx=3783, metadata_seperator='::', text_template='Metadata: {metadata_str}\\n-----\\nContent: {content}'), score=2.3953664302825928), NodeWithScore(node=TextNode(id_='2d1f90a2-150d-4f43-8d03-a9eb569a47aa', embedding=None, metadata={'name': 'Hakamo-o', 'generation': 7, 'type1': 'dragon', 'type2': 'fighting', 'is_legendary': 0}, excluded_embed_metadata_keys=[], excluded_llm_metadata_keys=[], relationships={<NodeRelationship.SOURCE: '1'>: RelatedNodeInfo(node_id='Hakamo-o', node_type='4', metadata={'name': 'Hakamo-o', 'generation': 7, 'type1': 'dragon', 'type2': 'fighting', 'is_legendary': 0}, hash='4265905cd80d14025ecf88b719ee808b743e4b1e2adbddd172810a386e52cd27'), <NodeRelationship.NEXT: '3'>: RelatedNodeInfo(node_id='bff7746b-b881-4675-8471-ee84d420fbfd', node_type='1', metadata={}, hash='582bc045166c9b4384486d2ab4db4d20f11b74ea96455370bf60c90c00728373')}, metadata_template='{key}=>{value}', metadata_separator='::', text='\"### Hakamo-o Detailed Summary\\\\n\\\\nHakamo-o is a Dragon/Fighting-type Pok\\\\u00e9mon introduced in Generation VII (Pok\\\\u00e9mon Sun and Moon). It is the middle evolution of the Jangmo-o evolutionary line, evolving into Kommo-o at level 45.\\\\n\\\\n---\\\\n\\\\n### 1. **Characteristics**\\\\nHakamo-o is a bipedal Pok\\\\u00e9mon with a reptilian appearance. Its body is covered in scales, which serve both as armor and as a means of intimidation. These scales are metallic and have a golden hue, particularly on its head, shoulders, and tail. Its tail is long and tipped with a large, circular scale that it uses in combat. Hakamo-o has sharp claws and a muscular build, emphasizing its Fighting-type nature.\\\\n\\\\nKey physical traits:\\\\n- Height: 3\\'11\\\\\" (1.2 m)\\\\n- Weight: 103.6 lbs (47 kg)\\\\n- Color scheme: Gray, gold, and yellow\\\\n- Notable feature: Golden scales that symbolize strength and resilience\\\\n\\\\nHakamo-o\\\\u2019s design reflects its role as a warrior Pok\\\\u00e9mon, with its scales acting as both protection and a symbol of its fighting spirit.\\\\n\\\\n---\\\\n\\\\n### 2. **Behavior**\\\\nHakamo-o is a proud and courageous Pok\\\\u00e9mon that thrives on combat. It seeks out strong opponents to test its strength and improve its skills. This Pok\\\\u00e9mon is known for its ritualistic behavior, where it clashes its scales together to create a metallic sound. This sound serves two purposes:\\\\n- To intimidate foes and assert dominance.\\\\n- To signal its readiness for battle.\\\\n\\\\nHakamo-o is highly disciplined and focused, embodying the traits of a warrior. It is not reckless, but rather calculated in its approach to combat. It values growth through adversity and will often challenge stronger opponents to hone its abilities.\\\\n\\\\n---\\\\n\\\\n### 3. **Pokedex Description**\\\\nHakamo-o\\\\u2019s Pok\\\\u00e9dex entries emphasize its warrior-like nature and its reliance on its scales for both offense and defense. Below are some notable Pok\\\\u00e9dex entries:\\\\n\\\\n- **Pok\\\\u00e9mon Sun**: \\\\\"The scaleless, scarred parts of its body are signs of its strength. It shows them off to defeated opponents.\\\\\"\\\\n- **Pok\\\\u00e9mon Moon**: \\\\\"It leaps at its prey with a courageous shout. Its scales are like armor, and they protect it from blows.\\\\\"\\\\n- **Pok\\\\u00e9mon Ultra Sun**: \\\\\"It makes noise by clanging its scales together. When the rhythm has reached its peak, Hakamo-o attacks.\\\\\"\\\\n- **Pok\\\\u00e9mon Ultra Moon**: \\\\\"The scaleless parts of its body are evidence of its fierce battles. It uses its scales to slash its opponents.\\\\\"\\\\n\\\\nThese entries highlight Hakamo-o\\\\u2019s pride in its battle scars and its use of scales as both a weapon and a shield.\\\\n\\\\n---\\\\n\\\\n### 4. **Notable Trainers Who Own Hakamo-o**\\\\nHakamo-o is not commonly seen in the Pok\\\\u00e9mon franchise, but it has made appearances with notable trainers:\\\\n\\\\n- **Totem Hakamo-o**: In Pok\\\\u00e9mon Sun and Moon, a Totem Hakamo-o appears in the Vast Poni Canyon during the trial. This Totem Pok\\\\u00e9mon is larger and stronger than regular Hakamo-o and serves as a significant challenge for players.\\\\n- **Raihan (Anime)**: While Raihan primarily uses Dragon-type Pok\\\\u00e9mon like Duraludon, Hakamo-o has been seen in promotional materials and battles involving Dragon specialists.\\\\n\\\\nHakamo-o is often associated with trainers who value strength and discipline, making it a fitting choice for Dragon-type experts.\\\\n\\\\n---\\\\n\\\\n### 5. **Famous Scene in the Pok\\\\u00e9mon Franchise**\\\\nOne of Hakamo-o\\\\u2019s most notable appearances is during the **Vast Poni Canyon trial** in Pok\\\\u00e9mon Sun and Moon. Here, players face a Totem Hakamo-o as part of their journey to complete the island trials. The Totem Hakamo-o is surrounded by an aura that boosts its stats, making it a formidable opponent.', mimetype='text/plain', start_char_idx=0, end_char_idx=3702, metadata_seperator='::', text_template='Metadata: {metadata_str}\\n-----\\nContent: {content}'), score=2.381456136703491), NodeWithScore(node=TextNode(id_='6595e40b-5af7-4e8d-aa5e-520b53da8c90', embedding=None, metadata={'name': 'Magby', 'generation': 2, 'type1': 'fire', 'type2': None, 'is_legendary': 0}, excluded_embed_metadata_keys=[], excluded_llm_metadata_keys=[], relationships={<NodeRelationship.SOURCE: '1'>: RelatedNodeInfo(node_id='Magby', node_type='4', metadata={'name': 'Magby', 'generation': 2, 'type1': 'fire', 'type2': None, 'is_legendary': 0}, hash='4ec87da6b8d4a5a305788bc87334a31aacbbbaebb4d5c6d371f1f119eccc3f48'), <NodeRelationship.NEXT: '3'>: RelatedNodeInfo(node_id='c058cc2d-35c2-438c-a765-074beb3a9414', node_type='1', metadata={}, hash='6fe5d78e660585ae0b0f507721c19f28152c5db7c0f664bdae049adf2af82fa6')}, metadata_template='{key}=>{value}', metadata_separator='::', text='\"### Detailed Summary of Magby\\\\n\\\\nMagby is a Fire-type Pok\\\\u00e9mon introduced in Generation II. It is the pre-evolved form of Magmar and later evolves into Magmortar when traded while holding a Magmarizer. Known as the \\\\\"Live Coal Pok\\\\u00e9mon,\\\\\" Magby is a baby Pok\\\\u00e9mon that is often associated with intense heat and fiery energy.\\\\n\\\\n---\\\\n\\\\n### 1. **Characteristics**\\\\n- **Appearance**: Magby is a small, bipedal Pok\\\\u00e9mon with a red, orange, and yellow color scheme. Its body is primarily red with yellow accents on its head and tail. It has a rounded head with a flame-like crest, stubby arms, and a short tail. Its body appears to be covered in a smooth, flame-resistant skin.\\\\n- **Size**: Magby is relatively small, standing at 0.7 meters (2\\'4\\\\\") tall and weighing 21.4 kilograms (47.2 lbs).\\\\n- **Special Abilities**: Magby has the ability to exhale flames that can reach temperatures of up to 1,100 degrees Fahrenheit (600 degrees Celsius). Its body temperature rises when it is excited or agitated, and it can use its fiery breath to defend itself or attack.\\\\n- **Typing**: As a Fire-type Pok\\\\u00e9mon, Magby is strong against Grass, Bug, Ice, and Steel types but weak to Water, Rock, and Ground types.\\\\n\\\\n---\\\\n\\\\n### 2. **Behavior**\\\\n- **Temperament**: Magby is known to be playful and curious, but it can also be temperamental. When angered or threatened, it will release flames from its mouth to ward off enemies.\\\\n- **Habitat**: Magby is typically found in volcanic regions or areas with high temperatures, such as hot springs or near active volcanoes. It thrives in environments where it can maintain its high body temperature.\\\\n- **Social Behavior**: Magby is often seen as a solitary Pok\\\\u00e9mon, but it may form bonds with its trainer or other Fire-type Pok\\\\u00e9mon. It is also known to be a bit clumsy due to its young age and inexperience.\\\\n\\\\n---\\\\n\\\\n### 3. **Pokedex Description**\\\\nMagby has appeared in various Pok\\\\u00e9mon games, and its Pok\\\\u00e9dex entries provide insight into its fiery nature:\\\\n- **Gold**: \\\\\"It is found in volcanic craters. Its body temp is over 1,100 degrees, so don\\\\u2019t underestimate it.\\\\\"\\\\n- **Silver**: \\\\\"Each and every time it inhales and exhales, hot embers dribble out of its mouth and nostrils.\\\\\"\\\\n- **Crystal**: \\\\\"It naturally spits an 1,100-degree flame. It is said when many appear, it heralds a volcanic eruption.\\\\\"\\\\n- **Scarlet/Violet**: \\\\\"Its magma-like blood circulates throughout its body. Its body\\\\u2019s heat can top 1,100 degrees Fahrenheit.\\\\\"\\\\n\\\\nThese entries emphasize Magby\\\\u2019s connection to volcanic environments and its ability to produce intense heat.\\\\n\\\\n---\\\\n\\\\n### 4. **Notable Trainers Who Own Magby**\\\\nMagby has been owned by a few notable trainers in the Pok\\\\u00e9mon franchise:\\\\n- **Paul**: In the Pok\\\\u00e9mon anime, Paul, Ash\\'s rival in the Sinnoh region, was shown to own a Magby. Paul is known for his strict and pragmatic training style, and his Magby eventually evolved into Magmar.\\\\n- **Battle Facilities**: Magby has appeared as part of the rosters of various trainers in Battle Towers, Battle Frontiers, and other competitive facilities in the Pok\\\\u00e9mon games.\\\\n\\\\n---\\\\n\\\\n### 5. **Famous Scene in the Pok\\\\u00e9mon Franchise**\\\\nOne of the most memorable appearances of Magby in the Pok\\\\u00e9mon anime occurred during Paul\\\\u2019s training sessions. Paul\\\\u2019s Magby was shown to be a strong and disciplined Pok\\\\u00e9mon, reflecting Paul\\\\u2019s rigorous training methods.', mimetype='text/plain', start_char_idx=0, end_char_idx=3467, metadata_seperator='::', text_template='Metadata: {metadata_str}\\n-----\\nContent: {content}'), score=2.376349925994873), NodeWithScore(node=TextNode(id_='0fb8d7e9-c0ca-456c-a89b-e649f87682af', embedding=None, metadata={'name': 'Typhlosion', 'generation': 2, 'type1': 'fire', 'type2': None, 'is_legendary': 0}, excluded_embed_metadata_keys=[], excluded_llm_metadata_keys=[], relationships={<NodeRelationship.SOURCE: '1'>: RelatedNodeInfo(node_id='Typhlosion', node_type='4', metadata={'name': 'Typhlosion', 'generation': 2, 'type1': 'fire', 'type2': None, 'is_legendary': 0}, hash='0ab9dd57b26f6e3938985c544ae14b0797612d9235f48c3bde1e6241196eb271'), <NodeRelationship.NEXT: '3'>: RelatedNodeInfo(node_id='a9ca08dd-d4ca-410f-afc2-b65c8025ef97', node_type='1', metadata={}, hash='a9d168b5b84d3b5df7a0f129389474cc4dd550b360bdf0a4cc64a257987a0777')}, metadata_template='{key}=>{value}', metadata_separator='::', text='\"### Detailed Summary of Typhlosion\\\\n\\\\nTyphlosion is a Fire-type Pok\\\\u00e9mon introduced in Generation II. It is the final evolution of Cyndaquil, one of the starter Pok\\\\u00e9mon from the Johto region. Known for its fiery mane and explosive power, Typhlosion is a fan-favorite Pok\\\\u00e9mon due to its sleek design and impressive battle capabilities.\\\\n\\\\n---\\\\n\\\\n### 1. **Characteristics**\\\\n- **Appearance**: Typhlosion is a quadrupedal Pok\\\\u00e9mon that can stand on its hind legs, resembling a badger or wolverine. Its body is mostly covered in cream-colored fur, with dark blue fur on its back and head. When it becomes enraged or prepares for battle, flames erupt from its neck, creating a fiery mane that enhances its intimidating presence.\\\\n- **Height and Weight**: Typhlosion stands at 5\\'7\\\\\" (1.7 m) and weighs 175.3 lbs (79.5 kg).\\\\n- **Abilities**: Typhlosion\\\\u2019s signature ability is its ability to generate intense heat and flames. It can create explosions and scorch its surroundings with fire. Its hidden ability, Flash Fire, boosts its Fire-type moves when hit by a Fire-type attack.\\\\n- **Typing**: Typhlosion is a pure Fire-type Pok\\\\u00e9mon, making it strong against Grass, Bug, Ice, and Steel types but weak to Water, Rock, and Ground types.\\\\n\\\\n---\\\\n\\\\n### 2. **Behavior**\\\\nTyphlosion is known for its calm and composed demeanor, but it can become fiercely aggressive when provoked or in battle. It is highly protective of its trainer and allies, and its fiery mane serves as both a defense mechanism and a weapon. Typhlosion is intelligent and strategic, often using its flames to intimidate opponents before striking. Despite its fiery nature, it is not reckless and tends to avoid unnecessary conflict.\\\\n\\\\n---\\\\n\\\\n### 3. **Pok\\\\u00e9dex Description**\\\\nTyphlosion\\\\u2019s Pok\\\\u00e9dex entries highlight its explosive power and fiery abilities:\\\\n- **Gold**: \\\\\"If its rage peaks, it becomes so hot that anything that touches it will instantly go up in flames.\\\\\"\\\\n- **Silver**: \\\\\"It has a secret, devastating move. It rubs its blazing fur together to cause huge explosions.\\\\\"\\\\n- **Crystal**: \\\\\"When heat from its body causes the air around it to shimmer, this is a sign that it is ready to battle.\\\\\"\\\\n- **Legends: Arceus**: In the Hisui region, Typhlosion has a unique Fire/Ghost typing and is described as having a more spiritual and mystical presence. It is said to guide lost souls with its flames.\\\\n\\\\n---\\\\n\\\\n### 4. **Notable Trainers Who Own Typhlosion**\\\\n- **Jimmy (Gold)**: In the Pok\\\\u00e9mon anime special \\\\\"The Legend of Thunder,\\\\\" Jimmy, a trainer based on the protagonist of Pok\\\\u00e9mon Gold and Silver, owns a Typhlosion. It is his ace Pok\\\\u00e9mon and is shown to be incredibly loyal and powerful in battle.\\\\n- **Ethan (Player Character)**: In the main series games, Ethan (or Kris/Lyra, depending on the player\\'s choice) can evolve their starter Cyndaquil into Typhlosion, making it a staple of their team throughout their journey in Johto.\\\\n- **Volkner (Sinnoh Gym Leader)**: In Pok\\\\u00e9mon Masters EX, Volkner is paired with Typhlosion, showcasing its versatility and strength in battle.\\\\n\\\\n---\\\\n\\\\n### 5. **Famous Scene in the Pok\\\\u00e9mon Franchise**\\\\nOne of Typhlosion\\\\u2019s most memorable appearances is in the anime special *The Legend of Thunder*. Jimmy\\\\u2019s Typhlosion is featured prominently in battles against Team Rocket and other trainers. In one iconic scene, Typhlosion uses its Flamethrower and other fire-based moves to defeat an opponent\\\\u2019s Pok\\\\u00e9mon, demonstrating its raw power and loyalty to its trainer.\\\\n\\\\nAnother notable moment is Typhlosion\\\\u2019s inclusion in *Pok\\\\u00e9mon Legends: Arceus*, where it receives a regional variant with a Fire/Ghost typing. This Hisuian Typhlosion has a more mystical design, with purple flames and a calmer demeanor.', mimetype='text/plain', start_char_idx=0, end_char_idx=3810, metadata_seperator='::', text_template='Metadata: {metadata_str}\\n-----\\nContent: {content}'), score=2.3656623363494873), NodeWithScore(node=TextNode(id_='3c07d512-e38b-4ba4-8f35-cd642f6a4bf1', embedding=None, metadata={'name': 'Staravia', 'generation': 4, 'type1': 'normal', 'type2': 'flying', 'is_legendary': 0}, excluded_embed_metadata_keys=[], excluded_llm_metadata_keys=[], relationships={<NodeRelationship.SOURCE: '1'>: RelatedNodeInfo(node_id='Staravia', node_type='4', metadata={'name': 'Staravia', 'generation': 4, 'type1': 'normal', 'type2': 'flying', 'is_legendary': 0}, hash='b190f47e489cdfa9ff6812cd5427d8e6405fc0099c180dbdf279eaf2e9e26b5c'), <NodeRelationship.NEXT: '3'>: RelatedNodeInfo(node_id='30119e5e-4771-45a1-9b65-eb9fafd54679', node_type='1', metadata={}, hash='7bfad4e76954cf2700b78e75aaec234f5930d2bafb950c2f60eedcd7e70d73e0')}, metadata_template='{key}=>{value}', metadata_separator='::', text='\"### Detailed Summary of Staravia\\\\n\\\\nStaravia is a Normal/Flying-type Pok\\\\u00e9mon introduced in Generation IV. It is the evolved form of Starly and evolves into Staraptor, making it the middle stage of its evolutionary line. Staravia is known for its flocking behavior and its role as a common regional bird Pok\\\\u00e9mon in the Sinnoh region.\\\\n\\\\n---\\\\n\\\\n### 1. **Characteristics**\\\\n- **Appearance**: Staravia resembles a medium-sized bird with a black and white color scheme. Its body is primarily gray, with a white face and underbelly. It has a distinctive black crest on its head that curves backward, giving it a sharp and confident appearance. Its wings are broad and tipped with black feathers, and it has orange talons and a small, pointed orange beak.\\\\n- **Size**: Staravia is 2\\'0\\\\\" (0.6 m) tall and weighs 34.2 lbs (15.5 kg).\\\\n- **Typing**: Normal/Flying.\\\\n- **Abilities**: Staravia typically has the ability *Intimidate*, which lowers the opponent\\'s Attack stat upon entering battle. Its Hidden Ability is *Reckless*, which boosts the power of moves that have recoil damage.\\\\n\\\\n---\\\\n\\\\n### 2. **Behavior**\\\\n- Staravia is a highly social Pok\\\\u00e9mon that thrives in flocks. It is rarely seen alone, as it prefers to travel and hunt in groups. This flocking behavior provides safety in numbers and allows them to coordinate attacks on prey.\\\\n- It is territorial and will fiercely defend its nesting area from intruders. Staravia is known to be aggressive when protecting its flock or territory.\\\\n- Despite its aggressive tendencies, Staravia is a loyal and dependable Pok\\\\u00e9mon when trained by a skilled trainer. It is often seen as a stepping stone for trainers aiming to raise a powerful Staraptor.\\\\n\\\\n---\\\\n\\\\n### 3. **Pokedex Description**\\\\nHere are some notable Pok\\\\u00e9dex entries for Staravia across different games:\\\\n\\\\n- **Diamond**: \\\\\"It flies around forests and fields in search of bug Pok\\\\u00e9mon. It stays within a huge flock.\\\\\"\\\\n- **Pearl**: \\\\\"It lives in forests and fields. Squabbles over territory occur when flocks collide.\\\\\"\\\\n- **Platinum**: \\\\\"Recognizing their own weakness, they always live in a group. When alone, a Staravia cries noisily.\\\\\"\\\\n- **Scarlet/Violet**: \\\\\"Recognizing their own weakness, they always live in a group. When alone, a Staravia cries noisily.\\\\\"\\\\n\\\\nThese entries emphasize its flocking behavior and its reliance on group dynamics for survival.\\\\n\\\\n---\\\\n\\\\n### 4. **Notable Trainers Who Own Staravia**\\\\n- **Ash Ketchum**: Ash caught a Starly early in his journey through the Sinnoh region, which later evolved into Staravia and eventually into Staraptor. Staravia played a significant role in Ash\\'s team during his Sinnoh adventures, showcasing its strength and versatility in battles.\\\\n- **Barry**: Barry, the rival character in Pok\\\\u00e9mon Diamond, Pearl, and Platinum, is known to have a Staravia (or its evolved forms) as part of his team, depending on the progression of the game.\\\\n- **Other Trainers**: Various Bird Keepers and Ace Trainers in the Sinnoh region are often seen using Staravia in battles.\\\\n\\\\n---\\\\n\\\\n### 5. **Famous Scene in the Pok\\\\u00e9mon Franchise**\\\\nOne of the most memorable moments involving Staravia occurs in the *Pok\\\\u00e9mon: Diamond and Pearl* anime series. After Ash catches a Starly, it evolves into Staravia during a battle against Team Rocket in Episode 13 (\\\\\"A Staravia is Born!\\\\\"). This evolution is significant because it marks the first evolution of one of Ash\\'s Pok\\\\u00e9mon in the Sinnoh region. Staravia\\'s evolution into Staraptor later in the series also stands out, as it learns the powerful move *Close Combat* and becomes a key member of Ash\\'s team.\\\\n\\\\nAnother notable scene is when Ash\\'s Staravia participates in the Hearthome City Tag Battle Tournament.', mimetype='text/plain', start_char_idx=0, end_char_idx=3754, metadata_seperator='::', text_template='Metadata: {metadata_str}\\n-----\\nContent: {content}'), score=2.2951080799102783), NodeWithScore(node=TextNode(id_='a08a1b6c-d8d5-4996-bd5f-f6f39802031b', embedding=None, metadata={'name': 'Lycanroc', 'generation': 7, 'type1': 'rock', 'type2': None, 'is_legendary': 0}, excluded_embed_metadata_keys=[], excluded_llm_metadata_keys=[], relationships={<NodeRelationship.SOURCE: '1'>: RelatedNodeInfo(node_id='Lycanroc', node_type='4', metadata={'name': 'Lycanroc', 'generation': 7, 'type1': 'rock', 'type2': None, 'is_legendary': 0}, hash='07d6bd4091a41ea0811e06b85e13cdd98d742349dda94c0ab06b1e97a1bb75da'), <NodeRelationship.NEXT: '3'>: RelatedNodeInfo(node_id='7b748515-02e0-4117-8a3d-0c9dda51af6a', node_type='1', metadata={}, hash='b505d43368afb4fe0d0c22292e9204dee90a0b7b4e504f1b41705a02462acdbc')}, metadata_template='{key}=>{value}', metadata_separator='::', text='\"### Lycanroc: Detailed Summary\\\\n\\\\nLycanroc is a Rock-type Pok\\\\u00e9mon introduced in **Generation VII** (Pok\\\\u00e9mon Sun and Moon). It evolves from Rockruff, a puppy-like Pok\\\\u00e9mon, and has three distinct forms depending on the time of day or circumstances under which it evolves: **Midday Form**, **Midnight Form**, and **Dusk Form**. Each form has unique characteristics, behaviors, and abilities, making Lycanroc a versatile and popular Pok\\\\u00e9mon in the franchise.\\\\n\\\\n---\\\\n\\\\n### 1. **Characteristics**\\\\nLycanroc\\'s appearance varies significantly depending on its form:\\\\n\\\\n- **Midday Form**: Resembles a sleek, wolf-like creature with a streamlined body. It has cream-colored fur, a bushy tail, and sharp, pointed rocks protruding from its mane. This form is associated with daytime evolution and embodies speed and precision.\\\\n\\\\n- **Midnight Form**: A more intimidating, bipedal wolf-like Pok\\\\u00e9mon with a hunched posture. It has a wild, shaggy mane of fur and glowing red eyes, giving it a feral and menacing appearance. This form evolves during nighttime and emphasizes brute strength and aggression.\\\\n\\\\n- **Dusk Form**: A rare hybrid form that combines traits of both Midday and Midnight Forms. It has orange fur, a more balanced posture, and glowing green eyes. This form is achieved under special conditions during twilight hours.\\\\n\\\\n---\\\\n\\\\n### 2. **Behavior**\\\\nLycanroc\\'s behavior is closely tied to its form:\\\\n\\\\n- **Midday Form**: Known for its calm and loyal nature, this form prefers precision and speed in battle. It is highly disciplined and will wait for the perfect moment to strike its opponent with pinpoint accuracy.\\\\n\\\\n- **Midnight Form**: Wild and reckless, this form thrives on its primal instincts. It enjoys battling head-on and will taunt its opponents to provoke them. Midnight Lycanroc is fiercely independent and often difficult to train due to its stubborn personality.\\\\n\\\\n- **Dusk Form**: A balanced mix of the other two forms, Dusk Lycanroc is both loyal and fierce. It is rare and considered special due to its unique evolution conditions. Trainers who bond deeply with their Rockruff are more likely to achieve this form.\\\\n\\\\n---\\\\n\\\\n### 3. **Pokedex Description**\\\\nHere are the official Pok\\\\u00e9dex entries for Lycanroc across its forms:\\\\n\\\\n- **Midday Form**:\\\\n  - *Sun*: \\\\\"When properly raised from a young age, it will become a trustworthy partner that will absolutely never betray its Trainer.\\\\\"\\\\n  - *Moon*: \\\\\"The rocks in its mane are sharper than a knife. Fragments that break off are treasured as good luck charms.\\\\\"\\\\n\\\\n- **Midnight Form**:\\\\n  - *Sun*: \\\\\"It goes for the enemies\\\\u2019 throats with its sharp claws. It strikes at precisely the right moment.\\\\\"\\\\n  - *Moon*: \\\\\"The more intimidating the opponent it faces, the more excited it gets. It doesn\\\\u2019t mind getting hurt if it means victory.\\\\\"\\\\n\\\\n- **Dusk Form**:\\\\n  - *Ultra Sun*: \\\\\"Bathed in the setting sun, the orange fur on its body glows like it\\\\u2019s on fire. It\\\\u2019s admired by everyone.\\\\\"\\\\n  - *Ultra Moon*: \\\\\"This form is the result of a special Rockruff evolving at dusk. It\\\\u2019s very rare in Alola.\\\\\"\\\\n\\\\n---\\\\n\\\\n### 4. **Notable Trainers Who Own Lycanroc**\\\\nLycanroc has been featured prominently in the Pok\\\\u00e9mon anime and games, with notable trainers owning it:\\\\n\\\\n- **Ash Ketchum**: Ash owns a **Dusk Form Lycanroc** in the Pok\\\\u00e9mon Sun and Moon anime. His Lycanroc evolves from a special Rockruff that he befriends and trains. This Lycanroc is a key member of Ash\\'s team during his journey in Alola and plays a pivotal role in his battles.\\\\n\\\\n- **Gladion**: Gladion, a rival character in the Sun and Moon games and anime, owns a **Midnight Form Lycanroc**.', mimetype='text/plain', start_char_idx=0, end_char_idx=3692, metadata_seperator='::', text_template='Metadata: {metadata_str}\\n-----\\nContent: {content}'), score=2.2728354930877686), NodeWithScore(node=TextNode(id_='32940620-a6cd-4e67-ba92-4508d954a484', embedding=None, metadata={'name': 'Staraptor', 'generation': 4, 'type1': 'normal', 'type2': 'flying', 'is_legendary': 0}, excluded_embed_metadata_keys=[], excluded_llm_metadata_keys=[], relationships={<NodeRelationship.SOURCE: '1'>: RelatedNodeInfo(node_id='Staraptor', node_type='4', metadata={'name': 'Staraptor', 'generation': 4, 'type1': 'normal', 'type2': 'flying', 'is_legendary': 0}, hash='7a660a9754a0f6dcb7531069a2589fdcfdcdbb23aa41d4676c2f06b2960f4148'), <NodeRelationship.NEXT: '3'>: RelatedNodeInfo(node_id='7a0b212d-616b-416b-9293-9e3dc31be286', node_type='1', metadata={}, hash='97fb7da110e5f3279884180ca9e78b99194d1d36e9ec71cc6b701db15f1c5ca7')}, metadata_template='{key}=>{value}', metadata_separator='::', text='\"### Detailed Summary of Staraptor\\\\n\\\\nStaraptor is a popular Pok\\\\u00e9mon introduced in **Generation IV** (Pok\\\\u00e9mon Diamond and Pearl). It is the final evolution of Starly, evolving from Staravia at level 34. Known for its aggressive demeanor and impressive aerial combat abilities, Staraptor is a fan-favorite among trainers for its strength and versatility in battle.\\\\n\\\\n---\\\\n\\\\n### 1. **Characteristics**\\\\n- **Category:** Predator Pok\\\\u00e9mon  \\\\n- **Type:** Normal/Flying  \\\\n- **Height:** 3\\'11\\\\\" (1.2 m)  \\\\n- **Weight:** 54.9 lbs (24.9 kg)  \\\\n- **Appearance:**  \\\\n  Staraptor has a sleek, bird-like design with a sharp, intimidating appearance. Its body is primarily gray with black wings and tail feathers. It has a distinctive red-tipped crest on its head that curves backward, giving it a fierce and commanding look. Its talons and beak are orange, and its eyes are sharp and piercing, emphasizing its predatory nature.\\\\n\\\\n- **Abilities:**  \\\\n  Staraptor typically has the ability **Intimidate**, which lowers the opponent\\'s Attack stat upon entering battle. Its Hidden Ability is **Reckless**, which boosts the power of moves that have recoil damage, such as Brave Bird.\\\\n\\\\n- **Stats:**  \\\\n  Staraptor is known for its high **Attack** and **Speed**, making it a formidable physical attacker. It also has decent HP but lacks strong defenses, making it more suited for offensive strategies.\\\\n\\\\n---\\\\n\\\\n### 2. **Behavior**\\\\nStaraptor is a bold and fearless Pok\\\\u00e9mon that thrives in aerial combat. Unlike its pre-evolutions, Starly and Staravia, Staraptor is solitary and prefers to hunt alone rather than in flocks. It is highly territorial and will fiercely defend its domain from intruders. Staraptor is known for its bravery, often taking on opponents much larger than itself without hesitation.\\\\n\\\\nIn battle, Staraptor uses its powerful wings and sharp talons to strike with precision and force. It is also capable of flying at high speeds, making it difficult for opponents to land hits. Its aggressive nature and willingness to fight make it a reliable partner for trainers seeking a strong offensive Pok\\\\u00e9mon.\\\\n\\\\n---\\\\n\\\\n### 3. **Pokedex Description**\\\\nHere are some notable Pok\\\\u00e9dex entries for Staraptor across different games:\\\\n\\\\n- **Diamond:** \\\\\"It has a savage nature. It will courageously challenge foes that are much larger than itself.\\\\\"\\\\n- **Pearl:** \\\\\"The muscles in its wings are strong. It can easily fly while gripping a small Pok\\\\u00e9mon.\\\\\"\\\\n- **Platinum:** \\\\\"When Staravia evolve into Staraptor, they leave the flock to live alone. They have sturdy wings.\\\\\"\\\\n- **Sword:** \\\\\"It never stops attacking even if it is injured. It fusses over the shape of its comb.\\\\\"\\\\n- **Shield:** \\\\\"The muscles in its wings and legs are strong. It can easily fly while gripping a small Pok\\\\u00e9mon.\\\\\"\\\\n\\\\nThese entries emphasize Staraptor\\'s strength, independence, and aggressive nature.\\\\n\\\\n---\\\\n\\\\n### 4. **Notable Trainers Who Own Staraptor**\\\\nStaraptor has been featured in the Pok\\\\u00e9mon franchise as a key member of several trainers\\' teams:\\\\n\\\\n- **Ash Ketchum:**  \\\\n  Ash owns a Staraptor in the **Diamond and Pearl anime series**. His Staraptor evolved from Starly and then Staravia during his journey through the Sinnoh region. It is one of Ash\\'s most reliable Pok\\\\u00e9mon, often used in battles and competitions. Staraptor showcases its bravery and aerial prowess in many battles, making it a standout member of Ash\\'s team.\\\\n\\\\n- **Barry:**  \\\\n  Barry, the rival character in Pok\\\\u00e9mon Diamond, Pearl, and Platinum, has a Staraptor as part of his team. It serves as a strong offensive Pok\\\\u00e9mon in his lineup, often using moves like Brave Bird and Close Combat.\\\\n\\\\n- **Elite Four Aaron (Anime):**  \\\\n  In the Pok\\\\u00e9mon anime, Aaron of the Sinnoh Elite Four is briefly shown using a Staraptor during his battles.\\\\n\\\\n---\\\\n\\\\n### 5.', mimetype='text/plain', start_char_idx=0, end_char_idx=3867, metadata_seperator='::', text_template='Metadata: {metadata_str}\\n-----\\nContent: {content}'), score=2.2299516201019287), NodeWithScore(node=TextNode(id_='046d7ab2-4897-4e56-9535-87ae0271839a', embedding=None, metadata={'name': 'Spearow', 'generation': 1, 'type1': 'normal', 'type2': 'flying', 'is_legendary': 0}, excluded_embed_metadata_keys=[], excluded_llm_metadata_keys=[], relationships={<NodeRelationship.SOURCE: '1'>: RelatedNodeInfo(node_id='Spearow', node_type='4', metadata={'name': 'Spearow', 'generation': 1, 'type1': 'normal', 'type2': 'flying', 'is_legendary': 0}, hash='bad2dc2286cabecfd9723d4f91647d9505a22e11eb6dd97e4ae18bff8d51e271'), <NodeRelationship.NEXT: '3'>: RelatedNodeInfo(node_id='1f45072b-d7b7-4b2e-a065-329489c99095', node_type='1', metadata={}, hash='aa347cea1618d88dee572675a577c11db797b22cfce4841fd3c4cb908f87919e')}, metadata_template='{key}=>{value}', metadata_separator='::', text='\"### Spearow: The Tiny Bird Pok\\\\u00e9mon\\\\n\\\\nSpearow is a dual-type **Normal/Flying Pok\\\\u00e9mon** introduced in Generation I. Known for its aggressive nature and sharp cries, Spearow is a small bird Pok\\\\u00e9mon that is often underestimated due to its size but proves to be a formidable opponent in the wild.\\\\n\\\\n---\\\\n\\\\n### 1. **Characteristics**\\\\n- **Appearance**: Spearow is a small bird Pok\\\\u00e9mon with a primarily brown body and a cream-colored underside. Its wings are pinkish with brown tips, and it has a short, stubby tail with three brown feathers. Spearow\\'s head is large relative to its body, with a sharp, hooked beak and fierce, glaring eyes. Its legs are thin but strong, ending in sharp talons.\\\\n- **Size**: Spearow is 0.3 meters (1 foot) tall and weighs 2 kilograms (4.4 pounds).\\\\n- **Abilities**: Spearow typically has the ability **Keen Eye**, which prevents its accuracy from being lowered. Its Hidden Ability is **Sniper**, which increases the power of critical hits.\\\\n- **Evolution**: Spearow evolves into **Fearow** starting at level 20.\\\\n\\\\n---\\\\n\\\\n### 2. **Behavior**\\\\nSpearow is known for its aggressive and territorial nature. Despite its small size, it is highly combative and will not hesitate to attack larger Pok\\\\u00e9mon or humans if it feels threatened. It is also highly vocal, using its sharp cries to warn others of danger or to call for reinforcements from its flock. Spearow is not a graceful flier but is adept at short bursts of flight, which it uses to escape predators or ambush prey.\\\\n\\\\nSpearow primarily feeds on insects and small Pok\\\\u00e9mon, using its sharp beak to peck at its targets. It is often found in open fields and grasslands, where it can easily spot prey and avoid dense forests that hinder its flight.\\\\n\\\\n---\\\\n\\\\n### 3. **Pok\\\\u00e9dex Description**\\\\nSpearow\\'s Pok\\\\u00e9dex entries across various games highlight its aggressive nature and vocal tendencies:\\\\n\\\\n- **Red/Blue**: \\\\\"Eats bugs in grassy areas. It has to flap its short wings at high speed to stay airborne.\\\\\"\\\\n- **Gold**: \\\\\"It flaps its small wings busily to fly. Using its beak, it searches in grass for prey.\\\\\"\\\\n- **Ruby/Sapphire**: \\\\\"Spearow has a very loud cry that can be heard over half a mile away. If its high, keening cry is heard echoing all around, it is a sign that they are warning each other of danger.\\\\\"\\\\n- **Legends: Arceus**: \\\\\"A temperamental Pok\\\\u00e9mon that\\\\u2019s quick to fly into a rage. It\\\\u2019s also a hardy creature that can thrive in any environment.\\\\\"\\\\n\\\\n---\\\\n\\\\n### 4. **Notable Trainers Who Own Spearow**\\\\n- **Ash Ketchum\\'s Rival Flock**: In the very first episode of the Pok\\\\u00e9mon anime, Ash encounters a wild Spearow that becomes enraged after being hit by a rock. This Spearow leads a flock of other Spearow in a dramatic chase, marking one of the most iconic moments in the franchise.\\\\n- **Paul**: In the Pok\\\\u00e9mon anime, Paul, a rival of Ash, is briefly seen using a Spearow during his journey, showcasing its utility as a scouting Pok\\\\u00e9mon.\\\\n- **Youngster Trainers**: In the Pok\\\\u00e9mon games, Spearow is often used by Youngster-class trainers, particularly in early-game routes.\\\\n\\\\n---\\\\n\\\\n### 5. **Famous Scene in the Pok\\\\u00e9mon Franchise**\\\\nOne of the most famous scenes involving Spearow occurs in the **first episode of the Pok\\\\u00e9mon anime, \\\\\"Pok\\\\u00e9mon - I Choose You!\\\\\"**. After Ash Ketchum obtains Pikachu as his first Pok\\\\u00e9mon, he accidentally angers a wild Spearow by throwing a rock at it. The Spearow calls for reinforcements, and a massive flock of Spearow chases Ash and Pikachu. This scene is pivotal as it showcases the bond between Ash and Pikachu, culminating in Pikachu using a powerful Thunderbolt to drive the Spearow away.', mimetype='text/plain', start_char_idx=0, end_char_idx=3718, metadata_seperator='::', text_template='Metadata: {metadata_str}\\n-----\\nContent: {content}'), score=2.1750850677490234), NodeWithScore(node=TextNode(id_='b8244f55-d7ec-45bd-b7bb-e6874a9880ba', embedding=None, metadata={'name': 'Forretress', 'generation': 2, 'type1': 'bug', 'type2': 'steel', 'is_legendary': 0}, excluded_embed_metadata_keys=[], excluded_llm_metadata_keys=[], relationships={<NodeRelationship.SOURCE: '1'>: RelatedNodeInfo(node_id='Forretress', node_type='4', metadata={'name': 'Forretress', 'generation': 2, 'type1': 'bug', 'type2': 'steel', 'is_legendary': 0}, hash='4ccfb9c545fb6a78f85b7d549015a7553522430b52c0a2183f8868fe82e8ee07'), <NodeRelationship.PREVIOUS: '2'>: RelatedNodeInfo(node_id='38f129cb-1e43-4723-ba7b-654b455f9975', node_type='1', metadata={'name': 'Forretress', 'generation': 2, 'type1': 'bug', 'type2': 'steel', 'is_legendary': 0}, hash='4f7e9963c4a5aed797b85b80398a22e675c7cea86d7acc14148a0e3b934e261f')}, metadata_template='{key}=>{value}', metadata_separator='::', text='**Famous Scene in the Pok\\\\u00e9mon Franchise**\\\\nOne of the most memorable scenes involving Forretress occurs in the Pok\\\\u00e9mon anime during Brock\\'s journey with Ash and Misty. Brock\\'s Forretress often played a comedic role due to its stoic and immobile nature. A particularly famous moment was when Brock used Forretress to clear obstacles or debris with its Rapid Spin move, showcasing its utility outside of battles.\\\\n\\\\nAnother notable moment was during battles where Brock\\'s Forretress used Explosion or Self-Destruct as a last-ditch effort to turn the tide of a fight. These moves often surprised opponents and demonstrated Forretress\\'s ability to deal significant damage despite its defensive role.\\\\n\\\\nIn competitive play, Forretress gained fame as one of the most reliable hazard-setting Pok\\\\u00e9mon in the franchise, especially during the Generation IV and V metagames. Its ability to set up multiple hazards while clearing them with Rapid Spin made it a staple on many teams.\\\\n\\\\n---\\\\n\\\\nForretress remains a fan-favorite Pok\\\\u00e9mon due to its unique design, defensive capabilities, and strategic utility in battles. Its mysterious nature and explosive tendencies make it a fascinating addition to any trainer\\'s team.\"', mimetype='text/plain', start_char_idx=3935, end_char_idx=5164, metadata_seperator='::', text_template='Metadata: {metadata_str}\\n-----\\nContent: {content}'), score=2.103118658065796), NodeWithScore(node=TextNode(id_='8c33e190-bfc2-465f-974a-0440dcb3c92f', embedding=None, metadata={'name': 'Rhyperior', 'generation': 4, 'type1': 'ground', 'type2': 'rock', 'is_legendary': 0}, excluded_embed_metadata_keys=[], excluded_llm_metadata_keys=[], relationships={<NodeRelationship.SOURCE: '1'>: RelatedNodeInfo(node_id='Rhyperior', node_type='4', metadata={'name': 'Rhyperior', 'generation': 4, 'type1': 'ground', 'type2': 'rock', 'is_legendary': 0}, hash='10a914a0f3c053124f833110312953cb8bd1de9b5880ffe0860f2536dcd0f949'), <NodeRelationship.NEXT: '3'>: RelatedNodeInfo(node_id='48cd1180-c147-457d-8a26-3d0f2641e191', node_type='1', metadata={}, hash='6957cfeb081b24a3248a4d1fd034309c1038664b5d61200e48c5abf31ba6b362')}, metadata_template='{key}=>{value}', metadata_separator='::', text='\"### Detailed Summary of Rhyperior\\\\n\\\\nRhyperior is a Ground/Rock-type Pok\\\\u00e9mon introduced in Generation IV. It is the final evolution of Rhyhorn, evolving from Rhydon when traded while holding a Protector.\\\\n\\\\n---\\\\n\\\\n### 1. **Characteristics**\\\\n- **Appearance**: Rhyperior is a large, bipedal Pok\\\\u00e9mon with a rugged, armored body resembling a rhinoceros or a dinosaur. Its body is primarily orange and gray, with rocky plates covering its torso, arms, and legs. These plates act as natural armor, making it highly durable in battle. It has a drill-like horn on its snout, which it uses for both offense and digging. Its arms are equipped with holes that resemble cannons, capable of launching rocks or even Geodude as projectiles.\\\\n- **Size**: Rhyperior stands at 2.4 meters (7\\'10\\\\\") tall and weighs 282.8 kg (623.5 lbs), making it an imposing figure in battle.\\\\n- **Abilities**: Rhyperior\\'s abilities include **Lightning Rod**, which draws in Electric-type moves to boost its Special Attack, and **Solid Rock**, which reduces the damage it takes from super-effective moves. Its Hidden Ability is **Reckless**, which boosts the power of moves that have recoil damage.\\\\n\\\\n---\\\\n\\\\n### 2. **Behavior**\\\\nRhyperior is a territorial and aggressive Pok\\\\u00e9mon, often seen guarding its domain with brute force. It is known for its incredible strength and durability, making it a formidable opponent in battle. Despite its rugged appearance, Rhyperior is highly intelligent and uses its cannon-like arms strategically to launch projectiles at enemies or prey. It is also known to be loyal to its trainer, showing great determination in battle.\\\\n\\\\nIn the wild, Rhyperior is often found in rocky or mountainous regions, where it blends in with its surroundings. It uses its horn to drill through rock and its powerful arms to hurl boulders at threats or obstacles. However, its immense power can sometimes backfire, as it may accidentally launch projectiles too far or in the wrong direction.\\\\n\\\\n---\\\\n\\\\n### 3. **Pokedex Description**\\\\nRhyperior\\'s Pok\\\\u00e9dex entries across various games highlight its strength, durability, and unique ability to launch projectiles:\\\\n\\\\n- **Diamond/Pearl**: \\\\\"It puts rocks in holes in its palms and uses its muscles to shoot them. Geodude are shot at rare times.\\\\\"\\\\n- **Platinum**: \\\\\"It can launch a rock held in its hand like a missile by tightening then expanding muscles instantly.\\\\\"\\\\n- **HeartGold/SoulSilver**: \\\\\"It throws rocks to knock down flying Pok\\\\u00e9mon. It rarely uses its horn for battle due to its tendency to break.\\\\\"\\\\n- **Sword**: \\\\\"It relies on its carapace to deflect incoming attacks and throw its enemies off balance.\\\\\"\\\\n- **Shield**: \\\\\"It can crush boulders and shatter mountains with its sheer strength. Its cannon-like arms are its most dangerous weapons.\\\\\"\\\\n\\\\n---\\\\n\\\\n### 4. **Notable Trainers Who Own Rhyperior**\\\\n- **Paul (Anime)**: Paul, Ash\\'s rival in the *Diamond and Pearl* series, owns a powerful Rhyperior. It is one of his strongest Pok\\\\u00e9mon and is often used in battles to demonstrate Paul\\'s strategic and ruthless battle style.\\\\n- **Bertha (Elite Four)**: Bertha, a member of the Sinnoh Elite Four, uses a Rhyperior as part of her Ground-type team in the games.\\\\n- **Palmer (Battle Frontier)**: Palmer, the Tower Tycoon in the Sinnoh Battle Frontier, has a Rhyperior on his team, showcasing its strength in competitive battles.\\\\n\\\\n---\\\\n\\\\n### 5. **Famous Scene in the Pok\\\\u00e9mon Franchise**\\\\nOne of Rhyperior\\'s most memorable appearances in the Pok\\\\u00e9mon anime occurs during the *Diamond and Pearl* series when Paul uses his Rhyperior in a battle against Ash. In the Sinnoh League, Paul\\'s Rhyperior demonstrates its immense power and durability, taking on Ash\\'s team with its devastating Rock Wrecker attack.', mimetype='text/plain', start_char_idx=0, end_char_idx=3784, metadata_seperator='::', text_template='Metadata: {metadata_str}\\n-----\\nContent: {content}'), score=2.0629119873046875), NodeWithScore(node=TextNode(id_='ff5e68f5-0d19-44e7-8448-f013135e7091', embedding=None, metadata={'name': 'Feraligatr', 'generation': 2, 'type1': 'water', 'type2': None, 'is_legendary': 0}, excluded_embed_metadata_keys=[], excluded_llm_metadata_keys=[], relationships={<NodeRelationship.SOURCE: '1'>: RelatedNodeInfo(node_id='Feraligatr', node_type='4', metadata={'name': 'Feraligatr', 'generation': 2, 'type1': 'water', 'type2': None, 'is_legendary': 0}, hash='10adaee41bae8d15d5b466dad19b205878a44923514716c36fc5fe812cc75717'), <NodeRelationship.PREVIOUS: '2'>: RelatedNodeInfo(node_id='daaa5ee6-0d02-4e34-a18f-c75884327ebe', node_type='1', metadata={'name': 'Feraligatr', 'generation': 2, 'type1': 'water', 'type2': None, 'is_legendary': 0}, hash='ce7ec9461f6ebd65f7eceeb4f30cbb9d23a41081c96ca639f988b670d28283b3')}, metadata_template='{key}=>{value}', metadata_separator='::', text='The manga often portrays Feraligatr as a fierce and loyal companion, emphasizing its bond with Silver and its ability to take on powerful opponents.\\\\n\\\\nIn the games, Feraligatr is often remembered for its dominance in battles, especially in the Generation II games, where its high Attack stat and access to moves like Surf, Ice Punch, and Crunch made it a versatile and powerful choice for players.\\\\n\\\\n---\\\\n\\\\nFeraligatr remains a fan-favorite Pok\\\\u00e9mon due to its intimidating design, strong battle capabilities, and its role as the final evolution of one of the most beloved starter Pok\\\\u00e9mon in the franchise.\"', mimetype='text/plain', start_char_idx=3818, end_char_idx=4436, metadata_seperator='::', text_template='Metadata: {metadata_str}\\n-----\\nContent: {content}'), score=2.062615156173706)]\n",
      "Embedding Tokens:  0 \n",
      " LLM Prompt Tokens:  0 \n",
      " LLM Completion Tokens:  0 \n",
      " Total LLM Token Count:  0 \n",
      "\n",
      "Embedding Tokens:  0 \n",
      " LLM Prompt Tokens:  0 \n",
      " LLM Completion Tokens:  0 \n",
      " Total LLM Token Count:  0 \n",
      "\n"
     ]
    }
   ],
   "source": [
    "query_text = \"reckless and overconfident, especially when it underestimates its opponent\"\n",
    "response1 = vector_retriever.retrieve(query_text)\n",
    "print(str(response1))\n",
    "get_token_info(True)\n",
    "get_token_info2(True)\n",
    "response2 = bm25_retriever.retrieve(query_text)\n",
    "print(str(response2))\n",
    "get_token_info(True)\n",
    "get_token_info2(True)"
   ]
  },
  {
   "cell_type": "code",
   "execution_count": 53,
   "id": "c4cb643f",
   "metadata": {},
   "outputs": [],
   "source": [
    "class CustomRetriever(BaseRetriever):\n",
    "    \"\"\"Custom retriever that performs both semantic search and hybrid search.\"\"\"\n",
    "\n",
    "    def __init__(\n",
    "        self,\n",
    "        vector_retriever: VectorIndexRetriever,\n",
    "        keyword_retriever: BM25Retriever,\n",
    "        mode: str = \"AND\",\n",
    "        similarity_top_k=3\n",
    "    ) -> None:\n",
    "        \"\"\"Init params.\"\"\"\n",
    "\n",
    "        self._vector_retriever = vector_retriever\n",
    "        self._keyword_retriever = keyword_retriever\n",
    "        if mode not in (\"AND\", \"OR\"):\n",
    "            raise ValueError(\"Invalid mode.\")\n",
    "        self._mode = mode\n",
    "        self._similarity_top_k=similarity_top_k\n",
    "        super().__init__()\n",
    "\n",
    "    def _retrieve(self, query_bundle: QueryBundle) -> List[NodeWithScore]:\n",
    "        \"\"\"Retrieve nodes given query.\"\"\"\n",
    "\n",
    "        vector_nodes = self._vector_retriever.retrieve(query_bundle)\n",
    "        keyword_nodes = self._keyword_retriever.retrieve(query_bundle)\n",
    "        print(vector_nodes)\n",
    "        print(keyword_nodes)\n",
    "        vector_ids = {n.node.node_id for n in vector_nodes}\n",
    "        keyword_ids = {n.node.node_id for n in keyword_nodes}\n",
    "\n",
    "        combined_dict = {n.node.node_id: n for n in vector_nodes}\n",
    "        combined_dict.update({n.node.node_id: n for n in keyword_nodes})\n",
    "\n",
    "        if self._mode == \"AND\":\n",
    "            retrieve_ids = vector_ids.intersection(keyword_ids)\n",
    "        else:\n",
    "            retrieve_ids = vector_ids.union(keyword_ids)\n",
    "\n",
    "        retrieve_nodes = [combined_dict[rid] for rid in retrieve_ids]\n",
    "        if len(retrieve_nodes) > self._similarity_top_k:\n",
    "            retrieve_nodes.sort(key= lambda x: x.get_score(), reverse=True)\n",
    "            retrieve_nodes = retrieve_nodes[:self._similarity_top_k]\n",
    "        return retrieve_nodes"
   ]
  },
  {
   "cell_type": "code",
   "execution_count": 54,
   "id": "7987c4a9",
   "metadata": {},
   "outputs": [],
   "source": [
    "custom_retriever = CustomRetriever(vector_retriever, bm25_retriever, mode=\"OR\", similarity_top_k=3)\n"
   ]
  },
  {
   "cell_type": "code",
   "execution_count": 60,
   "id": "ba57176c",
   "metadata": {},
   "outputs": [
    {
     "name": "stdout",
     "output_type": "stream",
     "text": [
      "[NodeWithScore(node=TextNode(id_='313e0f97-7ae4-4759-bf2c-3924840df5f7', embedding=None, metadata={'name': 'Rampardos', 'generation': 4, 'type1': 'rock', 'type2': None, 'is_legendary': 0}, excluded_embed_metadata_keys=[], excluded_llm_metadata_keys=[], relationships={<NodeRelationship.SOURCE: '1'>: RelatedNodeInfo(node_id='Rampardos', node_type='4', metadata={'name': 'Rampardos', 'generation': 4, 'type1': 'rock', 'type2': None, 'is_legendary': 0}, hash='0bd77c76361ab430c630323824d81a72c662b2b67a3270f52cbbd254949d8cf6'), <NodeRelationship.PREVIOUS: '2'>: RelatedNodeInfo(node_id='e22c01e1-6c44-4815-bcc9-9beb9596f4dd', node_type='1', metadata={'name': 'Rampardos', 'generation': 4, 'type1': 'rock', 'type2': None, 'is_legendary': 0}, hash='a9ce372fa312e0c80b9de6960b11bd669f2f6ecc944fce8a1c1d4f4e5353d1e2')}, metadata_template='{key}=>{value}', metadata_separator='::', text='However, Ash\\'s Pikachu and Turtwig manage to outmaneuver it, showcasing the importance of strategy over brute strength. This battle highlights Rampardos\\' raw power and its role as a challenging Gym Leader Pok\\\\u00e9mon.\\\\n- **In the Games**: In the Sinnoh games, Roark\\'s Rampardos is a significant challenge for players early in their journey. Its high Attack stat and moves like Headbutt can easily knock out unprepared teams, making it a memorable opponent for many players.\\\\n\\\\n---\\\\n\\\\nRampardos remains a fan-favorite fossil Pok\\\\u00e9mon due to its unique design, incredible strength, and ties to prehistoric creatures. Its role as Roark\\'s ace Pok\\\\u00e9mon and its reputation as a glass cannon make it a standout in the Pok\\\\u00e9mon franchise.\"', mimetype='text/plain', start_char_idx=3755, end_char_idx=4499, metadata_seperator='::', text_template='Metadata: {metadata_str}\\n-----\\nContent: {content}'), score=1.4606502056121826), NodeWithScore(node=TextNode(id_='0ae67188-c36d-41be-a0e1-62f09870ed5b', embedding=None, metadata={'name': 'Buzzwole', 'generation': 7, 'type1': 'bug', 'type2': 'fighting', 'is_legendary': 1}, excluded_embed_metadata_keys=[], excluded_llm_metadata_keys=[], relationships={<NodeRelationship.SOURCE: '1'>: RelatedNodeInfo(node_id='Buzzwole', node_type='4', metadata={'name': 'Buzzwole', 'generation': 7, 'type1': 'bug', 'type2': 'fighting', 'is_legendary': 1}, hash='4651ebd705d0d5294fc74256f98a673f38a83b972a76e01b24c4f6955047e805'), <NodeRelationship.PREVIOUS: '2'>: RelatedNodeInfo(node_id='bb477b19-4157-4098-983a-dbd2037ea67b', node_type='1', metadata={'name': 'Buzzwole', 'generation': 7, 'type1': 'bug', 'type2': 'fighting', 'is_legendary': 1}, hash='e1d69d475c2152892ded6b1e1f77065197cc11808d6c21588260b4d19c9a197f')}, metadata_template='{key}=>{value}', metadata_separator='::', text='This behavior is both comical and intimidating, showcasing Buzzwole\\'s unique personality.\\\\n- The scene where Buzzwole and Ash\\'s Pikachu engage in a \\\\\"flexing contest\\\\\" is particularly famous. Buzzwole mimics Pikachu\\'s poses, creating a humorous and lighthearted moment despite the high stakes of the mission.\\\\n\\\\n---\\\\n\\\\n### Summary\\\\nBuzzwole is a larger-than-life Pok\\\\u00e9mon with a bold personality and incredible strength. Its alien origins, combined with its unique behavior of flexing and posing, make it one of the most memorable Ultra Beasts in the Pok\\\\u00e9mon franchise. Whether pulverizing dump trucks or engaging in flexing contests, Buzzwole leaves a lasting impression on both fans and trainers alike.\"', mimetype='text/plain', start_char_idx=3867, end_char_idx=4581, metadata_seperator='::', text_template='Metadata: {metadata_str}\\n-----\\nContent: {content}'), score=1.4850858449935913), NodeWithScore(node=TextNode(id_='1c0458fd-af15-49d6-9c19-d0f0b6ff6b53', embedding=None, metadata={'name': 'Liepard', 'generation': 5, 'type1': 'dark', 'type2': None, 'is_legendary': 0}, excluded_embed_metadata_keys=[], excluded_llm_metadata_keys=[], relationships={<NodeRelationship.SOURCE: '1'>: RelatedNodeInfo(node_id='Liepard', node_type='4', metadata={'name': 'Liepard', 'generation': 5, 'type1': 'dark', 'type2': None, 'is_legendary': 0}, hash='52239c47c28fe85c97893127b4c51376259f9ae0ae0016cd72f7064d5c1e55e4'), <NodeRelationship.PREVIOUS: '2'>: RelatedNodeInfo(node_id='42c28623-9918-46f1-97a8-a337bcf25e6c', node_type='1', metadata={'name': 'Liepard', 'generation': 5, 'type1': 'dark', 'type2': None, 'is_legendary': 0}, hash='43839fa3c30f896bf0e8c5c57f27bbbfeb31f9833a94fb5a8d6bcddb34d0f64c')}, metadata_template='{key}=>{value}', metadata_separator='::', text='Its speed and surprise attacks make it a formidable opponent, and its elegant design contrasts with its ruthless fighting style.\\\\n\\\\n---\\\\n\\\\n### Summary\\\\nLiepard is a Pok\\\\u00e9mon that embodies elegance and cruelty. Its sleek design and stealthy behavior make it a favorite among trainers who value cunning and speed. While it is often associated with villainous teams like Team Plasma, Liepard\\'s beauty and agility have earned it a place in the hearts of many fans.\"', mimetype='text/plain', start_char_idx=3662, end_char_idx=4127, metadata_seperator='::', text_template='Metadata: {metadata_str}\\n-----\\nContent: {content}'), score=1.5457524061203003), NodeWithScore(node=TextNode(id_='48cd1180-c147-457d-8a26-3d0f2641e191', embedding=None, metadata={'name': 'Rhyperior', 'generation': 4, 'type1': 'ground', 'type2': 'rock', 'is_legendary': 0}, excluded_embed_metadata_keys=[], excluded_llm_metadata_keys=[], relationships={<NodeRelationship.SOURCE: '1'>: RelatedNodeInfo(node_id='Rhyperior', node_type='4', metadata={'name': 'Rhyperior', 'generation': 4, 'type1': 'ground', 'type2': 'rock', 'is_legendary': 0}, hash='10a914a0f3c053124f833110312953cb8bd1de9b5880ffe0860f2536dcd0f949'), <NodeRelationship.PREVIOUS: '2'>: RelatedNodeInfo(node_id='8c33e190-bfc2-465f-974a-0440dcb3c92f', node_type='1', metadata={'name': 'Rhyperior', 'generation': 4, 'type1': 'ground', 'type2': 'rock', 'is_legendary': 0}, hash='fdf7dc4cff3211f0e1e419629a943ef86a779d721aa55bae88267c970f4d90b9')}, metadata_template='{key}=>{value}', metadata_separator='::', text='This battle highlights Rhyperior\\'s role as a powerhouse Pok\\\\u00e9mon and showcases Paul\\'s tactical approach to battles.\\\\n\\\\nAnother notable moment is in the *Pok\\\\u00e9mon Journeys* anime, where Rhyperior is featured in battles involving trainers aiming to climb the World Coronation Series rankings. Its sheer strength and ability to launch projectiles make it a standout Pok\\\\u00e9mon in these high-stakes matches.\\\\n\\\\n---\\\\n\\\\nRhyperior is a quintessential example of a tank-like Pok\\\\u00e9mon, combining raw power, durability, and unique abilities to dominate in both the games and the anime. Its imposing presence and strategic versatility make it a favorite among trainers who value strength and resilience.\"', mimetype='text/plain', start_char_idx=3785, end_char_idx=4492, metadata_seperator='::', text_template='Metadata: {metadata_str}\\n-----\\nContent: {content}'), score=1.5476033687591553), NodeWithScore(node=TextNode(id_='efda5f90-be87-4cca-82b0-d4a4831102bb', embedding=None, metadata={'name': 'Barbaracle', 'generation': 6, 'type1': 'rock', 'type2': 'water', 'is_legendary': 0}, excluded_embed_metadata_keys=[], excluded_llm_metadata_keys=[], relationships={<NodeRelationship.SOURCE: '1'>: RelatedNodeInfo(node_id='Barbaracle', node_type='4', metadata={'name': 'Barbaracle', 'generation': 6, 'type1': 'rock', 'type2': 'water', 'is_legendary': 0}, hash='e540c9a3090f66eef1bbd0d36f2c46b3ffa941e6fb421fdedb5ebe1e15d2b821'), <NodeRelationship.PREVIOUS: '2'>: RelatedNodeInfo(node_id='4b14d046-1a7c-4849-bd05-d42a261d2161', node_type='1', metadata={'name': 'Barbaracle', 'generation': 6, 'type1': 'rock', 'type2': 'water', 'is_legendary': 0}, hash='a414056c07da6a7335d40fe48f407c99bd69c030e781d9828b3f7615b253bc8f')}, metadata_template='{key}=>{value}', metadata_separator='::', text='The battle highlights Barbaracle\\'s ability to turn the tide with its offensive capabilities, making it a standout moment for the Pok\\\\u00e9mon.\\\\n\\\\nAdditionally, Barbaracle\\'s unique design and concept have made it a fan favorite in competitive battles, especially when utilizing moves like **Razor Shell**, **Stone Edge**, and **Cross Chop** to take advantage of its Tough Claws ability.\\\\n\\\\n---\\\\n\\\\nBarbaracle remains a fascinating Pok\\\\u00e9mon due to its symbiotic nature, versatility, and intimidating appearance. While not as widely recognized as some other Pok\\\\u00e9mon, it has carved out a niche in both the games and anime as a powerful and resourceful fighter.\"', mimetype='text/plain', start_char_idx=3775, end_char_idx=4440, metadata_seperator='::', text_template='Metadata: {metadata_str}\\n-----\\nContent: {content}'), score=1.557273268699646), NodeWithScore(node=TextNode(id_='95e1d994-a33b-4bd6-9f5c-712065e0bcf0', embedding=None, metadata={'name': 'Sawk', 'generation': 5, 'type1': 'fighting', 'type2': None, 'is_legendary': 0}, excluded_embed_metadata_keys=[], excluded_llm_metadata_keys=[], relationships={<NodeRelationship.SOURCE: '1'>: RelatedNodeInfo(node_id='Sawk', node_type='4', metadata={'name': 'Sawk', 'generation': 5, 'type1': 'fighting', 'type2': None, 'is_legendary': 0}, hash='5bbb7f4b93b476f1e5d0c82e6b764a0c443bcbb4c76a1fe35ac1cf1b2f3643ce'), <NodeRelationship.PREVIOUS: '2'>: RelatedNodeInfo(node_id='6215f2d8-4d6e-4ee3-8deb-0d24ffe22f41', node_type='1', metadata={'name': 'Sawk', 'generation': 5, 'type1': 'fighting', 'type2': None, 'is_legendary': 0}, hash='3def8248f900d7072f37f398d09ccd4c8ba83d992d25a472ec733f1cc07d8be7')}, metadata_template='{key}=>{value}', metadata_separator='::', text='Despite its impressive performance, it ultimately loses to Palpitoad\\'s strategy and Water-type moves. This battle highlights Sawk\\'s fighting spirit and determination, making it a fan-favorite moment.\\\\n\\\\nAnother notable scene is Sawk\\'s training montage in the anime, where it is shown breaking boulders and practicing its moves in the mountains, emphasizing its dedication to martial arts and physical training.\\\\n\\\\n---\\\\n\\\\nSawk remains a popular Fighting-type Pok\\\\u00e9mon due to its unique design, martial arts theme, and strong presence in battles. Its disciplined nature and impressive strength make it a standout choice for trainers who value hard work and determination.\"', mimetype='text/plain', start_char_idx=3681, end_char_idx=4355, metadata_seperator='::', text_template='Metadata: {metadata_str}\\n-----\\nContent: {content}'), score=1.5581233501434326), NodeWithScore(node=TextNode(id_='6642bc90-c498-4fbb-9c95-07d11e300de5', embedding=None, metadata={'name': 'Rhyhorn', 'generation': 1, 'type1': 'ground', 'type2': 'rock', 'is_legendary': 0}, excluded_embed_metadata_keys=[], excluded_llm_metadata_keys=[], relationships={<NodeRelationship.SOURCE: '1'>: RelatedNodeInfo(node_id='Rhyhorn', node_type='4', metadata={'name': 'Rhyhorn', 'generation': 1, 'type1': 'ground', 'type2': 'rock', 'is_legendary': 0}, hash='c2327a2fd8b5e5fb097df8a08da258d94dba57f65969037ace04ee3eed4e5a15'), <NodeRelationship.PREVIOUS: '2'>: RelatedNodeInfo(node_id='2f8b9c1b-8108-404b-b531-9ec23fb9f679', node_type='1', metadata={'name': 'Rhyhorn', 'generation': 1, 'type1': 'ground', 'type2': 'rock', 'is_legendary': 0}, hash='4dbf1c56fec0e7a80b18bd4c1627e00fd822ca46af0cec994302db591a69144a')}, metadata_template='{key}=>{value}', metadata_separator='::', text='These moments emphasize Rhyhorn\\'s role as a powerhouse Pok\\\\u00e9mon that can hold its own in combat.\\\\n\\\\n#### Summary\\\\nRhyhorn is a powerful and durable Pok\\\\u00e9mon with a straightforward, instinct-driven nature. Its reckless charging and immense physical strength make it a force to be reckoned with, though its lack of intelligence and agility can be a drawback. With its iconic appearance and memorable moments in the Pok\\\\u00e9mon franchise, Rhyhorn remains a fan-favorite Pok\\\\u00e9mon for many trainers.\"', mimetype='text/plain', start_char_idx=3917, end_char_idx=4425, metadata_seperator='::', text_template='Metadata: {metadata_str}\\n-----\\nContent: {content}'), score=1.5616580247879028), NodeWithScore(node=TextNode(id_='ddf667fc-3150-4e66-8ecb-778a796a53d7', embedding=None, metadata={'name': 'Eelektross', 'generation': 5, 'type1': 'electric', 'type2': None, 'is_legendary': 0}, excluded_embed_metadata_keys=[], excluded_llm_metadata_keys=[], relationships={<NodeRelationship.SOURCE: '1'>: RelatedNodeInfo(node_id='Eelektross', node_type='4', metadata={'name': 'Eelektross', 'generation': 5, 'type1': 'electric', 'type2': None, 'is_legendary': 0}, hash='9119ea95764f4831ca5dba45c4c0f4866d118f912cfa12896abd64926dff43d7'), <NodeRelationship.PREVIOUS: '2'>: RelatedNodeInfo(node_id='ff74de12-9e15-4128-979f-bd1da92411c7', node_type='1', metadata={'name': 'Eelektross', 'generation': 5, 'type1': 'electric', 'type2': None, 'is_legendary': 0}, hash='8b82a976888f9e4b1ce9d5834c16e2e9705a368a9606ad2ba6336de876cdd4e0')}, metadata_template='{key}=>{value}', metadata_separator='::', text='This battle highlights its strength as a mixed attacker and its ability to counter opponents who rely on Ground-type moves to defeat Electric-types.\\\\n\\\\n---\\\\n\\\\n### Summary\\\\nEelektross is a unique and powerful Electric-type Pok\\\\u00e9mon with no weaknesses due to its Levitate ability. Its predatory nature and adaptability make it a fascinating creature in the Pok\\\\u00e9mon world. It has been featured in both the games and anime, often used by skilled trainers to showcase its versatility and strength. Its famous appearances in battles, particularly in the Unova League, have cemented its reputation as a formidable Pok\\\\u00e9mon.\"', mimetype='text/plain', start_char_idx=3935, end_char_idx=4565, metadata_seperator='::', text_template='Metadata: {metadata_str}\\n-----\\nContent: {content}'), score=1.5623384714126587), NodeWithScore(node=TextNode(id_='ca95550b-b5f9-4ad1-9e9d-b1fa65ab5a30', embedding=None, metadata={'name': 'Buizel', 'generation': 4, 'type1': 'water', 'type2': None, 'is_legendary': 0}, excluded_embed_metadata_keys=[], excluded_llm_metadata_keys=[], relationships={<NodeRelationship.SOURCE: '1'>: RelatedNodeInfo(node_id='Buizel', node_type='4', metadata={'name': 'Buizel', 'generation': 4, 'type1': 'water', 'type2': None, 'is_legendary': 0}, hash='6614bf9d10ac12ff611ed04b76a09596ce171e4390aa8ef5d843eb6f83bd6c15'), <NodeRelationship.PREVIOUS: '2'>: RelatedNodeInfo(node_id='4eb5497b-eef1-447e-8730-20dfebc7d85e', node_type='1', metadata={'name': 'Buizel', 'generation': 4, 'type1': 'water', 'type2': None, 'is_legendary': 0}, hash='4412a62ab00cf9d49fc209994f4ee1ca21bcdd58f61dd8afcb7bf0ccb62510e0')}, metadata_template='{key}=>{value}', metadata_separator='::', text='Buizel demonstrates its strength and determination, putting up a fierce fight against Lucario. This battle showcases Buizel\\'s skill in combat and its ability to adapt to challenging opponents.\\\\n\\\\n---\\\\n\\\\nBuizel remains a fan-favorite Pok\\\\u00e9mon due to its sleek design, energetic personality, and memorable appearances in the Pok\\\\u00e9mon anime and games. Its unique traits and strong connection to water make it a standout Pok\\\\u00e9mon in the Sinnoh region.\"', mimetype='text/plain', start_char_idx=3830, end_char_idx=4290, metadata_seperator='::', text_template='Metadata: {metadata_str}\\n-----\\nContent: {content}'), score=1.5664762258529663), NodeWithScore(node=TextNode(id_='94876a87-bff3-4d80-9620-d80b8e45ec58', embedding=None, metadata={'name': 'Zebstrika', 'generation': 5, 'type1': 'electric', 'type2': None, 'is_legendary': 0}, excluded_embed_metadata_keys=[], excluded_llm_metadata_keys=[], relationships={<NodeRelationship.SOURCE: '1'>: RelatedNodeInfo(node_id='Zebstrika', node_type='4', metadata={'name': 'Zebstrika', 'generation': 5, 'type1': 'electric', 'type2': None, 'is_legendary': 0}, hash='eb958e602d6d1bfd8a1299721859b13d5819c8c19ca72ee329d72cee64c48817'), <NodeRelationship.PREVIOUS: '2'>: RelatedNodeInfo(node_id='4c751538-a8a4-4113-8a3b-17c893e80afe', node_type='1', metadata={'name': 'Zebstrika', 'generation': 5, 'type1': 'electric', 'type2': None, 'is_legendary': 0}, hash='78202844437f4fab264cf081f851a499910e1d74800d83d19e08e71ff032d12c')}, metadata_template='{key}=>{value}', metadata_separator='::', text='The battle showcases Zebstrika\\'s incredible speed and power, as it uses moves like Flame Charge to boost its speed even further. Ash struggles to keep up with Zebstrika\\'s agility and offensive pressure, but he ultimately manages to defeat it using clever strategies.\\\\n\\\\nAnother notable scene is in the **Pok\\\\u00e9mon Adventures manga**, where Elesa\\'s Zebstrika plays a significant role in her battles. It is depicted as a loyal and powerful partner, capable of taking on multiple opponents with its electric attacks and speed.\\\\n\\\\n---\\\\n\\\\n### Summary\\\\nZebstrika is a striking and powerful Electric-type Pok\\\\u00e9mon known for its speed, electric abilities, and temperamental nature. It is a favorite of Elesa, the Nimbasa City Gym Leader, and has been featured prominently in both the games and anime. Its sleek design and lightning-fast movements make it a memorable Pok\\\\u00e9mon in the Unova region.\"', mimetype='text/plain', start_char_idx=3549, end_char_idx=4449, metadata_seperator='::', text_template='Metadata: {metadata_str}\\n-----\\nContent: {content}'), score=1.5728659629821777), NodeWithScore(node=TextNode(id_='c6a0d351-604e-4d1c-b102-a09841a613f5', embedding=None, metadata={'name': 'Noivern', 'generation': 6, 'type1': 'flying', 'type2': 'dragon', 'is_legendary': 0}, excluded_embed_metadata_keys=[], excluded_llm_metadata_keys=[], relationships={<NodeRelationship.SOURCE: '1'>: RelatedNodeInfo(node_id='Noivern', node_type='4', metadata={'name': 'Noivern', 'generation': 6, 'type1': 'flying', 'type2': 'dragon', 'is_legendary': 0}, hash='a8a2fda8f16067c091c991d37469b7280c2dab399a4b573aaa8c5747d1499cb8'), <NodeRelationship.PREVIOUS: '2'>: RelatedNodeInfo(node_id='968b7a0c-b891-4e52-9ab6-865e19ba22fe', node_type='1', metadata={'name': 'Noivern', 'generation': 6, 'type1': 'flying', 'type2': 'dragon', 'is_legendary': 0}, hash='2cafa8778648067f6c9b4340fb977ad275d416bf8d3af4089d8d3da99133606d')}, metadata_template='{key}=>{value}', metadata_separator='::', text='Although Noivern ultimately loses the battle, it demonstrates its incredible agility and mastery of sound-based moves, earning the respect of fans.\\\\n\\\\n---\\\\n\\\\nNoivern is a Pok\\\\u00e9mon that combines elegance, power, and intelligence, making it a standout in both the games and the anime. Its unique design and sound-based abilities have cemented its place as one of the most beloved Pok\\\\u00e9mon introduced in Generation VI.\"', mimetype='text/plain', start_char_idx=3716, end_char_idx=4140, metadata_seperator='::', text_template='Metadata: {metadata_str}\\n-----\\nContent: {content}'), score=1.573847770690918), NodeWithScore(node=TextNode(id_='bff7746b-b881-4675-8471-ee84d420fbfd', embedding=None, metadata={'name': 'Hakamo-o', 'generation': 7, 'type1': 'dragon', 'type2': 'fighting', 'is_legendary': 0}, excluded_embed_metadata_keys=[], excluded_llm_metadata_keys=[], relationships={<NodeRelationship.SOURCE: '1'>: RelatedNodeInfo(node_id='Hakamo-o', node_type='4', metadata={'name': 'Hakamo-o', 'generation': 7, 'type1': 'dragon', 'type2': 'fighting', 'is_legendary': 0}, hash='4265905cd80d14025ecf88b719ee808b743e4b1e2adbddd172810a386e52cd27'), <NodeRelationship.PREVIOUS: '2'>: RelatedNodeInfo(node_id='2d1f90a2-150d-4f43-8d03-a9eb569a47aa', node_type='1', metadata={'name': 'Hakamo-o', 'generation': 7, 'type1': 'dragon', 'type2': 'fighting', 'is_legendary': 0}, hash='7c76ce5e5392162034f347050e13e68d455e08986709be7bf811dc0a62c20a20')}, metadata_template='{key}=>{value}', metadata_separator='::', text='This battle is memorable because it serves as a test of the player\\\\u2019s skills and strategy, showcasing Hakamo-o\\\\u2019s warrior-like qualities.\\\\n\\\\nIn the Pok\\\\u00e9mon anime, Hakamo-o has appeared in episodes featuring Dragon-type Pok\\\\u00e9mon, often depicted as a fierce and honorable fighter. While it hasn\\\\u2019t had a major starring role, its presence in battles emphasizes its strength and determination.\\\\n\\\\n---\\\\n\\\\nHakamo-o is a Pok\\\\u00e9mon that embodies the spirit of a warrior, with its metallic scales and disciplined behavior making it a standout Dragon/Fighting-type. Its appearances in the games and anime highlight its role as a challenging and honorable opponent.\"', mimetype='text/plain', start_char_idx=3703, end_char_idx=4382, metadata_seperator='::', text_template='Metadata: {metadata_str}\\n-----\\nContent: {content}'), score=1.5749592781066895), NodeWithScore(node=TextNode(id_='3bc836ce-f63d-42f0-95de-9e849814be5d', embedding=None, metadata={'name': 'Braviary', 'generation': 5, 'type1': 'normal', 'type2': 'flying', 'is_legendary': 0}, excluded_embed_metadata_keys=[], excluded_llm_metadata_keys=[], relationships={<NodeRelationship.SOURCE: '1'>: RelatedNodeInfo(node_id='Braviary', node_type='4', metadata={'name': 'Braviary', 'generation': 5, 'type1': 'normal', 'type2': 'flying', 'is_legendary': 0}, hash='c0bb3b49eaca7d0590c9c1decea5440b9ce4357b08fcbe963f0d200b178082bc')}, metadata_template='{key}=>{value}', metadata_separator='::', text='\"### Detailed Summary of Braviary\\\\n\\\\n#### 1. **Characteristics**\\\\nBraviary is a dual-type **Normal/Flying Pok\\\\u00e9mon** introduced in Generation V. It evolves from Rufflet starting at level 54. Known as the \\\\\"Valiant Pok\\\\u00e9mon,\\\\\" Braviary is a large, eagle-like Pok\\\\u00e9mon with a striking appearance. It has a red, white, and blue color scheme that resembles the American bald eagle, symbolizing bravery and patriotism. Its body is primarily blue, with red feathers on its head and a white plume resembling a war bonnet, giving it a majestic and fierce look. Its talons and beak are sharp and powerful, emphasizing its role as a predator.\\\\n\\\\nIn the Hisui region (featured in *Pok\\\\u00e9mon Legends: Arceus*), Braviary has a regional variant known as **Hisuian Braviary**, which is a dual-type **Psychic/Flying Pok\\\\u00e9mon**. Hisuian Braviary has a more mystical appearance, with black feathers, glowing purple eyes, and a ghostly aura around its head feathers.\\\\n\\\\n#### 2. **Behavior**\\\\nBraviary is known for its courageous and protective nature. It is fiercely loyal to its friends and will fight valiantly to protect them, even if it means putting itself in harm\\'s way. This Pok\\\\u00e9mon is often seen as a symbol of heroism and determination. It is highly territorial and will not hesitate to challenge stronger opponents to defend its domain or allies.\\\\n\\\\nHisuian Braviary, on the other hand, is more solitary and mystical. It is said to have a haunting cry that can instill fear in its enemies. Unlike its Unovan counterpart, Hisuian Braviary is more attuned to spiritual and psychic energies, often soaring high in the skies to meditate or scout.\\\\n\\\\n#### 3. **Pokedex Description**\\\\n- **Unovan Braviary:**\\\\n  - *Black/White*: \\\\\"They fight for their friends without any thought about danger to themselves. One can carry a car while flying.\\\\\"\\\\n  - *Sun*: \\\\\"Known for its bravery and pride, this majestic Pok\\\\u00e9mon is often seen as a symbol of heroism.\\\\\"\\\\n  - *Sword*: \\\\\"Because this Pok\\\\u00e9mon is hotheaded and belligerent, it\\\\u2019s Corviknight that tend to handle its transportation needs.\\\\\"\\\\n\\\\n- **Hisuian Braviary:**\\\\n  - *Legends: Arceus*: \\\\\"The screeches of this Pok\\\\u00e9mon are thought to be imbued with a mysterious power. People of old feared that Braviary\\\\u2019s cries would incite war.\\\\\"\\\\n\\\\n#### 4. **Notable Trainers Who Own Them**\\\\n- **N**: In *Pok\\\\u00e9mon Black 2 and White 2*, N is known to have a Braviary in his team if the player battles him on a Monday in the Desert Resort.\\\\n- **Skyla**: The Mistralton City Gym Leader in the Pok\\\\u00e9mon Adventures manga uses a Braviary as part of her Flying-type team.\\\\n- **Ash Ketchum**: While Ash himself does not own a Braviary, he has encountered and battled against Braviary in various episodes of the Pok\\\\u00e9mon anime.\\\\n\\\\n#### 5. **Famous Scene in Pok\\\\u00e9mon Franchise**\\\\nOne of Braviary\\'s most memorable appearances in the Pok\\\\u00e9mon anime occurs in the *Black & White* series, where a wild Braviary is shown courageously defending its territory from Team Rocket. This scene highlights Braviary\\'s valiant and protective nature, as it fights against overwhelming odds to protect its home.\\\\n\\\\nIn *Pok\\\\u00e9mon Legends: Arceus*, Hisuian Braviary plays a significant role as one of the rideable Pok\\\\u00e9mon that helps the player traverse the skies of the Hisui region. This marks a pivotal moment in the game, as the player gains the ability to explore previously inaccessible areas from above, showcasing Hisuian Braviary\\'s importance in the storyline.\\\\n\\\\n---\\\\n\\\\nBraviary is a Pok\\\\u00e9mon that embodies courage, loyalty, and strength, making it a fan favorite among trainers who value these traits. Whether in its Unovan or Hisuian form, Braviary remains a symbol of heroism and freedom in the Pok\\\\u00e9mon world.\"', mimetype='text/plain', start_char_idx=0, end_char_idx=3798, metadata_seperator='::', text_template='Metadata: {metadata_str}\\n-----\\nContent: {content}'), score=1.5784542560577393), NodeWithScore(node=TextNode(id_='0ea14815-8d44-4ccc-8514-657f1981f232', embedding=None, metadata={'name': 'Gurdurr', 'generation': 5, 'type1': 'fighting', 'type2': None, 'is_legendary': 0}, excluded_embed_metadata_keys=[], excluded_llm_metadata_keys=[], relationships={<NodeRelationship.SOURCE: '1'>: RelatedNodeInfo(node_id='Gurdurr', node_type='4', metadata={'name': 'Gurdurr', 'generation': 5, 'type1': 'fighting', 'type2': None, 'is_legendary': 0}, hash='a877158f9963240e588fda3dfdeff2d9286f7657604a4eeb5ed90ba262a0071f'), <NodeRelationship.PREVIOUS: '2'>: RelatedNodeInfo(node_id='4f4c8b7b-fe53-4f04-9f08-41ffa0aaa778', node_type='1', metadata={'name': 'Gurdurr', 'generation': 5, 'type1': 'fighting', 'type2': None, 'is_legendary': 0}, hash='2d6a6626db21baec696f4ff7002516fdc6b031d2b1bd14cfcda118611a7a84fa')}, metadata_template='{key}=>{value}', metadata_separator='::', text='This battle demonstrates Gurdurr\\'s raw power and its ability to use moves like *Dynamic Punch* and *Rock Throw* effectively.\\\\n\\\\n---\\\\n\\\\n### Summary\\\\nGurdurr is a Pok\\\\u00e9mon that embodies physical strength and hard work. Its association with construction and its competitive nature make it a unique and memorable Pok\\\\u00e9mon in the franchise. Whether in the games, anime, or manga, Gurdurr is often portrayed as a reliable and powerful companion, especially for trainers who value strength and determination.\"', mimetype='text/plain', start_char_idx=3722, end_char_idx=4232, metadata_seperator='::', text_template='Metadata: {metadata_str}\\n-----\\nContent: {content}'), score=1.5852841138839722), NodeWithScore(node=TextNode(id_='d33c4c58-a07b-4edf-8493-2a17a6b6f8e8', embedding=None, metadata={'name': 'Bruxish', 'generation': 7, 'type1': 'water', 'type2': 'psychic', 'is_legendary': 0}, excluded_embed_metadata_keys=[], excluded_llm_metadata_keys=[], relationships={<NodeRelationship.SOURCE: '1'>: RelatedNodeInfo(node_id='Bruxish', node_type='4', metadata={'name': 'Bruxish', 'generation': 7, 'type1': 'water', 'type2': 'psychic', 'is_legendary': 0}, hash='218d8843a61d911d4a6c635b179a266a851cc3d257912cca26de9120b4729fa1'), <NodeRelationship.PREVIOUS: '2'>: RelatedNodeInfo(node_id='fe0b6ebe-a130-4835-8eae-dddb879b3975', node_type='1', metadata={'name': 'Bruxish', 'generation': 7, 'type1': 'water', 'type2': 'psychic', 'is_legendary': 0}, hash='8f4984d034bec7a0258f5050273dd824980cc770d6c057718104eb081abf766b')}, metadata_template='{key}=>{value}', metadata_separator='::', text='Additionally, its ability, **Dazzling**, which prevents priority moves, has made it a unique choice for competitive battles, though it is not commonly used.\\\\n\\\\n---\\\\n\\\\n### **Conclusion**\\\\nBruxish is a unique and vibrant Pok\\\\u00e9mon that stands out for its combination of Water and Psychic abilities, as well as its flamboyant appearance. While it may not have a prominent role in the Pok\\\\u00e9mon franchise, its aggressive behavior, powerful psychic abilities, and striking design make it a memorable addition to the Alola region\\'s roster of Pok\\\\u00e9mon.\"', mimetype='text/plain', start_char_idx=3760, end_char_idx=4316, metadata_seperator='::', text_template='Metadata: {metadata_str}\\n-----\\nContent: {content}'), score=1.5895814895629883), NodeWithScore(node=TextNode(id_='87c789c4-f712-48d2-9879-a787842d48b8', embedding=None, metadata={'name': 'Rattata', 'generation': 1, 'type1': 'normal', 'type2': 'dark', 'is_legendary': 0}, excluded_embed_metadata_keys=[], excluded_llm_metadata_keys=[], relationships={<NodeRelationship.SOURCE: '1'>: RelatedNodeInfo(node_id='Rattata', node_type='4', metadata={'name': 'Rattata', 'generation': 1, 'type1': 'normal', 'type2': 'dark', 'is_legendary': 0}, hash='86c7389e89b9de685f2326e47bb1971af266d144dce6eb16bc202c48b26ed418'), <NodeRelationship.PREVIOUS: '2'>: RelatedNodeInfo(node_id='331a54c3-c21f-4dd3-9b04-fa594763a68d', node_type='1', metadata={'name': 'Rattata', 'generation': 1, 'type1': 'normal', 'type2': 'dark', 'is_legendary': 0}, hash='3100e64e460aa1248d38165fe609da00d9483ee42b9a5b2fd11c389976631db4')}, metadata_template='{key}=>{value}', metadata_separator='::', text='Joey\\'s boast about his Rattata being in the \\\\\"top percentage of Rattata\\\\\" has become a running joke among fans, symbolizing the pride trainers can have in even the most common Pok\\\\u00e9mon.\\\\n\\\\n#### Conclusion\\\\nRattata may not be the most powerful or rare Pok\\\\u00e9mon, but its adaptability, vigilance, and iconic status in the Pok\\\\u00e9mon franchise make it a memorable part of the series. Whether it\\'s scavenging for food, defending its territory, or being the subject of humorous memes, Rattata has earned its place as one of the most recognizable Pok\\\\u00e9mon in the franchise.\"', mimetype='text/plain', start_char_idx=4000, end_char_idx=4581, metadata_seperator='::', text_template='Metadata: {metadata_str}\\n-----\\nContent: {content}'), score=1.5900180339813232), NodeWithScore(node=TextNode(id_='c722c62b-800a-4ad4-b968-f55cdc7da097', embedding=None, metadata={'name': 'Bouffalant', 'generation': 5, 'type1': 'normal', 'type2': None, 'is_legendary': 0}, excluded_embed_metadata_keys=[], excluded_llm_metadata_keys=[], relationships={<NodeRelationship.SOURCE: '1'>: RelatedNodeInfo(node_id='Bouffalant', node_type='4', metadata={'name': 'Bouffalant', 'generation': 5, 'type1': 'normal', 'type2': None, 'is_legendary': 0}, hash='7078b6358580908bb83390c07d4653902f3dbfc8b0cfd9d2991c2a74d7132daa'), <NodeRelationship.PREVIOUS: '2'>: RelatedNodeInfo(node_id='3fd28920-b9fa-4f7e-acde-aa94d0dddc68', node_type='1', metadata={'name': 'Bouffalant', 'generation': 5, 'type1': 'normal', 'type2': None, 'is_legendary': 0}, hash='8145b5d80cfdc3884f6c58f1d54665ef0fdf0f392d00dfdbd6e06f4d0bcd5fe1')}, metadata_template='{key}=>{value}', metadata_separator='::', text='The Bouffalant are extremely territorial and aggressive, attacking anyone who enters their domain. To avoid conflict, Ash and his friends disguise themselves using wigs that resemble Bouffalant\\'s afro-like mane. This humorous and action-packed episode highlights Bouffalant\\'s protective nature and its role as a guardian of its herd.\\\\n\\\\nAdditionally, Bouffalant is often remembered for its role in Alder\\'s Champion team in Pok\\\\u00e9mon Black and White. Its powerful moves, including Head Charge, make it a formidable opponent during the final battles of the Unova region.\\\\n\\\\n---\\\\n\\\\n### Summary\\\\nBouffalant is a strong, resilient Pok\\\\u00e9mon with a distinctive afro-like mane and a penchant for headbutting. It is fiercely territorial and protective of its herd, making it a symbol of strength and loyalty. Bouffalant has appeared in both the games and anime, most notably as part of Alder\\'s Champion team and in the \\\\\"Baffling the Bouffalant!\\\\\" episode. Its durability and powerful physical attacks make it a memorable Pok\\\\u00e9mon in the franchise.\"', mimetype='text/plain', start_char_idx=3683, end_char_idx=4734, metadata_seperator='::', text_template='Metadata: {metadata_str}\\n-----\\nContent: {content}'), score=1.5912262201309204), NodeWithScore(node=TextNode(id_='88c9258c-0745-4842-8ff3-b5a8635f6deb', embedding=None, metadata={'name': 'Combusken', 'generation': 3, 'type1': 'fire', 'type2': 'fighting', 'is_legendary': 0}, excluded_embed_metadata_keys=[], excluded_llm_metadata_keys=[], relationships={<NodeRelationship.SOURCE: '1'>: RelatedNodeInfo(node_id='Combusken', node_type='4', metadata={'name': 'Combusken', 'generation': 3, 'type1': 'fire', 'type2': 'fighting', 'is_legendary': 0}, hash='3129fec00f7293c50290b1573f85b28508235a1aa1f5c98ce8171a8a227ab2b4'), <NodeRelationship.PREVIOUS: '2'>: RelatedNodeInfo(node_id='e488505e-c0ad-4f3b-a74d-4126b870798c', node_type='1', metadata={'name': 'Combusken', 'generation': 3, 'type1': 'fire', 'type2': 'fighting', 'is_legendary': 0}, hash='117f673e5bc911e81a634e131a9d4388841d3336ba7ed68f4ede08237a28f119')}, metadata_template='{key}=>{value}', metadata_separator='::', text='Its ability to balance strength and beauty makes it a standout in these competitions.\\\\n\\\\n---\\\\n\\\\nCombusken is a fan-favorite Pok\\\\u00e9mon due to its fiery personality, impressive combat skills, and role in both the games and anime. Its evolution from the adorable Torchic into the powerful Blaziken makes it a key part of many trainers\\' journeys in the Hoenn region.\"', mimetype='text/plain', start_char_idx=3949, end_char_idx=4315, metadata_seperator='::', text_template='Metadata: {metadata_str}\\n-----\\nContent: {content}'), score=1.5923123359680176), NodeWithScore(node=TextNode(id_='05e8ceb0-340d-4af6-8b1b-73cadbd38e8f', embedding=None, metadata={'name': 'Meditite', 'generation': 3, 'type1': 'fighting', 'type2': 'psychic', 'is_legendary': 0}, excluded_embed_metadata_keys=[], excluded_llm_metadata_keys=[], relationships={<NodeRelationship.SOURCE: '1'>: RelatedNodeInfo(node_id='Meditite', node_type='4', metadata={'name': 'Meditite', 'generation': 3, 'type1': 'fighting', 'type2': 'psychic', 'is_legendary': 0}, hash='1aa0664512da37b3a5a990c4c31d4e2fa4a01327cf484d91f019ec20de5d555a'), <NodeRelationship.PREVIOUS: '2'>: RelatedNodeInfo(node_id='eb52b65c-eca1-444b-bc40-64e679addb2d', node_type='1', metadata={'name': 'Meditite', 'generation': 3, 'type1': 'fighting', 'type2': 'psychic', 'is_legendary': 0}, hash='e2798dda7e9e52c6eff638f6c5a643639e463c9257bf6ab4d5f653e3c6523f6a')}, metadata_template='{key}=>{value}', metadata_separator='::', text='Meditite battles Ash\\'s Pikachu, demonstrating its ability to combine psychic powers with physical attacks.\\\\n\\\\nAnother notable moment is its role in Gym battles against Brawly and Maylene in the games. Players often remember Meditite for its surprising strength due to its **Pure Power** ability, which can catch unprepared trainers off guard.\\\\n\\\\n---\\\\n\\\\nMeditite is a fascinating Pok\\\\u00e9mon that embodies the balance between physical strength and mental discipline. Its unique design, abilities, and role in the Pok\\\\u00e9mon world make it a standout among Fighting and Psychic types.\"', mimetype='text/plain', start_char_idx=3882, end_char_idx=4467, metadata_seperator='::', text_template='Metadata: {metadata_str}\\n-----\\nContent: {content}'), score=1.5939979553222656), NodeWithScore(node=TextNode(id_='a84b64dc-3ebc-46ea-9811-4822ce24274b', embedding=None, metadata={'name': 'Avalugg', 'generation': 6, 'type1': 'ice', 'type2': None, 'is_legendary': 0}, excluded_embed_metadata_keys=[], excluded_llm_metadata_keys=[], relationships={<NodeRelationship.SOURCE: '1'>: RelatedNodeInfo(node_id='Avalugg', node_type='4', metadata={'name': 'Avalugg', 'generation': 6, 'type1': 'ice', 'type2': None, 'is_legendary': 0}, hash='525526bd71f9221a378e3e3039b5bd5743f761db34f4a08be8f4c23f1f7c0d55'), <NodeRelationship.PREVIOUS: '2'>: RelatedNodeInfo(node_id='509a1d4d-f59d-4964-8a0f-6c8d67162238', node_type='1', metadata={'name': 'Avalugg', 'generation': 6, 'type1': 'ice', 'type2': None, 'is_legendary': 0}, hash='a5e4b00b7cecad337aa945d2cd3e7eae4bb129b7ad928cd0e19e66daa05a6ace')}, metadata_template='{key}=>{value}', metadata_separator='::', text='This battle is memorable for showcasing Ash\\'s growth as a trainer and his strategic thinking in overcoming Avalugg\\'s defenses.\\\\n\\\\nAnother notable moment is Avalugg\\'s appearance as a Noble Pok\\\\u00e9mon in *Pok\\\\u00e9mon Legends: Arceus*. The battle against the Noble Hisuian Avalugg is one of the most visually striking and challenging encounters in the game. The sheer size of the Noble Avalugg, combined with its aggressive attacks, makes it a standout moment in the storyline.\\\\n\\\\n---\\\\n\\\\nAvalugg is a fascinating Pok\\\\u00e9mon that combines immense physical strength with a unique design inspired by icebergs. Whether serving as a Gym Leader\\'s ace or a Noble Pok\\\\u00e9mon guarding its territory, Avalugg leaves a lasting impression on trainers in the Pok\\\\u00e9mon world.\"', mimetype='text/plain', start_char_idx=3701, end_char_idx=4471, metadata_seperator='::', text_template='Metadata: {metadata_str}\\n-----\\nContent: {content}'), score=1.5940701961517334)]\n",
      "[NodeWithScore(node=TextNode(id_='224a4daf-c96a-452a-a81d-c6e728a5a5e9', embedding=None, metadata={'name': 'Charizard', 'generation': 1, 'type1': 'fire', 'type2': 'flying', 'is_legendary': 0}, excluded_embed_metadata_keys=[], excluded_llm_metadata_keys=[], relationships={<NodeRelationship.SOURCE: '1'>: RelatedNodeInfo(node_id='Charizard', node_type='4', metadata={'name': 'Charizard', 'generation': 1, 'type1': 'fire', 'type2': 'flying', 'is_legendary': 0}, hash='a669e62f2ff7ef480ae290c9bf7bc98f961a0c854a8b9becac7fa50cb9d90d32'), <NodeRelationship.NEXT: '3'>: RelatedNodeInfo(node_id='bbf90ac5-bbb4-4171-abc9-c4e98d3beb15', node_type='1', metadata={}, hash='6a35a40f872fc6d49d0c2249031bc2c0d329fbcd7595390797276077ecf91699')}, metadata_template='{key}=>{value}', metadata_separator='::', text='\"### Charizard: Detailed Summary\\\\n\\\\nCharizard is one of the most iconic Pok\\\\u00e9mon in the franchise, beloved by fans for its powerful design, fiery abilities, and prominent role in the Pok\\\\u00e9mon series. Below is a detailed breakdown of Charizard\\'s characteristics, behavior, Pok\\\\u00e9dex description, notable trainers, and famous moments in the Pok\\\\u00e9mon franchise.\\\\n\\\\n---\\\\n\\\\n### 1. **Characteristics**\\\\n- **Species**: Flame Pok\\\\u00e9mon\\\\n- **Type**: Fire/Flying\\\\n- **Height**: 5\\'07\\\\\" (1.7 m)\\\\n- **Weight**: 199.5 lbs (90.5 kg)\\\\n- **Evolutionary Line**: Charmander \\\\u2192 Charmeleon \\\\u2192 Charizard\\\\n- **Mega Evolutions**: Charizard has two Mega Evolutions, Mega Charizard X (Fire/Dragon type) and Mega Charizard Y (Fire/Flying type), introduced in *Pok\\\\u00e9mon X and Y*.\\\\n- **Gigantamax Form**: Charizard also has a Gigantamax form introduced in *Pok\\\\u00e9mon Sword and Shield*, which gives it a massive, fiery appearance with flames erupting from its wings and body.\\\\n\\\\nCharizard resembles a large, orange dragon with a long tail tipped with a flame. Its wings are blue on the inside and allow it to fly at high speeds. Despite its dragon-like appearance, it is not a Dragon-type Pok\\\\u00e9mon in its base form.\\\\n\\\\n---\\\\n\\\\n### 2. **Behavior**\\\\nCharizard is known for its fiery temperament and pride. It is a powerful and competitive Pok\\\\u00e9mon that loves to battle strong opponents. However, it can be reckless and overconfident, especially when it underestimates its opponent. Charizard\\\\u2019s flame burns hotter when it is excited or angry, and it is said to never use its fire breath on weaker opponents, showing a sense of honor.\\\\n\\\\nCharizard is also highly loyal to trainers who earn its respect, but it can be disobedient if it feels its trainer is inexperienced or unworthy, as seen in the Pok\\\\u00e9mon anime.\\\\n\\\\n---\\\\n\\\\n### 3. **Pok\\\\u00e9dex Description**\\\\nCharizard has appeared in nearly every Pok\\\\u00e9mon game, and its Pok\\\\u00e9dex entries often emphasize its fiery breath and flying abilities. Below are some notable Pok\\\\u00e9dex descriptions:\\\\n\\\\n- **Pok\\\\u00e9mon Red/Blue**: \\\\\"Spits fire that is hot enough to melt boulders. Known to cause forest fires unintentionally.\\\\\"\\\\n- **Pok\\\\u00e9mon Gold**: \\\\\"If Charizard becomes furious, the flame at the tip of its tail flares up in a whitish-blue color.\\\\\"\\\\n- **Pok\\\\u00e9mon Sword**: \\\\\"It spits fire that is hot enough to melt boulders. It may cause forest fires by blowing flames.\\\\\"\\\\n- **Pok\\\\u00e9mon Shield**: \\\\\"The flame inside its body burns hotter than 3,600 degrees Fahrenheit. When Charizard roars, that temperature climbs even higher.\\\\\"\\\\n\\\\nThese entries highlight its destructive power and the intensity of its flames.\\\\n\\\\n---\\\\n\\\\n### 4. **Notable Trainers Who Own Charizard**\\\\nCharizard has been owned by several notable trainers in the Pok\\\\u00e9mon franchise, including:\\\\n\\\\n- **Ash Ketchum**: Ash\\\\u2019s Charizard is one of his most famous Pok\\\\u00e9mon. It started as a Charmander abandoned by its previous trainer, Damian, and evolved into a powerful but initially disobedient Charizard. Over time, Ash earned its respect, and it became one of his most reliable and iconic Pok\\\\u00e9mon.\\\\n- **Leon**: The Champion of the Galar region in *Pok\\\\u00e9mon Sword and Shield* is known for his Gigantamax Charizard, which serves as his signature Pok\\\\u00e9mon.', mimetype='text/plain', start_char_idx=0, end_char_idx=3327, metadata_seperator='::', text_template='Metadata: {metadata_str}\\n-----\\nContent: {content}'), score=7.512044906616211), NodeWithScore(node=TextNode(id_='9374b01e-0394-451f-a439-f56a45ad3e84', embedding=None, metadata={'name': 'Granbull', 'generation': 2, 'type1': 'fairy', 'type2': None, 'is_legendary': 0}, excluded_embed_metadata_keys=[], excluded_llm_metadata_keys=[], relationships={<NodeRelationship.SOURCE: '1'>: RelatedNodeInfo(node_id='Granbull', node_type='4', metadata={'name': 'Granbull', 'generation': 2, 'type1': 'fairy', 'type2': None, 'is_legendary': 0}, hash='bcf2b9baf58713116f5b41570c336a5b6d6cde1bd6a5743e54ef1622c160f849'), <NodeRelationship.PREVIOUS: '2'>: RelatedNodeInfo(node_id='ade03da7-5f42-4401-9d1e-87025f6e17e3', node_type='1', metadata={'name': 'Granbull', 'generation': 2, 'type1': 'fairy', 'type2': None, 'is_legendary': 0}, hash='6a4728f8f7ea88a597e237ff2affb275cad31476db1cbc0c689e1729e63a5466')}, metadata_template='{key}=>{value}', metadata_separator='::', text='The evolution marks a turning point in the Pok\\\\u00e9mon\\\\u2019s personality, as it becomes more confident and assertive while still retaining its loyalty to its owner.\\\\n\\\\nAnother notable scene is when Granbull is used in battles during various tournaments and showcases its powerful jaw attacks, such as *Crunch* and *Play Rough*. Its intimidating presence often surprises opponents who underestimate its strength due to its timid nature.\\\\n\\\\n---\\\\n\\\\nGranbull remains a fan-favorite Pok\\\\u00e9mon for its unique combination of a fierce appearance and gentle personality. Its role in the franchise highlights themes of loyalty, courage, and the importance of not judging others based on their looks.\"', mimetype='text/plain', start_char_idx=3612, end_char_idx=4307, metadata_seperator='::', text_template='Metadata: {metadata_str}\\n-----\\nContent: {content}'), score=4.360943794250488), NodeWithScore(node=TextNode(id_='a6091fc8-c41e-4784-8350-463f52be46c8', embedding=None, metadata={'name': 'Emboar', 'generation': 5, 'type1': 'fire', 'type2': 'fighting', 'is_legendary': 0}, excluded_embed_metadata_keys=[], excluded_llm_metadata_keys=[], relationships={<NodeRelationship.SOURCE: '1'>: RelatedNodeInfo(node_id='Emboar', node_type='4', metadata={'name': 'Emboar', 'generation': 5, 'type1': 'fire', 'type2': 'fighting', 'is_legendary': 0}, hash='c00e9ab7947ea0eb156b8c3d5509b157aa24654d4c77a85b0da5246c0a8166e3'), <NodeRelationship.NEXT: '3'>: RelatedNodeInfo(node_id='7c533a06-6555-4d28-983c-224f9b2ad587', node_type='1', metadata={}, hash='057912d0015a105eb2f0169c4dcb1ea6fb003cd284a75e3c4e90160a2fbb550b')}, metadata_template='{key}=>{value}', metadata_separator='::', text='\"### Emboar: The Mega Fire Pig Pok\\\\u00e9mon\\\\n\\\\nEmboar is a dual-type **Fire/Fighting** Pok\\\\u00e9mon introduced in **Generation V**. It is the final evolution of Tepig, evolving from Pignite starting at level 36. Known for its fiery mane and immense strength, Emboar is a popular choice among trainers who value power and resilience.\\\\n\\\\n---\\\\n\\\\n### 1. **Characteristics**\\\\n- **Appearance**: Emboar is a large, bipedal Pok\\\\u00e9mon resembling a boar. It has a bulky, muscular build with orange fur covering most of its body. Its chest and arms are black, adorned with intricate yellow flame-like patterns. Emboar\\'s most striking feature is its fiery mane, which burns brightly around its neck and shoulders. It has tusks protruding from its lower jaw and a short, curled tail.\\\\n- **Height**: 5\\'03\\\\\" (1.6 m)\\\\n- **Weight**: 330.7 lbs (150.0 kg)\\\\n- **Abilities**: \\\\n  - **Blaze** (Standard Ability): Boosts the power of Fire-type moves when Emboar\\'s HP is low.\\\\n  - **Reckless** (Hidden Ability): Increases the power of moves that have recoil damage, such as Flare Blitz.\\\\n- **Signature Moves**: Heat Crash (a Fire-type move that deals more damage the heavier Emboar is compared to its opponent).\\\\n\\\\nEmboar is known for its immense physical strength and its ability to unleash devastating Fire- and Fighting-type moves. Its design is inspired by a combination of a boar and a wrestler, with its fiery mane symbolizing its fighting spirit.\\\\n\\\\n---\\\\n\\\\n### 2. **Behavior**\\\\nEmboar is a courageous and loyal Pok\\\\u00e9mon that fights with honor. It is known for its protective nature, especially toward its trainer and allies. Emboar uses its fiery mane to intimidate opponents and can unleash flames from its hands to attack. Despite its intimidating appearance, Emboar is gentle and caring toward those it trusts.\\\\n\\\\nIn battle, Emboar is relentless and strategic. It uses its bulk and strength to overpower opponents, often relying on moves like Flare Blitz and Arm Thrust to deal heavy damage. Its fiery mane burns brighter when it is excited or enraged, signaling its determination to win.\\\\n\\\\n---\\\\n\\\\n### 3. **Pokedex Description**\\\\n- **Black/White**: It can throw a fire punch by setting its fists on fire with its fiery chin. It cares deeply about its friends.\\\\n- **Black 2/White 2**: A flaring beard of fire is proof that it is fired up. It is adept at using many different moves.\\\\n- **Sword/Shield**: It blasts fire from its nose. When it heats up, its movements grow sharper. It takes on opponents with its strong arms.\\\\n\\\\nThe Pokedex highlights Emboar\\'s fiery nature and its ability to use flames both offensively and defensively. It also emphasizes its loyalty and versatility in battle.\\\\n\\\\n---\\\\n\\\\n### 4. **Notable Trainers Who Own Emboar**\\\\n- **Bianca (Anime)**: Bianca, one of Ash\\'s rivals in the Unova region, owns an Emboar. She is seen using it in several battles, showcasing its strength and versatility. Bianca\\'s Emboar is a key member of her team and often serves as her ace Pok\\\\u00e9mon.\\\\n- **Hilda/Hilbert (Games)**: In the Pok\\\\u00e9mon Black and White games, if the player chooses Tepig as their starter, it will eventually evolve into Emboar. As the player\\'s partner, Emboar plays a significant role in their journey through the Unova region.\\\\n\\\\n---\\\\n\\\\n### 5. **Famous Scene in the Pok\\\\u00e9mon Franchise**\\\\nOne of the most memorable scenes involving Emboar occurs in the **Pok\\\\u00e9mon Black and White anime**, during Bianca\\'s battle against Ash in the **Vertress Conference** (Unova League). Bianca\\'s Emboar faces off against Ash\\'s Krookodile in an intense match. Emboar demonstrates its raw power and versatility, using moves like Flamethrower and Hammer Arm to put up a strong fight.', mimetype='text/plain', start_char_idx=0, end_char_idx=3697, metadata_seperator='::', text_template='Metadata: {metadata_str}\\n-----\\nContent: {content}'), score=3.244002342224121), NodeWithScore(node=TextNode(id_='92913ee6-28fe-419a-8127-16f8ec8f8b18', embedding=None, metadata={'name': 'Linoone', 'generation': 3, 'type1': 'normal', 'type2': None, 'is_legendary': 0}, excluded_embed_metadata_keys=[], excluded_llm_metadata_keys=[], relationships={<NodeRelationship.SOURCE: '1'>: RelatedNodeInfo(node_id='Linoone', node_type='4', metadata={'name': 'Linoone', 'generation': 3, 'type1': 'normal', 'type2': None, 'is_legendary': 0}, hash='3d202437535ed6811e8c7f3834b0525c1f3cbece528f566599b692ba8173e4d6'), <NodeRelationship.NEXT: '3'>: RelatedNodeInfo(node_id='650ff5e7-780f-46cd-944d-1d4b2550cbdf', node_type='1', metadata={}, hash='64f2827b691d0fee9b52a7a63e9511328d9560fc7d722b81b6ff474add9fa119')}, metadata_template='{key}=>{value}', metadata_separator='::', text='\"### Detailed Summary of Linoone\\\\n\\\\nLinoone is a Pok\\\\u00e9mon introduced in **Generation III** and is the evolved form of Zigzagoon. It is known for its sleek, fast-moving body and its ability to dart in straight lines at high speeds. In **Generation VIII**, a regional variant called **Galarian Linoone** was introduced, which has a darker, edgier design and evolves into Obstagoon.\\\\n\\\\n---\\\\n\\\\n### 1. **Characteristics**\\\\n- **Type:** Normal (Hoennian Linoone) / Dark-Normal (Galarian Linoone)\\\\n- **Appearance:** \\\\n  - Hoennian Linoone has a slender, ferret-like body with cream-colored fur and brown stripes running along its back. Its body is streamlined for speed, and its paws are small and clawed.\\\\n  - Galarian Linoone has a more aggressive appearance, with black and white fur and a sharp, edgy design. Its eyes are red, giving it a more intimidating look.\\\\n- **Height:** 0.5 m (1\\'8\\\\\")\\\\n- **Weight:** 32.5 kg (71.7 lbs)\\\\n- **Abilities:** Pickup, Gluttony (Hidden Ability)\\\\n- **Notable Stats:** Linoone is known for its high **Speed** stat, making it one of the fastest Pok\\\\u00e9mon in its evolutionary stage.\\\\n\\\\n---\\\\n\\\\n### 2. **Behavior**\\\\n- **Hoennian Linoone:** \\\\n  - Linoone is known for its incredible speed and its tendency to run in straight lines. It cannot turn easily while running, which can lead to collisions with obstacles. It uses this speed to hunt prey and escape predators.\\\\n  - It has a keen sense of smell and often scavenges for food, including berries and small items. Its Pickup ability reflects this behavior, as it can find items during battles.\\\\n- **Galarian Linoone:** \\\\n  - The Galarian variant is more aggressive and reckless, often charging at opponents with no regard for its own safety. It is known to be a troublemaker and thrives in chaotic environments.\\\\n  - This variant is more likely to engage in fights and has a rebellious personality, which ties into its evolution into Obstagoon, a Pok\\\\u00e9mon inspired by punk rock culture.\\\\n\\\\n---\\\\n\\\\n### 3. **Pokedex Description**\\\\n- **Hoennian Linoone:**\\\\n  - *Ruby:* \\\\\"Linoone always runs full speed and only in straight lines. If facing an obstacle, it makes a right-angle turn to evade it. This Pok\\\\u00e9mon is very challenged by gently curving roads.\\\\\"\\\\n  - *Sapphire:* \\\\\"Linoone is capable of running at speeds of up to 60 mph. It has a tough time with curved roads.\\\\\"\\\\n  - *Emerald:* \\\\\"When it spots prey, it runs after it in a straight line. It catches only Pok\\\\u00e9mon that it can run straight at.\\\\\"\\\\n- **Galarian Linoone:**\\\\n  - *Sword:* \\\\\"This Pok\\\\u00e9mon is strong-willed, and it can pick fights with even those stronger than itself. Its temperament is wild and savage.\\\\\"\\\\n  - *Shield:* \\\\\"It charges at enemies with reckless abandon. It lives in harsh environments where it thrives on conflict.\\\\\"\\\\n\\\\n---\\\\n\\\\n### 4. **Notable Trainers Who Own Linoone**\\\\n- **Max (Anime):** In the Pok\\\\u00e9mon anime, Max, the younger brother of Gym Leader May, befriends a Linoone in the episode \\\\\"Showdown at Linoone!\\\\\" This Linoone helps Max retrieve items using its Pickup ability.\\\\n- **Hop (Games):** In Pok\\\\u00e9mon Sword and Shield, Hop, the rival character, uses a Galarian Linoone in some battles before evolving it into Obstagoon.\\\\n- **Team Yell (Games):** Members of Team Yell, the punk-themed antagonists in Sword and Shield, frequently use Galarian Linoone as part of their team.\\\\n\\\\n---\\\\n\\\\n### 5.', mimetype='text/plain', start_char_idx=0, end_char_idx=3386, metadata_seperator='::', text_template='Metadata: {metadata_str}\\n-----\\nContent: {content}'), score=2.852252721786499), NodeWithScore(node=TextNode(id_='6642bc90-c498-4fbb-9c95-07d11e300de5', embedding=None, metadata={'name': 'Rhyhorn', 'generation': 1, 'type1': 'ground', 'type2': 'rock', 'is_legendary': 0}, excluded_embed_metadata_keys=[], excluded_llm_metadata_keys=[], relationships={<NodeRelationship.SOURCE: '1'>: RelatedNodeInfo(node_id='Rhyhorn', node_type='4', metadata={'name': 'Rhyhorn', 'generation': 1, 'type1': 'ground', 'type2': 'rock', 'is_legendary': 0}, hash='c2327a2fd8b5e5fb097df8a08da258d94dba57f65969037ace04ee3eed4e5a15'), <NodeRelationship.PREVIOUS: '2'>: RelatedNodeInfo(node_id='2f8b9c1b-8108-404b-b531-9ec23fb9f679', node_type='1', metadata={'name': 'Rhyhorn', 'generation': 1, 'type1': 'ground', 'type2': 'rock', 'is_legendary': 0}, hash='4dbf1c56fec0e7a80b18bd4c1627e00fd822ca46af0cec994302db591a69144a')}, metadata_template='{key}=>{value}', metadata_separator='::', text='These moments emphasize Rhyhorn\\'s role as a powerhouse Pok\\\\u00e9mon that can hold its own in combat.\\\\n\\\\n#### Summary\\\\nRhyhorn is a powerful and durable Pok\\\\u00e9mon with a straightforward, instinct-driven nature. Its reckless charging and immense physical strength make it a force to be reckoned with, though its lack of intelligence and agility can be a drawback. With its iconic appearance and memorable moments in the Pok\\\\u00e9mon franchise, Rhyhorn remains a fan-favorite Pok\\\\u00e9mon for many trainers.\"', mimetype='text/plain', start_char_idx=3917, end_char_idx=4425, metadata_seperator='::', text_template='Metadata: {metadata_str}\\n-----\\nContent: {content}'), score=2.6718356609344482), NodeWithScore(node=TextNode(id_='2f8b9c1b-8108-404b-b531-9ec23fb9f679', embedding=None, metadata={'name': 'Rhyhorn', 'generation': 1, 'type1': 'ground', 'type2': 'rock', 'is_legendary': 0}, excluded_embed_metadata_keys=[], excluded_llm_metadata_keys=[], relationships={<NodeRelationship.SOURCE: '1'>: RelatedNodeInfo(node_id='Rhyhorn', node_type='4', metadata={'name': 'Rhyhorn', 'generation': 1, 'type1': 'ground', 'type2': 'rock', 'is_legendary': 0}, hash='c2327a2fd8b5e5fb097df8a08da258d94dba57f65969037ace04ee3eed4e5a15'), <NodeRelationship.NEXT: '3'>: RelatedNodeInfo(node_id='6642bc90-c498-4fbb-9c95-07d11e300de5', node_type='1', metadata={}, hash='20d39ee01f87bac0e589ff23c59115526483727d5c8cf64040e0fd38f98e0461')}, metadata_template='{key}=>{value}', metadata_separator='::', text='\"### Detailed Summary of Rhyhorn\\\\n\\\\n#### 1. **Characteristics**\\\\nRhyhorn is a dual-type **Ground/Rock Pok\\\\u00e9mon** introduced in Generation I. It is known for its rugged, rhinoceros-like appearance, with a body covered in thick, gray, rock-like armor that provides excellent defense. Its body is quadrupedal, with short, sturdy legs and a spiked tail. Rhyhorn has a single, prominent horn on its snout, which it uses for charging and attacking opponents. Its eyes are small and fierce, giving it an intimidating look.\\\\n\\\\nRhyhorn is a relatively large Pok\\\\u00e9mon, standing at **3\\'03\\\\\" (1.0 m)** tall and weighing **253.5 lbs (115.0 kg)**. Its physical strength and durability make it a formidable Pok\\\\u00e9mon in battle, especially when utilizing its high Attack and Defense stats. However, it is not known for its speed or agility, and its Special Defense is notably weak.\\\\n\\\\n#### 2. **Behavior**\\\\nRhyhorn is a straightforward and somewhat reckless Pok\\\\u00e9mon. It is known for charging at anything it sees, often without thinking. This behavior stems from its instinctive nature and its reliance on brute strength rather than strategy. However, Rhyhorn\\'s intelligence is relatively low, and it has difficulty remembering things for long periods. For example, it may forget why it started charging in the first place.\\\\n\\\\nDespite its aggressive tendencies, Rhyhorn is not inherently malicious. It is simply driven by its instincts and its natural affinity for physical combat. In the wild, Rhyhorn is often seen roaming rocky terrains, deserts, and mountainous regions, where it can use its sturdy body to navigate harsh environments.\\\\n\\\\n#### 3. **Pokedex Description**\\\\nRhyhorn\\'s Pok\\\\u00e9dex entries across various games emphasize its physical power, durability, and lack of intelligence. Here are some notable examples:\\\\n\\\\n- **Red/Blue:** \\\\\"Its massive bones are 1,000 times harder than human bones. It can easily knock a trailer flying.\\\\\"\\\\n- **Yellow:** \\\\\"A Pok\\\\u00e9mon with a one-track mind. Once it charges, it won\\\\u2019t stop running until it falls asleep.\\\\\"\\\\n- **Gold:** \\\\\"It is inept at turning because of its four short legs. It can only charge and run in one direction.\\\\\"\\\\n- **Ruby/Sapphire:** \\\\\"Rhyhorn runs in a straight line, smashing everything in its path. It is not bothered even if it rushes headlong into a block of steel. This Pok\\\\u00e9mon may feel some pain from the collision the next day, however.\\\\\"\\\\n\\\\nThese entries highlight Rhyhorn\\'s incredible physical strength and endurance, as well as its somewhat clumsy and single-minded nature.\\\\n\\\\n#### 4. **Notable Trainers Who Own Them**\\\\nRhyhorn has been owned by several notable trainers in the Pok\\\\u00e9mon franchise, including:\\\\n\\\\n- **Blaine (Gym Leader):** In the Pok\\\\u00e9mon Adventures manga, Blaine is shown using a Rhyhorn during battles.\\\\n- **Kiawe (Anime):** In the Pok\\\\u00e9mon Sun and Moon anime, Kiawe\\'s family owns a Rhyhorn that is used for farm work.\\\\n- **Serena (Anime):** In the Pok\\\\u00e9mon X and Y anime, Serena is shown to have experience riding Rhyhorn, as her mother is a famous Rhyhorn racer. While Serena does not own a Rhyhorn herself, her connection to Rhyhorn racing is a significant part of her backstory.\\\\n\\\\n#### 5. **Famous Scene in the Pok\\\\u00e9mon Franchise**\\\\nOne of the most memorable scenes involving Rhyhorn occurs in the **Pok\\\\u00e9mon X and Y anime**, where Serena is shown practicing Rhyhorn racing. This scene is significant because it highlights Serena\\'s upbringing and her initial struggles to find her own path in life. Her mother, Grace, is a renowned Rhyhorn racer, and Serena is expected to follow in her footsteps. However, Serena ultimately decides to pursue her own dreams, which sets her on the path to becoming a Pok\\\\u00e9mon Performer.\\\\n\\\\nAnother notable moment is in the **Pok\\\\u00e9mon Adventures manga**, where Rhyhorn is used in intense battles, showcasing its raw power and durability.', mimetype='text/plain', start_char_idx=0, end_char_idx=3916, metadata_seperator='::', text_template='Metadata: {metadata_str}\\n-----\\nContent: {content}'), score=2.661296844482422), NodeWithScore(node=TextNode(id_='1c25ed7d-a364-41c3-abba-26f7b5c62ad6', embedding=None, metadata={'name': 'Carvanha', 'generation': 3, 'type1': 'water', 'type2': 'dark', 'is_legendary': 0}, excluded_embed_metadata_keys=[], excluded_llm_metadata_keys=[], relationships={<NodeRelationship.SOURCE: '1'>: RelatedNodeInfo(node_id='Carvanha', node_type='4', metadata={'name': 'Carvanha', 'generation': 3, 'type1': 'water', 'type2': 'dark', 'is_legendary': 0}, hash='d3b6a1bd65eb2de9e23baed41eaa7287be9d035f6e990f443430fb8058442fa9'), <NodeRelationship.PREVIOUS: '2'>: RelatedNodeInfo(node_id='66e1f24d-e767-476a-876d-76b3a1770bab', node_type='1', metadata={'name': 'Carvanha', 'generation': 3, 'type1': 'water', 'type2': 'dark', 'is_legendary': 0}, hash='208178bcff91e6217eb0f5e982279b2af11976d2ae66c05a2f982529d8372a63')}, metadata_template='{key}=>{value}', metadata_separator='::', text='The episode highlights Carvanha\\'s role as a key Pok\\\\u00e9mon for Team Aqua, emphasizing its connection to water-based schemes and its ferocity in battle.\\\\n\\\\nAdditionally, Carvanha is often featured in underwater scenes in the anime and games, where it is shown swarming and attacking intruders, reinforcing its reputation as a dangerous Pok\\\\u00e9mon to encounter in the wild.\\\\n\\\\n---\\\\n\\\\nCarvanha is a fascinating Pok\\\\u00e9mon that embodies the untamed and dangerous aspects of aquatic life. Its aggressive behavior, sharp teeth, and group tactics make it a formidable opponent, especially when encountered in the wild or as part of Team Aqua\\'s plans.\"', mimetype='text/plain', start_char_idx=3555, end_char_idx=4205, metadata_seperator='::', text_template='Metadata: {metadata_str}\\n-----\\nContent: {content}'), score=2.4904425144195557), NodeWithScore(node=TextNode(id_='0c766235-78bd-42ad-b60b-5be1e8a4b4a9', embedding=None, metadata={'name': 'Pignite', 'generation': 5, 'type1': 'fire', 'type2': 'fighting', 'is_legendary': 0}, excluded_embed_metadata_keys=[], excluded_llm_metadata_keys=[], relationships={<NodeRelationship.SOURCE: '1'>: RelatedNodeInfo(node_id='Pignite', node_type='4', metadata={'name': 'Pignite', 'generation': 5, 'type1': 'fire', 'type2': 'fighting', 'is_legendary': 0}, hash='c3987e9059a6021378b864c89bf327e9f0ef1a3e91b80c73d8011191bb398bc1')}, metadata_template='{key}=>{value}', metadata_separator='::', text='\"### Detailed Summary of Pignite\\\\n\\\\n#### 1. **Characteristics**\\\\nPignite is a Fire/Fighting-type Pok\\\\u00e9mon introduced in Generation V. It is the evolved form of Tepig, the Fire-type starter Pok\\\\u00e9mon of the Unova region, and evolves into Emboar. Pignite is a bipedal, pig-like Pok\\\\u00e9mon with a stout, muscular build. Its body is primarily orange with black markings resembling a wrestling singlet, and it has a yellow, flame-like pattern on its chest. Its ears are pointed, and it has a curly tail resembling a pig\\'s tail. Pignite\\'s arms and legs are thick and strong, emphasizing its physical prowess.\\\\n\\\\nPignite\\'s internal flame burns brightly, fueling its fighting spirit and enabling it to unleash powerful Fire-type moves. Its body temperature rises when it gets excited or angry, causing flames to erupt from its nostrils. This Pok\\\\u00e9mon is known for its strength and stamina, making it a formidable opponent in battle.\\\\n\\\\n#### 2. **Behavior**\\\\nPignite is a determined and energetic Pok\\\\u00e9mon that thrives in battle. It has a strong sense of loyalty to its trainer and will fight with all its might to protect them. Pignite is known for its competitive nature and enjoys testing its strength against strong opponents. It is also a glutton, often seen eating large amounts of food to fuel its internal flame and maintain its energy levels.\\\\n\\\\nWhen Pignite is in battle, it becomes highly focused and aggressive, using its powerful physical attacks and fiery moves to overwhelm its opponents. However, it can sometimes be reckless, charging headfirst into situations without thinking. Despite this, Pignite\\'s fighting spirit and resilience make it a reliable partner in tough situations.\\\\n\\\\n#### 3. **Pokedex Description**\\\\nHere are some Pokedex entries for Pignite from various games:\\\\n\\\\n- **Black:** When its internal fire flares up, its movements grow sharper and faster. When in trouble, it emits smoke.\\\\n- **White:** Whatever it eats becomes fuel for the flame in its stomach. When it is angered, the intensity of the flame increases.\\\\n- **Black 2/White 2:** The more it eats, the more fuel it has to make the fire in its stomach stronger. This fills it with even more power.\\\\n\\\\nThese descriptions highlight Pignite\\'s reliance on its internal flame for both its strength and its fiery attacks, as well as its voracious appetite.\\\\n\\\\n#### 4. **Notable Trainers Who Own Pignite**\\\\n- **Ash Ketchum:** Ash\\'s Tepig evolves into Pignite during his journey in the Unova region. Tepig was originally abandoned by its previous trainer, but Ash took it in and helped it regain its confidence. Pignite becomes a key member of Ash\\'s team, showcasing its strength and determination in battles.\\\\n- **Bianca:** In the Pok\\\\u00e9mon anime, Bianca, one of Ash\\'s rivals in the Unova region, is also shown to own a Pignite. Her Pignite is a strong battler and reflects her energetic and somewhat clumsy personality.\\\\n\\\\n#### 5. **Famous Scene in the Pok\\\\u00e9mon Franchise**\\\\nOne of the most memorable moments involving Pignite occurs in the Pok\\\\u00e9mon anime during Ash\\'s journey in Unova. In the episode *\\\\\"Evolution by Fire!\\\\\"*, Ash\\'s Tepig evolves into Pignite during a heated battle against its former trainer, Shamus. Shamus had abandoned Tepig, calling it weak, but Ash\\'s care and encouragement helped Tepig grow stronger. During the battle, Tepig evolves into Pignite and defeats Shamus\\'s Pok\\\\u00e9mon, proving its strength and loyalty to Ash. This scene is a powerful moment of redemption and showcases Pignite\\'s fighting spirit and determination.\\\\n\\\\nAnother notable scene is when Ash\\'s Pignite participates in the Unova League, where it demonstrates its strength and versatility in battles against tough opponents. Pignite\\'s role in these battles highlights its importance as a core member of Ash\\'s team.\\\\n\\\\n---\\\\n\\\\nPignite is a Pok\\\\u00e9mon that embodies strength, loyalty, and determination, making it a fan-favorite among trainers and viewers of the Pok\\\\u00e9mon franchise. Its journey from an abandoned Tepig to a powerful and confident Pignite is a testament to the bond between Pok\\\\u00e9mon and their trainers.\"', mimetype='text/plain', start_char_idx=0, end_char_idx=4129, metadata_seperator='::', text_template='Metadata: {metadata_str}\\n-----\\nContent: {content}'), score=2.477632522583008), NodeWithScore(node=TextNode(id_='6625ea10-cd95-467e-9485-d4051641b9e5', embedding=None, metadata={'name': 'Oshawott', 'generation': 5, 'type1': 'water', 'type2': None, 'is_legendary': 0}, excluded_embed_metadata_keys=[], excluded_llm_metadata_keys=[], relationships={<NodeRelationship.SOURCE: '1'>: RelatedNodeInfo(node_id='Oshawott', node_type='4', metadata={'name': 'Oshawott', 'generation': 5, 'type1': 'water', 'type2': None, 'is_legendary': 0}, hash='324b46915b003dd4721ccb35df0d74d15d2df3123d24da4f0d04fc11134f4a67'), <NodeRelationship.NEXT: '3'>: RelatedNodeInfo(node_id='2f0f439f-3d49-425a-b4db-39c1f1c837e7', node_type='1', metadata={}, hash='4622890e9f7030425c9cd86a3594db1088e0c7353a5cc63aa619b4fd0812ab49')}, metadata_template='{key}=>{value}', metadata_separator='::', text='\"### **Oshawott: Detailed Summary**\\\\n\\\\nOshawott is a Water-type Pok\\\\u00e9mon introduced in Generation V (Unova region). It is the first-stage evolution of a three-stage evolutionary line, evolving into Dewott and later into Samurott. Oshawott is one of the starter Pok\\\\u00e9mon offered to trainers in the Unova region.\\\\n\\\\n---\\\\n\\\\n### **1. Characteristics**\\\\n- **Appearance:**  \\\\nOshawott is a small, otter-like Pok\\\\u00e9mon with a round, light blue body and a white face. It has large, dark eyes, a small triangular nose, and two pointed ears. Its arms and feet are stubby, and its tail is flat and paddle-shaped. A distinctive feature of Oshawott is the beige seashell (known as a \\\\\"scalchop\\\\\") attached to its belly. This shell is used as a weapon and tool in battle.\\\\n\\\\n- **Height and Weight:**  \\\\nOshawott stands at 0.5 meters (1\\'08\\\\\") tall and weighs 5.9 kilograms (13.0 lbs).\\\\n\\\\n- **Type:**  \\\\nWater-type Pok\\\\u00e9mon.\\\\n\\\\n- **Abilities:**  \\\\nIts primary ability is **Torrent**, which boosts the power of Water-type moves when its HP is low. Hidden Ability: **Shell Armor**, which prevents critical hits.\\\\n\\\\n---\\\\n\\\\n### **2. Behavior**\\\\nOshawott is known for its playful and confident personality. It is often depicted as brave and determined, though it can sometimes act a bit clumsy or overconfident. Despite its small size, Oshawott is resourceful and uses its scalchop effectively in battle, both offensively and defensively. It takes great pride in its scalchop, polishing it regularly to keep it in pristine condition. If the scalchop is damaged or lost, Oshawott becomes distressed and will search for a replacement.\\\\n\\\\nOshawott is also highly loyal to its trainer and enjoys showing off its skills. It has a curious nature and is often seen exploring its surroundings.\\\\n\\\\n---\\\\n\\\\n### **3. Pok\\\\u00e9dex Description**\\\\nHere are some notable Pok\\\\u00e9dex entries for Oshawott across different games:\\\\n\\\\n- **Black/White:**  \\\\n\\\\\"It fights using the scalchop on its stomach. In battle, it uses it to block attacks and then counterattack.\\\\\"\\\\n\\\\n- **Black 2/White 2:**  \\\\n\\\\\"The scalchop on its stomach isn\\'t just used for battle\\\\u2014it can be used to break open hard berries as well.\\\\\"\\\\n\\\\n- **Sword/Shield:**  \\\\n\\\\\"It uses the shell on its belly to fight off enemies. The shell is harder than rock.\\\\\"\\\\n\\\\nThese entries emphasize Oshawott\\'s reliance on its scalchop for both combat and practical purposes.\\\\n\\\\n---\\\\n\\\\n### **4. Notable Trainers Who Own Oshawott**\\\\nOshawott has been featured prominently in the Pok\\\\u00e9mon anime and games. Some notable trainers include:\\\\n\\\\n- **Ash Ketchum:**  \\\\nAsh received an Oshawott from Professor Juniper in the Unova region during the *Pok\\\\u00e9mon: Black & White* series. Oshawott became one of Ash\\'s main Pok\\\\u00e9mon throughout his journey in Unova. It was known for its comedic personality, often getting into trouble or showing off its scalchop.\\\\n\\\\n- **Trip:**  \\\\nTrip, Ash\\'s rival in the Unova region, also chose Oshawott as his starter Pok\\\\u00e9mon in the anime. However, Trip\\'s Oshawott evolved into Dewott early in the series.\\\\n\\\\n- **Hilbert/Hilda (Player Character):**  \\\\nIn the *Pok\\\\u00e9mon Black/White* games, Oshawott is one of the three starter Pok\\\\u00e9mon offered to the player by Professor Juniper.\\\\n\\\\n---\\\\n\\\\n### **5. Famous Scene in Pok\\\\u00e9mon Franchise**\\\\nOne of the most memorable scenes involving Oshawott occurs in the *Pok\\\\u00e9mon: Black & White* anime series. Ash\\'s Oshawott is often portrayed as a comic relief character, and one iconic moment is when it struggles to open its eyes underwater.', mimetype='text/plain', start_char_idx=0, end_char_idx=3559, metadata_seperator='::', text_template='Metadata: {metadata_str}\\n-----\\nContent: {content}'), score=2.46720290184021), NodeWithScore(node=TextNode(id_='27c5f0d2-ace6-4292-adf6-e44d31eb9fc3', embedding=None, metadata={'name': 'Magmortar', 'generation': 4, 'type1': 'fire', 'type2': None, 'is_legendary': 0}, excluded_embed_metadata_keys=[], excluded_llm_metadata_keys=[], relationships={<NodeRelationship.SOURCE: '1'>: RelatedNodeInfo(node_id='Magmortar', node_type='4', metadata={'name': 'Magmortar', 'generation': 4, 'type1': 'fire', 'type2': None, 'is_legendary': 0}, hash='333727f546a0fa30b76dc35bce55cfd54c784ff76e72202922a4aa4ee084755e'), <NodeRelationship.NEXT: '3'>: RelatedNodeInfo(node_id='8296dad2-9f7f-4006-b995-e8dc664a8e6f', node_type='1', metadata={}, hash='6f9a88ce8863fe355d98c6547b17f46083cd72bb1d64cd0c26bce1fccc56abd3')}, metadata_template='{key}=>{value}', metadata_separator='::', text='\"### **Magmortar: Detailed Summary**\\\\n\\\\nMagmortar is a Fire-type Pok\\\\u00e9mon introduced in Generation IV. It is the evolved form of Magmar and can only evolve when exposed to a **Magmarizer** during a trade. Known for its fiery arsenal and intimidating presence, Magmortar is a powerful Pok\\\\u00e9mon often associated with heat and destruction.\\\\n\\\\n---\\\\n\\\\n### **1. Characteristics**\\\\n- **Appearance:**  \\\\nMagmortar has a bulky, humanoid body with a fiery, flame-like design. Its body is predominantly orange and yellow, resembling molten lava. Its arms are shaped like cannon barrels, capable of firing explosive fireballs. It has a spiked collar around its neck and flame-like extensions on its shoulders and tail. Its face is adorned with a fierce expression, and its eyes are sharp and intimidating.\\\\n\\\\n- **Height and Weight:**  \\\\nMagmortar stands at **5\\'03\\\\\" (1.6 m)** and weighs **68.0 kg (149.9 lbs)**.\\\\n\\\\n- **Abilities:**  \\\\nIts primary ability is **Flame Body**, which has a chance to burn opponents upon physical contact. In battle, Magmortar is known for its high Special Attack stat, making it a formidable special attacker.\\\\n\\\\n- **Signature Move:**  \\\\nMagmortar is often associated with powerful Fire-type moves like **Flamethrower**, **Fire Blast**, and **Lava Plume**. It can also learn Electric-type moves like **Thunderbolt**, giving it coverage against Water-types.\\\\n\\\\n---\\\\n\\\\n### **2. Behavior**\\\\nMagmortar is a solitary and territorial Pok\\\\u00e9mon. It thrives in volcanic regions and areas with extreme heat. It uses its cannon-like arms to shoot fireballs at prey or threats, incinerating them instantly. Magmortar is known to be highly aggressive when provoked, but it is also intelligent and strategic in battle.\\\\n\\\\nDespite its fiery nature, Magmortar is not reckless. It carefully controls the intensity of its flames to avoid unnecessary destruction. However, when angered, it can unleash devastating firepower capable of melting entire landscapes.\\\\n\\\\n---\\\\n\\\\n### **3. Pok\\\\u00e9dex Description**\\\\nMagmortar\\'s Pok\\\\u00e9dex entries emphasize its fiery abilities and destructive potential:\\\\n\\\\n- **Diamond/Pearl:** \\\\\"It blasts fireballs of over 3,600 degrees Fahrenheit from the ends of its arms. It lives in volcanic craters.\\\\\"\\\\n- **Platinum:** \\\\\"When launching 3,600-degree fireballs, its body takes on a whitish hue from the heat.\\\\\"\\\\n- **Sword/Shield:** \\\\\"Magmortar\\'s body temperature is around 2,200 degrees Fahrenheit. It is capable of incinerating anything with its fireballs.\\\\\"\\\\n\\\\nThese descriptions highlight its immense heat and its preference for volcanic habitats.\\\\n\\\\n---\\\\n\\\\n### **4. Notable Trainers Who Own Magmortar**\\\\nMagmortar has been featured in the Pok\\\\u00e9mon franchise as a powerful Pok\\\\u00e9mon used by skilled trainers:\\\\n\\\\n- **Paul (Anime):**  \\\\nPaul, Ash\\'s rival in the Sinnoh region, owns a Magmortar. It is one of his strongest Pok\\\\u00e9mon and is often seen in intense battles. Paul uses Magmortar\\'s firepower and strategic moves to dominate his opponents.\\\\n\\\\n- **Flint (Elite Four):**  \\\\nFlint, a member of the Sinnoh Elite Four specializing in Fire-type Pok\\\\u00e9mon, uses Magmortar in his team. It serves as a testament to his mastery of Fire-types and is a key part of his battle strategy.\\\\n\\\\n---\\\\n\\\\n### **5. Famous Scene in Pok\\\\u00e9mon Franchise**\\\\nOne of the most memorable scenes involving Magmortar occurs during **Ash vs. Paul** in the Sinnoh League. Paul\\'s Magmortar battles Ash\\'s Infernape in a heated and emotional match. The battle showcases Magmortar\\'s immense power and versatility, as it uses moves like Flamethrower and Thunderbolt to pressure Infernape.\\\\n\\\\nThis scene is significant because it highlights the rivalry between Ash and Paul, as well as Infernape\\'s growth and determination to overcome its past struggles.', mimetype='text/plain', start_char_idx=0, end_char_idx=3783, metadata_seperator='::', text_template='Metadata: {metadata_str}\\n-----\\nContent: {content}'), score=2.3953664302825928), NodeWithScore(node=TextNode(id_='2d1f90a2-150d-4f43-8d03-a9eb569a47aa', embedding=None, metadata={'name': 'Hakamo-o', 'generation': 7, 'type1': 'dragon', 'type2': 'fighting', 'is_legendary': 0}, excluded_embed_metadata_keys=[], excluded_llm_metadata_keys=[], relationships={<NodeRelationship.SOURCE: '1'>: RelatedNodeInfo(node_id='Hakamo-o', node_type='4', metadata={'name': 'Hakamo-o', 'generation': 7, 'type1': 'dragon', 'type2': 'fighting', 'is_legendary': 0}, hash='4265905cd80d14025ecf88b719ee808b743e4b1e2adbddd172810a386e52cd27'), <NodeRelationship.NEXT: '3'>: RelatedNodeInfo(node_id='bff7746b-b881-4675-8471-ee84d420fbfd', node_type='1', metadata={}, hash='582bc045166c9b4384486d2ab4db4d20f11b74ea96455370bf60c90c00728373')}, metadata_template='{key}=>{value}', metadata_separator='::', text='\"### Hakamo-o Detailed Summary\\\\n\\\\nHakamo-o is a Dragon/Fighting-type Pok\\\\u00e9mon introduced in Generation VII (Pok\\\\u00e9mon Sun and Moon). It is the middle evolution of the Jangmo-o evolutionary line, evolving into Kommo-o at level 45.\\\\n\\\\n---\\\\n\\\\n### 1. **Characteristics**\\\\nHakamo-o is a bipedal Pok\\\\u00e9mon with a reptilian appearance. Its body is covered in scales, which serve both as armor and as a means of intimidation. These scales are metallic and have a golden hue, particularly on its head, shoulders, and tail. Its tail is long and tipped with a large, circular scale that it uses in combat. Hakamo-o has sharp claws and a muscular build, emphasizing its Fighting-type nature.\\\\n\\\\nKey physical traits:\\\\n- Height: 3\\'11\\\\\" (1.2 m)\\\\n- Weight: 103.6 lbs (47 kg)\\\\n- Color scheme: Gray, gold, and yellow\\\\n- Notable feature: Golden scales that symbolize strength and resilience\\\\n\\\\nHakamo-o\\\\u2019s design reflects its role as a warrior Pok\\\\u00e9mon, with its scales acting as both protection and a symbol of its fighting spirit.\\\\n\\\\n---\\\\n\\\\n### 2. **Behavior**\\\\nHakamo-o is a proud and courageous Pok\\\\u00e9mon that thrives on combat. It seeks out strong opponents to test its strength and improve its skills. This Pok\\\\u00e9mon is known for its ritualistic behavior, where it clashes its scales together to create a metallic sound. This sound serves two purposes:\\\\n- To intimidate foes and assert dominance.\\\\n- To signal its readiness for battle.\\\\n\\\\nHakamo-o is highly disciplined and focused, embodying the traits of a warrior. It is not reckless, but rather calculated in its approach to combat. It values growth through adversity and will often challenge stronger opponents to hone its abilities.\\\\n\\\\n---\\\\n\\\\n### 3. **Pokedex Description**\\\\nHakamo-o\\\\u2019s Pok\\\\u00e9dex entries emphasize its warrior-like nature and its reliance on its scales for both offense and defense. Below are some notable Pok\\\\u00e9dex entries:\\\\n\\\\n- **Pok\\\\u00e9mon Sun**: \\\\\"The scaleless, scarred parts of its body are signs of its strength. It shows them off to defeated opponents.\\\\\"\\\\n- **Pok\\\\u00e9mon Moon**: \\\\\"It leaps at its prey with a courageous shout. Its scales are like armor, and they protect it from blows.\\\\\"\\\\n- **Pok\\\\u00e9mon Ultra Sun**: \\\\\"It makes noise by clanging its scales together. When the rhythm has reached its peak, Hakamo-o attacks.\\\\\"\\\\n- **Pok\\\\u00e9mon Ultra Moon**: \\\\\"The scaleless parts of its body are evidence of its fierce battles. It uses its scales to slash its opponents.\\\\\"\\\\n\\\\nThese entries highlight Hakamo-o\\\\u2019s pride in its battle scars and its use of scales as both a weapon and a shield.\\\\n\\\\n---\\\\n\\\\n### 4. **Notable Trainers Who Own Hakamo-o**\\\\nHakamo-o is not commonly seen in the Pok\\\\u00e9mon franchise, but it has made appearances with notable trainers:\\\\n\\\\n- **Totem Hakamo-o**: In Pok\\\\u00e9mon Sun and Moon, a Totem Hakamo-o appears in the Vast Poni Canyon during the trial. This Totem Pok\\\\u00e9mon is larger and stronger than regular Hakamo-o and serves as a significant challenge for players.\\\\n- **Raihan (Anime)**: While Raihan primarily uses Dragon-type Pok\\\\u00e9mon like Duraludon, Hakamo-o has been seen in promotional materials and battles involving Dragon specialists.\\\\n\\\\nHakamo-o is often associated with trainers who value strength and discipline, making it a fitting choice for Dragon-type experts.\\\\n\\\\n---\\\\n\\\\n### 5. **Famous Scene in the Pok\\\\u00e9mon Franchise**\\\\nOne of Hakamo-o\\\\u2019s most notable appearances is during the **Vast Poni Canyon trial** in Pok\\\\u00e9mon Sun and Moon. Here, players face a Totem Hakamo-o as part of their journey to complete the island trials. The Totem Hakamo-o is surrounded by an aura that boosts its stats, making it a formidable opponent.', mimetype='text/plain', start_char_idx=0, end_char_idx=3702, metadata_seperator='::', text_template='Metadata: {metadata_str}\\n-----\\nContent: {content}'), score=2.381456136703491), NodeWithScore(node=TextNode(id_='6595e40b-5af7-4e8d-aa5e-520b53da8c90', embedding=None, metadata={'name': 'Magby', 'generation': 2, 'type1': 'fire', 'type2': None, 'is_legendary': 0}, excluded_embed_metadata_keys=[], excluded_llm_metadata_keys=[], relationships={<NodeRelationship.SOURCE: '1'>: RelatedNodeInfo(node_id='Magby', node_type='4', metadata={'name': 'Magby', 'generation': 2, 'type1': 'fire', 'type2': None, 'is_legendary': 0}, hash='4ec87da6b8d4a5a305788bc87334a31aacbbbaebb4d5c6d371f1f119eccc3f48'), <NodeRelationship.NEXT: '3'>: RelatedNodeInfo(node_id='c058cc2d-35c2-438c-a765-074beb3a9414', node_type='1', metadata={}, hash='6fe5d78e660585ae0b0f507721c19f28152c5db7c0f664bdae049adf2af82fa6')}, metadata_template='{key}=>{value}', metadata_separator='::', text='\"### Detailed Summary of Magby\\\\n\\\\nMagby is a Fire-type Pok\\\\u00e9mon introduced in Generation II. It is the pre-evolved form of Magmar and later evolves into Magmortar when traded while holding a Magmarizer. Known as the \\\\\"Live Coal Pok\\\\u00e9mon,\\\\\" Magby is a baby Pok\\\\u00e9mon that is often associated with intense heat and fiery energy.\\\\n\\\\n---\\\\n\\\\n### 1. **Characteristics**\\\\n- **Appearance**: Magby is a small, bipedal Pok\\\\u00e9mon with a red, orange, and yellow color scheme. Its body is primarily red with yellow accents on its head and tail. It has a rounded head with a flame-like crest, stubby arms, and a short tail. Its body appears to be covered in a smooth, flame-resistant skin.\\\\n- **Size**: Magby is relatively small, standing at 0.7 meters (2\\'4\\\\\") tall and weighing 21.4 kilograms (47.2 lbs).\\\\n- **Special Abilities**: Magby has the ability to exhale flames that can reach temperatures of up to 1,100 degrees Fahrenheit (600 degrees Celsius). Its body temperature rises when it is excited or agitated, and it can use its fiery breath to defend itself or attack.\\\\n- **Typing**: As a Fire-type Pok\\\\u00e9mon, Magby is strong against Grass, Bug, Ice, and Steel types but weak to Water, Rock, and Ground types.\\\\n\\\\n---\\\\n\\\\n### 2. **Behavior**\\\\n- **Temperament**: Magby is known to be playful and curious, but it can also be temperamental. When angered or threatened, it will release flames from its mouth to ward off enemies.\\\\n- **Habitat**: Magby is typically found in volcanic regions or areas with high temperatures, such as hot springs or near active volcanoes. It thrives in environments where it can maintain its high body temperature.\\\\n- **Social Behavior**: Magby is often seen as a solitary Pok\\\\u00e9mon, but it may form bonds with its trainer or other Fire-type Pok\\\\u00e9mon. It is also known to be a bit clumsy due to its young age and inexperience.\\\\n\\\\n---\\\\n\\\\n### 3. **Pokedex Description**\\\\nMagby has appeared in various Pok\\\\u00e9mon games, and its Pok\\\\u00e9dex entries provide insight into its fiery nature:\\\\n- **Gold**: \\\\\"It is found in volcanic craters. Its body temp is over 1,100 degrees, so don\\\\u2019t underestimate it.\\\\\"\\\\n- **Silver**: \\\\\"Each and every time it inhales and exhales, hot embers dribble out of its mouth and nostrils.\\\\\"\\\\n- **Crystal**: \\\\\"It naturally spits an 1,100-degree flame. It is said when many appear, it heralds a volcanic eruption.\\\\\"\\\\n- **Scarlet/Violet**: \\\\\"Its magma-like blood circulates throughout its body. Its body\\\\u2019s heat can top 1,100 degrees Fahrenheit.\\\\\"\\\\n\\\\nThese entries emphasize Magby\\\\u2019s connection to volcanic environments and its ability to produce intense heat.\\\\n\\\\n---\\\\n\\\\n### 4. **Notable Trainers Who Own Magby**\\\\nMagby has been owned by a few notable trainers in the Pok\\\\u00e9mon franchise:\\\\n- **Paul**: In the Pok\\\\u00e9mon anime, Paul, Ash\\'s rival in the Sinnoh region, was shown to own a Magby. Paul is known for his strict and pragmatic training style, and his Magby eventually evolved into Magmar.\\\\n- **Battle Facilities**: Magby has appeared as part of the rosters of various trainers in Battle Towers, Battle Frontiers, and other competitive facilities in the Pok\\\\u00e9mon games.\\\\n\\\\n---\\\\n\\\\n### 5. **Famous Scene in the Pok\\\\u00e9mon Franchise**\\\\nOne of the most memorable appearances of Magby in the Pok\\\\u00e9mon anime occurred during Paul\\\\u2019s training sessions. Paul\\\\u2019s Magby was shown to be a strong and disciplined Pok\\\\u00e9mon, reflecting Paul\\\\u2019s rigorous training methods.', mimetype='text/plain', start_char_idx=0, end_char_idx=3467, metadata_seperator='::', text_template='Metadata: {metadata_str}\\n-----\\nContent: {content}'), score=2.376349925994873), NodeWithScore(node=TextNode(id_='0fb8d7e9-c0ca-456c-a89b-e649f87682af', embedding=None, metadata={'name': 'Typhlosion', 'generation': 2, 'type1': 'fire', 'type2': None, 'is_legendary': 0}, excluded_embed_metadata_keys=[], excluded_llm_metadata_keys=[], relationships={<NodeRelationship.SOURCE: '1'>: RelatedNodeInfo(node_id='Typhlosion', node_type='4', metadata={'name': 'Typhlosion', 'generation': 2, 'type1': 'fire', 'type2': None, 'is_legendary': 0}, hash='0ab9dd57b26f6e3938985c544ae14b0797612d9235f48c3bde1e6241196eb271'), <NodeRelationship.NEXT: '3'>: RelatedNodeInfo(node_id='a9ca08dd-d4ca-410f-afc2-b65c8025ef97', node_type='1', metadata={}, hash='a9d168b5b84d3b5df7a0f129389474cc4dd550b360bdf0a4cc64a257987a0777')}, metadata_template='{key}=>{value}', metadata_separator='::', text='\"### Detailed Summary of Typhlosion\\\\n\\\\nTyphlosion is a Fire-type Pok\\\\u00e9mon introduced in Generation II. It is the final evolution of Cyndaquil, one of the starter Pok\\\\u00e9mon from the Johto region. Known for its fiery mane and explosive power, Typhlosion is a fan-favorite Pok\\\\u00e9mon due to its sleek design and impressive battle capabilities.\\\\n\\\\n---\\\\n\\\\n### 1. **Characteristics**\\\\n- **Appearance**: Typhlosion is a quadrupedal Pok\\\\u00e9mon that can stand on its hind legs, resembling a badger or wolverine. Its body is mostly covered in cream-colored fur, with dark blue fur on its back and head. When it becomes enraged or prepares for battle, flames erupt from its neck, creating a fiery mane that enhances its intimidating presence.\\\\n- **Height and Weight**: Typhlosion stands at 5\\'7\\\\\" (1.7 m) and weighs 175.3 lbs (79.5 kg).\\\\n- **Abilities**: Typhlosion\\\\u2019s signature ability is its ability to generate intense heat and flames. It can create explosions and scorch its surroundings with fire. Its hidden ability, Flash Fire, boosts its Fire-type moves when hit by a Fire-type attack.\\\\n- **Typing**: Typhlosion is a pure Fire-type Pok\\\\u00e9mon, making it strong against Grass, Bug, Ice, and Steel types but weak to Water, Rock, and Ground types.\\\\n\\\\n---\\\\n\\\\n### 2. **Behavior**\\\\nTyphlosion is known for its calm and composed demeanor, but it can become fiercely aggressive when provoked or in battle. It is highly protective of its trainer and allies, and its fiery mane serves as both a defense mechanism and a weapon. Typhlosion is intelligent and strategic, often using its flames to intimidate opponents before striking. Despite its fiery nature, it is not reckless and tends to avoid unnecessary conflict.\\\\n\\\\n---\\\\n\\\\n### 3. **Pok\\\\u00e9dex Description**\\\\nTyphlosion\\\\u2019s Pok\\\\u00e9dex entries highlight its explosive power and fiery abilities:\\\\n- **Gold**: \\\\\"If its rage peaks, it becomes so hot that anything that touches it will instantly go up in flames.\\\\\"\\\\n- **Silver**: \\\\\"It has a secret, devastating move. It rubs its blazing fur together to cause huge explosions.\\\\\"\\\\n- **Crystal**: \\\\\"When heat from its body causes the air around it to shimmer, this is a sign that it is ready to battle.\\\\\"\\\\n- **Legends: Arceus**: In the Hisui region, Typhlosion has a unique Fire/Ghost typing and is described as having a more spiritual and mystical presence. It is said to guide lost souls with its flames.\\\\n\\\\n---\\\\n\\\\n### 4. **Notable Trainers Who Own Typhlosion**\\\\n- **Jimmy (Gold)**: In the Pok\\\\u00e9mon anime special \\\\\"The Legend of Thunder,\\\\\" Jimmy, a trainer based on the protagonist of Pok\\\\u00e9mon Gold and Silver, owns a Typhlosion. It is his ace Pok\\\\u00e9mon and is shown to be incredibly loyal and powerful in battle.\\\\n- **Ethan (Player Character)**: In the main series games, Ethan (or Kris/Lyra, depending on the player\\'s choice) can evolve their starter Cyndaquil into Typhlosion, making it a staple of their team throughout their journey in Johto.\\\\n- **Volkner (Sinnoh Gym Leader)**: In Pok\\\\u00e9mon Masters EX, Volkner is paired with Typhlosion, showcasing its versatility and strength in battle.\\\\n\\\\n---\\\\n\\\\n### 5. **Famous Scene in the Pok\\\\u00e9mon Franchise**\\\\nOne of Typhlosion\\\\u2019s most memorable appearances is in the anime special *The Legend of Thunder*. Jimmy\\\\u2019s Typhlosion is featured prominently in battles against Team Rocket and other trainers. In one iconic scene, Typhlosion uses its Flamethrower and other fire-based moves to defeat an opponent\\\\u2019s Pok\\\\u00e9mon, demonstrating its raw power and loyalty to its trainer.\\\\n\\\\nAnother notable moment is Typhlosion\\\\u2019s inclusion in *Pok\\\\u00e9mon Legends: Arceus*, where it receives a regional variant with a Fire/Ghost typing. This Hisuian Typhlosion has a more mystical design, with purple flames and a calmer demeanor.', mimetype='text/plain', start_char_idx=0, end_char_idx=3810, metadata_seperator='::', text_template='Metadata: {metadata_str}\\n-----\\nContent: {content}'), score=2.3656623363494873), NodeWithScore(node=TextNode(id_='3c07d512-e38b-4ba4-8f35-cd642f6a4bf1', embedding=None, metadata={'name': 'Staravia', 'generation': 4, 'type1': 'normal', 'type2': 'flying', 'is_legendary': 0}, excluded_embed_metadata_keys=[], excluded_llm_metadata_keys=[], relationships={<NodeRelationship.SOURCE: '1'>: RelatedNodeInfo(node_id='Staravia', node_type='4', metadata={'name': 'Staravia', 'generation': 4, 'type1': 'normal', 'type2': 'flying', 'is_legendary': 0}, hash='b190f47e489cdfa9ff6812cd5427d8e6405fc0099c180dbdf279eaf2e9e26b5c'), <NodeRelationship.NEXT: '3'>: RelatedNodeInfo(node_id='30119e5e-4771-45a1-9b65-eb9fafd54679', node_type='1', metadata={}, hash='7bfad4e76954cf2700b78e75aaec234f5930d2bafb950c2f60eedcd7e70d73e0')}, metadata_template='{key}=>{value}', metadata_separator='::', text='\"### Detailed Summary of Staravia\\\\n\\\\nStaravia is a Normal/Flying-type Pok\\\\u00e9mon introduced in Generation IV. It is the evolved form of Starly and evolves into Staraptor, making it the middle stage of its evolutionary line. Staravia is known for its flocking behavior and its role as a common regional bird Pok\\\\u00e9mon in the Sinnoh region.\\\\n\\\\n---\\\\n\\\\n### 1. **Characteristics**\\\\n- **Appearance**: Staravia resembles a medium-sized bird with a black and white color scheme. Its body is primarily gray, with a white face and underbelly. It has a distinctive black crest on its head that curves backward, giving it a sharp and confident appearance. Its wings are broad and tipped with black feathers, and it has orange talons and a small, pointed orange beak.\\\\n- **Size**: Staravia is 2\\'0\\\\\" (0.6 m) tall and weighs 34.2 lbs (15.5 kg).\\\\n- **Typing**: Normal/Flying.\\\\n- **Abilities**: Staravia typically has the ability *Intimidate*, which lowers the opponent\\'s Attack stat upon entering battle. Its Hidden Ability is *Reckless*, which boosts the power of moves that have recoil damage.\\\\n\\\\n---\\\\n\\\\n### 2. **Behavior**\\\\n- Staravia is a highly social Pok\\\\u00e9mon that thrives in flocks. It is rarely seen alone, as it prefers to travel and hunt in groups. This flocking behavior provides safety in numbers and allows them to coordinate attacks on prey.\\\\n- It is territorial and will fiercely defend its nesting area from intruders. Staravia is known to be aggressive when protecting its flock or territory.\\\\n- Despite its aggressive tendencies, Staravia is a loyal and dependable Pok\\\\u00e9mon when trained by a skilled trainer. It is often seen as a stepping stone for trainers aiming to raise a powerful Staraptor.\\\\n\\\\n---\\\\n\\\\n### 3. **Pokedex Description**\\\\nHere are some notable Pok\\\\u00e9dex entries for Staravia across different games:\\\\n\\\\n- **Diamond**: \\\\\"It flies around forests and fields in search of bug Pok\\\\u00e9mon. It stays within a huge flock.\\\\\"\\\\n- **Pearl**: \\\\\"It lives in forests and fields. Squabbles over territory occur when flocks collide.\\\\\"\\\\n- **Platinum**: \\\\\"Recognizing their own weakness, they always live in a group. When alone, a Staravia cries noisily.\\\\\"\\\\n- **Scarlet/Violet**: \\\\\"Recognizing their own weakness, they always live in a group. When alone, a Staravia cries noisily.\\\\\"\\\\n\\\\nThese entries emphasize its flocking behavior and its reliance on group dynamics for survival.\\\\n\\\\n---\\\\n\\\\n### 4. **Notable Trainers Who Own Staravia**\\\\n- **Ash Ketchum**: Ash caught a Starly early in his journey through the Sinnoh region, which later evolved into Staravia and eventually into Staraptor. Staravia played a significant role in Ash\\'s team during his Sinnoh adventures, showcasing its strength and versatility in battles.\\\\n- **Barry**: Barry, the rival character in Pok\\\\u00e9mon Diamond, Pearl, and Platinum, is known to have a Staravia (or its evolved forms) as part of his team, depending on the progression of the game.\\\\n- **Other Trainers**: Various Bird Keepers and Ace Trainers in the Sinnoh region are often seen using Staravia in battles.\\\\n\\\\n---\\\\n\\\\n### 5. **Famous Scene in the Pok\\\\u00e9mon Franchise**\\\\nOne of the most memorable moments involving Staravia occurs in the *Pok\\\\u00e9mon: Diamond and Pearl* anime series. After Ash catches a Starly, it evolves into Staravia during a battle against Team Rocket in Episode 13 (\\\\\"A Staravia is Born!\\\\\"). This evolution is significant because it marks the first evolution of one of Ash\\'s Pok\\\\u00e9mon in the Sinnoh region. Staravia\\'s evolution into Staraptor later in the series also stands out, as it learns the powerful move *Close Combat* and becomes a key member of Ash\\'s team.\\\\n\\\\nAnother notable scene is when Ash\\'s Staravia participates in the Hearthome City Tag Battle Tournament.', mimetype='text/plain', start_char_idx=0, end_char_idx=3754, metadata_seperator='::', text_template='Metadata: {metadata_str}\\n-----\\nContent: {content}'), score=2.2951080799102783), NodeWithScore(node=TextNode(id_='a08a1b6c-d8d5-4996-bd5f-f6f39802031b', embedding=None, metadata={'name': 'Lycanroc', 'generation': 7, 'type1': 'rock', 'type2': None, 'is_legendary': 0}, excluded_embed_metadata_keys=[], excluded_llm_metadata_keys=[], relationships={<NodeRelationship.SOURCE: '1'>: RelatedNodeInfo(node_id='Lycanroc', node_type='4', metadata={'name': 'Lycanroc', 'generation': 7, 'type1': 'rock', 'type2': None, 'is_legendary': 0}, hash='07d6bd4091a41ea0811e06b85e13cdd98d742349dda94c0ab06b1e97a1bb75da'), <NodeRelationship.NEXT: '3'>: RelatedNodeInfo(node_id='7b748515-02e0-4117-8a3d-0c9dda51af6a', node_type='1', metadata={}, hash='b505d43368afb4fe0d0c22292e9204dee90a0b7b4e504f1b41705a02462acdbc')}, metadata_template='{key}=>{value}', metadata_separator='::', text='\"### Lycanroc: Detailed Summary\\\\n\\\\nLycanroc is a Rock-type Pok\\\\u00e9mon introduced in **Generation VII** (Pok\\\\u00e9mon Sun and Moon). It evolves from Rockruff, a puppy-like Pok\\\\u00e9mon, and has three distinct forms depending on the time of day or circumstances under which it evolves: **Midday Form**, **Midnight Form**, and **Dusk Form**. Each form has unique characteristics, behaviors, and abilities, making Lycanroc a versatile and popular Pok\\\\u00e9mon in the franchise.\\\\n\\\\n---\\\\n\\\\n### 1. **Characteristics**\\\\nLycanroc\\'s appearance varies significantly depending on its form:\\\\n\\\\n- **Midday Form**: Resembles a sleek, wolf-like creature with a streamlined body. It has cream-colored fur, a bushy tail, and sharp, pointed rocks protruding from its mane. This form is associated with daytime evolution and embodies speed and precision.\\\\n\\\\n- **Midnight Form**: A more intimidating, bipedal wolf-like Pok\\\\u00e9mon with a hunched posture. It has a wild, shaggy mane of fur and glowing red eyes, giving it a feral and menacing appearance. This form evolves during nighttime and emphasizes brute strength and aggression.\\\\n\\\\n- **Dusk Form**: A rare hybrid form that combines traits of both Midday and Midnight Forms. It has orange fur, a more balanced posture, and glowing green eyes. This form is achieved under special conditions during twilight hours.\\\\n\\\\n---\\\\n\\\\n### 2. **Behavior**\\\\nLycanroc\\'s behavior is closely tied to its form:\\\\n\\\\n- **Midday Form**: Known for its calm and loyal nature, this form prefers precision and speed in battle. It is highly disciplined and will wait for the perfect moment to strike its opponent with pinpoint accuracy.\\\\n\\\\n- **Midnight Form**: Wild and reckless, this form thrives on its primal instincts. It enjoys battling head-on and will taunt its opponents to provoke them. Midnight Lycanroc is fiercely independent and often difficult to train due to its stubborn personality.\\\\n\\\\n- **Dusk Form**: A balanced mix of the other two forms, Dusk Lycanroc is both loyal and fierce. It is rare and considered special due to its unique evolution conditions. Trainers who bond deeply with their Rockruff are more likely to achieve this form.\\\\n\\\\n---\\\\n\\\\n### 3. **Pokedex Description**\\\\nHere are the official Pok\\\\u00e9dex entries for Lycanroc across its forms:\\\\n\\\\n- **Midday Form**:\\\\n  - *Sun*: \\\\\"When properly raised from a young age, it will become a trustworthy partner that will absolutely never betray its Trainer.\\\\\"\\\\n  - *Moon*: \\\\\"The rocks in its mane are sharper than a knife. Fragments that break off are treasured as good luck charms.\\\\\"\\\\n\\\\n- **Midnight Form**:\\\\n  - *Sun*: \\\\\"It goes for the enemies\\\\u2019 throats with its sharp claws. It strikes at precisely the right moment.\\\\\"\\\\n  - *Moon*: \\\\\"The more intimidating the opponent it faces, the more excited it gets. It doesn\\\\u2019t mind getting hurt if it means victory.\\\\\"\\\\n\\\\n- **Dusk Form**:\\\\n  - *Ultra Sun*: \\\\\"Bathed in the setting sun, the orange fur on its body glows like it\\\\u2019s on fire. It\\\\u2019s admired by everyone.\\\\\"\\\\n  - *Ultra Moon*: \\\\\"This form is the result of a special Rockruff evolving at dusk. It\\\\u2019s very rare in Alola.\\\\\"\\\\n\\\\n---\\\\n\\\\n### 4. **Notable Trainers Who Own Lycanroc**\\\\nLycanroc has been featured prominently in the Pok\\\\u00e9mon anime and games, with notable trainers owning it:\\\\n\\\\n- **Ash Ketchum**: Ash owns a **Dusk Form Lycanroc** in the Pok\\\\u00e9mon Sun and Moon anime. His Lycanroc evolves from a special Rockruff that he befriends and trains. This Lycanroc is a key member of Ash\\'s team during his journey in Alola and plays a pivotal role in his battles.\\\\n\\\\n- **Gladion**: Gladion, a rival character in the Sun and Moon games and anime, owns a **Midnight Form Lycanroc**.', mimetype='text/plain', start_char_idx=0, end_char_idx=3692, metadata_seperator='::', text_template='Metadata: {metadata_str}\\n-----\\nContent: {content}'), score=2.2728354930877686), NodeWithScore(node=TextNode(id_='32940620-a6cd-4e67-ba92-4508d954a484', embedding=None, metadata={'name': 'Staraptor', 'generation': 4, 'type1': 'normal', 'type2': 'flying', 'is_legendary': 0}, excluded_embed_metadata_keys=[], excluded_llm_metadata_keys=[], relationships={<NodeRelationship.SOURCE: '1'>: RelatedNodeInfo(node_id='Staraptor', node_type='4', metadata={'name': 'Staraptor', 'generation': 4, 'type1': 'normal', 'type2': 'flying', 'is_legendary': 0}, hash='7a660a9754a0f6dcb7531069a2589fdcfdcdbb23aa41d4676c2f06b2960f4148'), <NodeRelationship.NEXT: '3'>: RelatedNodeInfo(node_id='7a0b212d-616b-416b-9293-9e3dc31be286', node_type='1', metadata={}, hash='97fb7da110e5f3279884180ca9e78b99194d1d36e9ec71cc6b701db15f1c5ca7')}, metadata_template='{key}=>{value}', metadata_separator='::', text='\"### Detailed Summary of Staraptor\\\\n\\\\nStaraptor is a popular Pok\\\\u00e9mon introduced in **Generation IV** (Pok\\\\u00e9mon Diamond and Pearl). It is the final evolution of Starly, evolving from Staravia at level 34. Known for its aggressive demeanor and impressive aerial combat abilities, Staraptor is a fan-favorite among trainers for its strength and versatility in battle.\\\\n\\\\n---\\\\n\\\\n### 1. **Characteristics**\\\\n- **Category:** Predator Pok\\\\u00e9mon  \\\\n- **Type:** Normal/Flying  \\\\n- **Height:** 3\\'11\\\\\" (1.2 m)  \\\\n- **Weight:** 54.9 lbs (24.9 kg)  \\\\n- **Appearance:**  \\\\n  Staraptor has a sleek, bird-like design with a sharp, intimidating appearance. Its body is primarily gray with black wings and tail feathers. It has a distinctive red-tipped crest on its head that curves backward, giving it a fierce and commanding look. Its talons and beak are orange, and its eyes are sharp and piercing, emphasizing its predatory nature.\\\\n\\\\n- **Abilities:**  \\\\n  Staraptor typically has the ability **Intimidate**, which lowers the opponent\\'s Attack stat upon entering battle. Its Hidden Ability is **Reckless**, which boosts the power of moves that have recoil damage, such as Brave Bird.\\\\n\\\\n- **Stats:**  \\\\n  Staraptor is known for its high **Attack** and **Speed**, making it a formidable physical attacker. It also has decent HP but lacks strong defenses, making it more suited for offensive strategies.\\\\n\\\\n---\\\\n\\\\n### 2. **Behavior**\\\\nStaraptor is a bold and fearless Pok\\\\u00e9mon that thrives in aerial combat. Unlike its pre-evolutions, Starly and Staravia, Staraptor is solitary and prefers to hunt alone rather than in flocks. It is highly territorial and will fiercely defend its domain from intruders. Staraptor is known for its bravery, often taking on opponents much larger than itself without hesitation.\\\\n\\\\nIn battle, Staraptor uses its powerful wings and sharp talons to strike with precision and force. It is also capable of flying at high speeds, making it difficult for opponents to land hits. Its aggressive nature and willingness to fight make it a reliable partner for trainers seeking a strong offensive Pok\\\\u00e9mon.\\\\n\\\\n---\\\\n\\\\n### 3. **Pokedex Description**\\\\nHere are some notable Pok\\\\u00e9dex entries for Staraptor across different games:\\\\n\\\\n- **Diamond:** \\\\\"It has a savage nature. It will courageously challenge foes that are much larger than itself.\\\\\"\\\\n- **Pearl:** \\\\\"The muscles in its wings are strong. It can easily fly while gripping a small Pok\\\\u00e9mon.\\\\\"\\\\n- **Platinum:** \\\\\"When Staravia evolve into Staraptor, they leave the flock to live alone. They have sturdy wings.\\\\\"\\\\n- **Sword:** \\\\\"It never stops attacking even if it is injured. It fusses over the shape of its comb.\\\\\"\\\\n- **Shield:** \\\\\"The muscles in its wings and legs are strong. It can easily fly while gripping a small Pok\\\\u00e9mon.\\\\\"\\\\n\\\\nThese entries emphasize Staraptor\\'s strength, independence, and aggressive nature.\\\\n\\\\n---\\\\n\\\\n### 4. **Notable Trainers Who Own Staraptor**\\\\nStaraptor has been featured in the Pok\\\\u00e9mon franchise as a key member of several trainers\\' teams:\\\\n\\\\n- **Ash Ketchum:**  \\\\n  Ash owns a Staraptor in the **Diamond and Pearl anime series**. His Staraptor evolved from Starly and then Staravia during his journey through the Sinnoh region. It is one of Ash\\'s most reliable Pok\\\\u00e9mon, often used in battles and competitions. Staraptor showcases its bravery and aerial prowess in many battles, making it a standout member of Ash\\'s team.\\\\n\\\\n- **Barry:**  \\\\n  Barry, the rival character in Pok\\\\u00e9mon Diamond, Pearl, and Platinum, has a Staraptor as part of his team. It serves as a strong offensive Pok\\\\u00e9mon in his lineup, often using moves like Brave Bird and Close Combat.\\\\n\\\\n- **Elite Four Aaron (Anime):**  \\\\n  In the Pok\\\\u00e9mon anime, Aaron of the Sinnoh Elite Four is briefly shown using a Staraptor during his battles.\\\\n\\\\n---\\\\n\\\\n### 5.', mimetype='text/plain', start_char_idx=0, end_char_idx=3867, metadata_seperator='::', text_template='Metadata: {metadata_str}\\n-----\\nContent: {content}'), score=2.2299516201019287), NodeWithScore(node=TextNode(id_='046d7ab2-4897-4e56-9535-87ae0271839a', embedding=None, metadata={'name': 'Spearow', 'generation': 1, 'type1': 'normal', 'type2': 'flying', 'is_legendary': 0}, excluded_embed_metadata_keys=[], excluded_llm_metadata_keys=[], relationships={<NodeRelationship.SOURCE: '1'>: RelatedNodeInfo(node_id='Spearow', node_type='4', metadata={'name': 'Spearow', 'generation': 1, 'type1': 'normal', 'type2': 'flying', 'is_legendary': 0}, hash='bad2dc2286cabecfd9723d4f91647d9505a22e11eb6dd97e4ae18bff8d51e271'), <NodeRelationship.NEXT: '3'>: RelatedNodeInfo(node_id='1f45072b-d7b7-4b2e-a065-329489c99095', node_type='1', metadata={}, hash='aa347cea1618d88dee572675a577c11db797b22cfce4841fd3c4cb908f87919e')}, metadata_template='{key}=>{value}', metadata_separator='::', text='\"### Spearow: The Tiny Bird Pok\\\\u00e9mon\\\\n\\\\nSpearow is a dual-type **Normal/Flying Pok\\\\u00e9mon** introduced in Generation I. Known for its aggressive nature and sharp cries, Spearow is a small bird Pok\\\\u00e9mon that is often underestimated due to its size but proves to be a formidable opponent in the wild.\\\\n\\\\n---\\\\n\\\\n### 1. **Characteristics**\\\\n- **Appearance**: Spearow is a small bird Pok\\\\u00e9mon with a primarily brown body and a cream-colored underside. Its wings are pinkish with brown tips, and it has a short, stubby tail with three brown feathers. Spearow\\'s head is large relative to its body, with a sharp, hooked beak and fierce, glaring eyes. Its legs are thin but strong, ending in sharp talons.\\\\n- **Size**: Spearow is 0.3 meters (1 foot) tall and weighs 2 kilograms (4.4 pounds).\\\\n- **Abilities**: Spearow typically has the ability **Keen Eye**, which prevents its accuracy from being lowered. Its Hidden Ability is **Sniper**, which increases the power of critical hits.\\\\n- **Evolution**: Spearow evolves into **Fearow** starting at level 20.\\\\n\\\\n---\\\\n\\\\n### 2. **Behavior**\\\\nSpearow is known for its aggressive and territorial nature. Despite its small size, it is highly combative and will not hesitate to attack larger Pok\\\\u00e9mon or humans if it feels threatened. It is also highly vocal, using its sharp cries to warn others of danger or to call for reinforcements from its flock. Spearow is not a graceful flier but is adept at short bursts of flight, which it uses to escape predators or ambush prey.\\\\n\\\\nSpearow primarily feeds on insects and small Pok\\\\u00e9mon, using its sharp beak to peck at its targets. It is often found in open fields and grasslands, where it can easily spot prey and avoid dense forests that hinder its flight.\\\\n\\\\n---\\\\n\\\\n### 3. **Pok\\\\u00e9dex Description**\\\\nSpearow\\'s Pok\\\\u00e9dex entries across various games highlight its aggressive nature and vocal tendencies:\\\\n\\\\n- **Red/Blue**: \\\\\"Eats bugs in grassy areas. It has to flap its short wings at high speed to stay airborne.\\\\\"\\\\n- **Gold**: \\\\\"It flaps its small wings busily to fly. Using its beak, it searches in grass for prey.\\\\\"\\\\n- **Ruby/Sapphire**: \\\\\"Spearow has a very loud cry that can be heard over half a mile away. If its high, keening cry is heard echoing all around, it is a sign that they are warning each other of danger.\\\\\"\\\\n- **Legends: Arceus**: \\\\\"A temperamental Pok\\\\u00e9mon that\\\\u2019s quick to fly into a rage. It\\\\u2019s also a hardy creature that can thrive in any environment.\\\\\"\\\\n\\\\n---\\\\n\\\\n### 4. **Notable Trainers Who Own Spearow**\\\\n- **Ash Ketchum\\'s Rival Flock**: In the very first episode of the Pok\\\\u00e9mon anime, Ash encounters a wild Spearow that becomes enraged after being hit by a rock. This Spearow leads a flock of other Spearow in a dramatic chase, marking one of the most iconic moments in the franchise.\\\\n- **Paul**: In the Pok\\\\u00e9mon anime, Paul, a rival of Ash, is briefly seen using a Spearow during his journey, showcasing its utility as a scouting Pok\\\\u00e9mon.\\\\n- **Youngster Trainers**: In the Pok\\\\u00e9mon games, Spearow is often used by Youngster-class trainers, particularly in early-game routes.\\\\n\\\\n---\\\\n\\\\n### 5. **Famous Scene in the Pok\\\\u00e9mon Franchise**\\\\nOne of the most famous scenes involving Spearow occurs in the **first episode of the Pok\\\\u00e9mon anime, \\\\\"Pok\\\\u00e9mon - I Choose You!\\\\\"**. After Ash Ketchum obtains Pikachu as his first Pok\\\\u00e9mon, he accidentally angers a wild Spearow by throwing a rock at it. The Spearow calls for reinforcements, and a massive flock of Spearow chases Ash and Pikachu. This scene is pivotal as it showcases the bond between Ash and Pikachu, culminating in Pikachu using a powerful Thunderbolt to drive the Spearow away.', mimetype='text/plain', start_char_idx=0, end_char_idx=3718, metadata_seperator='::', text_template='Metadata: {metadata_str}\\n-----\\nContent: {content}'), score=2.1750850677490234), NodeWithScore(node=TextNode(id_='b8244f55-d7ec-45bd-b7bb-e6874a9880ba', embedding=None, metadata={'name': 'Forretress', 'generation': 2, 'type1': 'bug', 'type2': 'steel', 'is_legendary': 0}, excluded_embed_metadata_keys=[], excluded_llm_metadata_keys=[], relationships={<NodeRelationship.SOURCE: '1'>: RelatedNodeInfo(node_id='Forretress', node_type='4', metadata={'name': 'Forretress', 'generation': 2, 'type1': 'bug', 'type2': 'steel', 'is_legendary': 0}, hash='4ccfb9c545fb6a78f85b7d549015a7553522430b52c0a2183f8868fe82e8ee07'), <NodeRelationship.PREVIOUS: '2'>: RelatedNodeInfo(node_id='38f129cb-1e43-4723-ba7b-654b455f9975', node_type='1', metadata={'name': 'Forretress', 'generation': 2, 'type1': 'bug', 'type2': 'steel', 'is_legendary': 0}, hash='4f7e9963c4a5aed797b85b80398a22e675c7cea86d7acc14148a0e3b934e261f')}, metadata_template='{key}=>{value}', metadata_separator='::', text='**Famous Scene in the Pok\\\\u00e9mon Franchise**\\\\nOne of the most memorable scenes involving Forretress occurs in the Pok\\\\u00e9mon anime during Brock\\'s journey with Ash and Misty. Brock\\'s Forretress often played a comedic role due to its stoic and immobile nature. A particularly famous moment was when Brock used Forretress to clear obstacles or debris with its Rapid Spin move, showcasing its utility outside of battles.\\\\n\\\\nAnother notable moment was during battles where Brock\\'s Forretress used Explosion or Self-Destruct as a last-ditch effort to turn the tide of a fight. These moves often surprised opponents and demonstrated Forretress\\'s ability to deal significant damage despite its defensive role.\\\\n\\\\nIn competitive play, Forretress gained fame as one of the most reliable hazard-setting Pok\\\\u00e9mon in the franchise, especially during the Generation IV and V metagames. Its ability to set up multiple hazards while clearing them with Rapid Spin made it a staple on many teams.\\\\n\\\\n---\\\\n\\\\nForretress remains a fan-favorite Pok\\\\u00e9mon due to its unique design, defensive capabilities, and strategic utility in battles. Its mysterious nature and explosive tendencies make it a fascinating addition to any trainer\\'s team.\"', mimetype='text/plain', start_char_idx=3935, end_char_idx=5164, metadata_seperator='::', text_template='Metadata: {metadata_str}\\n-----\\nContent: {content}'), score=2.103118658065796), NodeWithScore(node=TextNode(id_='8c33e190-bfc2-465f-974a-0440dcb3c92f', embedding=None, metadata={'name': 'Rhyperior', 'generation': 4, 'type1': 'ground', 'type2': 'rock', 'is_legendary': 0}, excluded_embed_metadata_keys=[], excluded_llm_metadata_keys=[], relationships={<NodeRelationship.SOURCE: '1'>: RelatedNodeInfo(node_id='Rhyperior', node_type='4', metadata={'name': 'Rhyperior', 'generation': 4, 'type1': 'ground', 'type2': 'rock', 'is_legendary': 0}, hash='10a914a0f3c053124f833110312953cb8bd1de9b5880ffe0860f2536dcd0f949'), <NodeRelationship.NEXT: '3'>: RelatedNodeInfo(node_id='48cd1180-c147-457d-8a26-3d0f2641e191', node_type='1', metadata={}, hash='6957cfeb081b24a3248a4d1fd034309c1038664b5d61200e48c5abf31ba6b362')}, metadata_template='{key}=>{value}', metadata_separator='::', text='\"### Detailed Summary of Rhyperior\\\\n\\\\nRhyperior is a Ground/Rock-type Pok\\\\u00e9mon introduced in Generation IV. It is the final evolution of Rhyhorn, evolving from Rhydon when traded while holding a Protector.\\\\n\\\\n---\\\\n\\\\n### 1. **Characteristics**\\\\n- **Appearance**: Rhyperior is a large, bipedal Pok\\\\u00e9mon with a rugged, armored body resembling a rhinoceros or a dinosaur. Its body is primarily orange and gray, with rocky plates covering its torso, arms, and legs. These plates act as natural armor, making it highly durable in battle. It has a drill-like horn on its snout, which it uses for both offense and digging. Its arms are equipped with holes that resemble cannons, capable of launching rocks or even Geodude as projectiles.\\\\n- **Size**: Rhyperior stands at 2.4 meters (7\\'10\\\\\") tall and weighs 282.8 kg (623.5 lbs), making it an imposing figure in battle.\\\\n- **Abilities**: Rhyperior\\'s abilities include **Lightning Rod**, which draws in Electric-type moves to boost its Special Attack, and **Solid Rock**, which reduces the damage it takes from super-effective moves. Its Hidden Ability is **Reckless**, which boosts the power of moves that have recoil damage.\\\\n\\\\n---\\\\n\\\\n### 2. **Behavior**\\\\nRhyperior is a territorial and aggressive Pok\\\\u00e9mon, often seen guarding its domain with brute force. It is known for its incredible strength and durability, making it a formidable opponent in battle. Despite its rugged appearance, Rhyperior is highly intelligent and uses its cannon-like arms strategically to launch projectiles at enemies or prey. It is also known to be loyal to its trainer, showing great determination in battle.\\\\n\\\\nIn the wild, Rhyperior is often found in rocky or mountainous regions, where it blends in with its surroundings. It uses its horn to drill through rock and its powerful arms to hurl boulders at threats or obstacles. However, its immense power can sometimes backfire, as it may accidentally launch projectiles too far or in the wrong direction.\\\\n\\\\n---\\\\n\\\\n### 3. **Pokedex Description**\\\\nRhyperior\\'s Pok\\\\u00e9dex entries across various games highlight its strength, durability, and unique ability to launch projectiles:\\\\n\\\\n- **Diamond/Pearl**: \\\\\"It puts rocks in holes in its palms and uses its muscles to shoot them. Geodude are shot at rare times.\\\\\"\\\\n- **Platinum**: \\\\\"It can launch a rock held in its hand like a missile by tightening then expanding muscles instantly.\\\\\"\\\\n- **HeartGold/SoulSilver**: \\\\\"It throws rocks to knock down flying Pok\\\\u00e9mon. It rarely uses its horn for battle due to its tendency to break.\\\\\"\\\\n- **Sword**: \\\\\"It relies on its carapace to deflect incoming attacks and throw its enemies off balance.\\\\\"\\\\n- **Shield**: \\\\\"It can crush boulders and shatter mountains with its sheer strength. Its cannon-like arms are its most dangerous weapons.\\\\\"\\\\n\\\\n---\\\\n\\\\n### 4. **Notable Trainers Who Own Rhyperior**\\\\n- **Paul (Anime)**: Paul, Ash\\'s rival in the *Diamond and Pearl* series, owns a powerful Rhyperior. It is one of his strongest Pok\\\\u00e9mon and is often used in battles to demonstrate Paul\\'s strategic and ruthless battle style.\\\\n- **Bertha (Elite Four)**: Bertha, a member of the Sinnoh Elite Four, uses a Rhyperior as part of her Ground-type team in the games.\\\\n- **Palmer (Battle Frontier)**: Palmer, the Tower Tycoon in the Sinnoh Battle Frontier, has a Rhyperior on his team, showcasing its strength in competitive battles.\\\\n\\\\n---\\\\n\\\\n### 5. **Famous Scene in the Pok\\\\u00e9mon Franchise**\\\\nOne of Rhyperior\\'s most memorable appearances in the Pok\\\\u00e9mon anime occurs during the *Diamond and Pearl* series when Paul uses his Rhyperior in a battle against Ash. In the Sinnoh League, Paul\\'s Rhyperior demonstrates its immense power and durability, taking on Ash\\'s team with its devastating Rock Wrecker attack.', mimetype='text/plain', start_char_idx=0, end_char_idx=3784, metadata_seperator='::', text_template='Metadata: {metadata_str}\\n-----\\nContent: {content}'), score=2.0629119873046875), NodeWithScore(node=TextNode(id_='ff5e68f5-0d19-44e7-8448-f013135e7091', embedding=None, metadata={'name': 'Feraligatr', 'generation': 2, 'type1': 'water', 'type2': None, 'is_legendary': 0}, excluded_embed_metadata_keys=[], excluded_llm_metadata_keys=[], relationships={<NodeRelationship.SOURCE: '1'>: RelatedNodeInfo(node_id='Feraligatr', node_type='4', metadata={'name': 'Feraligatr', 'generation': 2, 'type1': 'water', 'type2': None, 'is_legendary': 0}, hash='10adaee41bae8d15d5b466dad19b205878a44923514716c36fc5fe812cc75717'), <NodeRelationship.PREVIOUS: '2'>: RelatedNodeInfo(node_id='daaa5ee6-0d02-4e34-a18f-c75884327ebe', node_type='1', metadata={'name': 'Feraligatr', 'generation': 2, 'type1': 'water', 'type2': None, 'is_legendary': 0}, hash='ce7ec9461f6ebd65f7eceeb4f30cbb9d23a41081c96ca639f988b670d28283b3')}, metadata_template='{key}=>{value}', metadata_separator='::', text='The manga often portrays Feraligatr as a fierce and loyal companion, emphasizing its bond with Silver and its ability to take on powerful opponents.\\\\n\\\\nIn the games, Feraligatr is often remembered for its dominance in battles, especially in the Generation II games, where its high Attack stat and access to moves like Surf, Ice Punch, and Crunch made it a versatile and powerful choice for players.\\\\n\\\\n---\\\\n\\\\nFeraligatr remains a fan-favorite Pok\\\\u00e9mon due to its intimidating design, strong battle capabilities, and its role as the final evolution of one of the most beloved starter Pok\\\\u00e9mon in the franchise.\"', mimetype='text/plain', start_char_idx=3818, end_char_idx=4436, metadata_seperator='::', text_template='Metadata: {metadata_str}\\n-----\\nContent: {content}'), score=2.062615156173706)]\n",
      "[7.512044906616211, 4.360943794250488, 3.244002342224121]\n",
      "['Charizard', 'Granbull', 'Emboar']\n",
      "[NodeWithScore(node=TextNode(id_='224a4daf-c96a-452a-a81d-c6e728a5a5e9', embedding=None, metadata={'name': 'Charizard', 'generation': 1, 'type1': 'fire', 'type2': 'flying', 'is_legendary': 0}, excluded_embed_metadata_keys=[], excluded_llm_metadata_keys=[], relationships={<NodeRelationship.SOURCE: '1'>: RelatedNodeInfo(node_id='Charizard', node_type='4', metadata={'name': 'Charizard', 'generation': 1, 'type1': 'fire', 'type2': 'flying', 'is_legendary': 0}, hash='a669e62f2ff7ef480ae290c9bf7bc98f961a0c854a8b9becac7fa50cb9d90d32'), <NodeRelationship.NEXT: '3'>: RelatedNodeInfo(node_id='bbf90ac5-bbb4-4171-abc9-c4e98d3beb15', node_type='1', metadata={}, hash='6a35a40f872fc6d49d0c2249031bc2c0d329fbcd7595390797276077ecf91699')}, metadata_template='{key}=>{value}', metadata_separator='::', text='\"### Charizard: Detailed Summary\\\\n\\\\nCharizard is one of the most iconic Pok\\\\u00e9mon in the franchise, beloved by fans for its powerful design, fiery abilities, and prominent role in the Pok\\\\u00e9mon series. Below is a detailed breakdown of Charizard\\'s characteristics, behavior, Pok\\\\u00e9dex description, notable trainers, and famous moments in the Pok\\\\u00e9mon franchise.\\\\n\\\\n---\\\\n\\\\n### 1. **Characteristics**\\\\n- **Species**: Flame Pok\\\\u00e9mon\\\\n- **Type**: Fire/Flying\\\\n- **Height**: 5\\'07\\\\\" (1.7 m)\\\\n- **Weight**: 199.5 lbs (90.5 kg)\\\\n- **Evolutionary Line**: Charmander \\\\u2192 Charmeleon \\\\u2192 Charizard\\\\n- **Mega Evolutions**: Charizard has two Mega Evolutions, Mega Charizard X (Fire/Dragon type) and Mega Charizard Y (Fire/Flying type), introduced in *Pok\\\\u00e9mon X and Y*.\\\\n- **Gigantamax Form**: Charizard also has a Gigantamax form introduced in *Pok\\\\u00e9mon Sword and Shield*, which gives it a massive, fiery appearance with flames erupting from its wings and body.\\\\n\\\\nCharizard resembles a large, orange dragon with a long tail tipped with a flame. Its wings are blue on the inside and allow it to fly at high speeds. Despite its dragon-like appearance, it is not a Dragon-type Pok\\\\u00e9mon in its base form.\\\\n\\\\n---\\\\n\\\\n### 2. **Behavior**\\\\nCharizard is known for its fiery temperament and pride. It is a powerful and competitive Pok\\\\u00e9mon that loves to battle strong opponents. However, it can be reckless and overconfident, especially when it underestimates its opponent. Charizard\\\\u2019s flame burns hotter when it is excited or angry, and it is said to never use its fire breath on weaker opponents, showing a sense of honor.\\\\n\\\\nCharizard is also highly loyal to trainers who earn its respect, but it can be disobedient if it feels its trainer is inexperienced or unworthy, as seen in the Pok\\\\u00e9mon anime.\\\\n\\\\n---\\\\n\\\\n### 3. **Pok\\\\u00e9dex Description**\\\\nCharizard has appeared in nearly every Pok\\\\u00e9mon game, and its Pok\\\\u00e9dex entries often emphasize its fiery breath and flying abilities. Below are some notable Pok\\\\u00e9dex descriptions:\\\\n\\\\n- **Pok\\\\u00e9mon Red/Blue**: \\\\\"Spits fire that is hot enough to melt boulders. Known to cause forest fires unintentionally.\\\\\"\\\\n- **Pok\\\\u00e9mon Gold**: \\\\\"If Charizard becomes furious, the flame at the tip of its tail flares up in a whitish-blue color.\\\\\"\\\\n- **Pok\\\\u00e9mon Sword**: \\\\\"It spits fire that is hot enough to melt boulders. It may cause forest fires by blowing flames.\\\\\"\\\\n- **Pok\\\\u00e9mon Shield**: \\\\\"The flame inside its body burns hotter than 3,600 degrees Fahrenheit. When Charizard roars, that temperature climbs even higher.\\\\\"\\\\n\\\\nThese entries highlight its destructive power and the intensity of its flames.\\\\n\\\\n---\\\\n\\\\n### 4. **Notable Trainers Who Own Charizard**\\\\nCharizard has been owned by several notable trainers in the Pok\\\\u00e9mon franchise, including:\\\\n\\\\n- **Ash Ketchum**: Ash\\\\u2019s Charizard is one of his most famous Pok\\\\u00e9mon. It started as a Charmander abandoned by its previous trainer, Damian, and evolved into a powerful but initially disobedient Charizard. Over time, Ash earned its respect, and it became one of his most reliable and iconic Pok\\\\u00e9mon.\\\\n- **Leon**: The Champion of the Galar region in *Pok\\\\u00e9mon Sword and Shield* is known for his Gigantamax Charizard, which serves as his signature Pok\\\\u00e9mon.', mimetype='text/plain', start_char_idx=0, end_char_idx=3327, metadata_seperator='::', text_template='Metadata: {metadata_str}\\n-----\\nContent: {content}'), score=7.512044906616211), NodeWithScore(node=TextNode(id_='9374b01e-0394-451f-a439-f56a45ad3e84', embedding=None, metadata={'name': 'Granbull', 'generation': 2, 'type1': 'fairy', 'type2': None, 'is_legendary': 0}, excluded_embed_metadata_keys=[], excluded_llm_metadata_keys=[], relationships={<NodeRelationship.SOURCE: '1'>: RelatedNodeInfo(node_id='Granbull', node_type='4', metadata={'name': 'Granbull', 'generation': 2, 'type1': 'fairy', 'type2': None, 'is_legendary': 0}, hash='bcf2b9baf58713116f5b41570c336a5b6d6cde1bd6a5743e54ef1622c160f849'), <NodeRelationship.PREVIOUS: '2'>: RelatedNodeInfo(node_id='ade03da7-5f42-4401-9d1e-87025f6e17e3', node_type='1', metadata={'name': 'Granbull', 'generation': 2, 'type1': 'fairy', 'type2': None, 'is_legendary': 0}, hash='6a4728f8f7ea88a597e237ff2affb275cad31476db1cbc0c689e1729e63a5466')}, metadata_template='{key}=>{value}', metadata_separator='::', text='The evolution marks a turning point in the Pok\\\\u00e9mon\\\\u2019s personality, as it becomes more confident and assertive while still retaining its loyalty to its owner.\\\\n\\\\nAnother notable scene is when Granbull is used in battles during various tournaments and showcases its powerful jaw attacks, such as *Crunch* and *Play Rough*. Its intimidating presence often surprises opponents who underestimate its strength due to its timid nature.\\\\n\\\\n---\\\\n\\\\nGranbull remains a fan-favorite Pok\\\\u00e9mon for its unique combination of a fierce appearance and gentle personality. Its role in the franchise highlights themes of loyalty, courage, and the importance of not judging others based on their looks.\"', mimetype='text/plain', start_char_idx=3612, end_char_idx=4307, metadata_seperator='::', text_template='Metadata: {metadata_str}\\n-----\\nContent: {content}'), score=4.360943794250488), NodeWithScore(node=TextNode(id_='a6091fc8-c41e-4784-8350-463f52be46c8', embedding=None, metadata={'name': 'Emboar', 'generation': 5, 'type1': 'fire', 'type2': 'fighting', 'is_legendary': 0}, excluded_embed_metadata_keys=[], excluded_llm_metadata_keys=[], relationships={<NodeRelationship.SOURCE: '1'>: RelatedNodeInfo(node_id='Emboar', node_type='4', metadata={'name': 'Emboar', 'generation': 5, 'type1': 'fire', 'type2': 'fighting', 'is_legendary': 0}, hash='c00e9ab7947ea0eb156b8c3d5509b157aa24654d4c77a85b0da5246c0a8166e3'), <NodeRelationship.NEXT: '3'>: RelatedNodeInfo(node_id='7c533a06-6555-4d28-983c-224f9b2ad587', node_type='1', metadata={}, hash='057912d0015a105eb2f0169c4dcb1ea6fb003cd284a75e3c4e90160a2fbb550b')}, metadata_template='{key}=>{value}', metadata_separator='::', text='\"### Emboar: The Mega Fire Pig Pok\\\\u00e9mon\\\\n\\\\nEmboar is a dual-type **Fire/Fighting** Pok\\\\u00e9mon introduced in **Generation V**. It is the final evolution of Tepig, evolving from Pignite starting at level 36. Known for its fiery mane and immense strength, Emboar is a popular choice among trainers who value power and resilience.\\\\n\\\\n---\\\\n\\\\n### 1. **Characteristics**\\\\n- **Appearance**: Emboar is a large, bipedal Pok\\\\u00e9mon resembling a boar. It has a bulky, muscular build with orange fur covering most of its body. Its chest and arms are black, adorned with intricate yellow flame-like patterns. Emboar\\'s most striking feature is its fiery mane, which burns brightly around its neck and shoulders. It has tusks protruding from its lower jaw and a short, curled tail.\\\\n- **Height**: 5\\'03\\\\\" (1.6 m)\\\\n- **Weight**: 330.7 lbs (150.0 kg)\\\\n- **Abilities**: \\\\n  - **Blaze** (Standard Ability): Boosts the power of Fire-type moves when Emboar\\'s HP is low.\\\\n  - **Reckless** (Hidden Ability): Increases the power of moves that have recoil damage, such as Flare Blitz.\\\\n- **Signature Moves**: Heat Crash (a Fire-type move that deals more damage the heavier Emboar is compared to its opponent).\\\\n\\\\nEmboar is known for its immense physical strength and its ability to unleash devastating Fire- and Fighting-type moves. Its design is inspired by a combination of a boar and a wrestler, with its fiery mane symbolizing its fighting spirit.\\\\n\\\\n---\\\\n\\\\n### 2. **Behavior**\\\\nEmboar is a courageous and loyal Pok\\\\u00e9mon that fights with honor. It is known for its protective nature, especially toward its trainer and allies. Emboar uses its fiery mane to intimidate opponents and can unleash flames from its hands to attack. Despite its intimidating appearance, Emboar is gentle and caring toward those it trusts.\\\\n\\\\nIn battle, Emboar is relentless and strategic. It uses its bulk and strength to overpower opponents, often relying on moves like Flare Blitz and Arm Thrust to deal heavy damage. Its fiery mane burns brighter when it is excited or enraged, signaling its determination to win.\\\\n\\\\n---\\\\n\\\\n### 3. **Pokedex Description**\\\\n- **Black/White**: It can throw a fire punch by setting its fists on fire with its fiery chin. It cares deeply about its friends.\\\\n- **Black 2/White 2**: A flaring beard of fire is proof that it is fired up. It is adept at using many different moves.\\\\n- **Sword/Shield**: It blasts fire from its nose. When it heats up, its movements grow sharper. It takes on opponents with its strong arms.\\\\n\\\\nThe Pokedex highlights Emboar\\'s fiery nature and its ability to use flames both offensively and defensively. It also emphasizes its loyalty and versatility in battle.\\\\n\\\\n---\\\\n\\\\n### 4. **Notable Trainers Who Own Emboar**\\\\n- **Bianca (Anime)**: Bianca, one of Ash\\'s rivals in the Unova region, owns an Emboar. She is seen using it in several battles, showcasing its strength and versatility. Bianca\\'s Emboar is a key member of her team and often serves as her ace Pok\\\\u00e9mon.\\\\n- **Hilda/Hilbert (Games)**: In the Pok\\\\u00e9mon Black and White games, if the player chooses Tepig as their starter, it will eventually evolve into Emboar. As the player\\'s partner, Emboar plays a significant role in their journey through the Unova region.\\\\n\\\\n---\\\\n\\\\n### 5. **Famous Scene in the Pok\\\\u00e9mon Franchise**\\\\nOne of the most memorable scenes involving Emboar occurs in the **Pok\\\\u00e9mon Black and White anime**, during Bianca\\'s battle against Ash in the **Vertress Conference** (Unova League). Bianca\\'s Emboar faces off against Ash\\'s Krookodile in an intense match. Emboar demonstrates its raw power and versatility, using moves like Flamethrower and Hammer Arm to put up a strong fight.', mimetype='text/plain', start_char_idx=0, end_char_idx=3697, metadata_seperator='::', text_template='Metadata: {metadata_str}\\n-----\\nContent: {content}'), score=3.244002342224121)]\n",
      "Embedding Tokens:  15 \n",
      " LLM Prompt Tokens:  0 \n",
      " LLM Completion Tokens:  0 \n",
      " Total LLM Token Count:  0 \n",
      "\n",
      "Embedding Tokens:  0 \n",
      " LLM Prompt Tokens:  0 \n",
      " LLM Completion Tokens:  0 \n",
      " Total LLM Token Count:  0 \n",
      "\n"
     ]
    }
   ],
   "source": [
    "query_text = \"reckless and overconfident, especially when it underestimates its opponent\"\n",
    "response = custom_retriever.retrieve(query_text)\n",
    "print([x.get_score() for x in response])\n",
    "print([x.metadata[\"name\"] for x in response])\n",
    "print(str(response))\n",
    "get_token_info(True)\n",
    "get_token_info2(True)"
   ]
  },
  {
   "cell_type": "code",
   "execution_count": 65,
   "id": "410f3204",
   "metadata": {},
   "outputs": [
    {
     "name": "stdout",
     "output_type": "stream",
     "text": [
      "##### Response #####\n",
      "\n",
      "Charizard is known to be a Pokémon that can be reckless and overconfident, especially when it underestimates its opponent. Its fiery temperament and pride often lead to such behavior, although it also displays a sense of honor by not using its fire breath on weaker opponents.\n",
      "\n",
      "##### RAG #####\n",
      "\n",
      "Charizard is known for its fiery temperament and pride. It is a powerful and competitive Pokémon that loves to battle strong opponents. However, it can be reckless and overconfident, especially when it underestimates its opponent. Charizard’s flame burns hotter when it is excited or angry, and it is said to never use its fire breath on weaker opponents, showing a sense of honor.\n",
      "Embedding Tokens:  124 \n",
      " LLM Prompt Tokens:  3420 \n",
      " LLM Completion Tokens:  242 \n",
      " Total LLM Token Count:  3662 \n",
      "\n"
     ]
    }
   ],
   "source": [
    "query = \"What are some pokemon which can be reckless and overconfident, especially when it underestimates its opponent? Do not assume. What about charilizard? Response format should be as follows: ##### Response #####\\n\\n <response from llm> ##### RAG #####\\n\\n <Show all output retrieve from rag>\"\n",
    "# query = \"Give top 10 pokemon which is 'reckless and overconfident, especially when it underestimates its opponent'? Match the description as close as possible and do not assume! \"\n",
    "# query = \"Is Dratini a legendery pokemon? Give me evidence and do not assume.\"\n",
    "\n",
    "response_synthesizer = get_response_synthesizer(response_mode=\"compact\", llm=llm, callback_manager=llm_callback_manager, verbose=True ) # refine , context_only, accumulate, compact (default)\n",
    "query_engine = index.as_query_engine(response_synthesizer=response_synthesizer, llm=llm)\n",
    "response = query_engine.query(query)\n",
    "print(str(response))\n",
    "get_token_info(True)"
   ]
  },
  {
   "cell_type": "code",
   "execution_count": 67,
   "id": "f06e32cd",
   "metadata": {},
   "outputs": [],
   "source": [
    "# First create a tool for the agent\n",
    "from llama_index.core.tools import QueryEngineTool\n",
    "\n",
    "tool = QueryEngineTool.from_defaults(\n",
    "    query_engine=query_engine,\n",
    "    name=\"PokemonQueryEngine\",\n",
    "    description=\"Given a question about Pokemon, will return an answer.\",\n",
    ")\n",
    "SYSTEM_PROMPT = \"You are a Pokemon expert. Answer questions related to Pokemon using only PokemonQueryEngine. Return 'Unable to find' if no result can be found in PokemonQueryEngine. Do not assume.\"\n",
    "f_agent = FunctionAgent(\n",
    "    tools=[tool],\n",
    "    llm=llm,\n",
    "    system_prompt=SYSTEM_PROMPT\n",
    ")"
   ]
  },
  {
   "cell_type": "code",
   "execution_count": 68,
   "id": "4ad3bd92",
   "metadata": {},
   "outputs": [
    {
     "name": "stdout",
     "output_type": "stream",
     "text": [
      "**********\n",
      "Trace: chat\n",
      "    |_CBEventType.LLM -> 0.0 seconds\n",
      "**********\n",
      "\n",
      "Call PokemonQueryEngine with {'input': 'Is Charizard known to be reckless and overconfident, especially when it underestimates its opponent?'}\n",
      "Returned: Yes, Charizard is known to be reckless and overconfident, especially when it underestimates its opponent. This behavior is part of its fiery temperament and competitive nature.\n",
      "\n",
      "Call PokemonQueryEngine with {'input': 'What are some Pokémon which can be reckless and overconfident, especially when it underestimates its opponent?'}\n",
      "Returned: Rampardos is a Pokémon that can be reckless and overconfident, especially due to its raw power and high Attack stat. Its role as a challenging Gym Leader Pokémon highlights its tendency to rely on brute strength, which can lead to underestimating opponents who use strategy and agility to outmaneuver it.\n",
      "**********\n",
      "Trace: chat\n",
      "    |_CBEventType.LLM -> 0.0 seconds\n",
      "**********\n",
      "##### Response #####\n",
      "\n",
      "Rampardos is a Pokémon that can be reckless and overconfident, especially due to its raw power and high Attack stat. Its reliance on brute strength can lead to underestimating opponents who use strategy and agility. Additionally, Charizard is also known to be reckless and overconfident, particularly when it underestimates its opponent, which aligns with its fiery temperament and competitive nature.\n",
      "\n",
      "##### RAG #####\n",
      "\n",
      "1. Rampardos is a Pokémon that can be reckless and overconfident, especially due to its raw power and high Attack stat. Its role as a challenging Gym Leader Pokémon highlights its tendency to rely on brute strength, which can lead to underestimating opponents who use strategy and agility to outmaneuver it.\n",
      "\n",
      "2. Yes, Charizard is known to be reckless and overconfident, especially when it underestimates its opponent. This behavior is part of its fiery temperament and competitive nature.\n",
      "\n",
      "\n",
      "Embedding Tokens:  43 \n",
      " LLM Prompt Tokens:  2589 \n",
      " LLM Completion Tokens:  292 \n",
      " Total LLM Token Count:  2881 \n",
      "\n",
      "{\"response\":{\"role\":\"assistant\",\"additional_kwargs\":{},\"blocks\":[{\"block_type\":\"text\",\"text\":\"##### Response #####\\n\\nRampardos is a Pokémon that can be reckless and overconfident, especially due to its raw power and high Attack stat. Its reliance on brute strength can lead to underestimating opponents who use strategy and agility. Additionally, Charizard is also known to be reckless and overconfident, particularly when it underestimates its opponent, which aligns with its fiery temperament and competitive nature.\\n\\n##### RAG #####\\n\\n1. Rampardos is a Pokémon that can be reckless and overconfident, especially due to its raw power and high Attack stat. Its role as a challenging Gym Leader Pokémon highlights its tendency to rely on brute strength, which can lead to underestimating opponents who use strategy and agility to outmaneuver it.\\n\\n2. Yes, Charizard is known to be reckless and overconfident, especially when it underestimates its opponent. This behavior is part of its fiery temperament and competitive nature.\"}]},\"tool_calls\":[{\"tool_name\":\"PokemonQueryEngine\",\"tool_kwargs\":{\"input\":\"Is Charizard known to be reckless and overconfident, especially when it underestimates its opponent?\"},\"tool_id\":\"call_RoTYsfq3r2HESSLjTdwWynmp\"},{\"tool_name\":\"PokemonQueryEngine\",\"tool_kwargs\":{\"input\":\"What are some Pokémon which can be reckless and overconfident, especially when it underestimates its opponent?\"},\"tool_id\":\"call_K9kwoBCuxySnn4QrHXEjqt9E\"}],\"raw\":{\"id\":\"chatcmpl-BetdToV6DLtjUQ9OJOHSd7Rm9pkQO\",\"choices\":[{\"delta\":{\"content\":null,\"function_call\":null,\"refusal\":null,\"role\":null,\"tool_calls\":null},\"finish_reason\":\"stop\",\"index\":0,\"logprobs\":null,\"content_filter_results\":{}}],\"created\":1749086683,\"model\":\"gpt-4o-2024-11-20\",\"object\":\"chat.completion.chunk\",\"service_tier\":null,\"system_fingerprint\":\"fp_ee1d74bde0\",\"usage\":null},\"current_agent_name\":\"Agent\"}\n",
      "[['PokemonQueryEngine', Response(response='Yes, Charizard is known to be reckless and overconfident, especially when it underestimates its opponent. This behavior is part of its fiery temperament and competitive nature.', source_nodes=[NodeWithScore(node=TextNode(id_='224a4daf-c96a-452a-a81d-c6e728a5a5e9', embedding=None, metadata={'name': 'Charizard', 'generation': 1, 'type1': 'fire', 'type2': 'flying', 'is_legendary': 0}, excluded_embed_metadata_keys=[], excluded_llm_metadata_keys=[], relationships={<NodeRelationship.SOURCE: '1'>: RelatedNodeInfo(node_id='Charizard', node_type='4', metadata={'name': 'Charizard', 'generation': 1, 'type1': 'fire', 'type2': 'flying', 'is_legendary': 0}, hash='a669e62f2ff7ef480ae290c9bf7bc98f961a0c854a8b9becac7fa50cb9d90d32'), <NodeRelationship.NEXT: '3'>: RelatedNodeInfo(node_id='bbf90ac5-bbb4-4171-abc9-c4e98d3beb15', node_type='1', metadata={}, hash='6a35a40f872fc6d49d0c2249031bc2c0d329fbcd7595390797276077ecf91699')}, metadata_template='{key}=>{value}', metadata_separator='::', text='\"### Charizard: Detailed Summary\\\\n\\\\nCharizard is one of the most iconic Pok\\\\u00e9mon in the franchise, beloved by fans for its powerful design, fiery abilities, and prominent role in the Pok\\\\u00e9mon series. Below is a detailed breakdown of Charizard\\'s characteristics, behavior, Pok\\\\u00e9dex description, notable trainers, and famous moments in the Pok\\\\u00e9mon franchise.\\\\n\\\\n---\\\\n\\\\n### 1. **Characteristics**\\\\n- **Species**: Flame Pok\\\\u00e9mon\\\\n- **Type**: Fire/Flying\\\\n- **Height**: 5\\'07\\\\\" (1.7 m)\\\\n- **Weight**: 199.5 lbs (90.5 kg)\\\\n- **Evolutionary Line**: Charmander \\\\u2192 Charmeleon \\\\u2192 Charizard\\\\n- **Mega Evolutions**: Charizard has two Mega Evolutions, Mega Charizard X (Fire/Dragon type) and Mega Charizard Y (Fire/Flying type), introduced in *Pok\\\\u00e9mon X and Y*.\\\\n- **Gigantamax Form**: Charizard also has a Gigantamax form introduced in *Pok\\\\u00e9mon Sword and Shield*, which gives it a massive, fiery appearance with flames erupting from its wings and body.\\\\n\\\\nCharizard resembles a large, orange dragon with a long tail tipped with a flame. Its wings are blue on the inside and allow it to fly at high speeds. Despite its dragon-like appearance, it is not a Dragon-type Pok\\\\u00e9mon in its base form.\\\\n\\\\n---\\\\n\\\\n### 2. **Behavior**\\\\nCharizard is known for its fiery temperament and pride. It is a powerful and competitive Pok\\\\u00e9mon that loves to battle strong opponents. However, it can be reckless and overconfident, especially when it underestimates its opponent. Charizard\\\\u2019s flame burns hotter when it is excited or angry, and it is said to never use its fire breath on weaker opponents, showing a sense of honor.\\\\n\\\\nCharizard is also highly loyal to trainers who earn its respect, but it can be disobedient if it feels its trainer is inexperienced or unworthy, as seen in the Pok\\\\u00e9mon anime.\\\\n\\\\n---\\\\n\\\\n### 3. **Pok\\\\u00e9dex Description**\\\\nCharizard has appeared in nearly every Pok\\\\u00e9mon game, and its Pok\\\\u00e9dex entries often emphasize its fiery breath and flying abilities. Below are some notable Pok\\\\u00e9dex descriptions:\\\\n\\\\n- **Pok\\\\u00e9mon Red/Blue**: \\\\\"Spits fire that is hot enough to melt boulders. Known to cause forest fires unintentionally.\\\\\"\\\\n- **Pok\\\\u00e9mon Gold**: \\\\\"If Charizard becomes furious, the flame at the tip of its tail flares up in a whitish-blue color.\\\\\"\\\\n- **Pok\\\\u00e9mon Sword**: \\\\\"It spits fire that is hot enough to melt boulders. It may cause forest fires by blowing flames.\\\\\"\\\\n- **Pok\\\\u00e9mon Shield**: \\\\\"The flame inside its body burns hotter than 3,600 degrees Fahrenheit. When Charizard roars, that temperature climbs even higher.\\\\\"\\\\n\\\\nThese entries highlight its destructive power and the intensity of its flames.\\\\n\\\\n---\\\\n\\\\n### 4. **Notable Trainers Who Own Charizard**\\\\nCharizard has been owned by several notable trainers in the Pok\\\\u00e9mon franchise, including:\\\\n\\\\n- **Ash Ketchum**: Ash\\\\u2019s Charizard is one of his most famous Pok\\\\u00e9mon. It started as a Charmander abandoned by its previous trainer, Damian, and evolved into a powerful but initially disobedient Charizard. Over time, Ash earned its respect, and it became one of his most reliable and iconic Pok\\\\u00e9mon.\\\\n- **Leon**: The Champion of the Galar region in *Pok\\\\u00e9mon Sword and Shield* is known for his Gigantamax Charizard, which serves as his signature Pok\\\\u00e9mon.', mimetype='text/plain', start_char_idx=0, end_char_idx=3327, metadata_seperator='::', text_template='Metadata: {metadata_str}\\n-----\\nContent: {content}'), score=0.7986727952957153), NodeWithScore(node=TextNode(id_='bbf90ac5-bbb4-4171-abc9-c4e98d3beb15', embedding=None, metadata={'name': 'Charizard', 'generation': 1, 'type1': 'fire', 'type2': 'flying', 'is_legendary': 0}, excluded_embed_metadata_keys=[], excluded_llm_metadata_keys=[], relationships={<NodeRelationship.SOURCE: '1'>: RelatedNodeInfo(node_id='Charizard', node_type='4', metadata={'name': 'Charizard', 'generation': 1, 'type1': 'fire', 'type2': 'flying', 'is_legendary': 0}, hash='a669e62f2ff7ef480ae290c9bf7bc98f961a0c854a8b9becac7fa50cb9d90d32'), <NodeRelationship.PREVIOUS: '2'>: RelatedNodeInfo(node_id='224a4daf-c96a-452a-a81d-c6e728a5a5e9', node_type='1', metadata={'name': 'Charizard', 'generation': 1, 'type1': 'fire', 'type2': 'flying', 'is_legendary': 0}, hash='6baf65d41f2fd860fecf49663a055ac098e3ccf02ab2df92b7a1f553e99245d3')}, metadata_template='{key}=>{value}', metadata_separator='::', text='Leon\\\\u2019s Charizard is considered one of the strongest in the franchise.\\\\n- **Red**: In the games, Red, the protagonist of the original Pok\\\\u00e9mon games, often has a Charizard as part of his team, depending on the starter chosen.\\\\n- **Alain**: A rival in the Pok\\\\u00e9mon anime, Alain\\\\u2019s Charizard is a powerhouse capable of Mega Evolving into Mega Charizard X. It played a central role in the *Pok\\\\u00e9mon XY* series and the Kalos League.\\\\n\\\\n---\\\\n\\\\n### 5. **Famous Scenes in the Pok\\\\u00e9mon Franchise**\\\\nCharizard has been featured in numerous memorable moments across the Pok\\\\u00e9mon franchise. Some of the most famous include:\\\\n\\\\n- **Ash\\\\u2019s Charizard vs. Magmar (Indigo League)**: In one of the most iconic battles of the original series, Ash\\\\u2019s Charizard defeats Blaine\\\\u2019s Magmar in a dramatic showdown on top of a volcano. This battle showcased Charizard\\\\u2019s immense power and cemented its status as a fan favorite.\\\\n- **Ash\\\\u2019s Charizard vs. Entei (Pok\\\\u00e9mon 3: The Movie)**: In the third Pok\\\\u00e9mon movie, Ash\\\\u2019s Charizard returns to help him battle the Legendary Pok\\\\u00e9mon Entei. This emotional moment highlighted Charizard\\\\u2019s loyalty and strength.\\\\n- **Leon\\\\u2019s Gigantamax Charizard in *Pok\\\\u00e9mon Sword and Shield***: Leon\\\\u2019s Gigantamax Charizard is a centerpiece of the Galar region\\\\u2019s Champion battles. Its massive, fiery form is a visual spectacle and a testament to its power.\\\\n- **Alain\\\\u2019s Mega Charizard X vs. Ash\\\\u2019s Greninja (Kalos League)**: In the finals of the Kalos League, Alain\\\\u2019s Mega Charizard X defeats Ash\\\\u2019s Greninja in a highly anticipated and controversial battle. This moment is remembered for its intensity and the emotional reactions it sparked among fans.\\\\n- **Charizard\\\\u2019s Debut in *Super Smash Bros.***: Charizard became a standalone playable character in *Super Smash Bros. for Wii U/3DS*, further solidifying its popularity outside the main Pok\\\\u00e9mon games.\\\\n\\\\n---\\\\n\\\\nCharizard\\\\u2019s combination of power, design, and memorable moments has made it one of the most beloved Pok\\\\u00e9mon in the franchise. Its fiery spirit and loyalty to its trainers continue to inspire fans across generations.\"', mimetype='text/plain', start_char_idx=3328, end_char_idx=5541, metadata_seperator='::', text_template='Metadata: {metadata_str}\\n-----\\nContent: {content}'), score=0.813412606716156)], metadata={'224a4daf-c96a-452a-a81d-c6e728a5a5e9': {'name': 'Charizard', 'generation': 1, 'type1': 'fire', 'type2': 'flying', 'is_legendary': 0}, 'bbf90ac5-bbb4-4171-abc9-c4e98d3beb15': {'name': 'Charizard', 'generation': 1, 'type1': 'fire', 'type2': 'flying', 'is_legendary': 0}}), {'input': 'Is Charizard known to be reckless and overconfident, especially when it underestimates its opponent?'}], ['PokemonQueryEngine', Response(response='Rampardos is a Pokémon that can be reckless and overconfident, especially due to its raw power and high Attack stat. Its role as a challenging Gym Leader Pokémon highlights its tendency to rely on brute strength, which can lead to underestimating opponents who use strategy and agility to outmaneuver it.', source_nodes=[NodeWithScore(node=TextNode(id_='313e0f97-7ae4-4759-bf2c-3924840df5f7', embedding=None, metadata={'name': 'Rampardos', 'generation': 4, 'type1': 'rock', 'type2': None, 'is_legendary': 0}, excluded_embed_metadata_keys=[], excluded_llm_metadata_keys=[], relationships={<NodeRelationship.SOURCE: '1'>: RelatedNodeInfo(node_id='Rampardos', node_type='4', metadata={'name': 'Rampardos', 'generation': 4, 'type1': 'rock', 'type2': None, 'is_legendary': 0}, hash='0bd77c76361ab430c630323824d81a72c662b2b67a3270f52cbbd254949d8cf6'), <NodeRelationship.PREVIOUS: '2'>: RelatedNodeInfo(node_id='e22c01e1-6c44-4815-bcc9-9beb9596f4dd', node_type='1', metadata={'name': 'Rampardos', 'generation': 4, 'type1': 'rock', 'type2': None, 'is_legendary': 0}, hash='a9ce372fa312e0c80b9de6960b11bd669f2f6ecc944fce8a1c1d4f4e5353d1e2')}, metadata_template='{key}=>{value}', metadata_separator='::', text='However, Ash\\'s Pikachu and Turtwig manage to outmaneuver it, showcasing the importance of strategy over brute strength. This battle highlights Rampardos\\' raw power and its role as a challenging Gym Leader Pok\\\\u00e9mon.\\\\n- **In the Games**: In the Sinnoh games, Roark\\'s Rampardos is a significant challenge for players early in their journey. Its high Attack stat and moves like Headbutt can easily knock out unprepared teams, making it a memorable opponent for many players.\\\\n\\\\n---\\\\n\\\\nRampardos remains a fan-favorite fossil Pok\\\\u00e9mon due to its unique design, incredible strength, and ties to prehistoric creatures. Its role as Roark\\'s ace Pok\\\\u00e9mon and its reputation as a glass cannon make it a standout in the Pok\\\\u00e9mon franchise.\"', mimetype='text/plain', start_char_idx=3755, end_char_idx=4499, metadata_seperator='::', text_template='Metadata: {metadata_str}\\n-----\\nContent: {content}'), score=1.0514092445373535), NodeWithScore(node=TextNode(id_='0ae67188-c36d-41be-a0e1-62f09870ed5b', embedding=None, metadata={'name': 'Buzzwole', 'generation': 7, 'type1': 'bug', 'type2': 'fighting', 'is_legendary': 1}, excluded_embed_metadata_keys=[], excluded_llm_metadata_keys=[], relationships={<NodeRelationship.SOURCE: '1'>: RelatedNodeInfo(node_id='Buzzwole', node_type='4', metadata={'name': 'Buzzwole', 'generation': 7, 'type1': 'bug', 'type2': 'fighting', 'is_legendary': 1}, hash='4651ebd705d0d5294fc74256f98a673f38a83b972a76e01b24c4f6955047e805'), <NodeRelationship.PREVIOUS: '2'>: RelatedNodeInfo(node_id='bb477b19-4157-4098-983a-dbd2037ea67b', node_type='1', metadata={'name': 'Buzzwole', 'generation': 7, 'type1': 'bug', 'type2': 'fighting', 'is_legendary': 1}, hash='e1d69d475c2152892ded6b1e1f77065197cc11808d6c21588260b4d19c9a197f')}, metadata_template='{key}=>{value}', metadata_separator='::', text='This behavior is both comical and intimidating, showcasing Buzzwole\\'s unique personality.\\\\n- The scene where Buzzwole and Ash\\'s Pikachu engage in a \\\\\"flexing contest\\\\\" is particularly famous. Buzzwole mimics Pikachu\\'s poses, creating a humorous and lighthearted moment despite the high stakes of the mission.\\\\n\\\\n---\\\\n\\\\n### Summary\\\\nBuzzwole is a larger-than-life Pok\\\\u00e9mon with a bold personality and incredible strength. Its alien origins, combined with its unique behavior of flexing and posing, make it one of the most memorable Ultra Beasts in the Pok\\\\u00e9mon franchise. Whether pulverizing dump trucks or engaging in flexing contests, Buzzwole leaves a lasting impression on both fans and trainers alike.\"', mimetype='text/plain', start_char_idx=3867, end_char_idx=4581, metadata_seperator='::', text_template='Metadata: {metadata_str}\\n-----\\nContent: {content}'), score=1.0690252780914307)], metadata={'313e0f97-7ae4-4759-bf2c-3924840df5f7': {'name': 'Rampardos', 'generation': 4, 'type1': 'rock', 'type2': None, 'is_legendary': 0}, '0ae67188-c36d-41be-a0e1-62f09870ed5b': {'name': 'Buzzwole', 'generation': 7, 'type1': 'bug', 'type2': 'fighting', 'is_legendary': 1}}), {'input': 'What are some Pokémon which can be reckless and overconfident, especially when it underestimates its opponent?'}]]\n",
      "##### Response #####\n",
      "\n",
      "Rampardos is a Pokémon that can be reckless and overconfident, especially due to its raw power and high Attack stat. Its reliance on brute strength can lead to underestimating opponents who use strategy and agility. Additionally, Charizard is also known to be reckless and overconfident, particularly when it underestimates its opponent, which aligns with its fiery temperament and competitive nature.\n",
      "\n",
      "##### RAG #####\n",
      "\n",
      "1. Rampardos is a Pokémon that can be reckless and overconfident, especially due to its raw power and high Attack stat. Its role as a challenging Gym Leader Pokémon highlights its tendency to rely on brute strength, which can lead to underestimating opponents who use strategy and agility to outmaneuver it.\n",
      "\n",
      "2. Yes, Charizard is known to be reckless and overconfident, especially when it underestimates its opponent. This behavior is part of its fiery temperament and competitive nature.\n"
     ]
    }
   ],
   "source": [
    "handler = f_agent.run(query)\n",
    "async for ev in handler.stream_events():\n",
    "    if isinstance(ev, AgentStream):\n",
    "        print(f\"{ev.delta}\", end=\"\", flush=True)\n",
    "    elif isinstance(ev, ToolCallResult):\n",
    "        print(\n",
    "            f\"\\nCall {ev.tool_name} with {ev.tool_kwargs}\\nReturned: {ev.tool_output}\"\n",
    "        )\n",
    "response = await handler\n",
    "\n",
    "print(\"\\n\\n\")\n",
    "get_token_info(True)\n",
    "print(response.model_dump_json())\n",
    "print(list(map(lambda x: [x.tool_name, x.tool_output.raw_output, x.tool_kwargs],response.tool_calls)))\n",
    "print(str(response))"
   ]
  },
  {
   "cell_type": "code",
   "execution_count": null,
   "id": "1ea97b9b",
   "metadata": {},
   "outputs": [],
   "source": []
  },
  {
   "cell_type": "code",
   "execution_count": 86,
   "id": "26b0f3c5",
   "metadata": {},
   "outputs": [
    {
     "data": {
      "text/plain": [
       "'No, Dratini is not a legendary Pokémon. Evidence for this includes its classification in the Pokémon games and media, where it is not designated as legendary. Additionally, its evolution line (Dratini → Dragonair → Dragonite) is a standard progression, unlike legendary Pokémon, which typically do not evolve. Furthermore, Dratini\\'s rarity is highlighted in Pokédex entries, but rarity alone does not make a Pokémon legendary. Its \"is_legendary\" status is explicitly marked as 0, confirming it is not legendary.'"
      ]
     },
     "execution_count": 86,
     "metadata": {},
     "output_type": "execute_result"
    }
   ],
   "source": [
    "query = \"What are some pokemon which can be reckless and overconfident, especially when it underestimates its opponent? Do not assume. What about charilizard?\"\n",
    "query = \"Give top 10 pokemon which is 'reckless and overconfident, especially when it underestimates its opponent'? Match the description as close as possible and do not assume! \"\n",
    "query = \"Is Dratini a legendery pokemon? Give me evidence and do not assume.\"\n",
    "\n",
    "response_synthesizer = get_response_synthesizer(response_mode=\"compact\", llm=llm, callback_manager=CallbackManager([llama_debug]), verbose=True ) # refine , context_only, accumulate, compact (default)\n",
    "query_engine = index.as_query_engine(response_synthesizer=response_synthesizer, llm=llm )\n",
    "response = query_engine.query(query)\n",
    "str(response)"
   ]
  },
  {
   "cell_type": "code",
   "execution_count": null,
   "id": "278f8d6b",
   "metadata": {},
   "outputs": [],
   "source": []
  }
 ],
 "metadata": {
  "kernelspec": {
   "display_name": ".venv",
   "language": "python",
   "name": "python3"
  },
  "language_info": {
   "codemirror_mode": {
    "name": "ipython",
    "version": 3
   },
   "file_extension": ".py",
   "mimetype": "text/x-python",
   "name": "python",
   "nbconvert_exporter": "python",
   "pygments_lexer": "ipython3",
   "version": "3.12.2"
  }
 },
 "nbformat": 4,
 "nbformat_minor": 5
}
