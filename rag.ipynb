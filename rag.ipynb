{
 "cells": [
  {
   "cell_type": "code",
   "execution_count": 1,
   "id": "5af2d8fb",
   "metadata": {},
   "outputs": [],
   "source": [
    "import json\n",
    "import numpy as np\n",
    "import psycopg2\n",
    "from pgvector.psycopg2 import register_vector\n",
    "from sentence_transformers import SentenceTransformer"
   ]
  },
  {
   "cell_type": "markdown",
   "id": "50957b44",
   "metadata": {},
   "source": [
    "# Pgvector\n",
    "- Use sentence transformer for embeddings\n",
    "- Other codes: [here](https://github.com/pgvector/pgvector-python/blob/master/examples/sentence_transformers/example.py)"
   ]
  },
  {
   "cell_type": "code",
   "execution_count": 14,
   "id": "dc7cb072",
   "metadata": {},
   "outputs": [],
   "source": [
    "class VectorStore():\n",
    "    def __init__(self, database=\"rag_db\", user=\"postgres\", password=\"password\", model=\"all-MiniLM-L6-v2\"):\n",
    "        self.conn = psycopg2.connect(host=\"localhost\", port=\"5432\", database=database, user=user, password=password)\n",
    "        self.cur = self.conn.cursor()\n",
    "        register_vector(self.conn)\n",
    "        self.model = SentenceTransformer(model)\n",
    "    \n",
    "    def terminate(self):\n",
    "        self.cur.close()\n",
    "        self.conn.close()\n",
    "    def get_embedding(self, text):\n",
    "        return self.model.encode(text)\n",
    "    def add_document(self, content):\n",
    "        embedding = self.get_embedding(content)\n",
    "        self.cur.execute(\"INSERT INTO items (name, content, embedding384) VALUES (%s, %s, %s)\", (\"demo\", content, embedding))\n",
    "        self.conn.commit()\n",
    "    def search_documents_by_distance(self, query, limit=5):\n",
    "        query_embedding = self.get_embedding(query)\n",
    "        self.cur.execute(\"\"\"\n",
    "            SELECT content, embedding384 <-> %s AS distance\n",
    "            FROM items\n",
    "            ORDER BY distance\n",
    "            LIMIT %s\n",
    "        \"\"\", (query_embedding, limit))\n",
    "        return self.cur.fetchall()\n",
    "    def search_documents_by_cosine_distance(self, query, limit=5):\n",
    "        query_embedding = self.get_embedding(query)\n",
    "        self.cur.execute(\"\"\"\n",
    "            SELECT content, embedding384 <=> %s AS cosine_distance\n",
    "            FROM items\n",
    "            ORDER BY cosine_distance\n",
    "            LIMIT %s\n",
    "        \"\"\", (query_embedding, limit))\n",
    "        return self.cur.fetchall()\n",
    "    \n",
    "vec = VectorStore(database=\"rag_db\", user=\"postgres\", password=\"password\", model=\"all-MiniLM-L6-v2\")"
   ]
  },
  {
   "cell_type": "code",
   "execution_count": 3,
   "id": "09387942",
   "metadata": {},
   "outputs": [
    {
     "name": "stdout",
     "output_type": "stream",
     "text": [
      "['Ash finally became the Pokémon Champion after years of hard work and determination.', 'Pikachu’s Thunderbolt attack saved the day during the intense battle.', 'The bond between trainers and their Pokémon is truly inspiring and heartwarming.', 'Team Rocket’s schemes often lead to chaos and trouble for innocent Pokémon.', 'A trainer abandoned their Pokémon, leaving it heartbroken and confused.', 'The forest was destroyed after a fierce battle between two powerful legendary Pokémon.', 'Charizard’s wings spread wide as it soared high above the clouds.', 'Trainers gathered in the arena, ready for the upcoming tournament.', 'A Poké Ball rolled to a stop on the ground, the capture uncertain.']\n"
     ]
    }
   ],
   "source": [
    "with open(\"data/sample.json\", \"r\") as f:\n",
    "    sample_docs = json.load(f)[\"docs\"]\n",
    "    print(sample_docs)\n",
    "for doc in sample_docs:\n",
    "    vec.add_document(doc)"
   ]
  },
  {
   "cell_type": "code",
   "execution_count": 12,
   "id": "1230a922",
   "metadata": {},
   "outputs": [
    {
     "name": "stdout",
     "output_type": "stream",
     "text": [
      "Search results for: 'Tell me more about pokeball'\n",
      "1. A Poké Ball rolled to a stop on the ground, the capture uncertain. (Distance: 0.9112)\n",
      "2. Team Rocket’s schemes often lead to chaos and trouble for innocent Pokémon. (Distance: 1.0872)\n",
      "3. Ash finally became the Pokémon Champion after years of hard work and determination. (Distance: 1.1024)\n",
      "4. The bond between trainers and their Pokémon is truly inspiring and heartwarming. (Distance: 1.1175)\n",
      "5. A trainer abandoned their Pokémon, leaving it heartbroken and confused. (Distance: 1.1713)\n"
     ]
    }
   ],
   "source": [
    "# Perform a search (distance)\n",
    "search_query = \"Tell me more about pokeball\"\n",
    "results = vec.search_documents_by_distance(search_query)\n",
    "print(f\"Search results for: '{search_query}'\")\n",
    "for i, (content, distance) in enumerate(results, 1):\n",
    "    print(f\"{i}. {content} (Distance: {distance:.4f})\")"
   ]
  },
  {
   "cell_type": "code",
   "execution_count": 18,
   "id": "1fad1eb0",
   "metadata": {},
   "outputs": [
    {
     "name": "stdout",
     "output_type": "stream",
     "text": [
      "Search results for: 'Tell me more about pokeball'\n",
      "1. A Poké Ball rolled to a stop on the ground, the capture uncertain. (Cosine Distance: 0.4152)\n",
      "2. Team Rocket’s schemes often lead to chaos and trouble for innocent Pokémon. (Cosine Distance: 0.5910)\n",
      "3. Ash finally became the Pokémon Champion after years of hard work and determination. (Cosine Distance: 0.6076)\n",
      "4. The bond between trainers and their Pokémon is truly inspiring and heartwarming. (Cosine Distance: 0.6244)\n",
      "5. A trainer abandoned their Pokémon, leaving it heartbroken and confused. (Cosine Distance: 0.6860)\n"
     ]
    }
   ],
   "source": [
    "# Perform a search (cosine distance)\n",
    "search_query = \"Tell me more about pokeball\"\n",
    "results = vec.search_documents_by_cosine_distance(search_query)\n",
    "print(f\"Search results for: '{search_query}'\")\n",
    "for i, (content, distance) in enumerate(results, 1):\n",
    "    print(f\"{i}. {content} (Cosine Distance: {distance:.4f})\")"
   ]
  },
  {
   "cell_type": "markdown",
   "id": "b3af4d41",
   "metadata": {},
   "source": [
    "# FAISS\n",
    "- [FAISS vector store](https://medium.com/@amrita.thakur/understanding-faiss-vector-store-and-its-advantages-cdc7b54afe47#:~:text=In%20the%20age%20of%20information,of%20dense%20vectors%20at%20scale.)\n",
    "- [https://www.pinecone.io/learn/series/faiss/faiss-tutorial/](https://www.pinecone.io/learn/series/faiss/faiss-tutorial/)\n",
    "- [Similarity Search](https://www.datacamp.com/blog/faiss-facebook-ai-similarity-search)"
   ]
  },
  {
   "cell_type": "code",
   "execution_count": null,
   "id": "ddaf7d6a",
   "metadata": {},
   "outputs": [],
   "source": []
  },
  {
   "cell_type": "code",
   "execution_count": null,
   "id": "6e854721",
   "metadata": {},
   "outputs": [],
   "source": []
  }
 ],
 "metadata": {
  "kernelspec": {
   "display_name": ".venv",
   "language": "python",
   "name": "python3"
  },
  "language_info": {
   "codemirror_mode": {
    "name": "ipython",
    "version": 3
   },
   "file_extension": ".py",
   "mimetype": "text/x-python",
   "name": "python",
   "nbconvert_exporter": "python",
   "pygments_lexer": "ipython3",
   "version": "3.12.2"
  }
 },
 "nbformat": 4,
 "nbformat_minor": 5
}
