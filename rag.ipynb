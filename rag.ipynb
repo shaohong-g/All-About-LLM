{
 "cells": [
  {
   "cell_type": "code",
   "execution_count": 2,
   "id": "e5eb3b32",
   "metadata": {},
   "outputs": [],
   "source": [
    "from llama_index.core import SimpleDirectoryReader\n",
    "\n",
    "# from dotenv import load_dotenv\n",
    "# load_dotenv(\".env\")"
   ]
  },
  {
   "cell_type": "markdown",
   "id": "072e83cf",
   "metadata": {},
   "source": [
    "# llamaIndex\n",
    "- Example: Load resume and read from it\n",
    "- Document load -> Vector Store -> Query\n",
    "- https://docs.llamaindex.ai/en/stable/module_guides/indexing/vector_store_index/"
   ]
  },
  {
   "cell_type": "markdown",
   "id": "de4a3681",
   "metadata": {},
   "source": [
    "## Document Load"
   ]
  },
  {
   "cell_type": "code",
   "execution_count": null,
   "id": "2e246fc8",
   "metadata": {},
   "outputs": [],
   "source": [
    "reader = SimpleDirectoryReader(input_dir=\"path/to/directory\")\n",
    "documents = reader.load_data()"
   ]
  },
  {
   "cell_type": "code",
   "execution_count": null,
   "id": "65048cc9",
   "metadata": {},
   "outputs": [],
   "source": []
  },
  {
   "cell_type": "code",
   "execution_count": null,
   "id": "5bc85d79",
   "metadata": {},
   "outputs": [],
   "source": []
  },
  {
   "cell_type": "code",
   "execution_count": null,
   "id": "4842798d",
   "metadata": {},
   "outputs": [],
   "source": []
  }
 ],
 "metadata": {
  "kernelspec": {
   "display_name": ".venv",
   "language": "python",
   "name": "python3"
  },
  "language_info": {
   "name": "python",
   "version": "3.12.2"
  }
 },
 "nbformat": 4,
 "nbformat_minor": 5
}
